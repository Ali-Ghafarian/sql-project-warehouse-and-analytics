{
    "metadata": {
        "kernelspec": {
            "name": "SQL",
            "display_name": "SQL",
            "language": "sql"
        },
        "language_info": {
            "name": "sql",
            "version": ""
        }
    },
    "nbformat_minor": 2,
    "nbformat": 4,
    "cells": [
        {
            "cell_type": "markdown",
            "source": [
                "# Quality check for all tables\n",
                "\n",
                "### Purpose:\n",
                "\n",
                "### \\- <span style=\"font-family: -apple-system, BlinkMacSystemFont, sans-serif; color: var(--vscode-foreground);\">Getting insights on how to prepare the data to be inserted into Silver layer<br></span><span style=\"font-family: -apple-system, BlinkMacSystemFont, sans-serif; color: var(--vscode-foreground);\">-&nbsp;</span>  Running many quality checks, and doing cleaning and transforamtion if needed"
            ],
            "metadata": {
                "azdata_cell_guid": "c0a90938-183e-4f1b-b484-8fdbb9242292"
            },
            "attachments": {}
        },
        {
            "cell_type": "markdown",
            "source": [
                "## **Transformation Process (Mostly done in Silver layer)**\n",
                "\n",
                "### **Main Components**\n",
                "- **Data Enrichment**\n",
                "- **Data Integration** (gold)\n",
                "- **Derived Columns**\n",
                "- **Data Normalization & Standardization**\n",
                "- **Business Rules & Logic** (gold)\n",
                "- **Data Aggregations** (gold)\n",
                "- **Data Cleansing**\n",
                "\n",
                "---\n",
                "\n",
                "### **Data Cleansing Breakdown**\n",
                "- **Remove Duplicates**\n",
                "- **Data Filtering**\n",
                "- **Handling Missing Data**\n",
                "- **Handling Invalid Values**\n",
                "- **Handling Unwanted Spaces**\n",
                "- **Outlier Detection**\n",
                "- **Data Type Casting**\n",
                ""
            ],
            "metadata": {
                "azdata_cell_guid": "5308fa2f-0f9c-4a27-abbd-0274984e0f44"
            },
            "attachments": {}
        },
        {
            "cell_type": "markdown",
            "source": [
                "| Table Name                 | Problem                                                      | Solution                                                                 | Notes                                                                                                           | Columns Targeted                   |\n",
                "|----------------------------|--------------------------------------------------------------|--------------------------------------------------------------------------|---------------------------------------------------------------------------------------------------------------|------------------------------------|\n",
                "| crm_cust_info              | Primary key (`cst_id`) duplicates                           | Pulling the latest record for each customer that likely contains the most up-to-date information | Window function (`ROW_NUMBER()`) and `PARTITION BY` are used to rank and flag the latest record.              | cst_id                             |\n",
                "|                            | Unwanted leading and trailing spaces                        | `TRIM()` is used                                                        |                                                                                                               | cst_firstname, cst_lastname, cst_gndr |\n",
                "|                            | Missing values and standardization                         | `'CASE WHEN'` statements are used to map values to a friendly format and impute null values | `TRIM()` and `UPPER()` string functions are used for data consistency.                                        | cst_gndr, cst_marital_status       |\n",
                "| crm_prd_info               | No columns to be used for joining with other tables        | Derived columns, product key is divided into two derived columns         | - `SUBSTRING()`, `REPLACE()` are used.  <br> - The items that have not sold yet (no records in sales table) are investigated using CTE (Common Table Expression). <br> - The root cause of discrepancy between category of items in product info and category table is detected. | prd_key                            |\n",
                "|                            | Negative and NULL values for product cost                  | NULL values are replaced by `0`                                          | `ISNULL()` is used.                                                                                            | prd_cost                           |\n",
                "|                            | Missing values and standardization in product line        | `'CASE WHEN'` statements are used to map values to a more descriptive way and impute null values | `TRIM()` and `UPPER()` string functions are also used for data consistency.                                   | prd_line                           |\n",
                "|                            | Start date of price of an item is older than its end date  | Using this logic (`End Date = Start Date of the NEXT Record -1`) to ensure no overlap and maintain **history** of the price per item | `LEAD()` window function is used to access the value of the next record. <br> `DATEADD()` is used to shift the end date one day backward to ensure no overlap. | prd_start_dt, prd_end_dt           |\n",
                "| crm_sales_details          | An invalid date inserted by mistake (out of business boundaries) | Replaced by `NULL`                                                    | `'CASE WHEN'` statement and arbitrary placeholders for boundaries are used to convert the invalid date into `NULL`. | sls_order_dt                       |\n",
                "|                            | Nonpositive and NULL values in sales price and sales amount | Business logic is utilized to derive the wrong values from the other two values in several possible scenarios (i.e., `sales_amount = quantity * price`) | `'CASE WHEN'`, `ABS()`, and `NULLIF()` are used.                                                             | sls_sales, sls_quantity, sls_price |\n",
                "| bronze.erp_cust_az12       | Non-consistent ID patterns and non-compatible with customer info table | `\"NAS\"` is removed from records                                      | - Pattern-matching operator (`LIKE`) is used.  <br> - `'CASE WHEN'` and string function (`SUBSTRING()`) are used to filter and fix unmatched IDs. <br> - CTE is also used. | cid                                |\n",
                "|                            | Unrealistic birthdate (in the future)                      | Wherever the birthdate is larger than today's date, replaced with `NULL` | `'CASE WHEN'` and `GETDATE()` date function are used.                                                          | bdate                              |\n",
                "|                            | Missing values and standardization in gender              | `'CASE WHEN'` statements are used to map values to a more descriptive way and replace null values with `NULL` | `TRIM()` and `UPPER()` string functions are also used for data consistency.                                   | gen                                |\n",
                "| bronze.erp_loc_a101        | Non-compatible with customer info table (`cst_key`)       | Removed `'-'` to be compatible                                        | `REPLACE()` string function is used.                                                                           | cid                                |\n",
                "|                            | Data Standardization & Consistency issues in country column | Mapped the values to their actual countries and replaced `NULLs` with `'Unknown'` | `'CASE WHEN'` and `TRIM()` string function are used.                                                         | cntry                              |\n",
                "| bronze.erp_px_cat_g1v2     | Just one ID is not compatible with derived product category in the product info table | Replaced `'CO_PD'` with `'CO_PE'` to match the product info table and avoid join issues | `REPLACE()` string function is used.                                                                          | id                                 |\n",
                ""
            ],
            "metadata": {
                "azdata_cell_guid": "4fe6e149-a8fe-4b0e-8b53-584021ae5f4f"
            },
            "attachments": {}
        },
        {
            "cell_type": "markdown",
            "source": [
                "## Table: crm\\_cust\\_info"
            ],
            "metadata": {
                "azdata_cell_guid": "aeece288-a293-4373-b52a-0e36e25d3796"
            },
            "attachments": {}
        },
        {
            "cell_type": "markdown",
            "source": [
                "| Problem                                   | Solution                                                                                 | Notes                                                                                   | Columns Targeted                    |\n",
                "|-------------------------------------------|------------------------------------------------------------------------------------------|-----------------------------------------------------------------------------------------|--------------------------------------|\n",
                "| Primary key (cst_id) duplicates          | Pulling the latest record for each customer that probably contains the most up-to-date information | Window function (`ROW_NUMBER()`) and `PARTITION BY` is used to rank then flag the latest record | cst_id                               |\n",
                "| Unwanted leading and trailing spaces     | `TRIM()`                                                                                 |                                                                                         | cst_firstname, cst_lastname, cst_gndr |\n",
                "| Missing values and standardization       | `'CASE WHEN'` statements are used to map the values to a more friendly way and also impute NULL values | `TRIM` and `UPPER` string functions are also used for data consistency                | cst_gndr, cst_marital_status         |\n",
                ""
            ],
            "metadata": {
                "azdata_cell_guid": "c46606e0-0e1f-4d9d-af9f-2d656d11ca95"
            },
            "attachments": {}
        },
        {
            "cell_type": "code",
            "source": [
                "-- Preview\n",
                "SELECT TOP 10 * FROM bronze.crm_cust_info;"
            ],
            "metadata": {
                "azdata_cell_guid": "9513bfa4-122b-407b-9a68-ae0cc48efdde",
                "language": "sql"
            },
            "outputs": [
                {
                    "output_type": "display_data",
                    "data": {
                        "text/html": "(10 rows affected)"
                    },
                    "metadata": {}
                },
                {
                    "output_type": "display_data",
                    "data": {
                        "text/html": "Total execution time: 00:00:00.006"
                    },
                    "metadata": {}
                },
                {
                    "output_type": "execute_result",
                    "metadata": {},
                    "execution_count": 28,
                    "data": {
                        "application/vnd.dataresource+json": {
                            "schema": {
                                "fields": [
                                    {
                                        "name": "cst_id"
                                    },
                                    {
                                        "name": "cst_key"
                                    },
                                    {
                                        "name": "cst_firstname"
                                    },
                                    {
                                        "name": "cst_lastname"
                                    },
                                    {
                                        "name": "cst_marital_status"
                                    },
                                    {
                                        "name": "cst_gndr"
                                    },
                                    {
                                        "name": "cst_create_date"
                                    }
                                ]
                            },
                            "data": [
                                {
                                    "cst_id": "11000",
                                    "cst_key": "AW00011000",
                                    "cst_firstname": "Jon",
                                    "cst_lastname": "Yang ",
                                    "cst_marital_status": "M",
                                    "cst_gndr": "M",
                                    "cst_create_date": "2025-10-06"
                                },
                                {
                                    "cst_id": "11001",
                                    "cst_key": "AW00011001",
                                    "cst_firstname": "Eugene",
                                    "cst_lastname": "Huang  ",
                                    "cst_marital_status": "S",
                                    "cst_gndr": "M",
                                    "cst_create_date": "2025-10-06"
                                },
                                {
                                    "cst_id": "11002",
                                    "cst_key": "AW00011002",
                                    "cst_firstname": "Ruben",
                                    "cst_lastname": "Torres",
                                    "cst_marital_status": "M",
                                    "cst_gndr": "M",
                                    "cst_create_date": "2025-10-06"
                                },
                                {
                                    "cst_id": "11003",
                                    "cst_key": "AW00011003",
                                    "cst_firstname": "Christy",
                                    "cst_lastname": "Zhu",
                                    "cst_marital_status": "S",
                                    "cst_gndr": "F",
                                    "cst_create_date": "2025-10-06"
                                },
                                {
                                    "cst_id": "11004",
                                    "cst_key": "AW00011004",
                                    "cst_firstname": "Elizabeth",
                                    "cst_lastname": "Johnson",
                                    "cst_marital_status": "S",
                                    "cst_gndr": "F",
                                    "cst_create_date": "2025-10-06"
                                },
                                {
                                    "cst_id": "11005",
                                    "cst_key": "AW00011005",
                                    "cst_firstname": "Julio",
                                    "cst_lastname": "Ruiz",
                                    "cst_marital_status": "S",
                                    "cst_gndr": "M",
                                    "cst_create_date": "2025-10-06"
                                },
                                {
                                    "cst_id": "11006",
                                    "cst_key": "AW00011006",
                                    "cst_firstname": "Janet",
                                    "cst_lastname": "Alvarez",
                                    "cst_marital_status": "S",
                                    "cst_gndr": "F",
                                    "cst_create_date": "2025-10-06"
                                },
                                {
                                    "cst_id": "11007",
                                    "cst_key": "AW00011007",
                                    "cst_firstname": "Marco",
                                    "cst_lastname": "Mehta",
                                    "cst_marital_status": "M",
                                    "cst_gndr": "M",
                                    "cst_create_date": "2025-10-06"
                                },
                                {
                                    "cst_id": "11008",
                                    "cst_key": "AW00011008",
                                    "cst_firstname": "Rob",
                                    "cst_lastname": "Verhoff",
                                    "cst_marital_status": "S",
                                    "cst_gndr": "F",
                                    "cst_create_date": "2025-10-06"
                                },
                                {
                                    "cst_id": "11009",
                                    "cst_key": "AW00011009",
                                    "cst_firstname": "Shannon",
                                    "cst_lastname": "Carlson",
                                    "cst_marital_status": "S",
                                    "cst_gndr": "M",
                                    "cst_create_date": "2025-10-06"
                                }
                            ]
                        },
                        "text/html": [
                            "<table>",
                            "<tr><th>cst_id</th><th>cst_key</th><th>cst_firstname</th><th>cst_lastname</th><th>cst_marital_status</th><th>cst_gndr</th><th>cst_create_date</th></tr>",
                            "<tr><td>11000</td><td>AW00011000</td><td>Jon</td><td>Yang </td><td>M</td><td>M</td><td>2025-10-06</td></tr>",
                            "<tr><td>11001</td><td>AW00011001</td><td>Eugene</td><td>Huang  </td><td>S</td><td>M</td><td>2025-10-06</td></tr>",
                            "<tr><td>11002</td><td>AW00011002</td><td>Ruben</td><td>Torres</td><td>M</td><td>M</td><td>2025-10-06</td></tr>",
                            "<tr><td>11003</td><td>AW00011003</td><td>Christy</td><td>Zhu</td><td>S</td><td>F</td><td>2025-10-06</td></tr>",
                            "<tr><td>11004</td><td>AW00011004</td><td>Elizabeth</td><td>Johnson</td><td>S</td><td>F</td><td>2025-10-06</td></tr>",
                            "<tr><td>11005</td><td>AW00011005</td><td>Julio</td><td>Ruiz</td><td>S</td><td>M</td><td>2025-10-06</td></tr>",
                            "<tr><td>11006</td><td>AW00011006</td><td>Janet</td><td>Alvarez</td><td>S</td><td>F</td><td>2025-10-06</td></tr>",
                            "<tr><td>11007</td><td>AW00011007</td><td>Marco</td><td>Mehta</td><td>M</td><td>M</td><td>2025-10-06</td></tr>",
                            "<tr><td>11008</td><td>AW00011008</td><td>Rob</td><td>Verhoff</td><td>S</td><td>F</td><td>2025-10-06</td></tr>",
                            "<tr><td>11009</td><td>AW00011009</td><td>Shannon</td><td>Carlson</td><td>S</td><td>M</td><td>2025-10-06</td></tr>",
                            "</table>"
                        ]
                    }
                }
            ],
            "execution_count": 28
        },
        {
            "cell_type": "code",
            "source": [
                "-- Check For Nulls or Duplicates in Primary Key\n",
                "SELECT \n",
                "    cst_id, \n",
                "    COUNT(*) AS cnt\n",
                "FROM bronze.crm_cust_info \n",
                "GROUP BY cst_id \n",
                "HAVING COUNT(*) > 1 \n",
                "    OR cst_id IS NULL;"
            ],
            "metadata": {
                "azdata_cell_guid": "86b9d15e-97ec-4c4e-88ce-2bbc838c8c2d",
                "language": "sql",
                "tags": []
            },
            "outputs": [
                {
                    "output_type": "display_data",
                    "data": {
                        "text/html": "(6 rows affected)"
                    },
                    "metadata": {}
                },
                {
                    "output_type": "display_data",
                    "data": {
                        "text/html": "Total execution time: 00:00:00.025"
                    },
                    "metadata": {}
                },
                {
                    "output_type": "execute_result",
                    "metadata": {},
                    "execution_count": 5,
                    "data": {
                        "application/vnd.dataresource+json": {
                            "schema": {
                                "fields": [
                                    {
                                        "name": "cst_id"
                                    },
                                    {
                                        "name": "cnt"
                                    }
                                ]
                            },
                            "data": [
                                {
                                    "cst_id": "29449",
                                    "cnt": "2"
                                },
                                {
                                    "cst_id": "29473",
                                    "cnt": "2"
                                },
                                {
                                    "cst_id": "29433",
                                    "cnt": "2"
                                },
                                {
                                    "cst_id": "NULL",
                                    "cnt": "4"
                                },
                                {
                                    "cst_id": "29483",
                                    "cnt": "2"
                                },
                                {
                                    "cst_id": "29466",
                                    "cnt": "3"
                                }
                            ]
                        },
                        "text/html": [
                            "<table>",
                            "<tr><th>cst_id</th><th>cnt</th></tr>",
                            "<tr><td>29449</td><td>2</td></tr>",
                            "<tr><td>29473</td><td>2</td></tr>",
                            "<tr><td>29433</td><td>2</td></tr>",
                            "<tr><td>NULL</td><td>4</td></tr>",
                            "<tr><td>29483</td><td>2</td></tr>",
                            "<tr><td>29466</td><td>3</td></tr>",
                            "</table>"
                        ]
                    }
                }
            ],
            "execution_count": 5
        },
        {
            "cell_type": "code",
            "source": [
                "-- Let's check a couple of them\n",
                "SELECT  \n",
                "    *\n",
                "FROM bronze.crm_cust_info \n",
                "WHERE cst_id = 29466\n",
                "\n",
                "-- It seems that the customer info in this case was updated after initial creation"
            ],
            "metadata": {
                "language": "sql",
                "azdata_cell_guid": "a162744f-5bf8-4680-ba77-f3172bd627ee"
            },
            "outputs": [
                {
                    "output_type": "display_data",
                    "data": {
                        "text/html": "(3 rows affected)"
                    },
                    "metadata": {}
                },
                {
                    "output_type": "display_data",
                    "data": {
                        "text/html": "Total execution time: 00:00:00.015"
                    },
                    "metadata": {}
                },
                {
                    "output_type": "execute_result",
                    "metadata": {},
                    "execution_count": 29,
                    "data": {
                        "application/vnd.dataresource+json": {
                            "schema": {
                                "fields": [
                                    {
                                        "name": "cst_id"
                                    },
                                    {
                                        "name": "cst_key"
                                    },
                                    {
                                        "name": "cst_firstname"
                                    },
                                    {
                                        "name": "cst_lastname"
                                    },
                                    {
                                        "name": "cst_marital_status"
                                    },
                                    {
                                        "name": "cst_gndr"
                                    },
                                    {
                                        "name": "cst_create_date"
                                    }
                                ]
                            },
                            "data": [
                                {
                                    "cst_id": "29466",
                                    "cst_key": "AW00029466",
                                    "cst_firstname": "NULL",
                                    "cst_lastname": "NULL",
                                    "cst_marital_status": "NULL",
                                    "cst_gndr": "NULL",
                                    "cst_create_date": "2026-01-25"
                                },
                                {
                                    "cst_id": "29466",
                                    "cst_key": "AW00029466",
                                    "cst_firstname": "Lance",
                                    "cst_lastname": "Jimenez",
                                    "cst_marital_status": "M",
                                    "cst_gndr": "NULL",
                                    "cst_create_date": "2026-01-26"
                                },
                                {
                                    "cst_id": "29466",
                                    "cst_key": "AW00029466",
                                    "cst_firstname": "Lance",
                                    "cst_lastname": "Jimenez",
                                    "cst_marital_status": "M",
                                    "cst_gndr": "M",
                                    "cst_create_date": "2026-01-27"
                                }
                            ]
                        },
                        "text/html": [
                            "<table>",
                            "<tr><th>cst_id</th><th>cst_key</th><th>cst_firstname</th><th>cst_lastname</th><th>cst_marital_status</th><th>cst_gndr</th><th>cst_create_date</th></tr>",
                            "<tr><td>29466</td><td>AW00029466</td><td>NULL</td><td>NULL</td><td>NULL</td><td>NULL</td><td>2026-01-25</td></tr>",
                            "<tr><td>29466</td><td>AW00029466</td><td>Lance</td><td>Jimenez</td><td>M</td><td>NULL</td><td>2026-01-26</td></tr>",
                            "<tr><td>29466</td><td>AW00029466</td><td>Lance</td><td>Jimenez</td><td>M</td><td>M</td><td>2026-01-27</td></tr>",
                            "</table>"
                        ]
                    }
                }
            ],
            "execution_count": 29
        },
        {
            "cell_type": "code",
            "source": [
                "-- Let's check null records\n",
                "SELECT  \n",
                "    *\n",
                "FROM bronze.crm_cust_info \n",
                "WHERE cst_id IS NULL\n",
                "\n",
                "-- Not sure why we have cst_key but not cst_id.\n",
                "--  Null values might have happend because cst_key did not follow (\"AW000\" + cst_id). More investigation required. \n",
                "-- However I rather focus on cst_id as it is the attribute present in sales table, allowing us to perform join operation on this column."
            ],
            "metadata": {
                "language": "sql",
                "azdata_cell_guid": "f1080192-0fe9-4b6b-816e-abff861cf077",
                "tags": []
            },
            "outputs": [
                {
                    "output_type": "display_data",
                    "data": {
                        "text/html": "(4 rows affected)"
                    },
                    "metadata": {}
                },
                {
                    "output_type": "display_data",
                    "data": {
                        "text/html": "Total execution time: 00:00:00.014"
                    },
                    "metadata": {}
                },
                {
                    "output_type": "execute_result",
                    "metadata": {},
                    "execution_count": 25,
                    "data": {
                        "application/vnd.dataresource+json": {
                            "schema": {
                                "fields": [
                                    {
                                        "name": "cst_id"
                                    },
                                    {
                                        "name": "cst_key"
                                    },
                                    {
                                        "name": "cst_firstname"
                                    },
                                    {
                                        "name": "cst_lastname"
                                    },
                                    {
                                        "name": "cst_marital_status"
                                    },
                                    {
                                        "name": "cst_gndr"
                                    },
                                    {
                                        "name": "cst_create_date"
                                    }
                                ]
                            },
                            "data": [
                                {
                                    "cst_id": "NULL",
                                    "cst_key": "SF566",
                                    "cst_firstname": "NULL",
                                    "cst_lastname": "NULL",
                                    "cst_marital_status": "NULL",
                                    "cst_gndr": "NULL",
                                    "cst_create_date": "NULL"
                                },
                                {
                                    "cst_id": "NULL",
                                    "cst_key": "PO25",
                                    "cst_firstname": "NULL",
                                    "cst_lastname": "NULL",
                                    "cst_marital_status": "NULL",
                                    "cst_gndr": "NULL",
                                    "cst_create_date": "NULL"
                                },
                                {
                                    "cst_id": "NULL",
                                    "cst_key": "13451235",
                                    "cst_firstname": "NULL",
                                    "cst_lastname": "NULL",
                                    "cst_marital_status": "NULL",
                                    "cst_gndr": "NULL",
                                    "cst_create_date": "NULL"
                                },
                                {
                                    "cst_id": "NULL",
                                    "cst_key": "A01Ass",
                                    "cst_firstname": "NULL",
                                    "cst_lastname": "NULL",
                                    "cst_marital_status": "NULL",
                                    "cst_gndr": "NULL",
                                    "cst_create_date": "NULL"
                                }
                            ]
                        },
                        "text/html": [
                            "<table>",
                            "<tr><th>cst_id</th><th>cst_key</th><th>cst_firstname</th><th>cst_lastname</th><th>cst_marital_status</th><th>cst_gndr</th><th>cst_create_date</th></tr>",
                            "<tr><td>NULL</td><td>SF566</td><td>NULL</td><td>NULL</td><td>NULL</td><td>NULL</td><td>NULL</td></tr>",
                            "<tr><td>NULL</td><td>PO25</td><td>NULL</td><td>NULL</td><td>NULL</td><td>NULL</td><td>NULL</td></tr>",
                            "<tr><td>NULL</td><td>13451235</td><td>NULL</td><td>NULL</td><td>NULL</td><td>NULL</td><td>NULL</td></tr>",
                            "<tr><td>NULL</td><td>A01Ass</td><td>NULL</td><td>NULL</td><td>NULL</td><td>NULL</td><td>NULL</td></tr>",
                            "</table>"
                        ]
                    }
                }
            ],
            "execution_count": 25
        },
        {
            "cell_type": "code",
            "source": [
                "-- For cst_id I need a way to make sure I just pull the latest record as it is probably contain the most (updated) information.\n",
                "-- I will use row_number() window function to rank based on cst_create_date\n",
                "SELECT \n",
                "    *,\n",
                "    ROW_NUMBER() OVER (PARTITION BY cst_id ORDER BY cst_create_date DESC) AS flag_last\n",
                "FROM bronze.crm_cust_info\n",
                "WHERE cst_id = 29466;"
            ],
            "metadata": {
                "azdata_cell_guid": "ff6cf6f9-fb83-4633-bf4e-99dea14ac420",
                "language": "sql"
            },
            "outputs": [
                {
                    "output_type": "display_data",
                    "data": {
                        "text/html": "(3 rows affected)"
                    },
                    "metadata": {}
                },
                {
                    "output_type": "display_data",
                    "data": {
                        "text/html": "Total execution time: 00:00:00.041"
                    },
                    "metadata": {}
                },
                {
                    "output_type": "execute_result",
                    "metadata": {},
                    "execution_count": 30,
                    "data": {
                        "application/vnd.dataresource+json": {
                            "schema": {
                                "fields": [
                                    {
                                        "name": "cst_id"
                                    },
                                    {
                                        "name": "cst_key"
                                    },
                                    {
                                        "name": "cst_firstname"
                                    },
                                    {
                                        "name": "cst_lastname"
                                    },
                                    {
                                        "name": "cst_marital_status"
                                    },
                                    {
                                        "name": "cst_gndr"
                                    },
                                    {
                                        "name": "cst_create_date"
                                    },
                                    {
                                        "name": "flag_last"
                                    }
                                ]
                            },
                            "data": [
                                {
                                    "cst_id": "29466",
                                    "cst_key": "AW00029466",
                                    "cst_firstname": "Lance",
                                    "cst_lastname": "Jimenez",
                                    "cst_marital_status": "M",
                                    "cst_gndr": "M",
                                    "cst_create_date": "2026-01-27",
                                    "flag_last": "1"
                                },
                                {
                                    "cst_id": "29466",
                                    "cst_key": "AW00029466",
                                    "cst_firstname": "Lance",
                                    "cst_lastname": "Jimenez",
                                    "cst_marital_status": "M",
                                    "cst_gndr": "NULL",
                                    "cst_create_date": "2026-01-26",
                                    "flag_last": "2"
                                },
                                {
                                    "cst_id": "29466",
                                    "cst_key": "AW00029466",
                                    "cst_firstname": "NULL",
                                    "cst_lastname": "NULL",
                                    "cst_marital_status": "NULL",
                                    "cst_gndr": "NULL",
                                    "cst_create_date": "2026-01-25",
                                    "flag_last": "3"
                                }
                            ]
                        },
                        "text/html": [
                            "<table>",
                            "<tr><th>cst_id</th><th>cst_key</th><th>cst_firstname</th><th>cst_lastname</th><th>cst_marital_status</th><th>cst_gndr</th><th>cst_create_date</th><th>flag_last</th></tr>",
                            "<tr><td>29466</td><td>AW00029466</td><td>Lance</td><td>Jimenez</td><td>M</td><td>M</td><td>2026-01-27</td><td>1</td></tr>",
                            "<tr><td>29466</td><td>AW00029466</td><td>Lance</td><td>Jimenez</td><td>M</td><td>NULL</td><td>2026-01-26</td><td>2</td></tr>",
                            "<tr><td>29466</td><td>AW00029466</td><td>NULL</td><td>NULL</td><td>NULL</td><td>NULL</td><td>2026-01-25</td><td>3</td></tr>",
                            "</table>"
                        ]
                    }
                }
            ],
            "execution_count": 30
        },
        {
            "cell_type": "code",
            "source": [
                "-- Let's identify the duplicates\n",
                "SELECT *\n",
                "FROM (\n",
                "    SELECT \n",
                "        *,\n",
                "        ROW_NUMBER() OVER (PARTITION BY cst_id ORDER BY cst_create_date DESC) AS flag_last\n",
                "    FROM bronze.crm_cust_info\n",
                ") AS t\n",
                "WHERE flag_last != 1;"
            ],
            "metadata": {
                "language": "sql",
                "azdata_cell_guid": "482f2aa1-b365-460b-b550-a184bb1d8747"
            },
            "outputs": [
                {
                    "output_type": "display_data",
                    "data": {
                        "text/html": "(9 rows affected)"
                    },
                    "metadata": {}
                },
                {
                    "output_type": "display_data",
                    "data": {
                        "text/html": "Total execution time: 00:00:00.034"
                    },
                    "metadata": {}
                },
                {
                    "output_type": "execute_result",
                    "metadata": {},
                    "execution_count": 32,
                    "data": {
                        "application/vnd.dataresource+json": {
                            "schema": {
                                "fields": [
                                    {
                                        "name": "cst_id"
                                    },
                                    {
                                        "name": "cst_key"
                                    },
                                    {
                                        "name": "cst_firstname"
                                    },
                                    {
                                        "name": "cst_lastname"
                                    },
                                    {
                                        "name": "cst_marital_status"
                                    },
                                    {
                                        "name": "cst_gndr"
                                    },
                                    {
                                        "name": "cst_create_date"
                                    },
                                    {
                                        "name": "flag_last"
                                    }
                                ]
                            },
                            "data": [
                                {
                                    "cst_id": "NULL",
                                    "cst_key": "SF566",
                                    "cst_firstname": "NULL",
                                    "cst_lastname": "NULL",
                                    "cst_marital_status": "NULL",
                                    "cst_gndr": "NULL",
                                    "cst_create_date": "NULL",
                                    "flag_last": "2"
                                },
                                {
                                    "cst_id": "NULL",
                                    "cst_key": "13451235",
                                    "cst_firstname": "NULL",
                                    "cst_lastname": "NULL",
                                    "cst_marital_status": "NULL",
                                    "cst_gndr": "NULL",
                                    "cst_create_date": "NULL",
                                    "flag_last": "3"
                                },
                                {
                                    "cst_id": "NULL",
                                    "cst_key": "A01Ass",
                                    "cst_firstname": "NULL",
                                    "cst_lastname": "NULL",
                                    "cst_marital_status": "NULL",
                                    "cst_gndr": "NULL",
                                    "cst_create_date": "NULL",
                                    "flag_last": "4"
                                },
                                {
                                    "cst_id": "29433",
                                    "cst_key": "AW00029433",
                                    "cst_firstname": "NULL",
                                    "cst_lastname": "NULL",
                                    "cst_marital_status": "M",
                                    "cst_gndr": "M",
                                    "cst_create_date": "2026-01-25",
                                    "flag_last": "2"
                                },
                                {
                                    "cst_id": "29449",
                                    "cst_key": "AW00029449",
                                    "cst_firstname": "NULL",
                                    "cst_lastname": "Chen",
                                    "cst_marital_status": "S",
                                    "cst_gndr": "NULL",
                                    "cst_create_date": "2026-01-25",
                                    "flag_last": "2"
                                },
                                {
                                    "cst_id": "29466",
                                    "cst_key": "AW00029466",
                                    "cst_firstname": "Lance",
                                    "cst_lastname": "Jimenez",
                                    "cst_marital_status": "M",
                                    "cst_gndr": "NULL",
                                    "cst_create_date": "2026-01-26",
                                    "flag_last": "2"
                                },
                                {
                                    "cst_id": "29466",
                                    "cst_key": "AW00029466",
                                    "cst_firstname": "NULL",
                                    "cst_lastname": "NULL",
                                    "cst_marital_status": "NULL",
                                    "cst_gndr": "NULL",
                                    "cst_create_date": "2026-01-25",
                                    "flag_last": "3"
                                },
                                {
                                    "cst_id": "29473",
                                    "cst_key": "AW00029473",
                                    "cst_firstname": "Carmen",
                                    "cst_lastname": "NULL",
                                    "cst_marital_status": "NULL",
                                    "cst_gndr": "NULL",
                                    "cst_create_date": "2026-01-25",
                                    "flag_last": "2"
                                },
                                {
                                    "cst_id": "29483",
                                    "cst_key": "AW00029483",
                                    "cst_firstname": "NULL",
                                    "cst_lastname": "Navarro",
                                    "cst_marital_status": "NULL",
                                    "cst_gndr": "NULL",
                                    "cst_create_date": "2026-01-25",
                                    "flag_last": "2"
                                }
                            ]
                        },
                        "text/html": [
                            "<table>",
                            "<tr><th>cst_id</th><th>cst_key</th><th>cst_firstname</th><th>cst_lastname</th><th>cst_marital_status</th><th>cst_gndr</th><th>cst_create_date</th><th>flag_last</th></tr>",
                            "<tr><td>NULL</td><td>SF566</td><td>NULL</td><td>NULL</td><td>NULL</td><td>NULL</td><td>NULL</td><td>2</td></tr>",
                            "<tr><td>NULL</td><td>13451235</td><td>NULL</td><td>NULL</td><td>NULL</td><td>NULL</td><td>NULL</td><td>3</td></tr>",
                            "<tr><td>NULL</td><td>A01Ass</td><td>NULL</td><td>NULL</td><td>NULL</td><td>NULL</td><td>NULL</td><td>4</td></tr>",
                            "<tr><td>29433</td><td>AW00029433</td><td>NULL</td><td>NULL</td><td>M</td><td>M</td><td>2026-01-25</td><td>2</td></tr>",
                            "<tr><td>29449</td><td>AW00029449</td><td>NULL</td><td>Chen</td><td>S</td><td>NULL</td><td>2026-01-25</td><td>2</td></tr>",
                            "<tr><td>29466</td><td>AW00029466</td><td>Lance</td><td>Jimenez</td><td>M</td><td>NULL</td><td>2026-01-26</td><td>2</td></tr>",
                            "<tr><td>29466</td><td>AW00029466</td><td>NULL</td><td>NULL</td><td>NULL</td><td>NULL</td><td>2026-01-25</td><td>3</td></tr>",
                            "<tr><td>29473</td><td>AW00029473</td><td>Carmen</td><td>NULL</td><td>NULL</td><td>NULL</td><td>2026-01-25</td><td>2</td></tr>",
                            "<tr><td>29483</td><td>AW00029483</td><td>NULL</td><td>Navarro</td><td>NULL</td><td>NULL</td><td>2026-01-25</td><td>2</td></tr>",
                            "</table>"
                        ]
                    }
                }
            ],
            "execution_count": 32
        },
        {
            "cell_type": "code",
            "source": [
                "-- Let's check one of the records as an example\n",
                "-- We can see just the latest record is kept\n",
                "SELECT *\n",
                "FROM (\n",
                "    SELECT \n",
                "        *,\n",
                "        ROW_NUMBER() OVER (PARTITION BY cst_id ORDER BY cst_create_date DESC) AS flag_last\n",
                "    FROM bronze.crm_cust_info\n",
                ") AS t\n",
                "WHERE flag_last = 1 AND cst_id = 29466;"
            ],
            "metadata": {
                "language": "sql",
                "azdata_cell_guid": "25115893-c515-4a4d-b324-3a32442206ee"
            },
            "outputs": [
                {
                    "output_type": "display_data",
                    "data": {
                        "text/html": "(1 row affected)"
                    },
                    "metadata": {}
                },
                {
                    "output_type": "display_data",
                    "data": {
                        "text/html": "Total execution time: 00:00:00.023"
                    },
                    "metadata": {}
                },
                {
                    "output_type": "execute_result",
                    "metadata": {},
                    "execution_count": 33,
                    "data": {
                        "application/vnd.dataresource+json": {
                            "schema": {
                                "fields": [
                                    {
                                        "name": "cst_id"
                                    },
                                    {
                                        "name": "cst_key"
                                    },
                                    {
                                        "name": "cst_firstname"
                                    },
                                    {
                                        "name": "cst_lastname"
                                    },
                                    {
                                        "name": "cst_marital_status"
                                    },
                                    {
                                        "name": "cst_gndr"
                                    },
                                    {
                                        "name": "cst_create_date"
                                    },
                                    {
                                        "name": "flag_last"
                                    }
                                ]
                            },
                            "data": [
                                {
                                    "cst_id": "29466",
                                    "cst_key": "AW00029466",
                                    "cst_firstname": "Lance",
                                    "cst_lastname": "Jimenez",
                                    "cst_marital_status": "M",
                                    "cst_gndr": "M",
                                    "cst_create_date": "2026-01-27",
                                    "flag_last": "1"
                                }
                            ]
                        },
                        "text/html": [
                            "<table>",
                            "<tr><th>cst_id</th><th>cst_key</th><th>cst_firstname</th><th>cst_lastname</th><th>cst_marital_status</th><th>cst_gndr</th><th>cst_create_date</th><th>flag_last</th></tr>",
                            "<tr><td>29466</td><td>AW00029466</td><td>Lance</td><td>Jimenez</td><td>M</td><td>M</td><td>2026-01-27</td><td>1</td></tr>",
                            "</table>"
                        ]
                    }
                }
            ],
            "execution_count": 33
        },
        {
            "cell_type": "code",
            "source": [
                "-- Now I check for unwanted leading and trailing spaces in text (nvarchar) columns (firstname, lastname, gender)\n",
                "-- gender seems to fine but I will use Trim() for firstname and last name\n",
                "SELECT cst_gndr\n",
                "FROM bronze.crm_cust_info\n",
                "WHERE cst_gndr != TRIM(cst_gndr);"
            ],
            "metadata": {
                "language": "sql",
                "azdata_cell_guid": "6f2205fb-eb24-470b-abda-b5874ee776d6"
            },
            "outputs": [
                {
                    "output_type": "display_data",
                    "data": {
                        "text/html": "(0 rows affected)"
                    },
                    "metadata": {}
                },
                {
                    "output_type": "display_data",
                    "data": {
                        "text/html": "Total execution time: 00:00:00.013"
                    },
                    "metadata": {}
                },
                {
                    "output_type": "execute_result",
                    "metadata": {},
                    "execution_count": 35,
                    "data": {
                        "application/vnd.dataresource+json": {
                            "schema": {
                                "fields": [
                                    {
                                        "name": "cst_firstname"
                                    }
                                ]
                            },
                            "data": []
                        },
                        "text/html": [
                            "<table>",
                            "<tr><th>cst_firstname</th></tr>",
                            "</table>"
                        ]
                    }
                }
            ],
            "execution_count": 35
        },
        {
            "cell_type": "code",
            "source": [
                "SELECT TOP 5\n",
                "    TRIM(cst_lastname),\n",
                "    TRIM(cst_firstname)\n",
                "FROM bronze.crm_cust_info\n",
                ""
            ],
            "metadata": {
                "language": "sql",
                "azdata_cell_guid": "255fe8f1-4cd7-49f2-bcbe-353b7dbd3afc"
            },
            "outputs": [
                {
                    "output_type": "display_data",
                    "data": {
                        "text/html": "(5 rows affected)"
                    },
                    "metadata": {}
                },
                {
                    "output_type": "display_data",
                    "data": {
                        "text/html": "Total execution time: 00:00:00.015"
                    },
                    "metadata": {}
                },
                {
                    "output_type": "execute_result",
                    "metadata": {},
                    "execution_count": 38,
                    "data": {
                        "application/vnd.dataresource+json": {
                            "schema": {
                                "fields": [
                                    {
                                        "name": "(No column name)"
                                    },
                                    {
                                        "name": "(No column name)"
                                    }
                                ]
                            },
                            "data": [
                                {
                                    "(No column name)": "Jon"
                                },
                                {
                                    "(No column name)": "Eugene"
                                },
                                {
                                    "(No column name)": "Ruben"
                                },
                                {
                                    "(No column name)": "Christy"
                                },
                                {
                                    "(No column name)": "Elizabeth"
                                }
                            ]
                        },
                        "text/html": [
                            "<table>",
                            "<tr><th>(No column name)</th><th>(No column name)</th></tr>",
                            "<tr><td>Yang</td><td>Jon</td></tr>",
                            "<tr><td>Huang</td><td>Eugene</td></tr>",
                            "<tr><td>Torres</td><td>Ruben</td></tr>",
                            "<tr><td>Zhu</td><td>Christy</td></tr>",
                            "<tr><td>Johnson</td><td>Elizabeth</td></tr>",
                            "</table>"
                        ]
                    }
                }
            ],
            "execution_count": 38
        },
        {
            "cell_type": "code",
            "source": [
                "-- Check the consistency of values in low cardinality columns (gender, marital status)\n",
                "\n",
                "-- Data Standardization and Consistency\n",
                "-- Here we can swap the abbrivations with a more user-friendly name\n",
                "-- And replace NULL values with \"Unknown\"\n",
                "\n",
                "SELECT DISTINCT cst_gndr\n",
                "FROM bronze.crm_cust_info;\n",
                "\n",
                "SELECT DISTINCT cst_marital_status\n",
                "FROM bronze.crm_cust_info;"
            ],
            "metadata": {
                "language": "sql",
                "azdata_cell_guid": "65bb3c5d-bda2-43dd-b4ec-c499b885be52",
                "tags": []
            },
            "outputs": [
                {
                    "output_type": "display_data",
                    "data": {
                        "text/html": "(3 rows affected)"
                    },
                    "metadata": {}
                },
                {
                    "output_type": "display_data",
                    "data": {
                        "text/html": "(3 rows affected)"
                    },
                    "metadata": {}
                },
                {
                    "output_type": "display_data",
                    "data": {
                        "text/html": "Total execution time: 00:00:00.028"
                    },
                    "metadata": {}
                },
                {
                    "output_type": "execute_result",
                    "metadata": {},
                    "execution_count": 42,
                    "data": {
                        "application/vnd.dataresource+json": {
                            "schema": {
                                "fields": [
                                    {
                                        "name": "cst_gndr"
                                    }
                                ]
                            },
                            "data": [
                                {
                                    "cst_gndr": "NULL"
                                },
                                {
                                    "cst_gndr": "F"
                                },
                                {
                                    "cst_gndr": "M"
                                }
                            ]
                        },
                        "text/html": [
                            "<table>",
                            "<tr><th>cst_gndr</th></tr>",
                            "<tr><td>NULL</td></tr>",
                            "<tr><td>F</td></tr>",
                            "<tr><td>M</td></tr>",
                            "</table>"
                        ]
                    }
                },
                {
                    "output_type": "execute_result",
                    "metadata": {},
                    "execution_count": 42,
                    "data": {
                        "application/vnd.dataresource+json": {
                            "schema": {
                                "fields": [
                                    {
                                        "name": "cst_marital_status"
                                    }
                                ]
                            },
                            "data": [
                                {
                                    "cst_marital_status": "S"
                                },
                                {
                                    "cst_marital_status": "NULL"
                                },
                                {
                                    "cst_marital_status": "M"
                                }
                            ]
                        },
                        "text/html": [
                            "<table>",
                            "<tr><th>cst_marital_status</th></tr>",
                            "<tr><td>S</td></tr>",
                            "<tr><td>NULL</td></tr>",
                            "<tr><td>M</td></tr>",
                            "</table>"
                        ]
                    }
                }
            ],
            "execution_count": 42
        },
        {
            "cell_type": "code",
            "source": [
                "-- I will also use TRIM() and UPPER() for consistency and make sure we are able to catch any bad data in the future\n",
                "SELECT TOP 10\n",
                "    TRIM(cst_firstname) AS cst_firstname,\n",
                "    TRIM(cst_lastname) AS cst_lastname,\n",
                "    CASE \n",
                "        WHEN UPPER(TRIM([cst_marital_status])) = 'S' THEN 'Single'\n",
                "        WHEN UPPER(TRIM([cst_marital_status])) = 'M' THEN 'Married'\n",
                "        ELSE 'Unknown'\n",
                "    END AS cst_marital_status,\n",
                "    CASE \n",
                "        WHEN UPPER(TRIM(cst_gndr)) = 'F' THEN 'Female'\n",
                "        WHEN UPPER(TRIM(cst_gndr)) = 'M' THEN 'Male'\n",
                "        ELSE 'Unknown'\n",
                "    END AS cst_gndr\n",
                "FROM bronze.crm_cust_info;"
            ],
            "metadata": {
                "azdata_cell_guid": "e47cc905-cd01-4baf-8ff5-c208ed100f05",
                "language": "sql"
            },
            "outputs": [
                {
                    "output_type": "display_data",
                    "data": {
                        "text/html": "(10 rows affected)"
                    },
                    "metadata": {}
                },
                {
                    "output_type": "display_data",
                    "data": {
                        "text/html": "Total execution time: 00:00:00.014"
                    },
                    "metadata": {}
                },
                {
                    "output_type": "execute_result",
                    "metadata": {},
                    "execution_count": 39,
                    "data": {
                        "application/vnd.dataresource+json": {
                            "schema": {
                                "fields": [
                                    {
                                        "name": "cst_firstname"
                                    },
                                    {
                                        "name": "cst_lastname"
                                    },
                                    {
                                        "name": "cst_marital_status"
                                    },
                                    {
                                        "name": "cst_gndr"
                                    }
                                ]
                            },
                            "data": [
                                {
                                    "cst_firstname": "Jon",
                                    "cst_lastname": "Yang",
                                    "cst_marital_status": "Married",
                                    "cst_gndr": "Male"
                                },
                                {
                                    "cst_firstname": "Eugene",
                                    "cst_lastname": "Huang",
                                    "cst_marital_status": "Single",
                                    "cst_gndr": "Male"
                                },
                                {
                                    "cst_firstname": "Ruben",
                                    "cst_lastname": "Torres",
                                    "cst_marital_status": "Married",
                                    "cst_gndr": "Male"
                                },
                                {
                                    "cst_firstname": "Christy",
                                    "cst_lastname": "Zhu",
                                    "cst_marital_status": "Single",
                                    "cst_gndr": "Female"
                                },
                                {
                                    "cst_firstname": "Elizabeth",
                                    "cst_lastname": "Johnson",
                                    "cst_marital_status": "Single",
                                    "cst_gndr": "Female"
                                },
                                {
                                    "cst_firstname": "Julio",
                                    "cst_lastname": "Ruiz",
                                    "cst_marital_status": "Single",
                                    "cst_gndr": "Male"
                                },
                                {
                                    "cst_firstname": "Janet",
                                    "cst_lastname": "Alvarez",
                                    "cst_marital_status": "Single",
                                    "cst_gndr": "Female"
                                },
                                {
                                    "cst_firstname": "Marco",
                                    "cst_lastname": "Mehta",
                                    "cst_marital_status": "Married",
                                    "cst_gndr": "Male"
                                },
                                {
                                    "cst_firstname": "Rob",
                                    "cst_lastname": "Verhoff",
                                    "cst_marital_status": "Single",
                                    "cst_gndr": "Female"
                                },
                                {
                                    "cst_firstname": "Shannon",
                                    "cst_lastname": "Carlson",
                                    "cst_marital_status": "Single",
                                    "cst_gndr": "Male"
                                }
                            ]
                        },
                        "text/html": [
                            "<table>",
                            "<tr><th>cst_firstname</th><th>cst_lastname</th><th>cst_marital_status</th><th>cst_gndr</th></tr>",
                            "<tr><td>Jon</td><td>Yang</td><td>Married</td><td>Male</td></tr>",
                            "<tr><td>Eugene</td><td>Huang</td><td>Single</td><td>Male</td></tr>",
                            "<tr><td>Ruben</td><td>Torres</td><td>Married</td><td>Male</td></tr>",
                            "<tr><td>Christy</td><td>Zhu</td><td>Single</td><td>Female</td></tr>",
                            "<tr><td>Elizabeth</td><td>Johnson</td><td>Single</td><td>Female</td></tr>",
                            "<tr><td>Julio</td><td>Ruiz</td><td>Single</td><td>Male</td></tr>",
                            "<tr><td>Janet</td><td>Alvarez</td><td>Single</td><td>Female</td></tr>",
                            "<tr><td>Marco</td><td>Mehta</td><td>Married</td><td>Male</td></tr>",
                            "<tr><td>Rob</td><td>Verhoff</td><td>Single</td><td>Female</td></tr>",
                            "<tr><td>Shannon</td><td>Carlson</td><td>Single</td><td>Male</td></tr>",
                            "</table>"
                        ]
                    }
                }
            ],
            "execution_count": 39
        },
        {
            "cell_type": "markdown",
            "source": [
                "## Table: crm\\_prd\\_info"
            ],
            "metadata": {
                "language": "sql",
                "azdata_cell_guid": "6da79c38-3a03-4978-af14-d34f3ff23308"
            },
            "attachments": {}
        },
        {
            "cell_type": "markdown",
            "source": [
                "| Problem                                                      | Solution                                                                 | Notes                                                                                                           | Columns Targeted          |\n",
                "|--------------------------------------------------------------|--------------------------------------------------------------------------|---------------------------------------------------------------------------------------------------------------|---------------------------|\n",
                "| No columns to be used for joining with other tables         | Derived columns, product key is divided into two derived columns         | - `SUBSTRING()`, `REPLACE()` is used.  <br> - The items that have not sold yet (no records in sales table) are investigated using CTE (Common Table Expression). <br> - The root cause of discrepancy between category of items in product info and category table is detected. | prd_key                   |\n",
                "| Negative and NULL values for product cost                   | NULL values are replaced by `0`                                          | `ISNULL()` is used.                                                                                            | prd_cost                  |\n",
                "| Missing values and standardization in product line          | `'CASE WHEN'` statements are used to map values to a more descriptive way and impute null values with 'Unknown'| `TRIM` and `UPPER` string functions are also used for data consistency.                                        | prd_line                  |\n",
                "| Start date of price of an item is older than its end date   | Using this logic (`End Date = Start Date of the NEXT Record -1`) to ensure no overlap and maintain **history** of the price per item | `LEAD()` window function is used to access the value of the next record. <br> `DATEADD()` is used to shift the end date one day backward to ensure no overlap. | prd_start_dt, prd_end_dt  |\n",
                ""
            ],
            "metadata": {
                "language": "sql",
                "azdata_cell_guid": "543f8b99-1ec2-4b3c-b71b-71f7d381707c"
            },
            "attachments": {}
        },
        {
            "cell_type": "code",
            "source": [
                "-- Preview\n",
                "SELECT TOP 10 * FROM bronze.crm_prd_info;"
            ],
            "metadata": {
                "language": "sql",
                "azdata_cell_guid": "1ec6f2dc-a01d-476d-b3a1-88dbaf379487"
            },
            "outputs": [
                {
                    "output_type": "display_data",
                    "data": {
                        "text/html": "(10 rows affected)"
                    },
                    "metadata": {}
                },
                {
                    "output_type": "display_data",
                    "data": {
                        "text/html": "Total execution time: 00:00:00.013"
                    },
                    "metadata": {}
                },
                {
                    "output_type": "execute_result",
                    "metadata": {},
                    "execution_count": 45,
                    "data": {
                        "application/vnd.dataresource+json": {
                            "schema": {
                                "fields": [
                                    {
                                        "name": "prd_id"
                                    },
                                    {
                                        "name": "prd_key"
                                    },
                                    {
                                        "name": "prd_nm"
                                    },
                                    {
                                        "name": "prd_cost"
                                    },
                                    {
                                        "name": "prd_line"
                                    },
                                    {
                                        "name": "prd_start_dt"
                                    },
                                    {
                                        "name": "prd_end_dt"
                                    }
                                ]
                            },
                            "data": [
                                {
                                    "prd_id": "210",
                                    "prd_key": "CO-RF-FR-R92B-58",
                                    "prd_nm": "HL Road Frame - Black- 58",
                                    "prd_cost": "NULL",
                                    "prd_line": "R ",
                                    "prd_start_dt": "2003-07-01",
                                    "prd_end_dt": "NULL"
                                },
                                {
                                    "prd_id": "211",
                                    "prd_key": "CO-RF-FR-R92R-58",
                                    "prd_nm": "HL Road Frame - Red- 58",
                                    "prd_cost": "NULL",
                                    "prd_line": "R ",
                                    "prd_start_dt": "2003-07-01",
                                    "prd_end_dt": "NULL"
                                },
                                {
                                    "prd_id": "212",
                                    "prd_key": "AC-HE-HL-U509-R",
                                    "prd_nm": "Sport-100 Helmet- Red",
                                    "prd_cost": "12",
                                    "prd_line": "S ",
                                    "prd_start_dt": "2011-07-01",
                                    "prd_end_dt": "2007-12-28"
                                },
                                {
                                    "prd_id": "213",
                                    "prd_key": "AC-HE-HL-U509-R",
                                    "prd_nm": "Sport-100 Helmet- Red",
                                    "prd_cost": "14",
                                    "prd_line": "S ",
                                    "prd_start_dt": "2012-07-01",
                                    "prd_end_dt": "2008-12-27"
                                },
                                {
                                    "prd_id": "214",
                                    "prd_key": "AC-HE-HL-U509-R",
                                    "prd_nm": "Sport-100 Helmet- Red",
                                    "prd_cost": "13",
                                    "prd_line": "S ",
                                    "prd_start_dt": "2013-07-01",
                                    "prd_end_dt": "NULL"
                                },
                                {
                                    "prd_id": "215",
                                    "prd_key": "AC-HE-HL-U509",
                                    "prd_nm": "Sport-100 Helmet- Black",
                                    "prd_cost": "12",
                                    "prd_line": "S ",
                                    "prd_start_dt": "2011-07-01",
                                    "prd_end_dt": "2007-12-28"
                                },
                                {
                                    "prd_id": "216",
                                    "prd_key": "AC-HE-HL-U509",
                                    "prd_nm": "Sport-100 Helmet- Black",
                                    "prd_cost": "14",
                                    "prd_line": "S ",
                                    "prd_start_dt": "2012-07-01",
                                    "prd_end_dt": "2008-12-27"
                                },
                                {
                                    "prd_id": "217",
                                    "prd_key": "AC-HE-HL-U509",
                                    "prd_nm": "Sport-100 Helmet- Black",
                                    "prd_cost": "13",
                                    "prd_line": "S ",
                                    "prd_start_dt": "2013-07-01",
                                    "prd_end_dt": "NULL"
                                },
                                {
                                    "prd_id": "218",
                                    "prd_key": "CL-SO-SO-B909-M",
                                    "prd_nm": "Mountain Bike Socks- M",
                                    "prd_cost": "3",
                                    "prd_line": "M ",
                                    "prd_start_dt": "2011-07-01",
                                    "prd_end_dt": "2007-12-28"
                                },
                                {
                                    "prd_id": "219",
                                    "prd_key": "CL-SO-SO-B909-L",
                                    "prd_nm": "Mountain Bike Socks- L",
                                    "prd_cost": "3",
                                    "prd_line": "M ",
                                    "prd_start_dt": "2011-07-01",
                                    "prd_end_dt": "2007-12-28"
                                }
                            ]
                        },
                        "text/html": [
                            "<table>",
                            "<tr><th>prd_id</th><th>prd_key</th><th>prd_nm</th><th>prd_cost</th><th>prd_line</th><th>prd_start_dt</th><th>prd_end_dt</th></tr>",
                            "<tr><td>210</td><td>CO-RF-FR-R92B-58</td><td>HL Road Frame - Black- 58</td><td>NULL</td><td>R </td><td>2003-07-01</td><td>NULL</td></tr>",
                            "<tr><td>211</td><td>CO-RF-FR-R92R-58</td><td>HL Road Frame - Red- 58</td><td>NULL</td><td>R </td><td>2003-07-01</td><td>NULL</td></tr>",
                            "<tr><td>212</td><td>AC-HE-HL-U509-R</td><td>Sport-100 Helmet- Red</td><td>12</td><td>S </td><td>2011-07-01</td><td>2007-12-28</td></tr>",
                            "<tr><td>213</td><td>AC-HE-HL-U509-R</td><td>Sport-100 Helmet- Red</td><td>14</td><td>S </td><td>2012-07-01</td><td>2008-12-27</td></tr>",
                            "<tr><td>214</td><td>AC-HE-HL-U509-R</td><td>Sport-100 Helmet- Red</td><td>13</td><td>S </td><td>2013-07-01</td><td>NULL</td></tr>",
                            "<tr><td>215</td><td>AC-HE-HL-U509</td><td>Sport-100 Helmet- Black</td><td>12</td><td>S </td><td>2011-07-01</td><td>2007-12-28</td></tr>",
                            "<tr><td>216</td><td>AC-HE-HL-U509</td><td>Sport-100 Helmet- Black</td><td>14</td><td>S </td><td>2012-07-01</td><td>2008-12-27</td></tr>",
                            "<tr><td>217</td><td>AC-HE-HL-U509</td><td>Sport-100 Helmet- Black</td><td>13</td><td>S </td><td>2013-07-01</td><td>NULL</td></tr>",
                            "<tr><td>218</td><td>CL-SO-SO-B909-M</td><td>Mountain Bike Socks- M</td><td>3</td><td>M </td><td>2011-07-01</td><td>2007-12-28</td></tr>",
                            "<tr><td>219</td><td>CL-SO-SO-B909-L</td><td>Mountain Bike Socks- L</td><td>3</td><td>M </td><td>2011-07-01</td><td>2007-12-28</td></tr>",
                            "</table>"
                        ]
                    }
                }
            ],
            "execution_count": 45
        },
        {
            "cell_type": "code",
            "source": [
                "-- Check For Nulls or Duplicates in Primary Key\n",
                "-- No duplicates in the Primary Key\n",
                "SELECT \n",
                "    prd_id, \n",
                "    COUNT(*) AS cnt\n",
                "FROM bronze.crm_prd_info \n",
                "GROUP BY prd_id \n",
                "HAVING COUNT(*) > 1 \n",
                "    OR prd_id IS NULL;"
            ],
            "metadata": {
                "language": "sql",
                "azdata_cell_guid": "a7544105-4f28-4f79-b260-df6b8d9140d9"
            },
            "outputs": [
                {
                    "output_type": "display_data",
                    "data": {
                        "text/html": "(0 rows affected)"
                    },
                    "metadata": {}
                },
                {
                    "output_type": "display_data",
                    "data": {
                        "text/html": "Total execution time: 00:00:00.032"
                    },
                    "metadata": {}
                },
                {
                    "output_type": "execute_result",
                    "metadata": {},
                    "execution_count": 46,
                    "data": {
                        "application/vnd.dataresource+json": {
                            "schema": {
                                "fields": [
                                    {
                                        "name": "prd_id"
                                    },
                                    {
                                        "name": "cnt"
                                    }
                                ]
                            },
                            "data": []
                        },
                        "text/html": [
                            "<table>",
                            "<tr><th>prd_id</th><th>cnt</th></tr>",
                            "</table>"
                        ]
                    }
                }
            ],
            "execution_count": 46
        },
        {
            "cell_type": "code",
            "source": [
                "-- We need to break down prd_key into two derived columns that we can use to join to two other tables\n",
                "-- The first 5 charachters seem to be related to category id in erp_px_cat_g1v2 table\n",
                "-- However, '-' needs be replaced by '_' \n",
                "\n",
                "SELECT TOP 5\n",
                "    REPLACE(SUBSTRING(prd_key, 1, 5), '-', '_') AS cat_id\n",
                "FROM bronze.crm_prd_info;\n",
                "PRINT('bronze.erp_px_cat_g1v2')\n",
                "\n",
                "SELECT DISTINCT TOP 5 id FROM bronze.erp_px_cat_g1v2;\n",
                ""
            ],
            "metadata": {
                "language": "sql",
                "azdata_cell_guid": "7cc31023-5cfd-40f8-8c45-021563d172a7"
            },
            "outputs": [
                {
                    "output_type": "display_data",
                    "data": {
                        "text/html": "(5 rows affected)"
                    },
                    "metadata": {}
                },
                {
                    "output_type": "display_data",
                    "data": {
                        "text/html": "bronze.erp_px_cat_g1v2"
                    },
                    "metadata": {}
                },
                {
                    "output_type": "display_data",
                    "data": {
                        "text/html": "(5 rows affected)"
                    },
                    "metadata": {}
                },
                {
                    "output_type": "display_data",
                    "data": {
                        "text/html": "Total execution time: 00:00:00.011"
                    },
                    "metadata": {}
                },
                {
                    "output_type": "execute_result",
                    "metadata": {},
                    "execution_count": 59,
                    "data": {
                        "application/vnd.dataresource+json": {
                            "schema": {
                                "fields": [
                                    {
                                        "name": "cat_id"
                                    }
                                ]
                            },
                            "data": [
                                {
                                    "cat_id": "CO_RF"
                                },
                                {
                                    "cat_id": "CO_RF"
                                },
                                {
                                    "cat_id": "AC_HE"
                                },
                                {
                                    "cat_id": "AC_HE"
                                },
                                {
                                    "cat_id": "AC_HE"
                                }
                            ]
                        },
                        "text/html": [
                            "<table>",
                            "<tr><th>cat_id</th></tr>",
                            "<tr><td>CO_RF</td></tr>",
                            "<tr><td>CO_RF</td></tr>",
                            "<tr><td>AC_HE</td></tr>",
                            "<tr><td>AC_HE</td></tr>",
                            "<tr><td>AC_HE</td></tr>",
                            "</table>"
                        ]
                    }
                },
                {
                    "output_type": "execute_result",
                    "metadata": {},
                    "execution_count": 59,
                    "data": {
                        "application/vnd.dataresource+json": {
                            "schema": {
                                "fields": [
                                    {
                                        "name": "id"
                                    }
                                ]
                            },
                            "data": [
                                {
                                    "id": "AC_BC"
                                },
                                {
                                    "id": "AC_BR"
                                },
                                {
                                    "id": "AC_BS"
                                },
                                {
                                    "id": "AC_CL"
                                },
                                {
                                    "id": "AC_FE"
                                }
                            ]
                        },
                        "text/html": [
                            "<table>",
                            "<tr><th>id</th></tr>",
                            "<tr><td>AC_BC</td></tr>",
                            "<tr><td>AC_BR</td></tr>",
                            "<tr><td>AC_BS</td></tr>",
                            "<tr><td>AC_CL</td></tr>",
                            "<tr><td>AC_FE</td></tr>",
                            "</table>"
                        ]
                    }
                }
            ],
            "execution_count": 59
        },
        {
            "cell_type": "code",
            "source": [
                "-- Now let's check which ids are in prd_info table but not in erp_px_cat_g1v2\n",
                "-- Found 7\n",
                "SELECT \n",
                "    prd_id,\n",
                "    prd_key,\n",
                "    REPLACE(SUBSTRING(prd_key, 1, 5), '-', '_') AS cat_id,\n",
                "    prd_nm,\n",
                "    prd_cost,\n",
                "    prd_line,\n",
                "    prd_start_dt,\n",
                "    prd_end_dt\n",
                "FROM bronze.crm_prd_info\n",
                "WHERE REPLACE(SUBSTRING(prd_key, 1, 5), '-', '_') NOT IN (\n",
                "    SELECT DISTINCT id \n",
                "    FROM bronze.erp_px_cat_g1v2\n",
                ");\n",
                ""
            ],
            "metadata": {
                "language": "sql",
                "azdata_cell_guid": "b87cc299-652a-4d8d-a953-24be808a4baa"
            },
            "outputs": [
                {
                    "output_type": "display_data",
                    "data": {
                        "text/html": "(7 rows affected)"
                    },
                    "metadata": {}
                },
                {
                    "output_type": "display_data",
                    "data": {
                        "text/html": "Total execution time: 00:00:00.029"
                    },
                    "metadata": {}
                },
                {
                    "output_type": "execute_result",
                    "metadata": {},
                    "execution_count": 53,
                    "data": {
                        "application/vnd.dataresource+json": {
                            "schema": {
                                "fields": [
                                    {
                                        "name": "prd_id"
                                    },
                                    {
                                        "name": "prd_key"
                                    },
                                    {
                                        "name": "cat_id"
                                    },
                                    {
                                        "name": "prd_nm"
                                    },
                                    {
                                        "name": "prd_cost"
                                    },
                                    {
                                        "name": "prd_line"
                                    },
                                    {
                                        "name": "prd_start_dt"
                                    },
                                    {
                                        "name": "prd_end_dt"
                                    }
                                ]
                            },
                            "data": [
                                {
                                    "prd_id": "542",
                                    "prd_key": "CO-PE-PD-M282",
                                    "cat_id": "CO_PE",
                                    "prd_nm": "LL Mountain Pedal",
                                    "prd_cost": "18",
                                    "prd_line": "M ",
                                    "prd_start_dt": "2013-07-01",
                                    "prd_end_dt": "NULL"
                                },
                                {
                                    "prd_id": "543",
                                    "prd_key": "CO-PE-PD-M340",
                                    "cat_id": "CO_PE",
                                    "prd_nm": "ML Mountain Pedal",
                                    "prd_cost": "28",
                                    "prd_line": "M ",
                                    "prd_start_dt": "2013-07-01",
                                    "prd_end_dt": "NULL"
                                },
                                {
                                    "prd_id": "544",
                                    "prd_key": "CO-PE-PD-M562",
                                    "cat_id": "CO_PE",
                                    "prd_nm": "HL Mountain Pedal",
                                    "prd_cost": "36",
                                    "prd_line": "M ",
                                    "prd_start_dt": "2013-07-01",
                                    "prd_end_dt": "NULL"
                                },
                                {
                                    "prd_id": "545",
                                    "prd_key": "CO-PE-PD-R347",
                                    "cat_id": "CO_PE",
                                    "prd_nm": "LL Road Pedal",
                                    "prd_cost": "18",
                                    "prd_line": "R ",
                                    "prd_start_dt": "2013-07-01",
                                    "prd_end_dt": "NULL"
                                },
                                {
                                    "prd_id": "546",
                                    "prd_key": "CO-PE-PD-R563",
                                    "cat_id": "CO_PE",
                                    "prd_nm": "ML Road Pedal",
                                    "prd_cost": "28",
                                    "prd_line": "R ",
                                    "prd_start_dt": "2013-07-01",
                                    "prd_end_dt": "NULL"
                                },
                                {
                                    "prd_id": "547",
                                    "prd_key": "CO-PE-PD-R853",
                                    "cat_id": "CO_PE",
                                    "prd_nm": "HL Road Pedal",
                                    "prd_cost": "36",
                                    "prd_line": "R ",
                                    "prd_start_dt": "2013-07-01",
                                    "prd_end_dt": "NULL"
                                },
                                {
                                    "prd_id": "548",
                                    "prd_key": "CO-PE-PD-T852",
                                    "cat_id": "CO_PE",
                                    "prd_nm": "Touring Pedal",
                                    "prd_cost": "36",
                                    "prd_line": "T ",
                                    "prd_start_dt": "2013-07-01",
                                    "prd_end_dt": "NULL"
                                }
                            ]
                        },
                        "text/html": [
                            "<table>",
                            "<tr><th>prd_id</th><th>prd_key</th><th>cat_id</th><th>prd_nm</th><th>prd_cost</th><th>prd_line</th><th>prd_start_dt</th><th>prd_end_dt</th></tr>",
                            "<tr><td>542</td><td>CO-PE-PD-M282</td><td>CO_PE</td><td>LL Mountain Pedal</td><td>18</td><td>M </td><td>2013-07-01</td><td>NULL</td></tr>",
                            "<tr><td>543</td><td>CO-PE-PD-M340</td><td>CO_PE</td><td>ML Mountain Pedal</td><td>28</td><td>M </td><td>2013-07-01</td><td>NULL</td></tr>",
                            "<tr><td>544</td><td>CO-PE-PD-M562</td><td>CO_PE</td><td>HL Mountain Pedal</td><td>36</td><td>M </td><td>2013-07-01</td><td>NULL</td></tr>",
                            "<tr><td>545</td><td>CO-PE-PD-R347</td><td>CO_PE</td><td>LL Road Pedal</td><td>18</td><td>R </td><td>2013-07-01</td><td>NULL</td></tr>",
                            "<tr><td>546</td><td>CO-PE-PD-R563</td><td>CO_PE</td><td>ML Road Pedal</td><td>28</td><td>R </td><td>2013-07-01</td><td>NULL</td></tr>",
                            "<tr><td>547</td><td>CO-PE-PD-R853</td><td>CO_PE</td><td>HL Road Pedal</td><td>36</td><td>R </td><td>2013-07-01</td><td>NULL</td></tr>",
                            "<tr><td>548</td><td>CO-PE-PD-T852</td><td>CO_PE</td><td>Touring Pedal</td><td>36</td><td>T </td><td>2013-07-01</td><td>NULL</td></tr>",
                            "</table>"
                        ]
                    }
                }
            ],
            "execution_count": 53
        },
        {
            "cell_type": "code",
            "source": [
                "-- Now let's see which ids are in erp_px_cat_g1v2table but not in prd_info\n",
                "-- Found 1\n",
                "------------------\n",
                "-- It appears that the discrepancies are due to the inconsistent abbreviations for \"Pedals\" (\"PE\" vs \"PD\").\n",
                "-- Further investigation and consultation with the team is required.\n",
                "------------------\n",
                "SELECT DISTINCT id, CAT, SUBCAT, MAINTENANCE\n",
                "FROM bronze.erp_px_cat_g1v2\n",
                "WHERE id NOT IN (\n",
                "    SELECT REPLACE(SUBSTRING(prd_key, 1, 5), '-', '_')\n",
                "    FROM bronze.crm_prd_info);\n",
                "\n",
                "-- Let's check if there is any other Pedals\n",
                "SELECT DISTINCT\n",
                "    id,\n",
                "    CAT,\n",
                "    SUBCAT,\n",
                "    MAINTENANCE\n",
                "FROM bronze.erp_px_cat_g1v2\n",
                "WHERE SUBCAT LIKE '%Pedals%';\n",
                ""
            ],
            "metadata": {
                "language": "sql",
                "azdata_cell_guid": "15c29642-fbe0-40d5-aa90-d4fa9aa824f2"
            },
            "outputs": [
                {
                    "output_type": "display_data",
                    "data": {
                        "text/html": "(1 row affected)"
                    },
                    "metadata": {}
                },
                {
                    "output_type": "display_data",
                    "data": {
                        "text/html": "(1 row affected)"
                    },
                    "metadata": {}
                },
                {
                    "output_type": "display_data",
                    "data": {
                        "text/html": "Total execution time: 00:00:00.031"
                    },
                    "metadata": {}
                },
                {
                    "output_type": "execute_result",
                    "metadata": {},
                    "execution_count": 63,
                    "data": {
                        "application/vnd.dataresource+json": {
                            "schema": {
                                "fields": [
                                    {
                                        "name": "id"
                                    },
                                    {
                                        "name": "CAT"
                                    },
                                    {
                                        "name": "SUBCAT"
                                    },
                                    {
                                        "name": "MAINTENANCE"
                                    }
                                ]
                            },
                            "data": [
                                {
                                    "id": "CO_PD",
                                    "CAT": "Components",
                                    "SUBCAT": "Pedals",
                                    "MAINTENANCE": "No"
                                }
                            ]
                        },
                        "text/html": [
                            "<table>",
                            "<tr><th>id</th><th>CAT</th><th>SUBCAT</th><th>MAINTENANCE</th></tr>",
                            "<tr><td>CO_PD</td><td>Components</td><td>Pedals</td><td>No</td></tr>",
                            "</table>"
                        ]
                    }
                },
                {
                    "output_type": "execute_result",
                    "metadata": {},
                    "execution_count": 63,
                    "data": {
                        "application/vnd.dataresource+json": {
                            "schema": {
                                "fields": [
                                    {
                                        "name": "id"
                                    },
                                    {
                                        "name": "CAT"
                                    },
                                    {
                                        "name": "SUBCAT"
                                    },
                                    {
                                        "name": "MAINTENANCE"
                                    }
                                ]
                            },
                            "data": [
                                {
                                    "id": "CO_PD",
                                    "CAT": "Components",
                                    "SUBCAT": "Pedals",
                                    "MAINTENANCE": "No"
                                }
                            ]
                        },
                        "text/html": [
                            "<table>",
                            "<tr><th>id</th><th>CAT</th><th>SUBCAT</th><th>MAINTENANCE</th></tr>",
                            "<tr><td>CO_PD</td><td>Components</td><td>Pedals</td><td>No</td></tr>",
                            "</table>"
                        ]
                    }
                }
            ],
            "execution_count": 63
        },
        {
            "cell_type": "code",
            "source": [
                "-- The rest of the product key can be used to join the table with crm_sales_details table\n",
                "SELECT TOP 5\n",
                "    REPLACE(SUBSTRING(prd_key, 1, 5), '-', '_') AS cat_id,\n",
                "    SUBSTRING(prd_key, 7, LEN(prd_key)) AS prd_key\n",
                "FROM bronze.crm_prd_info;\n",
                "PRINT('bronze.erp_px_cat_g1v2');\n",
                "\n",
                "SELECT DISTINCT TOP 5 sls_prd_key FROM bronze.crm_sales_details;"
            ],
            "metadata": {
                "language": "sql",
                "azdata_cell_guid": "fca10690-ea5b-4a80-8e20-82a1e613c5fe"
            },
            "outputs": [
                {
                    "output_type": "display_data",
                    "data": {
                        "text/html": "(5 rows affected)"
                    },
                    "metadata": {}
                },
                {
                    "output_type": "display_data",
                    "data": {
                        "text/html": "bronze.erp_px_cat_g1v2"
                    },
                    "metadata": {}
                },
                {
                    "output_type": "display_data",
                    "data": {
                        "text/html": "(5 rows affected)"
                    },
                    "metadata": {}
                },
                {
                    "output_type": "display_data",
                    "data": {
                        "text/html": "Total execution time: 00:00:00.134"
                    },
                    "metadata": {}
                },
                {
                    "output_type": "execute_result",
                    "metadata": {},
                    "execution_count": 64,
                    "data": {
                        "application/vnd.dataresource+json": {
                            "schema": {
                                "fields": [
                                    {
                                        "name": "cat_id"
                                    },
                                    {
                                        "name": "prd_key"
                                    }
                                ]
                            },
                            "data": [
                                {
                                    "cat_id": "CO_RF",
                                    "prd_key": "FR-R92B-58"
                                },
                                {
                                    "cat_id": "CO_RF",
                                    "prd_key": "FR-R92R-58"
                                },
                                {
                                    "cat_id": "AC_HE",
                                    "prd_key": "HL-U509-R"
                                },
                                {
                                    "cat_id": "AC_HE",
                                    "prd_key": "HL-U509-R"
                                },
                                {
                                    "cat_id": "AC_HE",
                                    "prd_key": "HL-U509-R"
                                }
                            ]
                        },
                        "text/html": [
                            "<table>",
                            "<tr><th>cat_id</th><th>prd_key</th></tr>",
                            "<tr><td>CO_RF</td><td>FR-R92B-58</td></tr>",
                            "<tr><td>CO_RF</td><td>FR-R92R-58</td></tr>",
                            "<tr><td>AC_HE</td><td>HL-U509-R</td></tr>",
                            "<tr><td>AC_HE</td><td>HL-U509-R</td></tr>",
                            "<tr><td>AC_HE</td><td>HL-U509-R</td></tr>",
                            "</table>"
                        ]
                    }
                },
                {
                    "output_type": "execute_result",
                    "metadata": {},
                    "execution_count": 64,
                    "data": {
                        "application/vnd.dataresource+json": {
                            "schema": {
                                "fields": [
                                    {
                                        "name": "sls_prd_key"
                                    }
                                ]
                            },
                            "data": [
                                {
                                    "sls_prd_key": "BK-R93R-62"
                                },
                                {
                                    "sls_prd_key": "BK-M82S-44"
                                },
                                {
                                    "sls_prd_key": "BK-R50B-62"
                                },
                                {
                                    "sls_prd_key": "BK-R93R-44"
                                },
                                {
                                    "sls_prd_key": "BK-M82B-48"
                                }
                            ]
                        },
                        "text/html": [
                            "<table>",
                            "<tr><th>sls_prd_key</th></tr>",
                            "<tr><td>BK-R93R-62</td></tr>",
                            "<tr><td>BK-M82S-44</td></tr>",
                            "<tr><td>BK-R50B-62</td></tr>",
                            "<tr><td>BK-R93R-44</td></tr>",
                            "<tr><td>BK-M82B-48</td></tr>",
                            "</table>"
                        ]
                    }
                }
            ],
            "execution_count": 64
        },
        {
            "cell_type": "code",
            "source": [
                "-- Now let's check which ids are in prd_info table but not in crm_sales_details\n",
                "-- Found 220 records. We have a lot of products (165) that are not sold yet (no match in sales table)\n",
                "SELECT TOP 5\n",
                "    prd_id,\n",
                "    prd_key,\n",
                "    REPLACE(SUBSTRING(prd_key, 1, 5), '-', '_') AS cat_id,\n",
                "    SUBSTRING(prd_key, 7, LEN(prd_key)) AS prd_key,\n",
                "    prd_nm,\n",
                "    prd_cost,\n",
                "    prd_line,\n",
                "    prd_start_dt,\n",
                "    prd_end_dt\n",
                "FROM bronze.crm_prd_info\n",
                "WHERE SUBSTRING(prd_key, 7, LEN(prd_key)) NOT IN (\n",
                "    SELECT sls_prd_key \n",
                "    FROM bronze.crm_sales_details\n",
                "    );\n",
                ""
            ],
            "metadata": {
                "language": "sql",
                "azdata_cell_guid": "27168148-06bd-476d-bf2b-64546287ebc1"
            },
            "outputs": [
                {
                    "output_type": "display_data",
                    "data": {
                        "text/html": "(5 rows affected)"
                    },
                    "metadata": {}
                },
                {
                    "output_type": "display_data",
                    "data": {
                        "text/html": "Total execution time: 00:00:00.138"
                    },
                    "metadata": {}
                },
                {
                    "output_type": "execute_result",
                    "metadata": {},
                    "execution_count": 79,
                    "data": {
                        "application/vnd.dataresource+json": {
                            "schema": {
                                "fields": [
                                    {
                                        "name": "prd_id"
                                    },
                                    {
                                        "name": "prd_key"
                                    },
                                    {
                                        "name": "cat_id"
                                    },
                                    {
                                        "name": "prd_key"
                                    },
                                    {
                                        "name": "prd_nm"
                                    },
                                    {
                                        "name": "prd_cost"
                                    },
                                    {
                                        "name": "prd_line"
                                    },
                                    {
                                        "name": "prd_start_dt"
                                    },
                                    {
                                        "name": "prd_end_dt"
                                    }
                                ]
                            },
                            "data": [
                                {
                                    "prd_id": "210",
                                    "prd_key": "FR-R92B-58",
                                    "cat_id": "CO_RF",
                                    "prd_nm": "HL Road Frame - Black- 58",
                                    "prd_cost": "NULL",
                                    "prd_line": "R ",
                                    "prd_start_dt": "2003-07-01",
                                    "prd_end_dt": "NULL"
                                },
                                {
                                    "prd_id": "211",
                                    "prd_key": "FR-R92R-58",
                                    "cat_id": "CO_RF",
                                    "prd_nm": "HL Road Frame - Red- 58",
                                    "prd_cost": "NULL",
                                    "prd_line": "R ",
                                    "prd_start_dt": "2003-07-01",
                                    "prd_end_dt": "NULL"
                                },
                                {
                                    "prd_id": "218",
                                    "prd_key": "SO-B909-M",
                                    "cat_id": "CL_SO",
                                    "prd_nm": "Mountain Bike Socks- M",
                                    "prd_cost": "3",
                                    "prd_line": "M ",
                                    "prd_start_dt": "2011-07-01",
                                    "prd_end_dt": "2007-12-28"
                                },
                                {
                                    "prd_id": "219",
                                    "prd_key": "SO-B909-L",
                                    "cat_id": "CL_SO",
                                    "prd_nm": "Mountain Bike Socks- L",
                                    "prd_cost": "3",
                                    "prd_line": "M ",
                                    "prd_start_dt": "2011-07-01",
                                    "prd_end_dt": "2007-12-28"
                                },
                                {
                                    "prd_id": "238",
                                    "prd_key": "FR-R92R-62",
                                    "cat_id": "CO_RF",
                                    "prd_nm": "HL Road Frame - Red- 62",
                                    "prd_cost": "748",
                                    "prd_line": "R ",
                                    "prd_start_dt": "2011-07-01",
                                    "prd_end_dt": "2007-12-28"
                                }
                            ]
                        },
                        "text/html": [
                            "<table>",
                            "<tr><th>prd_id</th><th>prd_key</th><th>cat_id</th><th>prd_key</th><th>prd_nm</th><th>prd_cost</th><th>prd_line</th><th>prd_start_dt</th><th>prd_end_dt</th></tr>",
                            "<tr><td>210</td><td>CO-RF-FR-R92B-58</td><td>CO_RF</td><td>FR-R92B-58</td><td>HL Road Frame - Black- 58</td><td>NULL</td><td>R </td><td>2003-07-01</td><td>NULL</td></tr>",
                            "<tr><td>211</td><td>CO-RF-FR-R92R-58</td><td>CO_RF</td><td>FR-R92R-58</td><td>HL Road Frame - Red- 58</td><td>NULL</td><td>R </td><td>2003-07-01</td><td>NULL</td></tr>",
                            "<tr><td>218</td><td>CL-SO-SO-B909-M</td><td>CL_SO</td><td>SO-B909-M</td><td>Mountain Bike Socks- M</td><td>3</td><td>M </td><td>2011-07-01</td><td>2007-12-28</td></tr>",
                            "<tr><td>219</td><td>CL-SO-SO-B909-L</td><td>CL_SO</td><td>SO-B909-L</td><td>Mountain Bike Socks- L</td><td>3</td><td>M </td><td>2011-07-01</td><td>2007-12-28</td></tr>",
                            "<tr><td>238</td><td>CO-RF-FR-R92R-62</td><td>CO_RF</td><td>FR-R92R-62</td><td>HL Road Frame - Red- 62</td><td>748</td><td>R </td><td>2011-07-01</td><td>2007-12-28</td></tr>",
                            "</table>"
                        ]
                    }
                }
            ],
            "execution_count": 79
        },
        {
            "cell_type": "code",
            "source": [
                "-- 165 Items found that are not sold yet\n",
                "WITH UnsoldProducts AS (\n",
                "    SELECT\n",
                "        prd_id,\n",
                "        prd_key,\n",
                "        REPLACE(SUBSTRING(prd_key, 1, 5), '-', '_') AS cat_id,\n",
                "        SUBSTRING(prd_key, 7, LEN(prd_key)) AS prod_key,\n",
                "        prd_nm,\n",
                "        prd_cost,\n",
                "        prd_line,\n",
                "        prd_start_dt,\n",
                "        prd_end_dt\n",
                "    FROM bronze.crm_prd_info\n",
                "    WHERE SUBSTRING(prd_key, 7, LEN(prd_key)) NOT IN (\n",
                "        SELECT sls_prd_key \n",
                "        FROM bronze.crm_sales_details\n",
                "    )\n",
                ")\n",
                "SELECT DISTINCT TOP 5 prod_key -- COUNT(DISTINCT prod_key)\n",
                "FROM UnsoldProducts;"
            ],
            "metadata": {
                "language": "sql",
                "azdata_cell_guid": "e0913152-75ac-4f01-85a2-86c8d3c2f034"
            },
            "outputs": [
                {
                    "output_type": "display_data",
                    "data": {
                        "text/html": "(5 rows affected)"
                    },
                    "metadata": {}
                },
                {
                    "output_type": "display_data",
                    "data": {
                        "text/html": "Total execution time: 00:00:00.140"
                    },
                    "metadata": {}
                },
                {
                    "output_type": "execute_result",
                    "metadata": {},
                    "execution_count": 75,
                    "data": {
                        "application/vnd.dataresource+json": {
                            "schema": {
                                "fields": [
                                    {
                                        "name": "prod_key"
                                    }
                                ]
                            },
                            "data": [
                                {
                                    "prod_key": "FR-R92B-58"
                                },
                                {
                                    "prod_key": "FR-R92R-58"
                                },
                                {
                                    "prod_key": "SO-B909-M"
                                },
                                {
                                    "prod_key": "SO-B909-L"
                                },
                                {
                                    "prod_key": "FR-R92R-62"
                                }
                            ]
                        },
                        "text/html": [
                            "<table>",
                            "<tr><th>prod_key</th></tr>",
                            "<tr><td>FR-R92B-58</td></tr>",
                            "<tr><td>FR-R92R-58</td></tr>",
                            "<tr><td>SO-B909-M</td></tr>",
                            "<tr><td>SO-B909-L</td></tr>",
                            "<tr><td>FR-R92R-62</td></tr>",
                            "</table>"
                        ]
                    }
                }
            ],
            "execution_count": 75
        },
        {
            "cell_type": "code",
            "source": [
                "-- Now let's check which producs are in sales_details table but not in prd_info\n",
                "-- No records returned\n",
                "-- Okay. Now we are sure that the discrepency is actually because that some items are not sold\n",
                "\n",
                "SELECT \n",
                "    sls_prd_key\n",
                "FROM bronze.crm_sales_details\n",
                "WHERE sls_prd_key NOT IN (\n",
                "    SELECT SUBSTRING(prd_key, 7, LEN(prd_key))\n",
                "    FROM bronze.crm_prd_info\n",
                ");"
            ],
            "metadata": {
                "language": "sql",
                "azdata_cell_guid": "eb3aebca-bf61-403f-a6f6-a1ade3802e58"
            },
            "outputs": [
                {
                    "output_type": "display_data",
                    "data": {
                        "text/html": "(0 rows affected)"
                    },
                    "metadata": {}
                },
                {
                    "output_type": "display_data",
                    "data": {
                        "text/html": "Total execution time: 00:00:00.084"
                    },
                    "metadata": {}
                },
                {
                    "output_type": "execute_result",
                    "metadata": {},
                    "execution_count": 82,
                    "data": {
                        "application/vnd.dataresource+json": {
                            "schema": {
                                "fields": [
                                    {
                                        "name": "sls_prd_key"
                                    }
                                ]
                            },
                            "data": []
                        },
                        "text/html": [
                            "<table>",
                            "<tr><th>sls_prd_key</th></tr>",
                            "</table>"
                        ]
                    }
                }
            ],
            "execution_count": 82
        },
        {
            "cell_type": "code",
            "source": [
                "-- Let's move on to product name and check for unwanted spaces\n",
                "-- It is fine\n",
                "SELECT prd_nm \n",
                "FROM bronze. crm_prd_info \n",
                "WHERE prd_nm != TRIM(prd_nm)"
            ],
            "metadata": {
                "language": "sql",
                "azdata_cell_guid": "0a5a357e-b799-455d-9302-48b09221efe1"
            },
            "outputs": [
                {
                    "output_type": "display_data",
                    "data": {
                        "text/html": "(0 rows affected)"
                    },
                    "metadata": {}
                },
                {
                    "output_type": "display_data",
                    "data": {
                        "text/html": "Total execution time: 00:00:00.012"
                    },
                    "metadata": {}
                },
                {
                    "output_type": "execute_result",
                    "metadata": {},
                    "execution_count": 83,
                    "data": {
                        "application/vnd.dataresource+json": {
                            "schema": {
                                "fields": [
                                    {
                                        "name": "prd_nm"
                                    }
                                ]
                            },
                            "data": []
                        },
                        "text/html": [
                            "<table>",
                            "<tr><th>prd_nm</th></tr>",
                            "</table>"
                        ]
                    }
                }
            ],
            "execution_count": 83
        },
        {
            "cell_type": "code",
            "source": [
                "-- For Product cost, we can check for NULL and negative values\n",
                "SELECT *\n",
                "FROM bronze.crm_prd_info \n",
                "WHERE prd_cost < 0 OR prd_cost IS NULL"
            ],
            "metadata": {
                "language": "sql",
                "azdata_cell_guid": "7eb60cc6-baeb-4280-9b66-635eef345d66"
            },
            "outputs": [
                {
                    "output_type": "display_data",
                    "data": {
                        "text/html": "(2 rows affected)"
                    },
                    "metadata": {}
                },
                {
                    "output_type": "display_data",
                    "data": {
                        "text/html": "Total execution time: 00:00:00.007"
                    },
                    "metadata": {}
                },
                {
                    "output_type": "execute_result",
                    "metadata": {},
                    "execution_count": 85,
                    "data": {
                        "application/vnd.dataresource+json": {
                            "schema": {
                                "fields": [
                                    {
                                        "name": "prd_id"
                                    },
                                    {
                                        "name": "prd_key"
                                    },
                                    {
                                        "name": "prd_nm"
                                    },
                                    {
                                        "name": "prd_cost"
                                    },
                                    {
                                        "name": "prd_line"
                                    },
                                    {
                                        "name": "prd_start_dt"
                                    },
                                    {
                                        "name": "prd_end_dt"
                                    }
                                ]
                            },
                            "data": [
                                {
                                    "prd_id": "210",
                                    "prd_key": "CO-RF-FR-R92B-58",
                                    "prd_nm": "HL Road Frame - Black- 58",
                                    "prd_cost": "NULL",
                                    "prd_line": "R ",
                                    "prd_start_dt": "2003-07-01",
                                    "prd_end_dt": "NULL"
                                },
                                {
                                    "prd_id": "211",
                                    "prd_key": "CO-RF-FR-R92R-58",
                                    "prd_nm": "HL Road Frame - Red- 58",
                                    "prd_cost": "NULL",
                                    "prd_line": "R ",
                                    "prd_start_dt": "2003-07-01",
                                    "prd_end_dt": "NULL"
                                }
                            ]
                        },
                        "text/html": [
                            "<table>",
                            "<tr><th>prd_id</th><th>prd_key</th><th>prd_nm</th><th>prd_cost</th><th>prd_line</th><th>prd_start_dt</th><th>prd_end_dt</th></tr>",
                            "<tr><td>210</td><td>CO-RF-FR-R92B-58</td><td>HL Road Frame - Black- 58</td><td>NULL</td><td>R </td><td>2003-07-01</td><td>NULL</td></tr>",
                            "<tr><td>211</td><td>CO-RF-FR-R92R-58</td><td>HL Road Frame - Red- 58</td><td>NULL</td><td>R </td><td>2003-07-01</td><td>NULL</td></tr>",
                            "</table>"
                        ]
                    }
                }
            ],
            "execution_count": 85
        },
        {
            "cell_type": "code",
            "source": [
                "-- We have only NULL issues that I will replace by 0 in this case, to not mess up with aggregations like avg later on.\n",
                "SELECT ISNULL (prd_cost, 0) AS prd_cost\n",
                "FROM bronze.crm_prd_info \n",
                "WHERE prd_cost < 0 OR prd_cost IS NULL"
            ],
            "metadata": {
                "language": "sql",
                "azdata_cell_guid": "720c91f4-9340-41dd-b91f-92bf19c04be7"
            },
            "outputs": [
                {
                    "output_type": "display_data",
                    "data": {
                        "text/html": "(2 rows affected)"
                    },
                    "metadata": {}
                },
                {
                    "output_type": "display_data",
                    "data": {
                        "text/html": "Total execution time: 00:00:00.009"
                    },
                    "metadata": {}
                },
                {
                    "output_type": "execute_result",
                    "metadata": {},
                    "execution_count": 87,
                    "data": {
                        "application/vnd.dataresource+json": {
                            "schema": {
                                "fields": [
                                    {
                                        "name": "prd_cost"
                                    }
                                ]
                            },
                            "data": [
                                {
                                    "prd_cost": "0"
                                },
                                {
                                    "prd_cost": "0"
                                }
                            ]
                        },
                        "text/html": [
                            "<table>",
                            "<tr><th>prd_cost</th></tr>",
                            "<tr><td>0</td></tr>",
                            "<tr><td>0</td></tr>",
                            "</table>"
                        ]
                    }
                }
            ],
            "execution_count": 87
        },
        {
            "cell_type": "code",
            "source": [
                "-- Moving on to product line column\n",
                "SELECT DISTINCT prd_line \n",
                "FROM bronze.crm_prd_info"
            ],
            "metadata": {
                "language": "sql",
                "azdata_cell_guid": "f7582179-0856-4c42-b567-a2a8dff181ed"
            },
            "outputs": [
                {
                    "output_type": "display_data",
                    "data": {
                        "text/html": "(5 rows affected)"
                    },
                    "metadata": {}
                },
                {
                    "output_type": "display_data",
                    "data": {
                        "text/html": "Total execution time: 00:00:00.028"
                    },
                    "metadata": {}
                },
                {
                    "output_type": "execute_result",
                    "metadata": {},
                    "execution_count": 88,
                    "data": {
                        "application/vnd.dataresource+json": {
                            "schema": {
                                "fields": [
                                    {
                                        "name": "prd_line"
                                    }
                                ]
                            },
                            "data": [
                                {
                                    "prd_line": "NULL"
                                },
                                {
                                    "prd_line": "M "
                                },
                                {
                                    "prd_line": "R "
                                },
                                {
                                    "prd_line": "S "
                                },
                                {
                                    "prd_line": "T "
                                }
                            ]
                        },
                        "text/html": [
                            "<table>",
                            "<tr><th>prd_line</th></tr>",
                            "<tr><td>NULL</td></tr>",
                            "<tr><td>M </td></tr>",
                            "<tr><td>R </td></tr>",
                            "<tr><td>S </td></tr>",
                            "<tr><td>T </td></tr>",
                            "</table>"
                        ]
                    }
                }
            ],
            "execution_count": 88
        },
        {
            "cell_type": "code",
            "source": [
                "-- Data Standardization & Consistency\n",
                "-- We can replace them with more descriptive values with the insights gained by looking at product name\n",
                "-- Also, NULL values will be replaced by 'Unknown'\n",
                "\n",
                "SELECT DISTINCT\n",
                "    CASE UPPER(TRIM(prd_line))\n",
                "        WHEN 'M' THEN 'Mountain'\n",
                "        WHEN 'R' THEN 'Road'\n",
                "        WHEN 'S' THEN 'Other Sales'\n",
                "        WHEN 'T' THEN 'Touring'\n",
                "        ELSE 'Unknown'\n",
                "    END AS prd_line\n",
                "FROM bronze.crm_prd_info;"
            ],
            "metadata": {
                "language": "sql",
                "azdata_cell_guid": "4f71134a-1a52-454e-b9b9-e2d7f147f668"
            },
            "outputs": [
                {
                    "output_type": "display_data",
                    "data": {
                        "text/html": "(5 rows affected)"
                    },
                    "metadata": {}
                },
                {
                    "output_type": "display_data",
                    "data": {
                        "text/html": "Total execution time: 00:00:00.010"
                    },
                    "metadata": {}
                },
                {
                    "output_type": "execute_result",
                    "metadata": {},
                    "execution_count": 91,
                    "data": {
                        "application/vnd.dataresource+json": {
                            "schema": {
                                "fields": [
                                    {
                                        "name": "prd_line"
                                    }
                                ]
                            },
                            "data": [
                                {
                                    "prd_line": "Mountain"
                                },
                                {
                                    "prd_line": "Other Sales"
                                },
                                {
                                    "prd_line": "Road"
                                },
                                {
                                    "prd_line": "Touring"
                                },
                                {
                                    "prd_line": "Unknown"
                                }
                            ]
                        },
                        "text/html": [
                            "<table>",
                            "<tr><th>prd_line</th></tr>",
                            "<tr><td>Mountain</td></tr>",
                            "<tr><td>Other Sales</td></tr>",
                            "<tr><td>Road</td></tr>",
                            "<tr><td>Touring</td></tr>",
                            "<tr><td>Unknown</td></tr>",
                            "</table>"
                        ]
                    }
                }
            ],
            "execution_count": 91
        },
        {
            "cell_type": "code",
            "source": [
                "-- Moving on to start date and end date\n",
                "-- This two columns show the time period that a certain product was at a certain price\n",
                "-- So in this table we have a history of products' cost (price)\n",
                "\n",
                "-- The main issue here is that the start date is older than end date, which makes no sense.\n",
                "SELECT TOP 5\n",
                "* \n",
                "FROM bronze.crm_prd_info"
            ],
            "metadata": {
                "language": "sql",
                "azdata_cell_guid": "2e839ef0-d79b-4e96-ac57-44916c30db5f"
            },
            "outputs": [
                {
                    "output_type": "display_data",
                    "data": {
                        "text/html": "(5 rows affected)"
                    },
                    "metadata": {}
                },
                {
                    "output_type": "display_data",
                    "data": {
                        "text/html": "Total execution time: 00:00:00.008"
                    },
                    "metadata": {}
                },
                {
                    "output_type": "execute_result",
                    "metadata": {},
                    "execution_count": 93,
                    "data": {
                        "application/vnd.dataresource+json": {
                            "schema": {
                                "fields": [
                                    {
                                        "name": "prd_id"
                                    },
                                    {
                                        "name": "prd_key"
                                    },
                                    {
                                        "name": "prd_nm"
                                    },
                                    {
                                        "name": "prd_cost"
                                    },
                                    {
                                        "name": "prd_line"
                                    },
                                    {
                                        "name": "prd_start_dt"
                                    },
                                    {
                                        "name": "prd_end_dt"
                                    }
                                ]
                            },
                            "data": [
                                {
                                    "prd_id": "210",
                                    "prd_key": "CO-RF-FR-R92B-58",
                                    "prd_nm": "HL Road Frame - Black- 58",
                                    "prd_cost": "NULL",
                                    "prd_line": "R ",
                                    "prd_start_dt": "2003-07-01",
                                    "prd_end_dt": "NULL"
                                },
                                {
                                    "prd_id": "211",
                                    "prd_key": "CO-RF-FR-R92R-58",
                                    "prd_nm": "HL Road Frame - Red- 58",
                                    "prd_cost": "NULL",
                                    "prd_line": "R ",
                                    "prd_start_dt": "2003-07-01",
                                    "prd_end_dt": "NULL"
                                },
                                {
                                    "prd_id": "212",
                                    "prd_key": "AC-HE-HL-U509-R",
                                    "prd_nm": "Sport-100 Helmet- Red",
                                    "prd_cost": "12",
                                    "prd_line": "S ",
                                    "prd_start_dt": "2011-07-01",
                                    "prd_end_dt": "2007-12-28"
                                },
                                {
                                    "prd_id": "213",
                                    "prd_key": "AC-HE-HL-U509-R",
                                    "prd_nm": "Sport-100 Helmet- Red",
                                    "prd_cost": "14",
                                    "prd_line": "S ",
                                    "prd_start_dt": "2012-07-01",
                                    "prd_end_dt": "2008-12-27"
                                },
                                {
                                    "prd_id": "214",
                                    "prd_key": "AC-HE-HL-U509-R",
                                    "prd_nm": "Sport-100 Helmet- Red",
                                    "prd_cost": "13",
                                    "prd_line": "S ",
                                    "prd_start_dt": "2013-07-01",
                                    "prd_end_dt": "NULL"
                                }
                            ]
                        },
                        "text/html": [
                            "<table>",
                            "<tr><th>prd_id</th><th>prd_key</th><th>prd_nm</th><th>prd_cost</th><th>prd_line</th><th>prd_start_dt</th><th>prd_end_dt</th></tr>",
                            "<tr><td>210</td><td>CO-RF-FR-R92B-58</td><td>HL Road Frame - Black- 58</td><td>NULL</td><td>R </td><td>2003-07-01</td><td>NULL</td></tr>",
                            "<tr><td>211</td><td>CO-RF-FR-R92R-58</td><td>HL Road Frame - Red- 58</td><td>NULL</td><td>R </td><td>2003-07-01</td><td>NULL</td></tr>",
                            "<tr><td>212</td><td>AC-HE-HL-U509-R</td><td>Sport-100 Helmet- Red</td><td>12</td><td>S </td><td>2011-07-01</td><td>2007-12-28</td></tr>",
                            "<tr><td>213</td><td>AC-HE-HL-U509-R</td><td>Sport-100 Helmet- Red</td><td>14</td><td>S </td><td>2012-07-01</td><td>2008-12-27</td></tr>",
                            "<tr><td>214</td><td>AC-HE-HL-U509-R</td><td>Sport-100 Helmet- Red</td><td>13</td><td>S </td><td>2013-07-01</td><td>NULL</td></tr>",
                            "</table>"
                        ]
                    }
                }
            ],
            "execution_count": 93
        },
        {
            "cell_type": "code",
            "source": [
                "-- I will fix the issue using this logic (End Date = Start Date of the NEXT Record -1) to make sure there is no overlap\n",
                "-- Let's focus on an example\n",
                "SELECT \n",
                "    prd_id,\n",
                "    prd_key,\n",
                "    prd_nm,\n",
                "    prd_start_dt,\n",
                "    prd_end_dt,\n",
                "    DATEADD(day, -1, LEAD(prd_start_dt) OVER (PARTITION BY prd_key ORDER BY prd_start_dt)) AS prd_end_dt_test\n",
                "FROM bronze.crm_prd_info\n",
                "WHERE prd_key IN ('AC-HE-HL-U509-R', 'AC-HE-HL-U509');"
            ],
            "metadata": {
                "language": "sql",
                "azdata_cell_guid": "dde96e4e-a243-4e8c-8b4a-2ed69d14c352"
            },
            "outputs": [
                {
                    "output_type": "display_data",
                    "data": {
                        "text/html": "(6 rows affected)"
                    },
                    "metadata": {}
                },
                {
                    "output_type": "display_data",
                    "data": {
                        "text/html": "Total execution time: 00:00:00.022"
                    },
                    "metadata": {}
                },
                {
                    "output_type": "execute_result",
                    "metadata": {},
                    "execution_count": 98,
                    "data": {
                        "application/vnd.dataresource+json": {
                            "schema": {
                                "fields": [
                                    {
                                        "name": "prd_id"
                                    },
                                    {
                                        "name": "prd_key"
                                    },
                                    {
                                        "name": "prd_nm"
                                    },
                                    {
                                        "name": "prd_start_dt"
                                    },
                                    {
                                        "name": "prd_end_dt"
                                    },
                                    {
                                        "name": "prd_end_dt_test"
                                    }
                                ]
                            },
                            "data": [
                                {
                                    "prd_id": "215",
                                    "prd_key": "AC-HE-HL-U509",
                                    "prd_nm": "Sport-100 Helmet- Black",
                                    "prd_start_dt": "2011-07-01",
                                    "prd_end_dt": "2007-12-28",
                                    "prd_end_dt_test": "2012-06-30"
                                },
                                {
                                    "prd_id": "216",
                                    "prd_key": "AC-HE-HL-U509",
                                    "prd_nm": "Sport-100 Helmet- Black",
                                    "prd_start_dt": "2012-07-01",
                                    "prd_end_dt": "2008-12-27",
                                    "prd_end_dt_test": "2013-06-30"
                                },
                                {
                                    "prd_id": "217",
                                    "prd_key": "AC-HE-HL-U509",
                                    "prd_nm": "Sport-100 Helmet- Black",
                                    "prd_start_dt": "2013-07-01",
                                    "prd_end_dt": "NULL",
                                    "prd_end_dt_test": "NULL"
                                },
                                {
                                    "prd_id": "212",
                                    "prd_key": "AC-HE-HL-U509-R",
                                    "prd_nm": "Sport-100 Helmet- Red",
                                    "prd_start_dt": "2011-07-01",
                                    "prd_end_dt": "2007-12-28",
                                    "prd_end_dt_test": "2012-06-30"
                                },
                                {
                                    "prd_id": "213",
                                    "prd_key": "AC-HE-HL-U509-R",
                                    "prd_nm": "Sport-100 Helmet- Red",
                                    "prd_start_dt": "2012-07-01",
                                    "prd_end_dt": "2008-12-27",
                                    "prd_end_dt_test": "2013-06-30"
                                },
                                {
                                    "prd_id": "214",
                                    "prd_key": "AC-HE-HL-U509-R",
                                    "prd_nm": "Sport-100 Helmet- Red",
                                    "prd_start_dt": "2013-07-01",
                                    "prd_end_dt": "NULL",
                                    "prd_end_dt_test": "NULL"
                                }
                            ]
                        },
                        "text/html": [
                            "<table>",
                            "<tr><th>prd_id</th><th>prd_key</th><th>prd_nm</th><th>prd_start_dt</th><th>prd_end_dt</th><th>prd_end_dt_test</th></tr>",
                            "<tr><td>215</td><td>AC-HE-HL-U509</td><td>Sport-100 Helmet- Black</td><td>2011-07-01</td><td>2007-12-28</td><td>2012-06-30</td></tr>",
                            "<tr><td>216</td><td>AC-HE-HL-U509</td><td>Sport-100 Helmet- Black</td><td>2012-07-01</td><td>2008-12-27</td><td>2013-06-30</td></tr>",
                            "<tr><td>217</td><td>AC-HE-HL-U509</td><td>Sport-100 Helmet- Black</td><td>2013-07-01</td><td>NULL</td><td>NULL</td></tr>",
                            "<tr><td>212</td><td>AC-HE-HL-U509-R</td><td>Sport-100 Helmet- Red</td><td>2011-07-01</td><td>2007-12-28</td><td>2012-06-30</td></tr>",
                            "<tr><td>213</td><td>AC-HE-HL-U509-R</td><td>Sport-100 Helmet- Red</td><td>2012-07-01</td><td>2008-12-27</td><td>2013-06-30</td></tr>",
                            "<tr><td>214</td><td>AC-HE-HL-U509-R</td><td>Sport-100 Helmet- Red</td><td>2013-07-01</td><td>NULL</td><td>NULL</td></tr>",
                            "</table>"
                        ]
                    }
                }
            ],
            "execution_count": 98
        },
        {
            "cell_type": "markdown",
            "source": [
                "## Table: crm_sales_details"
            ],
            "metadata": {
                "language": "sql",
                "azdata_cell_guid": "093b1209-92ab-4593-882d-f0e23ec496d7"
            },
            "attachments": {}
        },
        {
            "cell_type": "markdown",
            "source": [
                "| Problem                                                      | Solution                                                                 | Notes                                                                                                           | Columns Targeted         |\n",
                "|--------------------------------------------------------------|--------------------------------------------------------------------------|---------------------------------------------------------------------------------------------------------------|--------------------------|\n",
                "| An invalid date inserted by mistake (out of business boundaries) | Replaced by `NULL`                                                     | `'CASE WHEN'` statement and arbitrary placeholders for boundaries are used to convert the invalid date into `NULL`. | sls_order_dt            |\n",
                "| Nonpositive and NULL values in sales price and sales amount  | Business logic is utilized to fix the wrong values using the other two values in several possible scenarios (i.e., `sales_amount = quantity * price`) | `'CASE WHEN'`, `ABS()`, and `NULLIF()` are used.                                                        | sls_sales, sls_quantity, sls_price |\n",
                ""
            ],
            "metadata": {
                "language": "sql",
                "azdata_cell_guid": "f8843dd5-0de6-4abe-b1d1-26c7f500c348"
            },
            "attachments": {}
        },
        {
            "cell_type": "code",
            "source": [
                "-- Preview\n",
                "SELECT TOP 10 * FROM bronze.crm_sales_details;"
            ],
            "metadata": {
                "language": "sql",
                "azdata_cell_guid": "13b4abe2-7729-4506-9089-dc53d4c2249a"
            },
            "outputs": [
                {
                    "output_type": "display_data",
                    "data": {
                        "text/html": "(10 rows affected)"
                    },
                    "metadata": {}
                },
                {
                    "output_type": "display_data",
                    "data": {
                        "text/html": "Total execution time: 00:00:00.003"
                    },
                    "metadata": {}
                },
                {
                    "output_type": "execute_result",
                    "metadata": {},
                    "execution_count": 128,
                    "data": {
                        "application/vnd.dataresource+json": {
                            "schema": {
                                "fields": [
                                    {
                                        "name": "sls_ord_num"
                                    },
                                    {
                                        "name": "sls_prd_key"
                                    },
                                    {
                                        "name": "sls_cust_id"
                                    },
                                    {
                                        "name": "sls_sales"
                                    },
                                    {
                                        "name": "sls_quantity"
                                    },
                                    {
                                        "name": "sls_price"
                                    },
                                    {
                                        "name": "sls_order_dt"
                                    },
                                    {
                                        "name": "sls_ship_dt"
                                    },
                                    {
                                        "name": "sls_due_dt"
                                    }
                                ]
                            },
                            "data": [
                                {
                                    "sls_ord_num": "SO43697",
                                    "sls_prd_key": "BK-R93R-62",
                                    "sls_cust_id": "21768",
                                    "sls_sales": "3578",
                                    "sls_quantity": "1",
                                    "sls_price": "3578",
                                    "sls_order_dt": "2010-12-29",
                                    "sls_ship_dt": "2011-01-05",
                                    "sls_due_dt": "2011-01-10"
                                },
                                {
                                    "sls_ord_num": "SO43698",
                                    "sls_prd_key": "BK-M82S-44",
                                    "sls_cust_id": "28389",
                                    "sls_sales": "3400",
                                    "sls_quantity": "1",
                                    "sls_price": "3400",
                                    "sls_order_dt": "2010-12-29",
                                    "sls_ship_dt": "2011-01-05",
                                    "sls_due_dt": "2011-01-10"
                                },
                                {
                                    "sls_ord_num": "SO43699",
                                    "sls_prd_key": "BK-M82S-44",
                                    "sls_cust_id": "25863",
                                    "sls_sales": "3400",
                                    "sls_quantity": "1",
                                    "sls_price": "3400",
                                    "sls_order_dt": "2010-12-29",
                                    "sls_ship_dt": "2011-01-05",
                                    "sls_due_dt": "2011-01-10"
                                },
                                {
                                    "sls_ord_num": "SO43700",
                                    "sls_prd_key": "BK-R50B-62",
                                    "sls_cust_id": "14501",
                                    "sls_sales": "699",
                                    "sls_quantity": "1",
                                    "sls_price": "699",
                                    "sls_order_dt": "2010-12-29",
                                    "sls_ship_dt": "2011-01-05",
                                    "sls_due_dt": "2011-01-10"
                                },
                                {
                                    "sls_ord_num": "SO43701",
                                    "sls_prd_key": "BK-M82S-44",
                                    "sls_cust_id": "11003",
                                    "sls_sales": "3400",
                                    "sls_quantity": "1",
                                    "sls_price": "3400",
                                    "sls_order_dt": "2010-12-29",
                                    "sls_ship_dt": "2011-01-05",
                                    "sls_due_dt": "2011-01-10"
                                },
                                {
                                    "sls_ord_num": "SO43702",
                                    "sls_prd_key": "BK-R93R-44",
                                    "sls_cust_id": "27645",
                                    "sls_sales": "3578",
                                    "sls_quantity": "1",
                                    "sls_price": "3578",
                                    "sls_order_dt": "2010-12-30",
                                    "sls_ship_dt": "2011-01-06",
                                    "sls_due_dt": "2011-01-11"
                                },
                                {
                                    "sls_ord_num": "SO43703",
                                    "sls_prd_key": "BK-R93R-62",
                                    "sls_cust_id": "16624",
                                    "sls_sales": "3578",
                                    "sls_quantity": "1",
                                    "sls_price": "3578",
                                    "sls_order_dt": "2010-12-30",
                                    "sls_ship_dt": "2011-01-06",
                                    "sls_due_dt": "2011-01-11"
                                },
                                {
                                    "sls_ord_num": "SO43704",
                                    "sls_prd_key": "BK-M82B-48",
                                    "sls_cust_id": "11005",
                                    "sls_sales": "3375",
                                    "sls_quantity": "1",
                                    "sls_price": "3375",
                                    "sls_order_dt": "2010-12-30",
                                    "sls_ship_dt": "2011-01-06",
                                    "sls_due_dt": "2011-01-11"
                                },
                                {
                                    "sls_ord_num": "SO43705",
                                    "sls_prd_key": "BK-M82S-38",
                                    "sls_cust_id": "11011",
                                    "sls_sales": "3400",
                                    "sls_quantity": "1",
                                    "sls_price": "3400",
                                    "sls_order_dt": "2010-12-30",
                                    "sls_ship_dt": "2011-01-06",
                                    "sls_due_dt": "2011-01-11"
                                },
                                {
                                    "sls_ord_num": "SO43706",
                                    "sls_prd_key": "BK-R93R-48",
                                    "sls_cust_id": "27621",
                                    "sls_sales": "3578",
                                    "sls_quantity": "1",
                                    "sls_price": "3578",
                                    "sls_order_dt": "2010-12-31",
                                    "sls_ship_dt": "2011-01-07",
                                    "sls_due_dt": "2011-01-12"
                                }
                            ]
                        },
                        "text/html": [
                            "<table>",
                            "<tr><th>sls_ord_num</th><th>sls_prd_key</th><th>sls_cust_id</th><th>sls_sales</th><th>sls_quantity</th><th>sls_price</th><th>sls_order_dt</th><th>sls_ship_dt</th><th>sls_due_dt</th></tr>",
                            "<tr><td>SO43697</td><td>BK-R93R-62</td><td>21768</td><td>3578</td><td>1</td><td>3578</td><td>2010-12-29</td><td>2011-01-05</td><td>2011-01-10</td></tr>",
                            "<tr><td>SO43698</td><td>BK-M82S-44</td><td>28389</td><td>3400</td><td>1</td><td>3400</td><td>2010-12-29</td><td>2011-01-05</td><td>2011-01-10</td></tr>",
                            "<tr><td>SO43699</td><td>BK-M82S-44</td><td>25863</td><td>3400</td><td>1</td><td>3400</td><td>2010-12-29</td><td>2011-01-05</td><td>2011-01-10</td></tr>",
                            "<tr><td>SO43700</td><td>BK-R50B-62</td><td>14501</td><td>699</td><td>1</td><td>699</td><td>2010-12-29</td><td>2011-01-05</td><td>2011-01-10</td></tr>",
                            "<tr><td>SO43701</td><td>BK-M82S-44</td><td>11003</td><td>3400</td><td>1</td><td>3400</td><td>2010-12-29</td><td>2011-01-05</td><td>2011-01-10</td></tr>",
                            "<tr><td>SO43702</td><td>BK-R93R-44</td><td>27645</td><td>3578</td><td>1</td><td>3578</td><td>2010-12-30</td><td>2011-01-06</td><td>2011-01-11</td></tr>",
                            "<tr><td>SO43703</td><td>BK-R93R-62</td><td>16624</td><td>3578</td><td>1</td><td>3578</td><td>2010-12-30</td><td>2011-01-06</td><td>2011-01-11</td></tr>",
                            "<tr><td>SO43704</td><td>BK-M82B-48</td><td>11005</td><td>3375</td><td>1</td><td>3375</td><td>2010-12-30</td><td>2011-01-06</td><td>2011-01-11</td></tr>",
                            "<tr><td>SO43705</td><td>BK-M82S-38</td><td>11011</td><td>3400</td><td>1</td><td>3400</td><td>2010-12-30</td><td>2011-01-06</td><td>2011-01-11</td></tr>",
                            "<tr><td>SO43706</td><td>BK-R93R-48</td><td>27621</td><td>3578</td><td>1</td><td>3578</td><td>2010-12-31</td><td>2011-01-07</td><td>2011-01-12</td></tr>",
                            "</table>"
                        ]
                    }
                }
            ],
            "execution_count": 128
        },
        {
            "cell_type": "code",
            "source": [
                "-- Check For Nulls or Duplicates in the potential Primary Key(sls_ord_num)\n",
                "-- We have many duplicates. let's take a closer look.\n",
                "\n",
                "SELECT TOP 5\n",
                "    sls_ord_num,\n",
                "    COUNT(*) AS cnt\n",
                "FROM bronze.crm_sales_details\n",
                "GROUP BY sls_ord_num\n",
                "HAVING COUNT(*) > 1 \n",
                "    OR sls_ord_num IS NULL;\n",
                "\n",
                ""
            ],
            "metadata": {
                "language": "sql",
                "azdata_cell_guid": "33bbc8b3-23ab-47ca-bf97-c896d2b2edcb"
            },
            "outputs": [
                {
                    "output_type": "display_data",
                    "data": {
                        "text/html": "(5 rows affected)"
                    },
                    "metadata": {}
                },
                {
                    "output_type": "display_data",
                    "data": {
                        "text/html": "Total execution time: 00:00:00.044"
                    },
                    "metadata": {}
                },
                {
                    "output_type": "execute_result",
                    "metadata": {},
                    "execution_count": 110,
                    "data": {
                        "application/vnd.dataresource+json": {
                            "schema": {
                                "fields": [
                                    {
                                        "name": "sls_ord_num"
                                    },
                                    {
                                        "name": "cnt"
                                    }
                                ]
                            },
                            "data": [
                                {
                                    "sls_ord_num": "SO55367",
                                    "cnt": "4"
                                },
                                {
                                    "sls_ord_num": "SO62535",
                                    "cnt": "3"
                                },
                                {
                                    "sls_ord_num": "SO64083",
                                    "cnt": "3"
                                },
                                {
                                    "sls_ord_num": "SO65048",
                                    "cnt": "2"
                                },
                                {
                                    "sls_ord_num": "SO72893",
                                    "cnt": "2"
                                }
                            ]
                        },
                        "text/html": [
                            "<table>",
                            "<tr><th>sls_ord_num</th><th>cnt</th></tr>",
                            "<tr><td>SO55367</td><td>4</td></tr>",
                            "<tr><td>SO62535</td><td>3</td></tr>",
                            "<tr><td>SO64083</td><td>3</td></tr>",
                            "<tr><td>SO65048</td><td>2</td></tr>",
                            "<tr><td>SO72893</td><td>2</td></tr>",
                            "</table>"
                        ]
                    }
                }
            ],
            "execution_count": 110
        },
        {
            "cell_type": "code",
            "source": [
                "-- It seems that sales details table is a fact table without a primary key\n",
                "-- This table captures all the sales events meaing one order number can be assoicated with diffent itmes sold\n",
                "SELECT *\n",
                "FROM bronze.crm_sales_details\n",
                "WHERE sls_ord_num = 'SO55367'"
            ],
            "metadata": {
                "language": "sql",
                "azdata_cell_guid": "1681d659-9d59-44c7-abf6-fbc4c5c2bd25"
            },
            "outputs": [
                {
                    "output_type": "display_data",
                    "data": {
                        "text/html": "(4 rows affected)"
                    },
                    "metadata": {}
                },
                {
                    "output_type": "display_data",
                    "data": {
                        "text/html": "Total execution time: 00:00:00.025"
                    },
                    "metadata": {}
                },
                {
                    "output_type": "execute_result",
                    "metadata": {},
                    "execution_count": 109,
                    "data": {
                        "application/vnd.dataresource+json": {
                            "schema": {
                                "fields": [
                                    {
                                        "name": "sls_ord_num"
                                    },
                                    {
                                        "name": "sls_prd_key"
                                    },
                                    {
                                        "name": "sls_cust_id"
                                    },
                                    {
                                        "name": "sls_sales"
                                    },
                                    {
                                        "name": "sls_quantity"
                                    },
                                    {
                                        "name": "sls_price"
                                    },
                                    {
                                        "name": "sls_order_dt"
                                    },
                                    {
                                        "name": "sls_ship_dt"
                                    },
                                    {
                                        "name": "sls_due_dt"
                                    }
                                ]
                            },
                            "data": [
                                {
                                    "sls_ord_num": "SO55367",
                                    "sls_prd_key": "TT-T092",
                                    "sls_cust_id": "17642",
                                    "sls_sales": "5",
                                    "sls_quantity": "1",
                                    "sls_price": "5",
                                    "sls_order_dt": "2013-03-30",
                                    "sls_ship_dt": "2013-04-06",
                                    "sls_due_dt": "2013-04-11"
                                },
                                {
                                    "sls_ord_num": "SO55367",
                                    "sls_prd_key": "BC-R205",
                                    "sls_cust_id": "17642",
                                    "sls_sales": "9",
                                    "sls_quantity": "1",
                                    "sls_price": "9",
                                    "sls_order_dt": "2013-03-30",
                                    "sls_ship_dt": "2013-04-06",
                                    "sls_due_dt": "2013-04-11"
                                },
                                {
                                    "sls_ord_num": "SO55367",
                                    "sls_prd_key": "WB-H098",
                                    "sls_cust_id": "17642",
                                    "sls_sales": "5",
                                    "sls_quantity": "1",
                                    "sls_price": "5",
                                    "sls_order_dt": "2013-03-30",
                                    "sls_ship_dt": "2013-04-06",
                                    "sls_due_dt": "2013-04-11"
                                },
                                {
                                    "sls_ord_num": "SO55367",
                                    "sls_prd_key": "CA-1098",
                                    "sls_cust_id": "17642",
                                    "sls_sales": "9",
                                    "sls_quantity": "1",
                                    "sls_price": "9",
                                    "sls_order_dt": "2013-03-30",
                                    "sls_ship_dt": "2013-04-06",
                                    "sls_due_dt": "2013-04-11"
                                }
                            ]
                        },
                        "text/html": [
                            "<table>",
                            "<tr><th>sls_ord_num</th><th>sls_prd_key</th><th>sls_cust_id</th><th>sls_sales</th><th>sls_quantity</th><th>sls_price</th><th>sls_order_dt</th><th>sls_ship_dt</th><th>sls_due_dt</th></tr>",
                            "<tr><td>SO55367</td><td>TT-T092</td><td>17642</td><td>5</td><td>1</td><td>5</td><td>2013-03-30</td><td>2013-04-06</td><td>2013-04-11</td></tr>",
                            "<tr><td>SO55367</td><td>BC-R205</td><td>17642</td><td>9</td><td>1</td><td>9</td><td>2013-03-30</td><td>2013-04-06</td><td>2013-04-11</td></tr>",
                            "<tr><td>SO55367</td><td>WB-H098</td><td>17642</td><td>5</td><td>1</td><td>5</td><td>2013-03-30</td><td>2013-04-06</td><td>2013-04-11</td></tr>",
                            "<tr><td>SO55367</td><td>CA-1098</td><td>17642</td><td>9</td><td>1</td><td>9</td><td>2013-03-30</td><td>2013-04-06</td><td>2013-04-11</td></tr>",
                            "</table>"
                        ]
                    }
                }
            ],
            "execution_count": 109
        },
        {
            "cell_type": "code",
            "source": [
                "-- Check for unwanted spaces\n",
                "-- It is fine\n",
                "SELECT \n",
                "    sls_ord_num\n",
                "FROM bronze.crm_sales_details\n",
                "WHERE sls_ord_num != TRIM(sls_ord_num);"
            ],
            "metadata": {
                "language": "sql",
                "azdata_cell_guid": "3e9197c6-ade3-4fc0-9d99-9421b348284f"
            },
            "outputs": [
                {
                    "output_type": "display_data",
                    "data": {
                        "text/html": "(0 rows affected)"
                    },
                    "metadata": {}
                },
                {
                    "output_type": "display_data",
                    "data": {
                        "text/html": "Total execution time: 00:00:00.027"
                    },
                    "metadata": {}
                },
                {
                    "output_type": "execute_result",
                    "metadata": {},
                    "execution_count": 111,
                    "data": {
                        "application/vnd.dataresource+json": {
                            "schema": {
                                "fields": [
                                    {
                                        "name": "sls_ord_num"
                                    }
                                ]
                            },
                            "data": []
                        },
                        "text/html": [
                            "<table>",
                            "<tr><th>sls_ord_num</th></tr>",
                            "</table>"
                        ]
                    }
                }
            ],
            "execution_count": 111
        },
        {
            "cell_type": "code",
            "source": [
                "-- sls_prd_key and sls_cust_key are the foreign keys that connect sales tables with prd_info and cust_info tables.\n",
                "-- Let's check if all of these ids exist in the other two tables for data integration purposes\n",
                "-- Yes. These two columns are perfectly fine\n",
                "\n",
                "SELECT \n",
                "    sls_ord_num,\n",
                "    sls_prd_key,\n",
                "    sls_cust_id\n",
                "FROM bronze.crm_sales_details\n",
                "WHERE sls_prd_key NOT IN (\n",
                "    SELECT SUBSTRING(prd_key, 7, LEN(prd_key))\n",
                "    FROM bronze.crm_prd_info);\n",
                "\n",
                "SELECT \n",
                "    sls_ord_num,\n",
                "    sls_prd_key,\n",
                "    sls_cust_id\n",
                "FROM bronze.crm_sales_details\n",
                "WHERE sls_cust_id NOT IN (\n",
                "    SELECT cst_id\n",
                "    FROM bronze.crm_cust_info);\n",
                ""
            ],
            "metadata": {
                "language": "sql",
                "azdata_cell_guid": "f455d5d3-c5e6-4f4d-89e8-70680faf7fcf",
                "tags": []
            },
            "outputs": [
                {
                    "output_type": "display_data",
                    "data": {
                        "text/html": "(0 rows affected)"
                    },
                    "metadata": {}
                },
                {
                    "output_type": "display_data",
                    "data": {
                        "text/html": "(0 rows affected)"
                    },
                    "metadata": {}
                },
                {
                    "output_type": "display_data",
                    "data": {
                        "text/html": "Total execution time: 00:00:00.378"
                    },
                    "metadata": {}
                },
                {
                    "output_type": "execute_result",
                    "metadata": {},
                    "execution_count": 114,
                    "data": {
                        "application/vnd.dataresource+json": {
                            "schema": {
                                "fields": [
                                    {
                                        "name": "sls_ord_num"
                                    },
                                    {
                                        "name": "sls_prd_key"
                                    },
                                    {
                                        "name": "sls_cust_id"
                                    }
                                ]
                            },
                            "data": []
                        },
                        "text/html": [
                            "<table>",
                            "<tr><th>sls_ord_num</th><th>sls_prd_key</th><th>sls_cust_id</th></tr>",
                            "</table>"
                        ]
                    }
                },
                {
                    "output_type": "execute_result",
                    "metadata": {},
                    "execution_count": 114,
                    "data": {
                        "application/vnd.dataresource+json": {
                            "schema": {
                                "fields": [
                                    {
                                        "name": "sls_ord_num"
                                    },
                                    {
                                        "name": "sls_prd_key"
                                    },
                                    {
                                        "name": "sls_cust_id"
                                    }
                                ]
                            },
                            "data": []
                        },
                        "text/html": [
                            "<table>",
                            "<tr><th>sls_ord_num</th><th>sls_prd_key</th><th>sls_cust_id</th></tr>",
                            "</table>"
                        ]
                    }
                }
            ],
            "execution_count": 114
        },
        {
            "cell_type": "code",
            "source": [
                "-- Let's check the boundries\n",
                "SELECT \n",
                "    MIN(sls_order_dt) AS MinOrderDate,\n",
                "    MAX(sls_order_dt) AS MaxOrderDate\n",
                "FROM bronze.crm_sales_details;"
            ],
            "metadata": {
                "language": "sql",
                "azdata_cell_guid": "7e61aab4-e879-49f8-9f2d-7a8224542a15"
            },
            "outputs": [
                {
                    "output_type": "display_data",
                    "data": {
                        "text/html": "Warning: Null value is eliminated by an aggregate or other SET operation."
                    },
                    "metadata": {}
                },
                {
                    "output_type": "display_data",
                    "data": {
                        "text/html": "(1 row affected)"
                    },
                    "metadata": {}
                },
                {
                    "output_type": "display_data",
                    "data": {
                        "text/html": "Total execution time: 00:00:00.031"
                    },
                    "metadata": {}
                },
                {
                    "output_type": "execute_result",
                    "metadata": {},
                    "execution_count": 117,
                    "data": {
                        "application/vnd.dataresource+json": {
                            "schema": {
                                "fields": [
                                    {
                                        "name": "MinOrderDate"
                                    },
                                    {
                                        "name": "MaxOrderDate"
                                    }
                                ]
                            },
                            "data": [
                                {
                                    "MinOrderDate": "2010-12-29",
                                    "MaxOrderDate": "5489-01-01"
                                }
                            ]
                        },
                        "text/html": [
                            "<table>",
                            "<tr><th>MinOrderDate</th><th>MaxOrderDate</th></tr>",
                            "<tr><td>2010-12-29</td><td>5489-01-01</td></tr>",
                            "</table>"
                        ]
                    }
                }
            ],
            "execution_count": 117
        },
        {
            "cell_type": "code",
            "source": [
                "-- The max date is wrong\n",
                "-- let's sort the table by latest order date for further investigation\n",
                "-- OK. Just one record is inserted by mistake. I will replace it with NULL\n",
                "SELECT TOP 5 \n",
                "* \n",
                "FROM bronze.crm_sales_details\n",
                "ORDER BY sls_order_dt DESC;"
            ],
            "metadata": {
                "language": "sql",
                "azdata_cell_guid": "af6f5196-d9de-4783-a409-eaa640cff35a"
            },
            "outputs": [
                {
                    "output_type": "display_data",
                    "data": {
                        "text/html": "(5 rows affected)"
                    },
                    "metadata": {}
                },
                {
                    "output_type": "display_data",
                    "data": {
                        "text/html": "Total execution time: 00:00:00.079"
                    },
                    "metadata": {}
                },
                {
                    "output_type": "execute_result",
                    "metadata": {},
                    "execution_count": 126,
                    "data": {
                        "application/vnd.dataresource+json": {
                            "schema": {
                                "fields": [
                                    {
                                        "name": "sls_ord_num"
                                    },
                                    {
                                        "name": "sls_prd_key"
                                    },
                                    {
                                        "name": "sls_cust_id"
                                    },
                                    {
                                        "name": "sls_sales"
                                    },
                                    {
                                        "name": "sls_quantity"
                                    },
                                    {
                                        "name": "sls_price"
                                    },
                                    {
                                        "name": "sls_order_dt"
                                    },
                                    {
                                        "name": "sls_ship_dt"
                                    },
                                    {
                                        "name": "sls_due_dt"
                                    }
                                ]
                            },
                            "data": [
                                {
                                    "sls_ord_num": "SO69215",
                                    "sls_prd_key": "TT-M928",
                                    "sls_cust_id": "16864",
                                    "sls_sales": "5",
                                    "sls_quantity": "1",
                                    "sls_price": "5",
                                    "sls_order_dt": "5489-01-01",
                                    "sls_ship_dt": "2013-11-02",
                                    "sls_due_dt": "2013-11-07"
                                },
                                {
                                    "sls_ord_num": "SO75084",
                                    "sls_prd_key": "RA-H123",
                                    "sls_cust_id": "11078",
                                    "sls_sales": "120",
                                    "sls_quantity": "1",
                                    "sls_price": "120",
                                    "sls_order_dt": "2014-01-28",
                                    "sls_ship_dt": "2014-02-04",
                                    "sls_due_dt": "2014-02-09"
                                },
                                {
                                    "sls_ord_num": "SO75085",
                                    "sls_prd_key": "CA-1098",
                                    "sls_cust_id": "11927",
                                    "sls_sales": "9",
                                    "sls_quantity": "1",
                                    "sls_price": "9",
                                    "sls_order_dt": "2014-01-28",
                                    "sls_ship_dt": "2014-02-04",
                                    "sls_due_dt": "2014-02-09"
                                },
                                {
                                    "sls_ord_num": "SO75085",
                                    "sls_prd_key": "CL-9009",
                                    "sls_cust_id": "11927",
                                    "sls_sales": "8",
                                    "sls_quantity": "1",
                                    "sls_price": "8",
                                    "sls_order_dt": "2014-01-28",
                                    "sls_ship_dt": "2014-02-04",
                                    "sls_due_dt": "2014-02-09"
                                },
                                {
                                    "sls_ord_num": "SO75086",
                                    "sls_prd_key": "CL-9009",
                                    "sls_cust_id": "28789",
                                    "sls_sales": "8",
                                    "sls_quantity": "1",
                                    "sls_price": "8",
                                    "sls_order_dt": "2014-01-28",
                                    "sls_ship_dt": "2014-02-04",
                                    "sls_due_dt": "2014-02-09"
                                }
                            ]
                        },
                        "text/html": [
                            "<table>",
                            "<tr><th>sls_ord_num</th><th>sls_prd_key</th><th>sls_cust_id</th><th>sls_sales</th><th>sls_quantity</th><th>sls_price</th><th>sls_order_dt</th><th>sls_ship_dt</th><th>sls_due_dt</th></tr>",
                            "<tr><td>SO69215</td><td>TT-M928</td><td>16864</td><td>5</td><td>1</td><td>5</td><td>5489-01-01</td><td>2013-11-02</td><td>2013-11-07</td></tr>",
                            "<tr><td>SO75084</td><td>RA-H123</td><td>11078</td><td>120</td><td>1</td><td>120</td><td>2014-01-28</td><td>2014-02-04</td><td>2014-02-09</td></tr>",
                            "<tr><td>SO75085</td><td>CA-1098</td><td>11927</td><td>9</td><td>1</td><td>9</td><td>2014-01-28</td><td>2014-02-04</td><td>2014-02-09</td></tr>",
                            "<tr><td>SO75085</td><td>CL-9009</td><td>11927</td><td>8</td><td>1</td><td>8</td><td>2014-01-28</td><td>2014-02-04</td><td>2014-02-09</td></tr>",
                            "<tr><td>SO75086</td><td>CL-9009</td><td>28789</td><td>8</td><td>1</td><td>8</td><td>2014-01-28</td><td>2014-02-04</td><td>2014-02-09</td></tr>",
                            "</table>"
                        ]
                    }
                }
            ],
            "execution_count": 126
        },
        {
            "cell_type": "code",
            "source": [
                "-- Check for Invalid Dates\n",
                "-- '2100-01-01' and '1900-01-01' used as place holders that need to be discussed\n",
                "SELECT TOP 5\n",
                "    sls_order_dt,\n",
                "    CASE \n",
                "        WHEN sls_order_dt < '1900-01-01'\n",
                "             OR sls_order_dt > '2100-01-01' \n",
                "        THEN NULL\n",
                "        ELSE sls_order_dt\n",
                "    END AS validated_order_dt\n",
                "FROM bronze.crm_sales_details\n",
                "ORDER BY sls_order_dt DESC;"
            ],
            "metadata": {
                "language": "sql",
                "azdata_cell_guid": "e6eadbf8-275e-4c39-be78-3aab9a17151d"
            },
            "outputs": [
                {
                    "output_type": "display_data",
                    "data": {
                        "text/html": "(5 rows affected)"
                    },
                    "metadata": {}
                },
                {
                    "output_type": "display_data",
                    "data": {
                        "text/html": "Total execution time: 00:00:00.019"
                    },
                    "metadata": {}
                },
                {
                    "output_type": "execute_result",
                    "metadata": {},
                    "execution_count": 138,
                    "data": {
                        "application/vnd.dataresource+json": {
                            "schema": {
                                "fields": [
                                    {
                                        "name": "sls_order_dt"
                                    },
                                    {
                                        "name": "validated_order_dt"
                                    }
                                ]
                            },
                            "data": [
                                {
                                    "sls_order_dt": "5489-01-01",
                                    "validated_order_dt": "NULL"
                                },
                                {
                                    "sls_order_dt": "2014-01-28",
                                    "validated_order_dt": "2014-01-28"
                                },
                                {
                                    "sls_order_dt": "2014-01-28",
                                    "validated_order_dt": "2014-01-28"
                                },
                                {
                                    "sls_order_dt": "2014-01-28",
                                    "validated_order_dt": "2014-01-28"
                                },
                                {
                                    "sls_order_dt": "2014-01-28",
                                    "validated_order_dt": "2014-01-28"
                                }
                            ]
                        },
                        "text/html": [
                            "<table>",
                            "<tr><th>sls_order_dt</th><th>validated_order_dt</th></tr>",
                            "<tr><td>5489-01-01</td><td>NULL</td></tr>",
                            "<tr><td>2014-01-28</td><td>2014-01-28</td></tr>",
                            "<tr><td>2014-01-28</td><td>2014-01-28</td></tr>",
                            "<tr><td>2014-01-28</td><td>2014-01-28</td></tr>",
                            "<tr><td>2014-01-28</td><td>2014-01-28</td></tr>",
                            "</table>"
                        ]
                    }
                }
            ],
            "execution_count": 138
        },
        {
            "cell_type": "code",
            "source": [
                "--let's check the boundries for shipping and due dates as well\n",
                "-- They sound good\n",
                "SELECT \n",
                "    MIN(sls_ship_dt) AS Min,\n",
                "    MAX(sls_ship_dt) AS Max\n",
                "FROM bronze.crm_sales_details;\n",
                "\n",
                "SELECT \n",
                "    MIN(sls_due_dt) AS Min,\n",
                "    MAX(sls_due_dt) AS Max\n",
                "FROM bronze.crm_sales_details;"
            ],
            "metadata": {
                "language": "sql",
                "azdata_cell_guid": "16e94ce7-fde6-4b0f-bb8b-49978f4fffa2"
            },
            "outputs": [
                {
                    "output_type": "display_data",
                    "data": {
                        "text/html": "(1 row affected)"
                    },
                    "metadata": {}
                },
                {
                    "output_type": "display_data",
                    "data": {
                        "text/html": "(1 row affected)"
                    },
                    "metadata": {}
                },
                {
                    "output_type": "display_data",
                    "data": {
                        "text/html": "Total execution time: 00:00:00.145"
                    },
                    "metadata": {}
                },
                {
                    "output_type": "execute_result",
                    "metadata": {},
                    "execution_count": 134,
                    "data": {
                        "application/vnd.dataresource+json": {
                            "schema": {
                                "fields": [
                                    {
                                        "name": "Min"
                                    },
                                    {
                                        "name": "Max"
                                    }
                                ]
                            },
                            "data": [
                                {
                                    "Min": "2011-01-05",
                                    "Max": "2014-02-04"
                                }
                            ]
                        },
                        "text/html": [
                            "<table>",
                            "<tr><th>Min</th><th>Max</th></tr>",
                            "<tr><td>2011-01-05</td><td>2014-02-04</td></tr>",
                            "</table>"
                        ]
                    }
                },
                {
                    "output_type": "execute_result",
                    "metadata": {},
                    "execution_count": 134,
                    "data": {
                        "application/vnd.dataresource+json": {
                            "schema": {
                                "fields": [
                                    {
                                        "name": "Min"
                                    },
                                    {
                                        "name": "Max"
                                    }
                                ]
                            },
                            "data": [
                                {
                                    "Min": "2011-01-10",
                                    "Max": "2014-02-09"
                                }
                            ]
                        },
                        "text/html": [
                            "<table>",
                            "<tr><th>Min</th><th>Max</th></tr>",
                            "<tr><td>2011-01-10</td><td>2014-02-09</td></tr>",
                            "</table>"
                        ]
                    }
                }
            ],
            "execution_count": 134
        },
        {
            "cell_type": "code",
            "source": [
                "-- check for logical order of order shipping and due dates\n",
                "-- No new records are returned\n",
                "SELECT *\n",
                "FROM bronze.crm_sales_details\n",
                "WHERE sls_order_dt > sls_ship_dt\n",
                "   OR sls_order_dt > sls_due_dt\n",
                "   OR sls_ship_dt > sls_due_dt;"
            ],
            "metadata": {
                "language": "sql",
                "azdata_cell_guid": "d650469c-f1b2-4342-93f6-77c787e1c535"
            },
            "outputs": [
                {
                    "output_type": "display_data",
                    "data": {
                        "text/html": "(1 row affected)"
                    },
                    "metadata": {}
                },
                {
                    "output_type": "display_data",
                    "data": {
                        "text/html": "Total execution time: 00:00:00.052"
                    },
                    "metadata": {}
                },
                {
                    "output_type": "execute_result",
                    "metadata": {},
                    "execution_count": 133,
                    "data": {
                        "application/vnd.dataresource+json": {
                            "schema": {
                                "fields": [
                                    {
                                        "name": "sls_ord_num"
                                    },
                                    {
                                        "name": "sls_prd_key"
                                    },
                                    {
                                        "name": "sls_cust_id"
                                    },
                                    {
                                        "name": "sls_sales"
                                    },
                                    {
                                        "name": "sls_quantity"
                                    },
                                    {
                                        "name": "sls_price"
                                    },
                                    {
                                        "name": "sls_order_dt"
                                    },
                                    {
                                        "name": "sls_ship_dt"
                                    },
                                    {
                                        "name": "sls_due_dt"
                                    }
                                ]
                            },
                            "data": [
                                {
                                    "sls_ord_num": "SO69215",
                                    "sls_prd_key": "TT-M928",
                                    "sls_cust_id": "16864",
                                    "sls_sales": "5",
                                    "sls_quantity": "1",
                                    "sls_price": "5",
                                    "sls_order_dt": "5489-01-01",
                                    "sls_ship_dt": "2013-11-02",
                                    "sls_due_dt": "2013-11-07"
                                }
                            ]
                        },
                        "text/html": [
                            "<table>",
                            "<tr><th>sls_ord_num</th><th>sls_prd_key</th><th>sls_cust_id</th><th>sls_sales</th><th>sls_quantity</th><th>sls_price</th><th>sls_order_dt</th><th>sls_ship_dt</th><th>sls_due_dt</th></tr>",
                            "<tr><td>SO69215</td><td>TT-M928</td><td>16864</td><td>5</td><td>1</td><td>5</td><td>5489-01-01</td><td>2013-11-02</td><td>2013-11-07</td></tr>",
                            "</table>"
                        ]
                    }
                }
            ],
            "execution_count": 133
        },
        {
            "cell_type": "code",
            "source": [
                "-- Let's get into sls_sales, sls_quantity, sls_price\n",
                "\n",
                "-- > Sales = Quantity * Price \n",
                "-- > Values must not be NULL, zero, or negative.\n",
                "SELECT DISTINCT \n",
                "    sls_sales, \n",
                "    sls_quantity, \n",
                "    sls_price\n",
                "FROM bronze.crm_sales_details\n",
                "WHERE \n",
                "    sls_sales != sls_quantity * sls_price\n",
                "    OR sls_sales IS NULL\n",
                "    OR sls_quantity IS NULL\n",
                "    OR sls_price IS NULL\n",
                "    OR sls_sales <= 0\n",
                "    OR sls_quantity <= 0\n",
                "    OR sls_price <= 0\n",
                "ORDER BY \n",
                "    sls_sales, \n",
                "    sls_quantity, \n",
                "    sls_price;"
            ],
            "metadata": {
                "language": "sql",
                "azdata_cell_guid": "49f719c5-9358-459a-8b70-10407d955f95"
            },
            "outputs": [
                {
                    "output_type": "display_data",
                    "data": {
                        "text/html": "(33 rows affected)"
                    },
                    "metadata": {}
                },
                {
                    "output_type": "display_data",
                    "data": {
                        "text/html": "Total execution time: 00:00:00.280"
                    },
                    "metadata": {}
                },
                {
                    "output_type": "execute_result",
                    "metadata": {},
                    "execution_count": 135,
                    "data": {
                        "application/vnd.dataresource+json": {
                            "schema": {
                                "fields": [
                                    {
                                        "name": "sls_sales"
                                    },
                                    {
                                        "name": "sls_quantity"
                                    },
                                    {
                                        "name": "sls_price"
                                    }
                                ]
                            },
                            "data": [
                                {
                                    "sls_sales": "NULL",
                                    "sls_quantity": "1",
                                    "sls_price": "2"
                                },
                                {
                                    "sls_sales": "NULL",
                                    "sls_quantity": "1",
                                    "sls_price": "8"
                                },
                                {
                                    "sls_sales": "NULL",
                                    "sls_quantity": "1",
                                    "sls_price": "9"
                                },
                                {
                                    "sls_sales": "NULL",
                                    "sls_quantity": "1",
                                    "sls_price": "10"
                                },
                                {
                                    "sls_sales": "NULL",
                                    "sls_quantity": "1",
                                    "sls_price": "22"
                                },
                                {
                                    "sls_sales": "NULL",
                                    "sls_quantity": "1",
                                    "sls_price": "24"
                                },
                                {
                                    "sls_sales": "NULL",
                                    "sls_quantity": "1",
                                    "sls_price": "35"
                                },
                                {
                                    "sls_sales": "-54",
                                    "sls_quantity": "1",
                                    "sls_price": "54"
                                },
                                {
                                    "sls_sales": "-35",
                                    "sls_quantity": "1",
                                    "sls_price": "35"
                                },
                                {
                                    "sls_sales": "-18",
                                    "sls_quantity": "1",
                                    "sls_price": "9"
                                },
                                {
                                    "sls_sales": "0",
                                    "sls_quantity": "1",
                                    "sls_price": "4"
                                },
                                {
                                    "sls_sales": "0",
                                    "sls_quantity": "1",
                                    "sls_price": "10"
                                },
                                {
                                    "sls_sales": "2",
                                    "sls_quantity": "1",
                                    "sls_price": "50"
                                },
                                {
                                    "sls_sales": "5",
                                    "sls_quantity": "2",
                                    "sls_price": "5"
                                },
                                {
                                    "sls_sales": "8",
                                    "sls_quantity": "1",
                                    "sls_price": "9"
                                },
                                {
                                    "sls_sales": "9",
                                    "sls_quantity": "1",
                                    "sls_price": "NULL"
                                },
                                {
                                    "sls_sales": "10",
                                    "sls_quantity": "2",
                                    "sls_price": "NULL"
                                },
                                {
                                    "sls_sales": "16",
                                    "sls_quantity": "2",
                                    "sls_price": "NULL"
                                },
                                {
                                    "sls_sales": "21",
                                    "sls_quantity": "1",
                                    "sls_price": "-21"
                                },
                                {
                                    "sls_sales": "22",
                                    "sls_quantity": "1",
                                    "sls_price": "-22"
                                },
                                {
                                    "sls_sales": "25",
                                    "sls_quantity": "3",
                                    "sls_price": "25"
                                },
                                {
                                    "sls_sales": "25",
                                    "sls_quantity": "5",
                                    "sls_price": "NULL"
                                },
                                {
                                    "sls_sales": "30",
                                    "sls_quantity": "1",
                                    "sls_price": "-30"
                                },
                                {
                                    "sls_sales": "33",
                                    "sls_quantity": "1",
                                    "sls_price": "24"
                                },
                                {
                                    "sls_sales": "35",
                                    "sls_quantity": "1",
                                    "sls_price": "NULL"
                                },
                                {
                                    "sls_sales": "35",
                                    "sls_quantity": "2",
                                    "sls_price": "35"
                                },
                                {
                                    "sls_sales": "40",
                                    "sls_quantity": "1",
                                    "sls_price": "2"
                                },
                                {
                                    "sls_sales": "50",
                                    "sls_quantity": "2",
                                    "sls_price": "50"
                                },
                                {
                                    "sls_sales": "64",
                                    "sls_quantity": "4",
                                    "sls_price": "64"
                                },
                                {
                                    "sls_sales": "70",
                                    "sls_quantity": "2",
                                    "sls_price": "NULL"
                                },
                                {
                                    "sls_sales": "100",
                                    "sls_quantity": "10",
                                    "sls_price": "NULL"
                                },
                                {
                                    "sls_sales": "769",
                                    "sls_quantity": "1",
                                    "sls_price": "-769"
                                },
                                {
                                    "sls_sales": "1701",
                                    "sls_quantity": "1",
                                    "sls_price": "-1701"
                                }
                            ]
                        },
                        "text/html": [
                            "<table>",
                            "<tr><th>sls_sales</th><th>sls_quantity</th><th>sls_price</th></tr>",
                            "<tr><td>NULL</td><td>1</td><td>2</td></tr>",
                            "<tr><td>NULL</td><td>1</td><td>8</td></tr>",
                            "<tr><td>NULL</td><td>1</td><td>9</td></tr>",
                            "<tr><td>NULL</td><td>1</td><td>10</td></tr>",
                            "<tr><td>NULL</td><td>1</td><td>22</td></tr>",
                            "<tr><td>NULL</td><td>1</td><td>24</td></tr>",
                            "<tr><td>NULL</td><td>1</td><td>35</td></tr>",
                            "<tr><td>-54</td><td>1</td><td>54</td></tr>",
                            "<tr><td>-35</td><td>1</td><td>35</td></tr>",
                            "<tr><td>-18</td><td>1</td><td>9</td></tr>",
                            "<tr><td>0</td><td>1</td><td>4</td></tr>",
                            "<tr><td>0</td><td>1</td><td>10</td></tr>",
                            "<tr><td>2</td><td>1</td><td>50</td></tr>",
                            "<tr><td>5</td><td>2</td><td>5</td></tr>",
                            "<tr><td>8</td><td>1</td><td>9</td></tr>",
                            "<tr><td>9</td><td>1</td><td>NULL</td></tr>",
                            "<tr><td>10</td><td>2</td><td>NULL</td></tr>",
                            "<tr><td>16</td><td>2</td><td>NULL</td></tr>",
                            "<tr><td>21</td><td>1</td><td>-21</td></tr>",
                            "<tr><td>22</td><td>1</td><td>-22</td></tr>",
                            "<tr><td>25</td><td>3</td><td>25</td></tr>",
                            "<tr><td>25</td><td>5</td><td>NULL</td></tr>",
                            "<tr><td>30</td><td>1</td><td>-30</td></tr>",
                            "<tr><td>33</td><td>1</td><td>24</td></tr>",
                            "<tr><td>35</td><td>1</td><td>NULL</td></tr>",
                            "<tr><td>35</td><td>2</td><td>35</td></tr>",
                            "<tr><td>40</td><td>1</td><td>2</td></tr>",
                            "<tr><td>50</td><td>2</td><td>50</td></tr>",
                            "<tr><td>64</td><td>4</td><td>64</td></tr>",
                            "<tr><td>70</td><td>2</td><td>NULL</td></tr>",
                            "<tr><td>100</td><td>10</td><td>NULL</td></tr>",
                            "<tr><td>769</td><td>1</td><td>-769</td></tr>",
                            "<tr><td>1701</td><td>1</td><td>-1701</td></tr>",
                            "</table>"
                        ]
                    }
                }
            ],
            "execution_count": 135
        },
        {
            "cell_type": "code",
            "source": [
                "-- Found 33 records that sls_sales and sls_price have several issues (NULL and negative values) but quantity is fine\n",
                "-- Okay. in order to fix the issues I will follow this set of rules:\n",
                "----- If Sales is negative, zero, or null, derive it using Quantity and Price. \n",
                "----- If Price is zero or null, calculate it using Sales and Quantity. \n",
                "----- If Price is negative, convert it to a positive value\n",
                "\n",
                "SELECT DISTINCT\n",
                "    sls_sales      AS old_sls_sales,\n",
                "    sls_price      AS old_sls_price,\n",
                "    CASE \n",
                "        WHEN sls_sales IS NULL \n",
                "             OR sls_sales <= 0 \n",
                "             OR sls_sales != sls_quantity * ABS(sls_price)\n",
                "        THEN sls_quantity * ABS(sls_price)\n",
                "        ELSE sls_sales\n",
                "    END            AS new_sls_sales,\n",
                "    CASE \n",
                "        WHEN sls_price IS NULL \n",
                "             OR sls_price <= 0 \n",
                "        THEN sls_sales / NULLIF(sls_quantity, 0) -- to make sure not geeting infinite value\n",
                "        ELSE sls_price\n",
                "    END            AS new_sls_price,\n",
                "    sls_quantity\n",
                "FROM bronze.crm_sales_details\n",
                "WHERE \n",
                "    sls_sales != sls_quantity * sls_price\n",
                "    OR sls_sales IS NULL\n",
                "    OR sls_quantity IS NULL\n",
                "    OR sls_price IS NULL\n",
                "    OR sls_sales <= 0\n",
                "    OR sls_quantity <= 0\n",
                "    OR sls_price <= 0\n",
                "ORDER BY \n",
                "    sls_sales, \n",
                "    sls_quantity, \n",
                "    sls_price;"
            ],
            "metadata": {
                "language": "sql",
                "azdata_cell_guid": "d904423f-c117-45a2-9c0d-405f1b6e0151"
            },
            "outputs": [
                {
                    "output_type": "display_data",
                    "data": {
                        "text/html": "(33 rows affected)"
                    },
                    "metadata": {}
                },
                {
                    "output_type": "display_data",
                    "data": {
                        "text/html": "Total execution time: 00:00:00.056"
                    },
                    "metadata": {}
                },
                {
                    "output_type": "execute_result",
                    "metadata": {},
                    "execution_count": 137,
                    "data": {
                        "application/vnd.dataresource+json": {
                            "schema": {
                                "fields": [
                                    {
                                        "name": "old_sls_sales"
                                    },
                                    {
                                        "name": "old_sls_price"
                                    },
                                    {
                                        "name": "new_sls_sales"
                                    },
                                    {
                                        "name": "new_sls_price"
                                    },
                                    {
                                        "name": "sls_quantity"
                                    }
                                ]
                            },
                            "data": [
                                {
                                    "old_sls_sales": "NULL",
                                    "old_sls_price": "2",
                                    "new_sls_sales": "2",
                                    "new_sls_price": "2",
                                    "sls_quantity": "1"
                                },
                                {
                                    "old_sls_sales": "NULL",
                                    "old_sls_price": "8",
                                    "new_sls_sales": "8",
                                    "new_sls_price": "8",
                                    "sls_quantity": "1"
                                },
                                {
                                    "old_sls_sales": "NULL",
                                    "old_sls_price": "9",
                                    "new_sls_sales": "9",
                                    "new_sls_price": "9",
                                    "sls_quantity": "1"
                                },
                                {
                                    "old_sls_sales": "NULL",
                                    "old_sls_price": "10",
                                    "new_sls_sales": "10",
                                    "new_sls_price": "10",
                                    "sls_quantity": "1"
                                },
                                {
                                    "old_sls_sales": "NULL",
                                    "old_sls_price": "22",
                                    "new_sls_sales": "22",
                                    "new_sls_price": "22",
                                    "sls_quantity": "1"
                                },
                                {
                                    "old_sls_sales": "NULL",
                                    "old_sls_price": "24",
                                    "new_sls_sales": "24",
                                    "new_sls_price": "24",
                                    "sls_quantity": "1"
                                },
                                {
                                    "old_sls_sales": "NULL",
                                    "old_sls_price": "35",
                                    "new_sls_sales": "35",
                                    "new_sls_price": "35",
                                    "sls_quantity": "1"
                                },
                                {
                                    "old_sls_sales": "-54",
                                    "old_sls_price": "54",
                                    "new_sls_sales": "54",
                                    "new_sls_price": "54",
                                    "sls_quantity": "1"
                                },
                                {
                                    "old_sls_sales": "-35",
                                    "old_sls_price": "35",
                                    "new_sls_sales": "35",
                                    "new_sls_price": "35",
                                    "sls_quantity": "1"
                                },
                                {
                                    "old_sls_sales": "-18",
                                    "old_sls_price": "9",
                                    "new_sls_sales": "9",
                                    "new_sls_price": "9",
                                    "sls_quantity": "1"
                                },
                                {
                                    "old_sls_sales": "0",
                                    "old_sls_price": "4",
                                    "new_sls_sales": "4",
                                    "new_sls_price": "4",
                                    "sls_quantity": "1"
                                },
                                {
                                    "old_sls_sales": "0",
                                    "old_sls_price": "10",
                                    "new_sls_sales": "10",
                                    "new_sls_price": "10",
                                    "sls_quantity": "1"
                                },
                                {
                                    "old_sls_sales": "2",
                                    "old_sls_price": "50",
                                    "new_sls_sales": "50",
                                    "new_sls_price": "50",
                                    "sls_quantity": "1"
                                },
                                {
                                    "old_sls_sales": "5",
                                    "old_sls_price": "5",
                                    "new_sls_sales": "10",
                                    "new_sls_price": "5",
                                    "sls_quantity": "2"
                                },
                                {
                                    "old_sls_sales": "8",
                                    "old_sls_price": "9",
                                    "new_sls_sales": "9",
                                    "new_sls_price": "9",
                                    "sls_quantity": "1"
                                },
                                {
                                    "old_sls_sales": "9",
                                    "old_sls_price": "NULL",
                                    "new_sls_sales": "9",
                                    "new_sls_price": "9",
                                    "sls_quantity": "1"
                                },
                                {
                                    "old_sls_sales": "10",
                                    "old_sls_price": "NULL",
                                    "new_sls_sales": "10",
                                    "new_sls_price": "5",
                                    "sls_quantity": "2"
                                },
                                {
                                    "old_sls_sales": "16",
                                    "old_sls_price": "NULL",
                                    "new_sls_sales": "16",
                                    "new_sls_price": "8",
                                    "sls_quantity": "2"
                                },
                                {
                                    "old_sls_sales": "21",
                                    "old_sls_price": "-21",
                                    "new_sls_sales": "21",
                                    "new_sls_price": "21",
                                    "sls_quantity": "1"
                                },
                                {
                                    "old_sls_sales": "22",
                                    "old_sls_price": "-22",
                                    "new_sls_sales": "22",
                                    "new_sls_price": "22",
                                    "sls_quantity": "1"
                                },
                                {
                                    "old_sls_sales": "25",
                                    "old_sls_price": "25",
                                    "new_sls_sales": "75",
                                    "new_sls_price": "25",
                                    "sls_quantity": "3"
                                },
                                {
                                    "old_sls_sales": "25",
                                    "old_sls_price": "NULL",
                                    "new_sls_sales": "25",
                                    "new_sls_price": "5",
                                    "sls_quantity": "5"
                                },
                                {
                                    "old_sls_sales": "30",
                                    "old_sls_price": "-30",
                                    "new_sls_sales": "30",
                                    "new_sls_price": "30",
                                    "sls_quantity": "1"
                                },
                                {
                                    "old_sls_sales": "33",
                                    "old_sls_price": "24",
                                    "new_sls_sales": "24",
                                    "new_sls_price": "24",
                                    "sls_quantity": "1"
                                },
                                {
                                    "old_sls_sales": "35",
                                    "old_sls_price": "NULL",
                                    "new_sls_sales": "35",
                                    "new_sls_price": "35",
                                    "sls_quantity": "1"
                                },
                                {
                                    "old_sls_sales": "35",
                                    "old_sls_price": "35",
                                    "new_sls_sales": "70",
                                    "new_sls_price": "35",
                                    "sls_quantity": "2"
                                },
                                {
                                    "old_sls_sales": "40",
                                    "old_sls_price": "2",
                                    "new_sls_sales": "2",
                                    "new_sls_price": "2",
                                    "sls_quantity": "1"
                                },
                                {
                                    "old_sls_sales": "50",
                                    "old_sls_price": "50",
                                    "new_sls_sales": "100",
                                    "new_sls_price": "50",
                                    "sls_quantity": "2"
                                },
                                {
                                    "old_sls_sales": "64",
                                    "old_sls_price": "64",
                                    "new_sls_sales": "256",
                                    "new_sls_price": "64",
                                    "sls_quantity": "4"
                                },
                                {
                                    "old_sls_sales": "70",
                                    "old_sls_price": "NULL",
                                    "new_sls_sales": "70",
                                    "new_sls_price": "35",
                                    "sls_quantity": "2"
                                },
                                {
                                    "old_sls_sales": "100",
                                    "old_sls_price": "NULL",
                                    "new_sls_sales": "100",
                                    "new_sls_price": "10",
                                    "sls_quantity": "10"
                                },
                                {
                                    "old_sls_sales": "769",
                                    "old_sls_price": "-769",
                                    "new_sls_sales": "769",
                                    "new_sls_price": "769",
                                    "sls_quantity": "1"
                                },
                                {
                                    "old_sls_sales": "1701",
                                    "old_sls_price": "-1701",
                                    "new_sls_sales": "1701",
                                    "new_sls_price": "1701",
                                    "sls_quantity": "1"
                                }
                            ]
                        },
                        "text/html": [
                            "<table>",
                            "<tr><th>old_sls_sales</th><th>old_sls_price</th><th>new_sls_sales</th><th>new_sls_price</th><th>sls_quantity</th></tr>",
                            "<tr><td>NULL</td><td>2</td><td>2</td><td>2</td><td>1</td></tr>",
                            "<tr><td>NULL</td><td>8</td><td>8</td><td>8</td><td>1</td></tr>",
                            "<tr><td>NULL</td><td>9</td><td>9</td><td>9</td><td>1</td></tr>",
                            "<tr><td>NULL</td><td>10</td><td>10</td><td>10</td><td>1</td></tr>",
                            "<tr><td>NULL</td><td>22</td><td>22</td><td>22</td><td>1</td></tr>",
                            "<tr><td>NULL</td><td>24</td><td>24</td><td>24</td><td>1</td></tr>",
                            "<tr><td>NULL</td><td>35</td><td>35</td><td>35</td><td>1</td></tr>",
                            "<tr><td>-54</td><td>54</td><td>54</td><td>54</td><td>1</td></tr>",
                            "<tr><td>-35</td><td>35</td><td>35</td><td>35</td><td>1</td></tr>",
                            "<tr><td>-18</td><td>9</td><td>9</td><td>9</td><td>1</td></tr>",
                            "<tr><td>0</td><td>4</td><td>4</td><td>4</td><td>1</td></tr>",
                            "<tr><td>0</td><td>10</td><td>10</td><td>10</td><td>1</td></tr>",
                            "<tr><td>2</td><td>50</td><td>50</td><td>50</td><td>1</td></tr>",
                            "<tr><td>5</td><td>5</td><td>10</td><td>5</td><td>2</td></tr>",
                            "<tr><td>8</td><td>9</td><td>9</td><td>9</td><td>1</td></tr>",
                            "<tr><td>9</td><td>NULL</td><td>9</td><td>9</td><td>1</td></tr>",
                            "<tr><td>10</td><td>NULL</td><td>10</td><td>5</td><td>2</td></tr>",
                            "<tr><td>16</td><td>NULL</td><td>16</td><td>8</td><td>2</td></tr>",
                            "<tr><td>21</td><td>-21</td><td>21</td><td>21</td><td>1</td></tr>",
                            "<tr><td>22</td><td>-22</td><td>22</td><td>22</td><td>1</td></tr>",
                            "<tr><td>25</td><td>25</td><td>75</td><td>25</td><td>3</td></tr>",
                            "<tr><td>25</td><td>NULL</td><td>25</td><td>5</td><td>5</td></tr>",
                            "<tr><td>30</td><td>-30</td><td>30</td><td>30</td><td>1</td></tr>",
                            "<tr><td>33</td><td>24</td><td>24</td><td>24</td><td>1</td></tr>",
                            "<tr><td>35</td><td>NULL</td><td>35</td><td>35</td><td>1</td></tr>",
                            "<tr><td>35</td><td>35</td><td>70</td><td>35</td><td>2</td></tr>",
                            "<tr><td>40</td><td>2</td><td>2</td><td>2</td><td>1</td></tr>",
                            "<tr><td>50</td><td>50</td><td>100</td><td>50</td><td>2</td></tr>",
                            "<tr><td>64</td><td>64</td><td>256</td><td>64</td><td>4</td></tr>",
                            "<tr><td>70</td><td>NULL</td><td>70</td><td>35</td><td>2</td></tr>",
                            "<tr><td>100</td><td>NULL</td><td>100</td><td>10</td><td>10</td></tr>",
                            "<tr><td>769</td><td>-769</td><td>769</td><td>769</td><td>1</td></tr>",
                            "<tr><td>1701</td><td>-1701</td><td>1701</td><td>1701</td><td>1</td></tr>",
                            "</table>"
                        ]
                    }
                }
            ],
            "execution_count": 137
        },
        {
            "cell_type": "markdown",
            "source": [
                "## Table: bronze.erp\\_cust\\_az12"
            ],
            "metadata": {
                "azdata_cell_guid": "5a323ff1-176e-4885-a43c-004d8f1213c6"
            },
            "attachments": {}
        },
        {
            "cell_type": "markdown",
            "source": [
                "| Problem                                                      | Solution                                                       | Notes                                                                                                           | Columns Targeted |\n",
                "|--------------------------------------------------------------|----------------------------------------------------------------|---------------------------------------------------------------------------------------------------------------|------------------|\n",
                "| Non-consistent ID patterns and non-compatible with customer info table | `\"NAS\"` is removed from records                              | - Pattern-matching operator (`LIKE`) is used.  <br> - `'CASE WHEN'` and string function (`SUBSTRING()`) are used to filter and fix unmatched IDs. <br> - CTE is also used. | cid              |\n",
                "| Unrealistic birthdate (in the future)                       | Wherever the birthdate is larger than today's date, replaced with `NULL` | `'CASE WHEN'` and `GETDATE()` date function are used.                                                          | bdate           |\n",
                "| Missing values and standardization in gender                | `'CASE WHEN'` statements are used to map values to a more descriptive way and replace null values with `NULL` | `TRIM` and `UPPER` string functions are also used for data consistency.                                        | gen             |\n",
                ""
            ],
            "metadata": {
                "azdata_cell_guid": "2b7c9c28-da4e-4a93-b53b-73f622c7a3e9"
            },
            "attachments": {}
        },
        {
            "cell_type": "code",
            "source": [
                "SELECT TOP 10\n",
                "* \n",
                "FROM bronze.erp_cust_az12"
            ],
            "metadata": {
                "azdata_cell_guid": "213a258f-2093-46ae-8adf-152d43c02b09",
                "language": "sql",
                "tags": []
            },
            "outputs": [
                {
                    "output_type": "display_data",
                    "data": {
                        "text/html": "(10 rows affected)"
                    },
                    "metadata": {}
                },
                {
                    "output_type": "display_data",
                    "data": {
                        "text/html": "Total execution time: 00:00:00.005"
                    },
                    "metadata": {}
                },
                {
                    "output_type": "execute_result",
                    "metadata": {},
                    "execution_count": 142,
                    "data": {
                        "application/vnd.dataresource+json": {
                            "schema": {
                                "fields": [
                                    {
                                        "name": "CID"
                                    },
                                    {
                                        "name": "BDATE"
                                    },
                                    {
                                        "name": "GEN"
                                    }
                                ]
                            },
                            "data": [
                                {
                                    "CID": "NASAW00011000",
                                    "BDATE": "1971-10-06",
                                    "GEN": "Male"
                                },
                                {
                                    "CID": "NASAW00011001",
                                    "BDATE": "1976-05-10",
                                    "GEN": "Male"
                                },
                                {
                                    "CID": "NASAW00011002",
                                    "BDATE": "1971-02-09",
                                    "GEN": "Male"
                                },
                                {
                                    "CID": "NASAW00011003",
                                    "BDATE": "1973-08-14",
                                    "GEN": "Female"
                                },
                                {
                                    "CID": "NASAW00011004",
                                    "BDATE": "1979-08-05",
                                    "GEN": "Female"
                                },
                                {
                                    "CID": "NASAW00011005",
                                    "BDATE": "1976-08-01",
                                    "GEN": "Male"
                                },
                                {
                                    "CID": "NASAW00011006",
                                    "BDATE": "1976-12-02",
                                    "GEN": "Female"
                                },
                                {
                                    "CID": "NASAW00011007",
                                    "BDATE": "1969-11-06",
                                    "GEN": "Male"
                                },
                                {
                                    "CID": "NASAW00011008",
                                    "BDATE": "1975-07-04",
                                    "GEN": "Female"
                                },
                                {
                                    "CID": "NASAW00011009",
                                    "BDATE": "1969-09-29",
                                    "GEN": "Male"
                                }
                            ]
                        },
                        "text/html": [
                            "<table>",
                            "<tr><th>CID</th><th>BDATE</th><th>GEN</th></tr>",
                            "<tr><td>NASAW00011000</td><td>1971-10-06</td><td>Male</td></tr>",
                            "<tr><td>NASAW00011001</td><td>1976-05-10</td><td>Male</td></tr>",
                            "<tr><td>NASAW00011002</td><td>1971-02-09</td><td>Male</td></tr>",
                            "<tr><td>NASAW00011003</td><td>1973-08-14</td><td>Female</td></tr>",
                            "<tr><td>NASAW00011004</td><td>1979-08-05</td><td>Female</td></tr>",
                            "<tr><td>NASAW00011005</td><td>1976-08-01</td><td>Male</td></tr>",
                            "<tr><td>NASAW00011006</td><td>1976-12-02</td><td>Female</td></tr>",
                            "<tr><td>NASAW00011007</td><td>1969-11-06</td><td>Male</td></tr>",
                            "<tr><td>NASAW00011008</td><td>1975-07-04</td><td>Female</td></tr>",
                            "<tr><td>NASAW00011009</td><td>1969-09-29</td><td>Male</td></tr>",
                            "</table>"
                        ]
                    }
                }
            ],
            "execution_count": 142
        },
        {
            "cell_type": "code",
            "source": [
                "-- checking for dublicates in CID\n",
                "-- None found\n",
                "SELECT \n",
                "    cid, \n",
                "    COUNT(*) AS cnt\n",
                "FROM bronze.erp_cust_az12\n",
                "GROUP BY cid \n",
                "HAVING COUNT(*) > 1 \n",
                "    OR cid IS NULL;"
            ],
            "metadata": {
                "language": "sql",
                "azdata_cell_guid": "f12d9bb6-8e56-4d1b-83ea-12f94d158c26"
            },
            "outputs": [
                {
                    "output_type": "display_data",
                    "data": {
                        "text/html": "(0 rows affected)"
                    },
                    "metadata": {}
                },
                {
                    "output_type": "display_data",
                    "data": {
                        "text/html": "Total execution time: 00:00:00.027"
                    },
                    "metadata": {}
                },
                {
                    "output_type": "execute_result",
                    "metadata": {},
                    "execution_count": 153,
                    "data": {
                        "application/vnd.dataresource+json": {
                            "schema": {
                                "fields": [
                                    {
                                        "name": "cid"
                                    },
                                    {
                                        "name": "cnt"
                                    }
                                ]
                            },
                            "data": []
                        },
                        "text/html": [
                            "<table>",
                            "<tr><th>cid</th><th>cnt</th></tr>",
                            "</table>"
                        ]
                    }
                }
            ],
            "execution_count": 153
        },
        {
            "cell_type": "code",
            "source": [
                "SELECT TOP 5\n",
                "*\n",
                "FROM bronze.erp_cust_az12\n",
                "WHERE cid LIKE 'AW%'"
            ],
            "metadata": {
                "azdata_cell_guid": "23e41611-dab3-4069-b92b-ea9d5d7b8495",
                "language": "sql"
            },
            "outputs": [
                {
                    "output_type": "display_data",
                    "data": {
                        "text/html": "(5 rows affected)"
                    },
                    "metadata": {}
                },
                {
                    "output_type": "display_data",
                    "data": {
                        "text/html": "Total execution time: 00:00:00.017"
                    },
                    "metadata": {}
                },
                {
                    "output_type": "execute_result",
                    "metadata": {},
                    "execution_count": 144,
                    "data": {
                        "application/vnd.dataresource+json": {
                            "schema": {
                                "fields": [
                                    {
                                        "name": "CID"
                                    },
                                    {
                                        "name": "BDATE"
                                    },
                                    {
                                        "name": "GEN"
                                    }
                                ]
                            },
                            "data": [
                                {
                                    "CID": "AW00022042",
                                    "BDATE": "1983-08-18",
                                    "GEN": "Female"
                                },
                                {
                                    "CID": "AW00022043",
                                    "BDATE": "1978-02-09",
                                    "GEN": "Female"
                                },
                                {
                                    "CID": "AW00022044",
                                    "BDATE": "1983-05-13",
                                    "GEN": "Male"
                                },
                                {
                                    "CID": "AW00022045",
                                    "BDATE": "1979-05-04",
                                    "GEN": "Male"
                                },
                                {
                                    "CID": "AW00022046",
                                    "BDATE": "1984-08-16",
                                    "GEN": "Female"
                                }
                            ]
                        },
                        "text/html": [
                            "<table>",
                            "<tr><th>CID</th><th>BDATE</th><th>GEN</th></tr>",
                            "<tr><td>AW00022042</td><td>1983-08-18</td><td>Female</td></tr>",
                            "<tr><td>AW00022043</td><td>1978-02-09</td><td>Female</td></tr>",
                            "<tr><td>AW00022044</td><td>1983-05-13</td><td>Male</td></tr>",
                            "<tr><td>AW00022045</td><td>1979-05-04</td><td>Male</td></tr>",
                            "<tr><td>AW00022046</td><td>1984-08-16</td><td>Female</td></tr>",
                            "</table>"
                        ]
                    }
                }
            ],
            "execution_count": 144
        },
        {
            "cell_type": "code",
            "source": [
                "-- Apperantly, older ids follow (NASAW%) and newer ids follow (AW%) patterns\n",
                "-- For data integration and being able to join this table with customer info, each id should start with (AW)\n",
                "\n",
                "SELECT TOP 5\n",
                "    cid,\n",
                "    CASE \n",
                "        WHEN cid LIKE 'NAS%' THEN SUBSTRING(cid, 4, LEN(cid))\n",
                "        ELSE cid \n",
                "    END AS transformed_cid,\n",
                "    bdate,\n",
                "    gen\n",
                "FROM bronze.erp_cust_az12\n",
                ""
            ],
            "metadata": {
                "language": "sql",
                "azdata_cell_guid": "812bfa74-f9b2-465e-8340-d4584dddb94b"
            },
            "outputs": [
                {
                    "output_type": "display_data",
                    "data": {
                        "text/html": "(5 rows affected)"
                    },
                    "metadata": {}
                },
                {
                    "output_type": "display_data",
                    "data": {
                        "text/html": "Total execution time: 00:00:00.006"
                    },
                    "metadata": {}
                },
                {
                    "output_type": "execute_result",
                    "metadata": {},
                    "execution_count": 148,
                    "data": {
                        "application/vnd.dataresource+json": {
                            "schema": {
                                "fields": [
                                    {
                                        "name": "cid"
                                    },
                                    {
                                        "name": "transformed_cid"
                                    },
                                    {
                                        "name": "bdate"
                                    },
                                    {
                                        "name": "gen"
                                    }
                                ]
                            },
                            "data": [
                                {
                                    "cid": "NASAW00011000",
                                    "transformed_cid": "AW00011000",
                                    "bdate": "1971-10-06",
                                    "gen": "Male"
                                },
                                {
                                    "cid": "NASAW00011001",
                                    "transformed_cid": "AW00011001",
                                    "bdate": "1976-05-10",
                                    "gen": "Male"
                                },
                                {
                                    "cid": "NASAW00011002",
                                    "transformed_cid": "AW00011002",
                                    "bdate": "1971-02-09",
                                    "gen": "Male"
                                },
                                {
                                    "cid": "NASAW00011003",
                                    "transformed_cid": "AW00011003",
                                    "bdate": "1973-08-14",
                                    "gen": "Female"
                                },
                                {
                                    "cid": "NASAW00011004",
                                    "transformed_cid": "AW00011004",
                                    "bdate": "1979-08-05",
                                    "gen": "Female"
                                }
                            ]
                        },
                        "text/html": [
                            "<table>",
                            "<tr><th>cid</th><th>transformed_cid</th><th>bdate</th><th>gen</th></tr>",
                            "<tr><td>NASAW00011000</td><td>AW00011000</td><td>1971-10-06</td><td>Male</td></tr>",
                            "<tr><td>NASAW00011001</td><td>AW00011001</td><td>1976-05-10</td><td>Male</td></tr>",
                            "<tr><td>NASAW00011002</td><td>AW00011002</td><td>1971-02-09</td><td>Male</td></tr>",
                            "<tr><td>NASAW00011003</td><td>AW00011003</td><td>1973-08-14</td><td>Female</td></tr>",
                            "<tr><td>NASAW00011004</td><td>AW00011004</td><td>1979-08-05</td><td>Female</td></tr>",
                            "</table>"
                        ]
                    }
                }
            ],
            "execution_count": 148
        },
        {
            "cell_type": "code",
            "source": [
                "-- Let's check if all ids also exist in customer info table (later on we join this table with customer info)\n",
                "-- Yesss. sounds good\n",
                "WITH cte AS (\n",
                "    SELECT \n",
                "        cid,\n",
                "        CASE \n",
                "            WHEN cid LIKE 'NAS%' THEN SUBSTRING(cid, 4, LEN(cid))\n",
                "            ELSE cid \n",
                "        END AS transformed_cid,\n",
                "        bdate,\n",
                "        gen\n",
                "    FROM bronze.erp_cust_az12\n",
                ")\n",
                "SELECT *\n",
                "FROM cte\n",
                "WHERE transformed_cid NOT IN (\n",
                "    SELECT DISTINCT cst_key\n",
                "    FROM bronze.crm_cust_info\n",
                ");"
            ],
            "metadata": {
                "azdata_cell_guid": "f665f8df-8e40-4a03-9461-d81b5943c6cb",
                "language": "sql"
            },
            "outputs": [
                {
                    "output_type": "display_data",
                    "data": {
                        "text/html": "(0 rows affected)"
                    },
                    "metadata": {}
                },
                {
                    "output_type": "display_data",
                    "data": {
                        "text/html": "Total execution time: 00:00:00.123"
                    },
                    "metadata": {}
                },
                {
                    "output_type": "execute_result",
                    "metadata": {},
                    "execution_count": 149,
                    "data": {
                        "application/vnd.dataresource+json": {
                            "schema": {
                                "fields": [
                                    {
                                        "name": "cid"
                                    },
                                    {
                                        "name": "transformed_cid"
                                    },
                                    {
                                        "name": "bdate"
                                    },
                                    {
                                        "name": "gen"
                                    }
                                ]
                            },
                            "data": []
                        },
                        "text/html": [
                            "<table>",
                            "<tr><th>cid</th><th>transformed_cid</th><th>bdate</th><th>gen</th></tr>",
                            "</table>"
                        ]
                    }
                }
            ],
            "execution_count": 149
        },
        {
            "cell_type": "code",
            "source": [
                "-- Moving on to birth date column\n",
                "--let's check the boundries for birthdate\n",
                "-- They sound good\n",
                "SELECT \n",
                "    MIN(bdate) AS Min,\n",
                "    MAX(bdate) AS Max\n",
                "FROM bronze.erp_cust_az12;"
            ],
            "metadata": {
                "azdata_cell_guid": "9b7f6a70-a5cc-4f25-b7b0-b0ccdd99c72d",
                "language": "sql"
            },
            "outputs": [
                {
                    "output_type": "display_data",
                    "data": {
                        "text/html": "(1 row affected)"
                    },
                    "metadata": {}
                },
                {
                    "output_type": "display_data",
                    "data": {
                        "text/html": "Total execution time: 00:00:00.063"
                    },
                    "metadata": {}
                },
                {
                    "output_type": "execute_result",
                    "metadata": {},
                    "execution_count": 154,
                    "data": {
                        "application/vnd.dataresource+json": {
                            "schema": {
                                "fields": [
                                    {
                                        "name": "Min"
                                    },
                                    {
                                        "name": "Max"
                                    }
                                ]
                            },
                            "data": [
                                {
                                    "Min": "1916-02-10",
                                    "Max": "9999-11-20"
                                }
                            ]
                        },
                        "text/html": [
                            "<table>",
                            "<tr><th>Min</th><th>Max</th></tr>",
                            "<tr><td>1916-02-10</td><td>9999-11-20</td></tr>",
                            "</table>"
                        ]
                    }
                }
            ],
            "execution_count": 154
        },
        {
            "cell_type": "code",
            "source": [
                "-- Looks like we have customers older than 100 years old. No issue here\n",
                "-- Some customers' birth date (16 customers) is in the future which is not acceptable, replaced with NULL\n",
                "SELECT TOP 20\n",
                "bdate,\n",
                "CASE WHEN bdate > GETDATE() THEN NULL\n",
                "    ELSE bdate\n",
                "END AS new_bdate\n",
                "FROM bronze.erp_cust_az12\n",
                "ORDER BY bdate DESC"
            ],
            "metadata": {
                "azdata_cell_guid": "44bd7644-2ccb-4bb7-965a-35dc6354d15e",
                "language": "sql"
            },
            "outputs": [
                {
                    "output_type": "display_data",
                    "data": {
                        "text/html": "(20 rows affected)"
                    },
                    "metadata": {}
                },
                {
                    "output_type": "display_data",
                    "data": {
                        "text/html": "Total execution time: 00:00:00.019"
                    },
                    "metadata": {}
                },
                {
                    "output_type": "execute_result",
                    "metadata": {},
                    "execution_count": 159,
                    "data": {
                        "application/vnd.dataresource+json": {
                            "schema": {
                                "fields": [
                                    {
                                        "name": "bdate"
                                    },
                                    {
                                        "name": "new_bdate"
                                    }
                                ]
                            },
                            "data": [
                                {
                                    "bdate": "9999-11-20",
                                    "new_bdate": "NULL"
                                },
                                {
                                    "bdate": "9999-09-13",
                                    "new_bdate": "NULL"
                                },
                                {
                                    "bdate": "9999-09-11",
                                    "new_bdate": "NULL"
                                },
                                {
                                    "bdate": "9999-05-10",
                                    "new_bdate": "NULL"
                                },
                                {
                                    "bdate": "2980-03-09",
                                    "new_bdate": "NULL"
                                },
                                {
                                    "bdate": "2080-03-15",
                                    "new_bdate": "NULL"
                                },
                                {
                                    "bdate": "2066-06-16",
                                    "new_bdate": "NULL"
                                },
                                {
                                    "bdate": "2065-12-12",
                                    "new_bdate": "NULL"
                                },
                                {
                                    "bdate": "2055-01-23",
                                    "new_bdate": "NULL"
                                },
                                {
                                    "bdate": "2050-11-22",
                                    "new_bdate": "NULL"
                                },
                                {
                                    "bdate": "2050-09-07",
                                    "new_bdate": "NULL"
                                },
                                {
                                    "bdate": "2050-07-06",
                                    "new_bdate": "NULL"
                                },
                                {
                                    "bdate": "2050-05-21",
                                    "new_bdate": "NULL"
                                },
                                {
                                    "bdate": "2045-03-03",
                                    "new_bdate": "NULL"
                                },
                                {
                                    "bdate": "2042-02-22",
                                    "new_bdate": "NULL"
                                },
                                {
                                    "bdate": "2038-10-17",
                                    "new_bdate": "NULL"
                                },
                                {
                                    "bdate": "1986-06-25",
                                    "new_bdate": "1986-06-25"
                                },
                                {
                                    "bdate": "1986-06-25",
                                    "new_bdate": "1986-06-25"
                                },
                                {
                                    "bdate": "1986-06-23",
                                    "new_bdate": "1986-06-23"
                                },
                                {
                                    "bdate": "1986-06-23",
                                    "new_bdate": "1986-06-23"
                                }
                            ]
                        },
                        "text/html": [
                            "<table>",
                            "<tr><th>bdate</th><th>new_bdate</th></tr>",
                            "<tr><td>9999-11-20</td><td>NULL</td></tr>",
                            "<tr><td>9999-09-13</td><td>NULL</td></tr>",
                            "<tr><td>9999-09-11</td><td>NULL</td></tr>",
                            "<tr><td>9999-05-10</td><td>NULL</td></tr>",
                            "<tr><td>2980-03-09</td><td>NULL</td></tr>",
                            "<tr><td>2080-03-15</td><td>NULL</td></tr>",
                            "<tr><td>2066-06-16</td><td>NULL</td></tr>",
                            "<tr><td>2065-12-12</td><td>NULL</td></tr>",
                            "<tr><td>2055-01-23</td><td>NULL</td></tr>",
                            "<tr><td>2050-11-22</td><td>NULL</td></tr>",
                            "<tr><td>2050-09-07</td><td>NULL</td></tr>",
                            "<tr><td>2050-07-06</td><td>NULL</td></tr>",
                            "<tr><td>2050-05-21</td><td>NULL</td></tr>",
                            "<tr><td>2045-03-03</td><td>NULL</td></tr>",
                            "<tr><td>2042-02-22</td><td>NULL</td></tr>",
                            "<tr><td>2038-10-17</td><td>NULL</td></tr>",
                            "<tr><td>1986-06-25</td><td>1986-06-25</td></tr>",
                            "<tr><td>1986-06-25</td><td>1986-06-25</td></tr>",
                            "<tr><td>1986-06-23</td><td>1986-06-23</td></tr>",
                            "<tr><td>1986-06-23</td><td>1986-06-23</td></tr>",
                            "</table>"
                        ]
                    }
                }
            ],
            "execution_count": 159
        },
        {
            "cell_type": "code",
            "source": [
                "-- Let's check gender\n",
                "-- Data Standardization & Consistency \n",
                "SELECT DISTINCT gen FROM bronze. erp_cust_az12"
            ],
            "metadata": {
                "azdata_cell_guid": "423864c1-ab7b-4ef1-bf52-860e008472e8",
                "language": "sql"
            },
            "outputs": [
                {
                    "output_type": "display_data",
                    "data": {
                        "text/html": "(5 rows affected)"
                    },
                    "metadata": {}
                },
                {
                    "output_type": "display_data",
                    "data": {
                        "text/html": "Total execution time: 00:00:00.050"
                    },
                    "metadata": {}
                },
                {
                    "output_type": "execute_result",
                    "metadata": {},
                    "execution_count": 160,
                    "data": {
                        "application/vnd.dataresource+json": {
                            "schema": {
                                "fields": [
                                    {
                                        "name": "gen"
                                    }
                                ]
                            },
                            "data": [
                                {
                                    "gen": "NULL"
                                },
                                {
                                    "gen": "F "
                                },
                                {
                                    "gen": "Male"
                                },
                                {
                                    "gen": "Female"
                                },
                                {
                                    "gen": "M "
                                }
                            ]
                        },
                        "text/html": [
                            "<table>",
                            "<tr><th>gen</th></tr>",
                            "<tr><td>NULL</td></tr>",
                            "<tr><td>F </td></tr>",
                            "<tr><td>Male</td></tr>",
                            "<tr><td>Female</td></tr>",
                            "<tr><td>M </td></tr>",
                            "</table>"
                        ]
                    }
                }
            ],
            "execution_count": 160
        },
        {
            "cell_type": "code",
            "source": [
                "-- Fixing the name issue and handling missing values\n",
                "SELECT DISTINCT \n",
                "    gen,\n",
                "    CASE \n",
                "        WHEN UPPER(TRIM(gen)) IN ('F', 'FEMALE') THEN 'Female'\n",
                "        WHEN UPPER(TRIM(gen)) IN ('M', 'MALE') THEN 'Male'\n",
                "        ELSE 'Unknown'\n",
                "    END AS standardized_gen\n",
                "FROM bronze.erp_cust_az12;"
            ],
            "metadata": {
                "azdata_cell_guid": "8bb1ca85-4caa-4da1-833f-fee4cb410e7f",
                "language": "sql"
            },
            "outputs": [
                {
                    "output_type": "display_data",
                    "data": {
                        "text/html": "(5 rows affected)"
                    },
                    "metadata": {}
                },
                {
                    "output_type": "display_data",
                    "data": {
                        "text/html": "Total execution time: 00:00:00.026"
                    },
                    "metadata": {}
                },
                {
                    "output_type": "execute_result",
                    "metadata": {},
                    "execution_count": 161,
                    "data": {
                        "application/vnd.dataresource+json": {
                            "schema": {
                                "fields": [
                                    {
                                        "name": "gen"
                                    },
                                    {
                                        "name": "standardized_gen"
                                    }
                                ]
                            },
                            "data": [
                                {
                                    "gen": "Female",
                                    "standardized_gen": "Female"
                                },
                                {
                                    "gen": "F ",
                                    "standardized_gen": "Female"
                                },
                                {
                                    "gen": "M ",
                                    "standardized_gen": "Male"
                                },
                                {
                                    "gen": "NULL",
                                    "standardized_gen": "Unknown"
                                },
                                {
                                    "gen": "Male",
                                    "standardized_gen": "Male"
                                }
                            ]
                        },
                        "text/html": [
                            "<table>",
                            "<tr><th>gen</th><th>standardized_gen</th></tr>",
                            "<tr><td>Female</td><td>Female</td></tr>",
                            "<tr><td>F </td><td>Female</td></tr>",
                            "<tr><td>M </td><td>Male</td></tr>",
                            "<tr><td>NULL</td><td>Unknown</td></tr>",
                            "<tr><td>Male</td><td>Male</td></tr>",
                            "</table>"
                        ]
                    }
                }
            ],
            "execution_count": 161
        },
        {
            "cell_type": "markdown",
            "source": [
                "## Table: bronze.erp\\_loc\\_a101"
            ],
            "metadata": {
                "language": "sql",
                "azdata_cell_guid": "84b2cb98-6a16-4ba4-b769-81118e964fa1"
            },
            "attachments": {}
        },
        {
            "cell_type": "markdown",
            "source": [
                "| Problem                                                 | Solution                                        | Notes                                          | Columns Targeted |\n",
                "|---------------------------------------------------------|-------------------------------------------------|------------------------------------------------|------------------|\n",
                "| Non-compatible with customer info table (`cst_key`)    | Removed `'-'` to be compatible                 | `REPLACE()` string function is used.           | cid              |\n",
                "| Data Standardization & Consistency issues in country column | Mapped the values to their actual countries and replaced `NULLs` with `'Unknown'` | `'CASE WHEN'` and `TRIM()` string function are used. | cntry            |\n",
                ""
            ],
            "metadata": {
                "language": "sql",
                "azdata_cell_guid": "3b11ad1b-4e41-4421-b95f-eb53196cd429"
            },
            "attachments": {}
        },
        {
            "cell_type": "code",
            "source": [
                "-- Preview\n",
                "SELECT TOP 5\n",
                "*\n",
                "FROM bronze.erp_loc_a101;\n",
                "\n",
                "SELECT TOP 5\n",
                "cst_key\n",
                "FROM bronze.crm_cust_info;"
            ],
            "metadata": {
                "language": "sql",
                "azdata_cell_guid": "cde4425f-41b0-4df9-876a-7092135a1b60"
            },
            "outputs": [
                {
                    "output_type": "display_data",
                    "data": {
                        "text/html": "(5 rows affected)"
                    },
                    "metadata": {}
                },
                {
                    "output_type": "display_data",
                    "data": {
                        "text/html": "(5 rows affected)"
                    },
                    "metadata": {}
                },
                {
                    "output_type": "display_data",
                    "data": {
                        "text/html": "Total execution time: 00:00:00.013"
                    },
                    "metadata": {}
                },
                {
                    "output_type": "execute_result",
                    "metadata": {},
                    "execution_count": 183,
                    "data": {
                        "application/vnd.dataresource+json": {
                            "schema": {
                                "fields": [
                                    {
                                        "name": "CID"
                                    },
                                    {
                                        "name": "CNTRY"
                                    }
                                ]
                            },
                            "data": [
                                {
                                    "CID": "AW-00011000",
                                    "CNTRY": "Australia"
                                },
                                {
                                    "CID": "AW-00011001",
                                    "CNTRY": "Australia"
                                },
                                {
                                    "CID": "AW-00011002",
                                    "CNTRY": "Australia"
                                },
                                {
                                    "CID": "AW-00011003",
                                    "CNTRY": "Australia"
                                },
                                {
                                    "CID": "AW-00011004",
                                    "CNTRY": "Australia"
                                }
                            ]
                        },
                        "text/html": [
                            "<table>",
                            "<tr><th>CID</th><th>CNTRY</th></tr>",
                            "<tr><td>AW-00011000</td><td>Australia</td></tr>",
                            "<tr><td>AW-00011001</td><td>Australia</td></tr>",
                            "<tr><td>AW-00011002</td><td>Australia</td></tr>",
                            "<tr><td>AW-00011003</td><td>Australia</td></tr>",
                            "<tr><td>AW-00011004</td><td>Australia</td></tr>",
                            "</table>"
                        ]
                    }
                },
                {
                    "output_type": "execute_result",
                    "metadata": {},
                    "execution_count": 183,
                    "data": {
                        "application/vnd.dataresource+json": {
                            "schema": {
                                "fields": [
                                    {
                                        "name": "cst_key"
                                    }
                                ]
                            },
                            "data": [
                                {
                                    "cst_key": "AW00011000"
                                },
                                {
                                    "cst_key": "AW00011001"
                                },
                                {
                                    "cst_key": "AW00011002"
                                },
                                {
                                    "cst_key": "AW00011003"
                                },
                                {
                                    "cst_key": "AW00011004"
                                }
                            ]
                        },
                        "text/html": [
                            "<table>",
                            "<tr><th>cst_key</th></tr>",
                            "<tr><td>AW00011000</td></tr>",
                            "<tr><td>AW00011001</td></tr>",
                            "<tr><td>AW00011002</td></tr>",
                            "<tr><td>AW00011003</td></tr>",
                            "<tr><td>AW00011004</td></tr>",
                            "</table>"
                        ]
                    }
                }
            ],
            "execution_count": 183
        },
        {
            "cell_type": "code",
            "source": [
                "-- Let's remove ('-')\n",
                "SELECT TOP 5\n",
                "    REPLACE(cid, '-', '') AS transformed_cid,\n",
                "    cid\n",
                "FROM bronze.erp_loc_a101"
            ],
            "metadata": {
                "language": "sql",
                "azdata_cell_guid": "adfbf1d2-a268-4d9b-9be3-d1fa03175cf7"
            },
            "outputs": [
                {
                    "output_type": "display_data",
                    "data": {
                        "text/html": "(5 rows affected)"
                    },
                    "metadata": {}
                },
                {
                    "output_type": "display_data",
                    "data": {
                        "text/html": "Total execution time: 00:00:00.015"
                    },
                    "metadata": {}
                },
                {
                    "output_type": "execute_result",
                    "metadata": {},
                    "execution_count": 168,
                    "data": {
                        "application/vnd.dataresource+json": {
                            "schema": {
                                "fields": [
                                    {
                                        "name": "transformed_cid"
                                    },
                                    {
                                        "name": "cid"
                                    }
                                ]
                            },
                            "data": [
                                {
                                    "transformed_cid": "AW00011000",
                                    "cid": "AW-00011000"
                                },
                                {
                                    "transformed_cid": "AW00011001",
                                    "cid": "AW-00011001"
                                },
                                {
                                    "transformed_cid": "AW00011002",
                                    "cid": "AW-00011002"
                                },
                                {
                                    "transformed_cid": "AW00011003",
                                    "cid": "AW-00011003"
                                },
                                {
                                    "transformed_cid": "AW00011004",
                                    "cid": "AW-00011004"
                                }
                            ]
                        },
                        "text/html": [
                            "<table>",
                            "<tr><th>transformed_cid</th><th>cid</th></tr>",
                            "<tr><td>AW00011000</td><td>AW-00011000</td></tr>",
                            "<tr><td>AW00011001</td><td>AW-00011001</td></tr>",
                            "<tr><td>AW00011002</td><td>AW-00011002</td></tr>",
                            "<tr><td>AW00011003</td><td>AW-00011003</td></tr>",
                            "<tr><td>AW00011004</td><td>AW-00011004</td></tr>",
                            "</table>"
                        ]
                    }
                }
            ],
            "execution_count": 168
        },
        {
            "cell_type": "code",
            "source": [
                "-- Let's check if all ids exist in customer info table\n",
                "-- sounds good\n",
                "\n",
                "SELECT \n",
                "    REPLACE(cid, '-', '') AS transformed_cid,\n",
                "    cntry\n",
                "FROM bronze.erp_loc_a101\n",
                "WHERE REPLACE(cid, '-', '') NOT IN (\n",
                "    SELECT cst_key\n",
                "    FROM bronze.crm_cust_info\n",
                ");"
            ],
            "metadata": {
                "language": "sql",
                "azdata_cell_guid": "323c450b-8ca4-4f15-99d5-8a2bb9a634f4"
            },
            "outputs": [
                {
                    "output_type": "display_data",
                    "data": {
                        "text/html": "(0 rows affected)"
                    },
                    "metadata": {}
                },
                {
                    "output_type": "display_data",
                    "data": {
                        "text/html": "Total execution time: 00:00:00.137"
                    },
                    "metadata": {}
                },
                {
                    "output_type": "execute_result",
                    "metadata": {},
                    "execution_count": 167,
                    "data": {
                        "application/vnd.dataresource+json": {
                            "schema": {
                                "fields": [
                                    {
                                        "name": "transformed_cid"
                                    },
                                    {
                                        "name": "cntry"
                                    }
                                ]
                            },
                            "data": []
                        },
                        "text/html": [
                            "<table>",
                            "<tr><th>transformed_cid</th><th>cntry</th></tr>",
                            "</table>"
                        ]
                    }
                }
            ],
            "execution_count": 167
        },
        {
            "cell_type": "code",
            "source": [
                "-- Checking country\n",
                "SELECT DISTINCT cntry \n",
                "FROM bronze.erp_loc_a101\n",
                "ORDER BY cntry"
            ],
            "metadata": {
                "language": "sql",
                "azdata_cell_guid": "764e6373-b263-45c8-b9ca-a0f8838d34e6"
            },
            "outputs": [
                {
                    "output_type": "display_data",
                    "data": {
                        "text/html": "(10 rows affected)"
                    },
                    "metadata": {}
                },
                {
                    "output_type": "display_data",
                    "data": {
                        "text/html": "Total execution time: 00:00:00.096"
                    },
                    "metadata": {}
                },
                {
                    "output_type": "execute_result",
                    "metadata": {},
                    "execution_count": 170,
                    "data": {
                        "application/vnd.dataresource+json": {
                            "schema": {
                                "fields": [
                                    {
                                        "name": "cntry"
                                    }
                                ]
                            },
                            "data": [
                                {
                                    "cntry": "NULL"
                                },
                                {
                                    "cntry": "Australia"
                                },
                                {
                                    "cntry": "Canada"
                                },
                                {
                                    "cntry": "DE"
                                },
                                {
                                    "cntry": "France"
                                },
                                {
                                    "cntry": "Germany"
                                },
                                {
                                    "cntry": "United Kingdom"
                                },
                                {
                                    "cntry": "United States"
                                },
                                {
                                    "cntry": "US"
                                },
                                {
                                    "cntry": "USA"
                                }
                            ]
                        },
                        "text/html": [
                            "<table>",
                            "<tr><th>cntry</th></tr>",
                            "<tr><td>NULL</td></tr>",
                            "<tr><td>Australia</td></tr>",
                            "<tr><td>Canada</td></tr>",
                            "<tr><td>DE</td></tr>",
                            "<tr><td>France</td></tr>",
                            "<tr><td>Germany</td></tr>",
                            "<tr><td>United Kingdom</td></tr>",
                            "<tr><td>United States</td></tr>",
                            "<tr><td>US</td></tr>",
                            "<tr><td>USA</td></tr>",
                            "</table>"
                        ]
                    }
                }
            ],
            "execution_count": 170
        },
        {
            "cell_type": "code",
            "source": [
                "-- Data Standardization & Consistency \n",
                "SELECT DISTINCT \n",
                "    cntry AS old_cntry,\n",
                "    CASE \n",
                "        WHEN TRIM(cntry) = 'DE' THEN 'Germany'\n",
                "        WHEN TRIM(cntry) IN ('US', 'USA') THEN 'United States'\n",
                "        WHEN TRIM(cntry) = '' OR cntry IS NULL THEN 'Unknown'\n",
                "        ELSE TRIM(cntry)\n",
                "    END AS cntry\n",
                "FROM bronze.erp_loc_a101\n",
                "ORDER BY cntry;"
            ],
            "metadata": {
                "language": "sql",
                "azdata_cell_guid": "39dab8cf-d39b-47a7-bb34-2da73829dd48"
            },
            "outputs": [
                {
                    "output_type": "display_data",
                    "data": {
                        "text/html": "(10 rows affected)"
                    },
                    "metadata": {}
                },
                {
                    "output_type": "display_data",
                    "data": {
                        "text/html": "Total execution time: 00:00:00.026"
                    },
                    "metadata": {}
                },
                {
                    "output_type": "execute_result",
                    "metadata": {},
                    "execution_count": 172,
                    "data": {
                        "application/vnd.dataresource+json": {
                            "schema": {
                                "fields": [
                                    {
                                        "name": "old_cntry"
                                    },
                                    {
                                        "name": "cntry"
                                    }
                                ]
                            },
                            "data": [
                                {
                                    "old_cntry": "Australia",
                                    "cntry": "Australia"
                                },
                                {
                                    "old_cntry": "Canada",
                                    "cntry": "Canada"
                                },
                                {
                                    "old_cntry": "France",
                                    "cntry": "France"
                                },
                                {
                                    "old_cntry": "DE",
                                    "cntry": "Germany"
                                },
                                {
                                    "old_cntry": "Germany",
                                    "cntry": "Germany"
                                },
                                {
                                    "old_cntry": "United Kingdom",
                                    "cntry": "United Kingdom"
                                },
                                {
                                    "old_cntry": "US",
                                    "cntry": "United States"
                                },
                                {
                                    "old_cntry": "United States",
                                    "cntry": "United States"
                                },
                                {
                                    "old_cntry": "USA",
                                    "cntry": "United States"
                                },
                                {
                                    "old_cntry": "NULL",
                                    "cntry": "Unknown"
                                }
                            ]
                        },
                        "text/html": [
                            "<table>",
                            "<tr><th>old_cntry</th><th>cntry</th></tr>",
                            "<tr><td>Australia</td><td>Australia</td></tr>",
                            "<tr><td>Canada</td><td>Canada</td></tr>",
                            "<tr><td>France</td><td>France</td></tr>",
                            "<tr><td>DE</td><td>Germany</td></tr>",
                            "<tr><td>Germany</td><td>Germany</td></tr>",
                            "<tr><td>United Kingdom</td><td>United Kingdom</td></tr>",
                            "<tr><td>US</td><td>United States</td></tr>",
                            "<tr><td>United States</td><td>United States</td></tr>",
                            "<tr><td>USA</td><td>United States</td></tr>",
                            "<tr><td>NULL</td><td>Unknown</td></tr>",
                            "</table>"
                        ]
                    }
                }
            ],
            "execution_count": 172
        },
        {
            "cell_type": "markdown",
            "source": [
                "## Table: bronze.erp\\_px\\_cat\\_g1v2"
            ],
            "metadata": {
                "language": "sql",
                "azdata_cell_guid": "0243c192-1f17-40b8-b204-7093474780d9"
            },
            "attachments": {}
        },
        {
            "cell_type": "markdown",
            "source": [
                "| Problem                                                      | Solution                                                          | Notes                               | Columns Targeted |\n",
                "|--------------------------------------------------------------|-------------------------------------------------------------------|-------------------------------------|------------------|\n",
                "| Just one ID is not compatible with derived product category in the product info table | Replaced `'CO_PD'` with `'CO_PE'` to match the product info table and avoid join issues | `REPLACE()` string function is used. | id               |\n",
                ""
            ],
            "metadata": {
                "language": "sql",
                "azdata_cell_guid": "49de0d8c-2358-40c1-9956-cb8b257eddaa"
            },
            "attachments": {}
        },
        {
            "cell_type": "code",
            "source": [
                "--Preview\n",
                "SELECT TOP 5\n",
                "*\n",
                "FROM bronze.erp_px_cat_g1v2"
            ],
            "metadata": {
                "language": "sql",
                "azdata_cell_guid": "4f630731-457e-4c4e-b8c9-d030aaf16705"
            },
            "outputs": [
                {
                    "output_type": "display_data",
                    "data": {
                        "text/html": "(5 rows affected)"
                    },
                    "metadata": {}
                },
                {
                    "output_type": "display_data",
                    "data": {
                        "text/html": "Total execution time: 00:00:00.010"
                    },
                    "metadata": {}
                },
                {
                    "output_type": "execute_result",
                    "metadata": {},
                    "execution_count": 173,
                    "data": {
                        "application/vnd.dataresource+json": {
                            "schema": {
                                "fields": [
                                    {
                                        "name": "ID"
                                    },
                                    {
                                        "name": "CAT"
                                    },
                                    {
                                        "name": "SUBCAT"
                                    },
                                    {
                                        "name": "MAINTENANCE"
                                    }
                                ]
                            },
                            "data": [
                                {
                                    "ID": "AC_BR",
                                    "CAT": "Accessories",
                                    "SUBCAT": "Bike Racks",
                                    "MAINTENANCE": "Yes"
                                },
                                {
                                    "ID": "AC_BS",
                                    "CAT": "Accessories",
                                    "SUBCAT": "Bike Stands",
                                    "MAINTENANCE": "No"
                                },
                                {
                                    "ID": "AC_BC",
                                    "CAT": "Accessories",
                                    "SUBCAT": "Bottles and Cages",
                                    "MAINTENANCE": "No"
                                },
                                {
                                    "ID": "AC_CL",
                                    "CAT": "Accessories",
                                    "SUBCAT": "Cleaners",
                                    "MAINTENANCE": "Yes"
                                },
                                {
                                    "ID": "AC_FE",
                                    "CAT": "Accessories",
                                    "SUBCAT": "Fenders",
                                    "MAINTENANCE": "No"
                                }
                            ]
                        },
                        "text/html": [
                            "<table>",
                            "<tr><th>ID</th><th>CAT</th><th>SUBCAT</th><th>MAINTENANCE</th></tr>",
                            "<tr><td>AC_BR</td><td>Accessories</td><td>Bike Racks</td><td>Yes</td></tr>",
                            "<tr><td>AC_BS</td><td>Accessories</td><td>Bike Stands</td><td>No</td></tr>",
                            "<tr><td>AC_BC</td><td>Accessories</td><td>Bottles and Cages</td><td>No</td></tr>",
                            "<tr><td>AC_CL</td><td>Accessories</td><td>Cleaners</td><td>Yes</td></tr>",
                            "<tr><td>AC_FE</td><td>Accessories</td><td>Fenders</td><td>No</td></tr>",
                            "</table>"
                        ]
                    }
                }
            ],
            "execution_count": 173
        },
        {
            "cell_type": "code",
            "source": [
                "-- As we learned earlier there was one id not in product category key\n",
                "SELECT id, CAT, SUBCAT, MAINTENANCE\n",
                "FROM bronze.erp_px_cat_g1v2\n",
                "WHERE id NOT IN (\n",
                "    SELECT REPLACE(SUBSTRING(prd_key, 1, 5), '-', '_')\n",
                "    FROM bronze.crm_prd_info);\n",
                ""
            ],
            "metadata": {
                "language": "sql",
                "azdata_cell_guid": "c1a31307-7390-44e5-a236-4e0d0c9a4ddb"
            },
            "outputs": [
                {
                    "output_type": "display_data",
                    "data": {
                        "text/html": "(1 row affected)"
                    },
                    "metadata": {}
                },
                {
                    "output_type": "display_data",
                    "data": {
                        "text/html": "Total execution time: 00:00:00.020"
                    },
                    "metadata": {}
                },
                {
                    "output_type": "execute_result",
                    "metadata": {},
                    "execution_count": 176,
                    "data": {
                        "application/vnd.dataresource+json": {
                            "schema": {
                                "fields": [
                                    {
                                        "name": "id"
                                    },
                                    {
                                        "name": "CAT"
                                    },
                                    {
                                        "name": "SUBCAT"
                                    },
                                    {
                                        "name": "MAINTENANCE"
                                    }
                                ]
                            },
                            "data": [
                                {
                                    "id": "CO_PD",
                                    "CAT": "Components",
                                    "SUBCAT": "Pedals",
                                    "MAINTENANCE": "No"
                                }
                            ]
                        },
                        "text/html": [
                            "<table>",
                            "<tr><th>id</th><th>CAT</th><th>SUBCAT</th><th>MAINTENANCE</th></tr>",
                            "<tr><td>CO_PD</td><td>Components</td><td>Pedals</td><td>No</td></tr>",
                            "</table>"
                        ]
                    }
                }
            ],
            "execution_count": 176
        },
        {
            "cell_type": "code",
            "source": [
                "-- Now I will replace ('CO_PD') by ('CO_PE') to match with the product info table, in ordet to have no problem while joining\n",
                "SELECT \n",
                "    id,\n",
                "    CAT,\n",
                "    SUBCAT,\n",
                "    MAINTENANCE\n",
                "FROM bronze.erp_px_cat_g1v2\n",
                "WHERE REPLACE(id, 'CO_PD', 'CO_PE') NOT IN (\n",
                "    SELECT REPLACE(SUBSTRING(prd_key, 1, 5), '-', '_')\n",
                "    FROM bronze.crm_prd_info\n",
                ");"
            ],
            "metadata": {
                "language": "sql",
                "azdata_cell_guid": "c71b1c62-07f9-461c-afa2-9b95b2326bc3"
            },
            "outputs": [
                {
                    "output_type": "display_data",
                    "data": {
                        "text/html": "(0 rows affected)"
                    },
                    "metadata": {}
                },
                {
                    "output_type": "display_data",
                    "data": {
                        "text/html": "Total execution time: 00:00:00.030"
                    },
                    "metadata": {}
                },
                {
                    "output_type": "execute_result",
                    "metadata": {},
                    "execution_count": 182,
                    "data": {
                        "application/vnd.dataresource+json": {
                            "schema": {
                                "fields": [
                                    {
                                        "name": "id"
                                    },
                                    {
                                        "name": "CAT"
                                    },
                                    {
                                        "name": "SUBCAT"
                                    },
                                    {
                                        "name": "MAINTENANCE"
                                    }
                                ]
                            },
                            "data": []
                        },
                        "text/html": [
                            "<table>",
                            "<tr><th>id</th><th>CAT</th><th>SUBCAT</th><th>MAINTENANCE</th></tr>",
                            "</table>"
                        ]
                    }
                }
            ],
            "execution_count": 182
        },
        {
            "cell_type": "code",
            "source": [
                "-- Check for unwanted Spaces (cat, subcat, maintenance)\n",
                "-- All looking good\n",
                "SELECT *\n",
                "FROM bronze.erp_px_cat_g1v2\n",
                "WHERE cat != TRIM(cat)\n",
                "   OR subcat != TRIM(subcat)\n",
                "   OR maintenance != TRIM(maintenance);"
            ],
            "metadata": {
                "language": "sql",
                "azdata_cell_guid": "e2fbbac9-fc79-442f-acdc-d9183b3f6cd7"
            },
            "outputs": [
                {
                    "output_type": "display_data",
                    "data": {
                        "text/html": "(0 rows affected)"
                    },
                    "metadata": {}
                },
                {
                    "output_type": "display_data",
                    "data": {
                        "text/html": "Total execution time: 00:00:00.005"
                    },
                    "metadata": {}
                },
                {
                    "output_type": "execute_result",
                    "metadata": {},
                    "execution_count": 181,
                    "data": {
                        "application/vnd.dataresource+json": {
                            "schema": {
                                "fields": [
                                    {
                                        "name": "ID"
                                    },
                                    {
                                        "name": "CAT"
                                    },
                                    {
                                        "name": "SUBCAT"
                                    },
                                    {
                                        "name": "MAINTENANCE"
                                    }
                                ]
                            },
                            "data": []
                        },
                        "text/html": [
                            "<table>",
                            "<tr><th>ID</th><th>CAT</th><th>SUBCAT</th><th>MAINTENANCE</th></tr>",
                            "</table>"
                        ]
                    }
                }
            ],
            "execution_count": 181
        },
        {
            "cell_type": "code",
            "source": [
                "-- Data Standardization & Consistency \n",
                "-- It is fine\n",
                "SELECT DISTINCT cat \n",
                "FROM bronze. erp_px_cat_g1v2"
            ],
            "metadata": {
                "language": "sql",
                "azdata_cell_guid": "3abf5dda-cd47-45f5-832d-a16f29494875"
            },
            "outputs": [
                {
                    "output_type": "display_data",
                    "data": {
                        "text/html": "(4 rows affected)"
                    },
                    "metadata": {}
                },
                {
                    "output_type": "display_data",
                    "data": {
                        "text/html": "Total execution time: 00:00:00.011"
                    },
                    "metadata": {}
                },
                {
                    "output_type": "execute_result",
                    "metadata": {},
                    "execution_count": 178,
                    "data": {
                        "application/vnd.dataresource+json": {
                            "schema": {
                                "fields": [
                                    {
                                        "name": "cat"
                                    }
                                ]
                            },
                            "data": [
                                {
                                    "cat": "Accessories"
                                },
                                {
                                    "cat": "Bikes"
                                },
                                {
                                    "cat": "Clothing"
                                },
                                {
                                    "cat": "Components"
                                }
                            ]
                        },
                        "text/html": [
                            "<table>",
                            "<tr><th>cat</th></tr>",
                            "<tr><td>Accessories</td></tr>",
                            "<tr><td>Bikes</td></tr>",
                            "<tr><td>Clothing</td></tr>",
                            "<tr><td>Components</td></tr>",
                            "</table>"
                        ]
                    }
                }
            ],
            "execution_count": 178
        },
        {
            "cell_type": "code",
            "source": [
                "-- Data Standardization & Consistency \n",
                "-- It is fine\n",
                "SELECT DISTINCT subcat\n",
                "FROM bronze. erp_px_cat_g1v2"
            ],
            "metadata": {
                "language": "sql",
                "azdata_cell_guid": "4a165948-6992-4383-aa2f-556540491722"
            },
            "outputs": [
                {
                    "output_type": "display_data",
                    "data": {
                        "text/html": "(37 rows affected)"
                    },
                    "metadata": {}
                },
                {
                    "output_type": "display_data",
                    "data": {
                        "text/html": "Total execution time: 00:00:00.004"
                    },
                    "metadata": {}
                },
                {
                    "output_type": "execute_result",
                    "metadata": {},
                    "execution_count": 179,
                    "data": {
                        "application/vnd.dataresource+json": {
                            "schema": {
                                "fields": [
                                    {
                                        "name": "subcat"
                                    }
                                ]
                            },
                            "data": [
                                {
                                    "subcat": "Bib-Shorts"
                                },
                                {
                                    "subcat": "Bike Racks"
                                },
                                {
                                    "subcat": "Bike Stands"
                                },
                                {
                                    "subcat": "Bottles and Cages"
                                },
                                {
                                    "subcat": "Bottom Brackets"
                                },
                                {
                                    "subcat": "Brakes"
                                },
                                {
                                    "subcat": "Caps"
                                },
                                {
                                    "subcat": "Chains"
                                },
                                {
                                    "subcat": "Cleaners"
                                },
                                {
                                    "subcat": "Cranksets"
                                },
                                {
                                    "subcat": "Derailleurs"
                                },
                                {
                                    "subcat": "Fenders"
                                },
                                {
                                    "subcat": "Forks"
                                },
                                {
                                    "subcat": "Gloves"
                                },
                                {
                                    "subcat": "Handlebars"
                                },
                                {
                                    "subcat": "Headsets"
                                },
                                {
                                    "subcat": "Helmets"
                                },
                                {
                                    "subcat": "Hydration Packs"
                                },
                                {
                                    "subcat": "Jerseys"
                                },
                                {
                                    "subcat": "Lights"
                                },
                                {
                                    "subcat": "Locks"
                                },
                                {
                                    "subcat": "Mountain Bikes"
                                },
                                {
                                    "subcat": "Mountain Frames"
                                },
                                {
                                    "subcat": "Panniers"
                                },
                                {
                                    "subcat": "Pedals"
                                },
                                {
                                    "subcat": "Pumps"
                                },
                                {
                                    "subcat": "Road Bikes"
                                },
                                {
                                    "subcat": "Road Frames"
                                },
                                {
                                    "subcat": "Saddles"
                                },
                                {
                                    "subcat": "Shorts"
                                },
                                {
                                    "subcat": "Socks"
                                },
                                {
                                    "subcat": "Tights"
                                },
                                {
                                    "subcat": "Tires and Tubes"
                                },
                                {
                                    "subcat": "Touring Bikes"
                                },
                                {
                                    "subcat": "Touring Frames"
                                },
                                {
                                    "subcat": "Vests"
                                },
                                {
                                    "subcat": "Wheels"
                                }
                            ]
                        },
                        "text/html": [
                            "<table>",
                            "<tr><th>subcat</th></tr>",
                            "<tr><td>Bib-Shorts</td></tr>",
                            "<tr><td>Bike Racks</td></tr>",
                            "<tr><td>Bike Stands</td></tr>",
                            "<tr><td>Bottles and Cages</td></tr>",
                            "<tr><td>Bottom Brackets</td></tr>",
                            "<tr><td>Brakes</td></tr>",
                            "<tr><td>Caps</td></tr>",
                            "<tr><td>Chains</td></tr>",
                            "<tr><td>Cleaners</td></tr>",
                            "<tr><td>Cranksets</td></tr>",
                            "<tr><td>Derailleurs</td></tr>",
                            "<tr><td>Fenders</td></tr>",
                            "<tr><td>Forks</td></tr>",
                            "<tr><td>Gloves</td></tr>",
                            "<tr><td>Handlebars</td></tr>",
                            "<tr><td>Headsets</td></tr>",
                            "<tr><td>Helmets</td></tr>",
                            "<tr><td>Hydration Packs</td></tr>",
                            "<tr><td>Jerseys</td></tr>",
                            "<tr><td>Lights</td></tr>",
                            "<tr><td>Locks</td></tr>",
                            "<tr><td>Mountain Bikes</td></tr>",
                            "<tr><td>Mountain Frames</td></tr>",
                            "<tr><td>Panniers</td></tr>",
                            "<tr><td>Pedals</td></tr>",
                            "<tr><td>Pumps</td></tr>",
                            "<tr><td>Road Bikes</td></tr>",
                            "<tr><td>Road Frames</td></tr>",
                            "<tr><td>Saddles</td></tr>",
                            "<tr><td>Shorts</td></tr>",
                            "<tr><td>Socks</td></tr>",
                            "<tr><td>Tights</td></tr>",
                            "<tr><td>Tires and Tubes</td></tr>",
                            "<tr><td>Touring Bikes</td></tr>",
                            "<tr><td>Touring Frames</td></tr>",
                            "<tr><td>Vests</td></tr>",
                            "<tr><td>Wheels</td></tr>",
                            "</table>"
                        ]
                    }
                }
            ],
            "execution_count": 179
        },
        {
            "cell_type": "code",
            "source": [
                "-- Data Standardization & Consistency \n",
                "-- It is fine\n",
                "SELECT DISTINCT maintenance \n",
                "FROM bronze. erp_px_cat_g1v2"
            ],
            "metadata": {
                "language": "sql",
                "azdata_cell_guid": "16743c7e-565f-4765-8f6f-52dd1fefc86a"
            },
            "outputs": [
                {
                    "output_type": "display_data",
                    "data": {
                        "text/html": "(2 rows affected)"
                    },
                    "metadata": {}
                },
                {
                    "output_type": "display_data",
                    "data": {
                        "text/html": "Total execution time: 00:00:00.009"
                    },
                    "metadata": {}
                },
                {
                    "output_type": "execute_result",
                    "metadata": {},
                    "execution_count": 180,
                    "data": {
                        "application/vnd.dataresource+json": {
                            "schema": {
                                "fields": [
                                    {
                                        "name": "maintenance"
                                    }
                                ]
                            },
                            "data": [
                                {
                                    "maintenance": "No"
                                },
                                {
                                    "maintenance": "Yes"
                                }
                            ]
                        },
                        "text/html": [
                            "<table>",
                            "<tr><th>maintenance</th></tr>",
                            "<tr><td>No</td></tr>",
                            "<tr><td>Yes</td></tr>",
                            "</table>"
                        ]
                    }
                }
            ],
            "execution_count": 180
        },
        {
            "cell_type": "code",
            "source": [
                ""
            ],
            "metadata": {
                "language": "sql",
                "azdata_cell_guid": "cced8e4d-148a-40fa-93ac-9482552f96c0"
            },
            "outputs": [],
            "execution_count": null
        }
    ]
}