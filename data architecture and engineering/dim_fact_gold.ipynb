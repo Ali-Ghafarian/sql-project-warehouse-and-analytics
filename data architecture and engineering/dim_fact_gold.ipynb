{
    "cells": [
        {
            "cell_type": "markdown",
            "metadata": {},
            "source": [
                "# Data Mart Design for Gold Layer\n",
                "This notebook defines dimensions and fact views following a star schema for the Gold layer of the data warehouse."
            ]
        },
        {
            "cell_type": "markdown",
            "metadata": {
                "azdata_cell_guid": "85418f2b-0c42-48ad-a993-9ee97a015b86",
                "language": "sql"
            },
            "source": [
                "# Data Mart Design\n",
                "## Creating Fact and Dimension Views using Star Schema"
            ]
        },
        {
            "attachments": {},
            "cell_type": "markdown",
            "metadata": {
                "azdata_cell_guid": "6dd46c4b-b442-4429-9550-58d5937b94b4",
                "language": "sql"
            },
            "source": [
                "| **Name**             | **Master Table**                 | **Joined With**                                | **Notes**                                                                                                   |\n",
                "|-----------------------|---------------------------------|-------------------------------------------------|--------------------------------------------------------------------------------------------------------------|\n",
                "| **gold.dim_customers** | silver.crm_cust_info            | silver.erp_cust_az12, silver.erp_loc_a101      | - Checked for duplicates in master table's potential primary key that might be introduced after the join.     |\n",
                "|                       |                                 |                                                 | - Fixed data integration issue for gender by prioritizing master table, using secondary table if unavailable. |\n",
                "|                       |                                 |                                                 | - Renamed and rearranged the columns in a more meaningful way.                                                |\n",
                "|                       |                                 |                                                 | - Generated a surrogate key with window function **ROW_NUMBER()** to ensure uniqueness.                        |\n",
                "| **gold.dim_products**  | silver.crm_prd_info             | silver.erp_px_cat_g1v2                         | - Checked for duplicates in master table's potential primary key that might be introduced after the join.     |\n",
                "|                       |                                 |                                                 | - Historical data is filtered out.                                                                            |\n",
                "|                       |                                 |                                                 | - Renamed and rearranged the columns in a more meaningful way.                                                |\n",
                "|                       |                                 |                                                 | - Generated a surrogate key with window function **ROW_NUMBER()** to ensure uniqueness.                        |\n",
                "| **gold.fact_sales**    | silver.crm_sales_details        | gold.dim_products, gold.dim_customers          | - Performed data lookup for dimensions' surrogate keys for easier connection with dimensions.                  |\n",
                "|                       |                                 |                                                 | - Renamed and rearranged the columns in a more meaningful way.                                                |\n",
                "|                       |                                 |                                                 | - Checked the data model connectivity between fact and dimensions.                                             |\n"
            ]
        },
        {
            "attachments": {},
            "cell_type": "markdown",
            "metadata": {
                "azdata_cell_guid": "a5668cc2-a2dc-45dd-b4bc-9182ca1542a8",
                "language": "sql"
            },
            "source": [
                "## Dim: Customers"
            ]
        },
        {
            "cell_type": "code",
            "execution_count": 2,
            "metadata": {
                "azdata_cell_guid": "e329fda9-4204-420c-afbd-fd06e8519b00",
                "language": "sql"
            },
            "outputs": [
                {
                    "data": {
                        "text/html": [
                            "(20 rows affected)"
                        ]
                    },
                    "metadata": {},
                    "output_type": "display_data"
                },
                {
                    "data": {
                        "text/html": [
                            "Total execution time: 00:00:00.048"
                        ]
                    },
                    "metadata": {},
                    "output_type": "display_data"
                },
                {
                    "data": {
                        "application/vnd.dataresource+json": {
                            "data": [
                                {
                                    "bdate": "1969-08-05",
                                    "cntry": "Australia",
                                    "cst_create_date": "2025-10-06",
                                    "cst_firstname": "Jacquelyn",
                                    "cst_gndr": "Female",
                                    "cst_id": "11010",
                                    "cst_key": "AW00011010",
                                    "cst_lastname": "Suarez",
                                    "cst_marital_status": "Single",
                                    "gen": "Female"
                                },
                                {
                                    "bdate": "1969-05-03",
                                    "cntry": "Australia",
                                    "cst_create_date": "2025-10-06",
                                    "cst_firstname": "Curtis",
                                    "cst_gndr": "Male",
                                    "cst_id": "11011",
                                    "cst_key": "AW00011011",
                                    "cst_lastname": "Lu",
                                    "cst_marital_status": "Married",
                                    "gen": "Male"
                                },
                                {
                                    "bdate": "1979-01-14",
                                    "cntry": "United States",
                                    "cst_create_date": "2025-10-06",
                                    "cst_firstname": "Lauren",
                                    "cst_gndr": "Female",
                                    "cst_id": "11012",
                                    "cst_key": "AW00011012",
                                    "cst_lastname": "Walker",
                                    "cst_marital_status": "Married",
                                    "gen": "Female"
                                },
                                {
                                    "bdate": "1979-08-03",
                                    "cntry": "United States",
                                    "cst_create_date": "2025-10-06",
                                    "cst_firstname": "Ian",
                                    "cst_gndr": "Male",
                                    "cst_id": "11013",
                                    "cst_key": "AW00011013",
                                    "cst_lastname": "Jenkins",
                                    "cst_marital_status": "Married",
                                    "gen": "Male"
                                },
                                {
                                    "bdate": "1952-06-05",
                                    "cntry": "Australia",
                                    "cst_create_date": "2025-10-07",
                                    "cst_firstname": "Jessie",
                                    "cst_gndr": "Male",
                                    "cst_id": "11027",
                                    "cst_key": "AW00011027",
                                    "cst_lastname": "Zhao",
                                    "cst_marital_status": "Married",
                                    "gen": "Female"
                                },
                                {
                                    "bdate": "1951-10-09",
                                    "cntry": "Australia",
                                    "cst_create_date": "2025-10-07",
                                    "cst_firstname": "Jill",
                                    "cst_gndr": "Female",
                                    "cst_id": "11028",
                                    "cst_key": "AW00011028",
                                    "cst_lastname": "Jimenez",
                                    "cst_marital_status": "Married",
                                    "gen": "Female"
                                },
                                {
                                    "bdate": "1952-06-19",
                                    "cntry": "Australia",
                                    "cst_create_date": "2025-10-07",
                                    "cst_firstname": "Jimmy",
                                    "cst_gndr": "Male",
                                    "cst_id": "11029",
                                    "cst_key": "AW00011029",
                                    "cst_lastname": "Moreno",
                                    "cst_marital_status": "Married",
                                    "gen": "Female"
                                },
                                {
                                    "bdate": "1958-02-18",
                                    "cntry": "Australia",
                                    "cst_create_date": "2025-10-07",
                                    "cst_firstname": "Bethany",
                                    "cst_gndr": "Female",
                                    "cst_id": "11030",
                                    "cst_key": "AW00011030",
                                    "cst_lastname": "Yuan",
                                    "cst_marital_status": "Married",
                                    "gen": "Female"
                                },
                                {
                                    "bdate": "1981-08-23",
                                    "cntry": "United States",
                                    "cst_create_date": "2025-10-07",
                                    "cst_firstname": "Nathan",
                                    "cst_gndr": "Male",
                                    "cst_id": "11043",
                                    "cst_key": "AW00011043",
                                    "cst_lastname": "Simmons",
                                    "cst_marital_status": "Married",
                                    "gen": "Female"
                                },
                                {
                                    "bdate": "1954-11-21",
                                    "cntry": "Australia",
                                    "cst_create_date": "2025-10-07",
                                    "cst_firstname": "Adam",
                                    "cst_gndr": "Male",
                                    "cst_id": "11044",
                                    "cst_key": "AW00011044",
                                    "cst_lastname": "Flores",
                                    "cst_marital_status": "Married",
                                    "gen": "Female"
                                },
                                {
                                    "bdate": "1955-11-16",
                                    "cntry": "Australia",
                                    "cst_create_date": "2025-10-07",
                                    "cst_firstname": "Leonard",
                                    "cst_gndr": "Male",
                                    "cst_id": "11045",
                                    "cst_key": "AW00011045",
                                    "cst_lastname": "Nara",
                                    "cst_marital_status": "Single",
                                    "gen": "Female"
                                },
                                {
                                    "bdate": "1955-09-19",
                                    "cntry": "Australia",
                                    "cst_create_date": "2025-10-07",
                                    "cst_firstname": "Christine",
                                    "cst_gndr": "Female",
                                    "cst_id": "11046",
                                    "cst_key": "AW00011046",
                                    "cst_lastname": "Yuan",
                                    "cst_marital_status": "Married",
                                    "gen": "Female"
                                },
                                {
                                    "bdate": "1959-09-14",
                                    "cntry": "Australia",
                                    "cst_create_date": "2025-10-07",
                                    "cst_firstname": "Jon",
                                    "cst_gndr": "Male",
                                    "cst_id": "11060",
                                    "cst_key": "AW00011060",
                                    "cst_lastname": "Zhou",
                                    "cst_marital_status": "Married",
                                    "gen": "Female"
                                },
                                {
                                    "bdate": "1976-02-20",
                                    "cntry": "Australia",
                                    "cst_create_date": "2025-10-07",
                                    "cst_firstname": "Todd",
                                    "cst_gndr": "Male",
                                    "cst_id": "11061",
                                    "cst_key": "AW00011061",
                                    "cst_lastname": "Gao",
                                    "cst_marital_status": "Married",
                                    "gen": "Male"
                                },
                                {
                                    "bdate": "1981-03-01",
                                    "cntry": "United States",
                                    "cst_create_date": "2025-10-07",
                                    "cst_firstname": "Noah",
                                    "cst_gndr": "Male",
                                    "cst_id": "11062",
                                    "cst_key": "AW00011062",
                                    "cst_lastname": "Powell",
                                    "cst_marital_status": "Married",
                                    "gen": "Male"
                                },
                                {
                                    "bdate": "1980-10-04",
                                    "cntry": "United States",
                                    "cst_create_date": "2025-10-07",
                                    "cst_firstname": "Angela",
                                    "cst_gndr": "Female",
                                    "cst_id": "11063",
                                    "cst_key": "AW00011063",
                                    "cst_lastname": "Murphy",
                                    "cst_marital_status": "Single",
                                    "gen": "Female"
                                },
                                {
                                    "bdate": "1963-03-19",
                                    "cntry": "Australia",
                                    "cst_create_date": "2025-10-07",
                                    "cst_firstname": "Leah",
                                    "cst_gndr": "Female",
                                    "cst_id": "11077",
                                    "cst_key": "AW00011077",
                                    "cst_lastname": "Ye",
                                    "cst_marital_status": "Single",
                                    "gen": "Female"
                                },
                                {
                                    "bdate": "1985-01-06",
                                    "cntry": "Canada",
                                    "cst_create_date": "2025-10-07",
                                    "cst_firstname": "Gina",
                                    "cst_gndr": "Female",
                                    "cst_id": "11078",
                                    "cst_key": "AW00011078",
                                    "cst_lastname": "Martin",
                                    "cst_marital_status": "Single",
                                    "gen": "Female"
                                },
                                {
                                    "bdate": "1970-03-07",
                                    "cntry": "Australia",
                                    "cst_create_date": "2025-10-07",
                                    "cst_firstname": "Donald",
                                    "cst_gndr": "Male",
                                    "cst_id": "11079",
                                    "cst_key": "AW00011079",
                                    "cst_lastname": "Gonzalez",
                                    "cst_marital_status": "Single",
                                    "gen": "Male"
                                },
                                {
                                    "bdate": "1965-01-13",
                                    "cntry": "Australia",
                                    "cst_create_date": "2025-10-07",
                                    "cst_firstname": "Damien",
                                    "cst_gndr": "Male",
                                    "cst_id": "11080",
                                    "cst_key": "AW00011080",
                                    "cst_lastname": "Chander",
                                    "cst_marital_status": "Married",
                                    "gen": "Male"
                                }
                            ],
                            "schema": {
                                "fields": [
                                    {
                                        "name": "cst_id"
                                    },
                                    {
                                        "name": "cst_key"
                                    },
                                    {
                                        "name": "cst_firstname"
                                    },
                                    {
                                        "name": "cst_lastname"
                                    },
                                    {
                                        "name": "cst_marital_status"
                                    },
                                    {
                                        "name": "cst_gndr"
                                    },
                                    {
                                        "name": "cst_create_date"
                                    },
                                    {
                                        "name": "bdate"
                                    },
                                    {
                                        "name": "gen"
                                    },
                                    {
                                        "name": "cntry"
                                    }
                                ]
                            }
                        },
                        "text/html": [
                            "<table>\n",
                            "<tr><th>cst_id</th><th>cst_key</th><th>cst_firstname</th><th>cst_lastname</th><th>cst_marital_status</th><th>cst_gndr</th><th>cst_create_date</th><th>bdate</th><th>gen</th><th>cntry</th></tr>\n",
                            "<tr><td>11010</td><td>AW00011010</td><td>Jacquelyn</td><td>Suarez</td><td>Single</td><td>Female</td><td>2025-10-06</td><td>1969-08-05</td><td>Female</td><td>Australia</td></tr>\n",
                            "<tr><td>11011</td><td>AW00011011</td><td>Curtis</td><td>Lu</td><td>Married</td><td>Male</td><td>2025-10-06</td><td>1969-05-03</td><td>Male</td><td>Australia</td></tr>\n",
                            "<tr><td>11012</td><td>AW00011012</td><td>Lauren</td><td>Walker</td><td>Married</td><td>Female</td><td>2025-10-06</td><td>1979-01-14</td><td>Female</td><td>United States</td></tr>\n",
                            "<tr><td>11013</td><td>AW00011013</td><td>Ian</td><td>Jenkins</td><td>Married</td><td>Male</td><td>2025-10-06</td><td>1979-08-03</td><td>Male</td><td>United States</td></tr>\n",
                            "<tr><td>11027</td><td>AW00011027</td><td>Jessie</td><td>Zhao</td><td>Married</td><td>Male</td><td>2025-10-07</td><td>1952-06-05</td><td>Female</td><td>Australia</td></tr>\n",
                            "<tr><td>11028</td><td>AW00011028</td><td>Jill</td><td>Jimenez</td><td>Married</td><td>Female</td><td>2025-10-07</td><td>1951-10-09</td><td>Female</td><td>Australia</td></tr>\n",
                            "<tr><td>11029</td><td>AW00011029</td><td>Jimmy</td><td>Moreno</td><td>Married</td><td>Male</td><td>2025-10-07</td><td>1952-06-19</td><td>Female</td><td>Australia</td></tr>\n",
                            "<tr><td>11030</td><td>AW00011030</td><td>Bethany</td><td>Yuan</td><td>Married</td><td>Female</td><td>2025-10-07</td><td>1958-02-18</td><td>Female</td><td>Australia</td></tr>\n",
                            "<tr><td>11043</td><td>AW00011043</td><td>Nathan</td><td>Simmons</td><td>Married</td><td>Male</td><td>2025-10-07</td><td>1981-08-23</td><td>Female</td><td>United States</td></tr>\n",
                            "<tr><td>11044</td><td>AW00011044</td><td>Adam</td><td>Flores</td><td>Married</td><td>Male</td><td>2025-10-07</td><td>1954-11-21</td><td>Female</td><td>Australia</td></tr>\n",
                            "<tr><td>11045</td><td>AW00011045</td><td>Leonard</td><td>Nara</td><td>Single</td><td>Male</td><td>2025-10-07</td><td>1955-11-16</td><td>Female</td><td>Australia</td></tr>\n",
                            "<tr><td>11046</td><td>AW00011046</td><td>Christine</td><td>Yuan</td><td>Married</td><td>Female</td><td>2025-10-07</td><td>1955-09-19</td><td>Female</td><td>Australia</td></tr>\n",
                            "<tr><td>11060</td><td>AW00011060</td><td>Jon</td><td>Zhou</td><td>Married</td><td>Male</td><td>2025-10-07</td><td>1959-09-14</td><td>Female</td><td>Australia</td></tr>\n",
                            "<tr><td>11061</td><td>AW00011061</td><td>Todd</td><td>Gao</td><td>Married</td><td>Male</td><td>2025-10-07</td><td>1976-02-20</td><td>Male</td><td>Australia</td></tr>\n",
                            "<tr><td>11062</td><td>AW00011062</td><td>Noah</td><td>Powell</td><td>Married</td><td>Male</td><td>2025-10-07</td><td>1981-03-01</td><td>Male</td><td>United States</td></tr>\n",
                            "<tr><td>11063</td><td>AW00011063</td><td>Angela</td><td>Murphy</td><td>Single</td><td>Female</td><td>2025-10-07</td><td>1980-10-04</td><td>Female</td><td>United States</td></tr>\n",
                            "<tr><td>11077</td><td>AW00011077</td><td>Leah</td><td>Ye</td><td>Single</td><td>Female</td><td>2025-10-07</td><td>1963-03-19</td><td>Female</td><td>Australia</td></tr>\n",
                            "<tr><td>11078</td><td>AW00011078</td><td>Gina</td><td>Martin</td><td>Single</td><td>Female</td><td>2025-10-07</td><td>1985-01-06</td><td>Female</td><td>Canada</td></tr>\n",
                            "<tr><td>11079</td><td>AW00011079</td><td>Donald</td><td>Gonzalez</td><td>Single</td><td>Male</td><td>2025-10-07</td><td>1970-03-07</td><td>Male</td><td>Australia</td></tr>\n",
                            "<tr><td>11080</td><td>AW00011080</td><td>Damien</td><td>Chander</td><td>Married</td><td>Male</td><td>2025-10-07</td><td>1965-01-13</td><td>Male</td><td>Australia</td></tr>\n",
                            "</table>"
                        ]
                    },
                    "execution_count": 2,
                    "metadata": {},
                    "output_type": "execute_result"
                }
            ],
            "source": [
                "-- Joining the two tables\n",
                "-- checking the result in the newly added columns (bdate, gen, cntry)\n",
                "SELECT TOP 10\n",
                "        ci.cst_id, \n",
                "        ci.cst_key, \n",
                "        ci.cst_firstname, \n",
                "        ci.cst_lastname, \n",
                "        ci.cst_marital_status, \n",
                "        ci.cst_gndr, \n",
                "        ci.cst_create_date, \n",
                "        ca.bdate, \n",
                "        ca.gen, \n",
                "        la.cntry\n",
                "    FROM silver.crm_cust_info ci\n",
                "    LEFT JOIN silver.erp_cust_az12 ca \n",
                "        ON ci.cst_key = ca.cid\n",
                "    LEFT JOIN silver.erp_loc_a101 la \n",
                "        ON ci.cst_key = la.cid"
            ]
        },
        {
            "cell_type": "code",
            "execution_count": 3,
            "metadata": {
                "azdata_cell_guid": "cfde6a34-6a76-4b2e-bbef-bc91d70df970",
                "language": "sql"
            },
            "outputs": [
                {
                    "data": {
                        "text/html": [
                            "(0 rows affected)"
                        ]
                    },
                    "metadata": {},
                    "output_type": "display_data"
                },
                {
                    "data": {
                        "text/html": [
                            "Total execution time: 00:00:00.085"
                        ]
                    },
                    "metadata": {},
                    "output_type": "display_data"
                },
                {
                    "data": {
                        "application/vnd.dataresource+json": {
                            "data": [],
                            "schema": {
                                "fields": [
                                    {
                                        "name": "cst_id"
                                    },
                                    {
                                        "name": "cnt"
                                    }
                                ]
                            }
                        },
                        "text/html": [
                            "<table>\n",
                            "<tr><th>cst_id</th><th>cnt</th></tr>\n",
                            "</table>"
                        ]
                    },
                    "execution_count": 3,
                    "metadata": {},
                    "output_type": "execute_result"
                }
            ],
            "source": [
                "-- Checking for duplicates in master table's potenital primary key that might be introduced after the join \n",
                "-- (might happen if the other tables have duplicates in their columns used for join)\n",
                "-- we need to do this step as we need it for later join with fact sales view\n",
                "-- Fortunately, second table did not cause duplicates\n",
                "\n",
                "SELECT \n",
                "    cst_id, \n",
                "    COUNT(*) AS cnt\n",
                "FROM (\n",
                "    SELECT \n",
                "        ci.cst_id, \n",
                "        ci.cst_key, \n",
                "        ci.cst_firstname, \n",
                "        ci.cst_lastname, \n",
                "        ci.cst_marital_status, \n",
                "        ci.cst_gndr, \n",
                "        ci.cst_create_date, \n",
                "        ca.bdate, \n",
                "        ca.gen, \n",
                "        la.cntry\n",
                "    FROM silver.crm_cust_info ci\n",
                "    LEFT JOIN silver.erp_cust_az12 ca \n",
                "        ON ci.cst_key = ca.cid\n",
                "    LEFT JOIN silver.erp_loc_a101 la \n",
                "        ON ci.cst_key = la.cid\n",
                ") AS t\n",
                "GROUP BY cst_id\n",
                "HAVING COUNT(*) > 1\n",
                "OR cst_id IS NULL;"
            ]
        },
        {
            "cell_type": "code",
            "execution_count": 8,
            "metadata": {
                "azdata_cell_guid": "2e4afba6-ccee-4714-9de0-683861cd9435",
                "language": "sql"
            },
            "outputs": [
                {
                    "data": {
                        "text/html": [
                            "(9 rows affected)"
                        ]
                    },
                    "metadata": {},
                    "output_type": "display_data"
                },
                {
                    "data": {
                        "text/html": [
                            "Total execution time: 00:00:00.051"
                        ]
                    },
                    "metadata": {},
                    "output_type": "display_data"
                },
                {
                    "data": {
                        "application/vnd.dataresource+json": {
                            "data": [
                                {
                                    "cst_gndr": "Female",
                                    "gen": "Female"
                                },
                                {
                                    "cst_gndr": "Female",
                                    "gen": "Male"
                                },
                                {
                                    "cst_gndr": "Female",
                                    "gen": "Unknown"
                                },
                                {
                                    "cst_gndr": "Male",
                                    "gen": "Female"
                                },
                                {
                                    "cst_gndr": "Male",
                                    "gen": "Male"
                                },
                                {
                                    "cst_gndr": "Male",
                                    "gen": "Unknown"
                                },
                                {
                                    "cst_gndr": "Unknown",
                                    "gen": "Female"
                                },
                                {
                                    "cst_gndr": "Unknown",
                                    "gen": "Male"
                                },
                                {
                                    "cst_gndr": "Unknown",
                                    "gen": "Unknown"
                                }
                            ],
                            "schema": {
                                "fields": [
                                    {
                                        "name": "cst_gndr"
                                    },
                                    {
                                        "name": "gen"
                                    }
                                ]
                            }
                        },
                        "text/html": [
                            "<table>\n",
                            "<tr><th>cst_gndr</th><th>gen</th></tr>\n",
                            "<tr><td>Female</td><td>Female</td></tr>\n",
                            "<tr><td>Female</td><td>Male</td></tr>\n",
                            "<tr><td>Female</td><td>Unknown</td></tr>\n",
                            "<tr><td>Male</td><td>Female</td></tr>\n",
                            "<tr><td>Male</td><td>Male</td></tr>\n",
                            "<tr><td>Male</td><td>Unknown</td></tr>\n",
                            "<tr><td>Unknown</td><td>Female</td></tr>\n",
                            "<tr><td>Unknown</td><td>Male</td></tr>\n",
                            "<tr><td>Unknown</td><td>Unknown</td></tr>\n",
                            "</table>"
                        ]
                    },
                    "execution_count": 8,
                    "metadata": {},
                    "output_type": "execute_result"
                }
            ],
            "source": [
                "-- gender data integration issue\n",
                "SELECT DISTINCT \n",
                "    ci.cst_gndr,\n",
                "    ca.gen\n",
                "FROM silver.crm_cust_info AS ci\n",
                "LEFT JOIN silver.erp_cust_az12 AS ca\n",
                "    ON ci.cst_key = ca.cid\n",
                "LEFT JOIN silver.erp_loc_a101 AS la\n",
                "    ON ci.cst_key = la.cid\n",
                "ORDER BY 1,2;"
            ]
        },
        {
            "cell_type": "code",
            "execution_count": 12,
            "metadata": {
                "azdata_cell_guid": "e70d6028-36e6-4762-b0c2-b4916bb55146",
                "language": "sql"
            },
            "outputs": [
                {
                    "data": {
                        "text/html": [
                            "(9 rows affected)"
                        ]
                    },
                    "metadata": {},
                    "output_type": "display_data"
                },
                {
                    "data": {
                        "text/html": [
                            "Total execution time: 00:00:00.070"
                        ]
                    },
                    "metadata": {},
                    "output_type": "display_data"
                },
                {
                    "data": {
                        "application/vnd.dataresource+json": {
                            "data": [
                                {
                                    "cst_gndr": "Female",
                                    "gen": "Female",
                                    "new_gen": "Female"
                                },
                                {
                                    "cst_gndr": "Female",
                                    "gen": "Male",
                                    "new_gen": "Female"
                                },
                                {
                                    "cst_gndr": "Female",
                                    "gen": "Unknown",
                                    "new_gen": "Female"
                                },
                                {
                                    "cst_gndr": "Male",
                                    "gen": "Female",
                                    "new_gen": "Male"
                                },
                                {
                                    "cst_gndr": "Male",
                                    "gen": "Male",
                                    "new_gen": "Male"
                                },
                                {
                                    "cst_gndr": "Male",
                                    "gen": "Unknown",
                                    "new_gen": "Male"
                                },
                                {
                                    "cst_gndr": "Unknown",
                                    "gen": "Female",
                                    "new_gen": "Female"
                                },
                                {
                                    "cst_gndr": "Unknown",
                                    "gen": "Male",
                                    "new_gen": "Male"
                                },
                                {
                                    "cst_gndr": "Unknown",
                                    "gen": "Unknown",
                                    "new_gen": "Unknown"
                                }
                            ],
                            "schema": {
                                "fields": [
                                    {
                                        "name": "cst_gndr"
                                    },
                                    {
                                        "name": "gen"
                                    },
                                    {
                                        "name": "new_gen"
                                    }
                                ]
                            }
                        },
                        "text/html": [
                            "<table>\n",
                            "<tr><th>cst_gndr</th><th>gen</th><th>new_gen</th></tr>\n",
                            "<tr><td>Female</td><td>Female</td><td>Female</td></tr>\n",
                            "<tr><td>Female</td><td>Male</td><td>Female</td></tr>\n",
                            "<tr><td>Female</td><td>Unknown</td><td>Female</td></tr>\n",
                            "<tr><td>Male</td><td>Female</td><td>Male</td></tr>\n",
                            "<tr><td>Male</td><td>Male</td><td>Male</td></tr>\n",
                            "<tr><td>Male</td><td>Unknown</td><td>Male</td></tr>\n",
                            "<tr><td>Unknown</td><td>Female</td><td>Female</td></tr>\n",
                            "<tr><td>Unknown</td><td>Male</td><td>Male</td></tr>\n",
                            "<tr><td>Unknown</td><td>Unknown</td><td>Unknown</td></tr>\n",
                            "</table>"
                        ]
                    },
                    "execution_count": 12,
                    "metadata": {},
                    "output_type": "execute_result"
                }
            ],
            "source": [
                "-- As the CRM is the master table. we can use it to fix the conflicted gender cases. \n",
                "-- If it is Unknown in CRM table, we use second table\n",
                "\n",
                "SELECT DISTINCT \n",
                "    ci.cst_gndr,\n",
                "    ca.gen,\n",
                "    CASE \n",
                "        WHEN ci.cst_gndr != 'Unknown' THEN ci.cst_gndr -- CRM is the Master for gender Info\n",
                "        ELSE COALESCE(ca.gen, 'Unknown')\n",
                "    END AS new_gen\n",
                "FROM silver.crm_cust_info AS ci\n",
                "LEFT JOIN silver.erp_cust_az12 AS ca\n",
                "    ON ci.cst_key = ca.cid\n",
                "    ORDER BY 1,2;"
            ]
        },
        {
            "cell_type": "code",
            "execution_count": 14,
            "metadata": {
                "azdata_cell_guid": "21d93c34-7479-45c1-b761-54167c29b7f4",
                "language": "sql"
            },
            "outputs": [
                {
                    "data": {
                        "text/html": [
                            "(5 rows affected)"
                        ]
                    },
                    "metadata": {},
                    "output_type": "display_data"
                },
                {
                    "data": {
                        "text/html": [
                            "Total execution time: 00:00:00.109"
                        ]
                    },
                    "metadata": {},
                    "output_type": "display_data"
                },
                {
                    "data": {
                        "application/vnd.dataresource+json": {
                            "data": [
                                {
                                    "birthdate": "1971-10-06",
                                    "country": "Australia",
                                    "create_date": "2025-10-06",
                                    "customer_id": "11000",
                                    "customer_key": "1",
                                    "customer_number": "AW00011000",
                                    "first_name": "Jon",
                                    "gender": "Male",
                                    "last_name": "Yang",
                                    "marital_status": "Married"
                                },
                                {
                                    "birthdate": "1976-05-10",
                                    "country": "Australia",
                                    "create_date": "2025-10-06",
                                    "customer_id": "11001",
                                    "customer_key": "2",
                                    "customer_number": "AW00011001",
                                    "first_name": "Eugene",
                                    "gender": "Male",
                                    "last_name": "Huang",
                                    "marital_status": "Single"
                                },
                                {
                                    "birthdate": "1971-02-09",
                                    "country": "Australia",
                                    "create_date": "2025-10-06",
                                    "customer_id": "11002",
                                    "customer_key": "3",
                                    "customer_number": "AW00011002",
                                    "first_name": "Ruben",
                                    "gender": "Male",
                                    "last_name": "Torres",
                                    "marital_status": "Married"
                                },
                                {
                                    "birthdate": "1973-08-14",
                                    "country": "Australia",
                                    "create_date": "2025-10-06",
                                    "customer_id": "11003",
                                    "customer_key": "4",
                                    "customer_number": "AW00011003",
                                    "first_name": "Christy",
                                    "gender": "Female",
                                    "last_name": "Zhu",
                                    "marital_status": "Single"
                                },
                                {
                                    "birthdate": "1979-08-05",
                                    "country": "Australia",
                                    "create_date": "2025-10-06",
                                    "customer_id": "11004",
                                    "customer_key": "5",
                                    "customer_number": "AW00011004",
                                    "first_name": "Elizabeth",
                                    "gender": "Female",
                                    "last_name": "Johnson",
                                    "marital_status": "Single"
                                }
                            ],
                            "schema": {
                                "fields": [
                                    {
                                        "name": "customer_key"
                                    },
                                    {
                                        "name": "customer_id"
                                    },
                                    {
                                        "name": "customer_number"
                                    },
                                    {
                                        "name": "first_name"
                                    },
                                    {
                                        "name": "last_name"
                                    },
                                    {
                                        "name": "country"
                                    },
                                    {
                                        "name": "marital_status"
                                    },
                                    {
                                        "name": "gender"
                                    },
                                    {
                                        "name": "birthdate"
                                    },
                                    {
                                        "name": "create_date"
                                    }
                                ]
                            }
                        },
                        "text/html": [
                            "<table>\n",
                            "<tr><th>customer_key</th><th>customer_id</th><th>customer_number</th><th>first_name</th><th>last_name</th><th>country</th><th>marital_status</th><th>gender</th><th>birthdate</th><th>create_date</th></tr>\n",
                            "<tr><td>1</td><td>11000</td><td>AW00011000</td><td>Jon</td><td>Yang</td><td>Australia</td><td>Married</td><td>Male</td><td>1971-10-06</td><td>2025-10-06</td></tr>\n",
                            "<tr><td>2</td><td>11001</td><td>AW00011001</td><td>Eugene</td><td>Huang</td><td>Australia</td><td>Single</td><td>Male</td><td>1976-05-10</td><td>2025-10-06</td></tr>\n",
                            "<tr><td>3</td><td>11002</td><td>AW00011002</td><td>Ruben</td><td>Torres</td><td>Australia</td><td>Married</td><td>Male</td><td>1971-02-09</td><td>2025-10-06</td></tr>\n",
                            "<tr><td>4</td><td>11003</td><td>AW00011003</td><td>Christy</td><td>Zhu</td><td>Australia</td><td>Single</td><td>Female</td><td>1973-08-14</td><td>2025-10-06</td></tr>\n",
                            "<tr><td>5</td><td>11004</td><td>AW00011004</td><td>Elizabeth</td><td>Johnson</td><td>Australia</td><td>Single</td><td>Female</td><td>1979-08-05</td><td>2025-10-06</td></tr>\n",
                            "</table>"
                        ]
                    },
                    "execution_count": 14,
                    "metadata": {},
                    "output_type": "execute_result"
                }
            ],
            "source": [
                "-- Now it's time to rename and rearrange the columns in a more meaningful way\n",
                "-- Also adding a surrogate key to ensure that it is always unique and causes no issue for data modeling later on\n",
                "SELECT TOP 5\n",
                "    ROW_NUMBER() OVER (ORDER BY cst_id) AS customer_key, -- Surrogate key\n",
                "    ci.cst_id                          AS customer_id,\n",
                "    ci.cst_key                         AS customer_number,\n",
                "    ci.cst_firstname                   AS first_name,\n",
                "    ci.cst_lastname                    AS last_name,\n",
                "    la.cntry                           AS country,\n",
                "    ci.cst_marital_status              AS marital_status,\n",
                "    CASE \n",
                "        WHEN ci.cst_gndr != 'Unknown' THEN ci.cst_gndr -- CRM is the primary source for gender\n",
                "        ELSE COALESCE(ca.gen, 'Unknown')  \t\t\t   -- Fallback to ERP data\n",
                "    END                                AS gender,\n",
                "    ca.bdate                           AS birthdate,\n",
                "    ci.cst_create_date                 AS create_date\n",
                "FROM silver.crm_cust_info ci\n",
                "LEFT JOIN silver.erp_cust_az12 ca\n",
                "    ON ci.cst_key = ca.cid\n",
                "LEFT JOIN silver.erp_loc_a101 la\n",
                "    ON ci.cst_key = la.cid;"
            ]
        },
        {
            "attachments": {},
            "cell_type": "markdown",
            "metadata": {
                "azdata_cell_guid": "b61cf705-15d6-48c2-8e81-054574b12e5d",
                "language": "sql"
            },
            "source": [
                "## Dim: Products"
            ]
        },
        {
            "cell_type": "code",
            "execution_count": 16,
            "metadata": {
                "azdata_cell_guid": "2f6f7490-20bd-4098-9845-7b1a83468499",
                "language": "sql"
            },
            "outputs": [
                {
                    "data": {
                        "text/html": [
                            "(10 rows affected)"
                        ]
                    },
                    "metadata": {},
                    "output_type": "display_data"
                },
                {
                    "data": {
                        "text/html": [
                            "Total execution time: 00:00:00.008"
                        ]
                    },
                    "metadata": {},
                    "output_type": "display_data"
                },
                {
                    "data": {
                        "application/vnd.dataresource+json": {
                            "data": [
                                {
                                    "cat_id": "AC_BC",
                                    "prd_cost": "4",
                                    "prd_id": "478",
                                    "prd_key": "BC-M005",
                                    "prd_line": "Mountain",
                                    "prd_nm": "Mountain Bottle Cage",
                                    "prd_start_dt": "2013-07-01"
                                },
                                {
                                    "cat_id": "AC_BC",
                                    "prd_cost": "3",
                                    "prd_id": "479",
                                    "prd_key": "BC-R205",
                                    "prd_line": "Road",
                                    "prd_nm": "Road Bottle Cage",
                                    "prd_start_dt": "2013-07-01"
                                },
                                {
                                    "cat_id": "AC_BC",
                                    "prd_cost": "2",
                                    "prd_id": "477",
                                    "prd_key": "WB-H098",
                                    "prd_line": "Other Sales",
                                    "prd_nm": "Water Bottle - 30 oz.",
                                    "prd_start_dt": "2013-07-01"
                                },
                                {
                                    "cat_id": "AC_BR",
                                    "prd_cost": "45",
                                    "prd_id": "483",
                                    "prd_key": "RA-H123",
                                    "prd_line": "Other Sales",
                                    "prd_nm": "Hitch Rack - 4-Bike",
                                    "prd_start_dt": "2013-07-01"
                                },
                                {
                                    "cat_id": "AC_BS",
                                    "prd_cost": "59",
                                    "prd_id": "486",
                                    "prd_key": "ST-1401",
                                    "prd_line": "Mountain",
                                    "prd_nm": "All-Purpose Bike Stand",
                                    "prd_start_dt": "2013-07-01"
                                },
                                {
                                    "cat_id": "AC_CL",
                                    "prd_cost": "3",
                                    "prd_id": "484",
                                    "prd_key": "CL-9009",
                                    "prd_line": "Other Sales",
                                    "prd_nm": "Bike Wash - Dissolver",
                                    "prd_start_dt": "2013-07-01"
                                },
                                {
                                    "cat_id": "AC_FE",
                                    "prd_cost": "8",
                                    "prd_id": "485",
                                    "prd_key": "FE-6654",
                                    "prd_line": "Mountain",
                                    "prd_nm": "Fender Set - Mountain",
                                    "prd_start_dt": "2013-07-01"
                                },
                                {
                                    "cat_id": "AC_HE",
                                    "prd_cost": "13",
                                    "prd_id": "217",
                                    "prd_key": "HL-U509",
                                    "prd_line": "Other Sales",
                                    "prd_nm": "Sport-100 Helmet- Black",
                                    "prd_start_dt": "2013-07-01"
                                },
                                {
                                    "cat_id": "AC_HE",
                                    "prd_cost": "13",
                                    "prd_id": "222",
                                    "prd_key": "HL-U509-B",
                                    "prd_line": "Other Sales",
                                    "prd_nm": "Sport-100 Helmet- Blue",
                                    "prd_start_dt": "2013-07-01"
                                },
                                {
                                    "cat_id": "AC_HE",
                                    "prd_cost": "13",
                                    "prd_id": "214",
                                    "prd_key": "HL-U509-R",
                                    "prd_line": "Other Sales",
                                    "prd_nm": "Sport-100 Helmet- Red",
                                    "prd_start_dt": "2013-07-01"
                                }
                            ],
                            "schema": {
                                "fields": [
                                    {
                                        "name": "prd_id"
                                    },
                                    {
                                        "name": "cat_id"
                                    },
                                    {
                                        "name": "prd_key"
                                    },
                                    {
                                        "name": "prd_nm"
                                    },
                                    {
                                        "name": "prd_cost"
                                    },
                                    {
                                        "name": "prd_line"
                                    },
                                    {
                                        "name": "prd_start_dt"
                                    }
                                ]
                            }
                        },
                        "text/html": [
                            "<table>\n",
                            "<tr><th>prd_id</th><th>cat_id</th><th>prd_key</th><th>prd_nm</th><th>prd_cost</th><th>prd_line</th><th>prd_start_dt</th></tr>\n",
                            "<tr><td>478</td><td>AC_BC</td><td>BC-M005</td><td>Mountain Bottle Cage</td><td>4</td><td>Mountain</td><td>2013-07-01</td></tr>\n",
                            "<tr><td>479</td><td>AC_BC</td><td>BC-R205</td><td>Road Bottle Cage</td><td>3</td><td>Road</td><td>2013-07-01</td></tr>\n",
                            "<tr><td>477</td><td>AC_BC</td><td>WB-H098</td><td>Water Bottle - 30 oz.</td><td>2</td><td>Other Sales</td><td>2013-07-01</td></tr>\n",
                            "<tr><td>483</td><td>AC_BR</td><td>RA-H123</td><td>Hitch Rack - 4-Bike</td><td>45</td><td>Other Sales</td><td>2013-07-01</td></tr>\n",
                            "<tr><td>486</td><td>AC_BS</td><td>ST-1401</td><td>All-Purpose Bike Stand</td><td>59</td><td>Mountain</td><td>2013-07-01</td></tr>\n",
                            "<tr><td>484</td><td>AC_CL</td><td>CL-9009</td><td>Bike Wash - Dissolver</td><td>3</td><td>Other Sales</td><td>2013-07-01</td></tr>\n",
                            "<tr><td>485</td><td>AC_FE</td><td>FE-6654</td><td>Fender Set - Mountain</td><td>8</td><td>Mountain</td><td>2013-07-01</td></tr>\n",
                            "<tr><td>217</td><td>AC_HE</td><td>HL-U509</td><td>Sport-100 Helmet- Black</td><td>13</td><td>Other Sales</td><td>2013-07-01</td></tr>\n",
                            "<tr><td>222</td><td>AC_HE</td><td>HL-U509-B</td><td>Sport-100 Helmet- Blue</td><td>13</td><td>Other Sales</td><td>2013-07-01</td></tr>\n",
                            "<tr><td>214</td><td>AC_HE</td><td>HL-U509-R</td><td>Sport-100 Helmet- Red</td><td>13</td><td>Other Sales</td><td>2013-07-01</td></tr>\n",
                            "</table>"
                        ]
                    },
                    "execution_count": 16,
                    "metadata": {},
                    "output_type": "execute_result"
                }
            ],
            "source": [
                "-- As we remember, the product info table conains current and historical data\n",
                "-- Now we need to decide to stick with historical or current data\n",
                "-- I will fillter our historical data\n",
                "\n",
                "SELECT TOP 10\n",
                "    pn.prd_id, \n",
                "    pn.cat_id, \n",
                "    pn.prd_key, \n",
                "    pn.prd_nm, \n",
                "    pn.prd_cost, \n",
                "    pn.prd_line, \n",
                "    pn.prd_start_dt\n",
                "FROM silver.crm_prd_info AS pn\n",
                "WHERE pn.prd_end_dt IS NULL; -- Filter out all historical data"
            ]
        },
        {
            "cell_type": "code",
            "execution_count": 17,
            "metadata": {
                "azdata_cell_guid": "6ea35c01-439d-4c48-b825-9e28008c0fce",
                "language": "sql"
            },
            "outputs": [
                {
                    "data": {
                        "text/html": [
                            "(10 rows affected)"
                        ]
                    },
                    "metadata": {},
                    "output_type": "display_data"
                },
                {
                    "data": {
                        "text/html": [
                            "Total execution time: 00:00:00.032"
                        ]
                    },
                    "metadata": {},
                    "output_type": "display_data"
                },
                {
                    "data": {
                        "application/vnd.dataresource+json": {
                            "data": [
                                {
                                    "cat": "Accessories",
                                    "cat_id": "AC_BC",
                                    "maintenance": "No",
                                    "prd_cost": "4",
                                    "prd_id": "478",
                                    "prd_key": "BC-M005",
                                    "prd_line": "Mountain",
                                    "prd_nm": "Mountain Bottle Cage",
                                    "prd_start_dt": "2013-07-01",
                                    "subcat": "Bottles and Cages"
                                },
                                {
                                    "cat": "Accessories",
                                    "cat_id": "AC_BC",
                                    "maintenance": "No",
                                    "prd_cost": "3",
                                    "prd_id": "479",
                                    "prd_key": "BC-R205",
                                    "prd_line": "Road",
                                    "prd_nm": "Road Bottle Cage",
                                    "prd_start_dt": "2013-07-01",
                                    "subcat": "Bottles and Cages"
                                },
                                {
                                    "cat": "Accessories",
                                    "cat_id": "AC_BC",
                                    "maintenance": "No",
                                    "prd_cost": "2",
                                    "prd_id": "477",
                                    "prd_key": "WB-H098",
                                    "prd_line": "Other Sales",
                                    "prd_nm": "Water Bottle - 30 oz.",
                                    "prd_start_dt": "2013-07-01",
                                    "subcat": "Bottles and Cages"
                                },
                                {
                                    "cat": "Accessories",
                                    "cat_id": "AC_BR",
                                    "maintenance": "Yes",
                                    "prd_cost": "45",
                                    "prd_id": "483",
                                    "prd_key": "RA-H123",
                                    "prd_line": "Other Sales",
                                    "prd_nm": "Hitch Rack - 4-Bike",
                                    "prd_start_dt": "2013-07-01",
                                    "subcat": "Bike Racks"
                                },
                                {
                                    "cat": "Accessories",
                                    "cat_id": "AC_BS",
                                    "maintenance": "No",
                                    "prd_cost": "59",
                                    "prd_id": "486",
                                    "prd_key": "ST-1401",
                                    "prd_line": "Mountain",
                                    "prd_nm": "All-Purpose Bike Stand",
                                    "prd_start_dt": "2013-07-01",
                                    "subcat": "Bike Stands"
                                },
                                {
                                    "cat": "Accessories",
                                    "cat_id": "AC_CL",
                                    "maintenance": "Yes",
                                    "prd_cost": "3",
                                    "prd_id": "484",
                                    "prd_key": "CL-9009",
                                    "prd_line": "Other Sales",
                                    "prd_nm": "Bike Wash - Dissolver",
                                    "prd_start_dt": "2013-07-01",
                                    "subcat": "Cleaners"
                                },
                                {
                                    "cat": "Accessories",
                                    "cat_id": "AC_FE",
                                    "maintenance": "No",
                                    "prd_cost": "8",
                                    "prd_id": "485",
                                    "prd_key": "FE-6654",
                                    "prd_line": "Mountain",
                                    "prd_nm": "Fender Set - Mountain",
                                    "prd_start_dt": "2013-07-01",
                                    "subcat": "Fenders"
                                },
                                {
                                    "cat": "Accessories",
                                    "cat_id": "AC_HE",
                                    "maintenance": "Yes",
                                    "prd_cost": "13",
                                    "prd_id": "217",
                                    "prd_key": "HL-U509",
                                    "prd_line": "Other Sales",
                                    "prd_nm": "Sport-100 Helmet- Black",
                                    "prd_start_dt": "2013-07-01",
                                    "subcat": "Helmets"
                                },
                                {
                                    "cat": "Accessories",
                                    "cat_id": "AC_HE",
                                    "maintenance": "Yes",
                                    "prd_cost": "13",
                                    "prd_id": "222",
                                    "prd_key": "HL-U509-B",
                                    "prd_line": "Other Sales",
                                    "prd_nm": "Sport-100 Helmet- Blue",
                                    "prd_start_dt": "2013-07-01",
                                    "subcat": "Helmets"
                                },
                                {
                                    "cat": "Accessories",
                                    "cat_id": "AC_HE",
                                    "maintenance": "Yes",
                                    "prd_cost": "13",
                                    "prd_id": "214",
                                    "prd_key": "HL-U509-R",
                                    "prd_line": "Other Sales",
                                    "prd_nm": "Sport-100 Helmet- Red",
                                    "prd_start_dt": "2013-07-01",
                                    "subcat": "Helmets"
                                }
                            ],
                            "schema": {
                                "fields": [
                                    {
                                        "name": "prd_id"
                                    },
                                    {
                                        "name": "cat_id"
                                    },
                                    {
                                        "name": "prd_key"
                                    },
                                    {
                                        "name": "prd_nm"
                                    },
                                    {
                                        "name": "prd_cost"
                                    },
                                    {
                                        "name": "prd_line"
                                    },
                                    {
                                        "name": "prd_start_dt"
                                    },
                                    {
                                        "name": "cat"
                                    },
                                    {
                                        "name": "subcat"
                                    },
                                    {
                                        "name": "maintenance"
                                    }
                                ]
                            }
                        },
                        "text/html": [
                            "<table>\n",
                            "<tr><th>prd_id</th><th>cat_id</th><th>prd_key</th><th>prd_nm</th><th>prd_cost</th><th>prd_line</th><th>prd_start_dt</th><th>cat</th><th>subcat</th><th>maintenance</th></tr>\n",
                            "<tr><td>478</td><td>AC_BC</td><td>BC-M005</td><td>Mountain Bottle Cage</td><td>4</td><td>Mountain</td><td>2013-07-01</td><td>Accessories</td><td>Bottles and Cages</td><td>No</td></tr>\n",
                            "<tr><td>479</td><td>AC_BC</td><td>BC-R205</td><td>Road Bottle Cage</td><td>3</td><td>Road</td><td>2013-07-01</td><td>Accessories</td><td>Bottles and Cages</td><td>No</td></tr>\n",
                            "<tr><td>477</td><td>AC_BC</td><td>WB-H098</td><td>Water Bottle - 30 oz.</td><td>2</td><td>Other Sales</td><td>2013-07-01</td><td>Accessories</td><td>Bottles and Cages</td><td>No</td></tr>\n",
                            "<tr><td>483</td><td>AC_BR</td><td>RA-H123</td><td>Hitch Rack - 4-Bike</td><td>45</td><td>Other Sales</td><td>2013-07-01</td><td>Accessories</td><td>Bike Racks</td><td>Yes</td></tr>\n",
                            "<tr><td>486</td><td>AC_BS</td><td>ST-1401</td><td>All-Purpose Bike Stand</td><td>59</td><td>Mountain</td><td>2013-07-01</td><td>Accessories</td><td>Bike Stands</td><td>No</td></tr>\n",
                            "<tr><td>484</td><td>AC_CL</td><td>CL-9009</td><td>Bike Wash - Dissolver</td><td>3</td><td>Other Sales</td><td>2013-07-01</td><td>Accessories</td><td>Cleaners</td><td>Yes</td></tr>\n",
                            "<tr><td>485</td><td>AC_FE</td><td>FE-6654</td><td>Fender Set - Mountain</td><td>8</td><td>Mountain</td><td>2013-07-01</td><td>Accessories</td><td>Fenders</td><td>No</td></tr>\n",
                            "<tr><td>217</td><td>AC_HE</td><td>HL-U509</td><td>Sport-100 Helmet- Black</td><td>13</td><td>Other Sales</td><td>2013-07-01</td><td>Accessories</td><td>Helmets</td><td>Yes</td></tr>\n",
                            "<tr><td>222</td><td>AC_HE</td><td>HL-U509-B</td><td>Sport-100 Helmet- Blue</td><td>13</td><td>Other Sales</td><td>2013-07-01</td><td>Accessories</td><td>Helmets</td><td>Yes</td></tr>\n",
                            "<tr><td>214</td><td>AC_HE</td><td>HL-U509-R</td><td>Sport-100 Helmet- Red</td><td>13</td><td>Other Sales</td><td>2013-07-01</td><td>Accessories</td><td>Helmets</td><td>Yes</td></tr>\n",
                            "</table>"
                        ]
                    },
                    "execution_count": 17,
                    "metadata": {},
                    "output_type": "execute_result"
                }
            ],
            "source": [
                "-- Joining with silver.erp_px_cat_g1v2\n",
                "SELECT TOP 10\n",
                "    pn.prd_id, \n",
                "    pn.cat_id, \n",
                "    pn.prd_key, \n",
                "    pn.prd_nm, \n",
                "    pn.prd_cost, \n",
                "    pn.prd_line, \n",
                "    pn.prd_start_dt, \n",
                "    pc.cat, \n",
                "    pc.subcat, \n",
                "    pc.maintenance\n",
                "FROM silver.crm_prd_info AS pn\n",
                "LEFT JOIN silver.erp_px_cat_g1v2 AS pc\n",
                "    ON pn.cat_id = pc.id\n",
                "WHERE pn.prd_end_dt IS NULL; -- Filter out all historical data"
            ]
        },
        {
            "cell_type": "code",
            "execution_count": 18,
            "metadata": {
                "azdata_cell_guid": "da12c31d-c41a-4005-9d11-de10705531c9",
                "language": "sql"
            },
            "outputs": [
                {
                    "data": {
                        "text/html": [
                            "(0 rows affected)"
                        ]
                    },
                    "metadata": {},
                    "output_type": "display_data"
                },
                {
                    "data": {
                        "text/html": [
                            "Total execution time: 00:00:00.052"
                        ]
                    },
                    "metadata": {},
                    "output_type": "display_data"
                },
                {
                    "data": {
                        "application/vnd.dataresource+json": {
                            "data": [],
                            "schema": {
                                "fields": [
                                    {
                                        "name": "prd_key"
                                    },
                                    {
                                        "name": "(No column name)"
                                    }
                                ]
                            }
                        },
                        "text/html": [
                            "<table>\n",
                            "<tr><th>prd_key</th><th>(No column name)</th></tr>\n",
                            "</table>"
                        ]
                    },
                    "execution_count": 18,
                    "metadata": {},
                    "output_type": "execute_result"
                }
            ],
            "source": [
                "-- Checking the uniqueness of prd_key as we need this for later join with fact sales view\n",
                "-- Fortunately, second table did not cause duplicates\n",
                "SELECT prd_key, COUNT(*) FROM (\n",
                "    SELECT \n",
                "    pn.prd_id, \n",
                "    pn.cat_id, \n",
                "    pn.prd_key, \n",
                "    pn.prd_nm, \n",
                "    pn.prd_cost, \n",
                "    pn.prd_line, \n",
                "    pn.prd_start_dt, \n",
                "    pc.cat, \n",
                "    pc.subcat, \n",
                "    pc.maintenance\n",
                "FROM silver.crm_prd_info AS pn\n",
                "LEFT JOIN silver.erp_px_cat_g1v2 AS pc\n",
                "    ON pn.cat_id = pc.id\n",
                "WHERE pn.prd_end_dt IS NULL\n",
                ")t GROUP BY prd_key HAVING COUNT (*) > 1"
            ]
        },
        {
            "cell_type": "code",
            "execution_count": 19,
            "metadata": {
                "azdata_cell_guid": "681d2901-0c86-4527-8d1a-422463b40a11",
                "language": "sql"
            },
            "outputs": [
                {
                    "data": {
                        "text/html": [
                            "(5 rows affected)"
                        ]
                    },
                    "metadata": {},
                    "output_type": "display_data"
                },
                {
                    "data": {
                        "text/html": [
                            "Total execution time: 00:00:00.025"
                        ]
                    },
                    "metadata": {},
                    "output_type": "display_data"
                },
                {
                    "data": {
                        "application/vnd.dataresource+json": {
                            "data": [
                                {
                                    "category": "Components",
                                    "category_id": "CO_RF",
                                    "cost": "0",
                                    "maintenance": "Yes",
                                    "product_id": "210",
                                    "product_key": "1",
                                    "product_line": "Road",
                                    "product_name": "HL Road Frame - Black- 58",
                                    "product_number": "FR-R92B-58",
                                    "start_date": "2003-07-01",
                                    "subcategory": "Road Frames"
                                },
                                {
                                    "category": "Components",
                                    "category_id": "CO_RF",
                                    "cost": "0",
                                    "maintenance": "Yes",
                                    "product_id": "211",
                                    "product_key": "2",
                                    "product_line": "Road",
                                    "product_name": "HL Road Frame - Red- 58",
                                    "product_number": "FR-R92R-58",
                                    "start_date": "2003-07-01",
                                    "subcategory": "Road Frames"
                                },
                                {
                                    "category": "Bikes",
                                    "category_id": "BI_MB",
                                    "cost": "1898",
                                    "maintenance": "Yes",
                                    "product_id": "348",
                                    "product_key": "3",
                                    "product_line": "Mountain",
                                    "product_name": "Mountain-100 Black- 38",
                                    "product_number": "BK-M82B-38",
                                    "start_date": "2011-07-01",
                                    "subcategory": "Mountain Bikes"
                                },
                                {
                                    "category": "Bikes",
                                    "category_id": "BI_MB",
                                    "cost": "1898",
                                    "maintenance": "Yes",
                                    "product_id": "349",
                                    "product_key": "4",
                                    "product_line": "Mountain",
                                    "product_name": "Mountain-100 Black- 42",
                                    "product_number": "BK-M82B-42",
                                    "start_date": "2011-07-01",
                                    "subcategory": "Mountain Bikes"
                                },
                                {
                                    "category": "Bikes",
                                    "category_id": "BI_MB",
                                    "cost": "1898",
                                    "maintenance": "Yes",
                                    "product_id": "350",
                                    "product_key": "5",
                                    "product_line": "Mountain",
                                    "product_name": "Mountain-100 Black- 44",
                                    "product_number": "BK-M82B-44",
                                    "start_date": "2011-07-01",
                                    "subcategory": "Mountain Bikes"
                                }
                            ],
                            "schema": {
                                "fields": [
                                    {
                                        "name": "product_key"
                                    },
                                    {
                                        "name": "product_id"
                                    },
                                    {
                                        "name": "product_number"
                                    },
                                    {
                                        "name": "product_name"
                                    },
                                    {
                                        "name": "category_id"
                                    },
                                    {
                                        "name": "category"
                                    },
                                    {
                                        "name": "subcategory"
                                    },
                                    {
                                        "name": "maintenance"
                                    },
                                    {
                                        "name": "cost"
                                    },
                                    {
                                        "name": "product_line"
                                    },
                                    {
                                        "name": "start_date"
                                    }
                                ]
                            }
                        },
                        "text/html": [
                            "<table>\n",
                            "<tr><th>product_key</th><th>product_id</th><th>product_number</th><th>product_name</th><th>category_id</th><th>category</th><th>subcategory</th><th>maintenance</th><th>cost</th><th>product_line</th><th>start_date</th></tr>\n",
                            "<tr><td>1</td><td>210</td><td>FR-R92B-58</td><td>HL Road Frame - Black- 58</td><td>CO_RF</td><td>Components</td><td>Road Frames</td><td>Yes</td><td>0</td><td>Road</td><td>2003-07-01</td></tr>\n",
                            "<tr><td>2</td><td>211</td><td>FR-R92R-58</td><td>HL Road Frame - Red- 58</td><td>CO_RF</td><td>Components</td><td>Road Frames</td><td>Yes</td><td>0</td><td>Road</td><td>2003-07-01</td></tr>\n",
                            "<tr><td>3</td><td>348</td><td>BK-M82B-38</td><td>Mountain-100 Black- 38</td><td>BI_MB</td><td>Bikes</td><td>Mountain Bikes</td><td>Yes</td><td>1898</td><td>Mountain</td><td>2011-07-01</td></tr>\n",
                            "<tr><td>4</td><td>349</td><td>BK-M82B-42</td><td>Mountain-100 Black- 42</td><td>BI_MB</td><td>Bikes</td><td>Mountain Bikes</td><td>Yes</td><td>1898</td><td>Mountain</td><td>2011-07-01</td></tr>\n",
                            "<tr><td>5</td><td>350</td><td>BK-M82B-44</td><td>Mountain-100 Black- 44</td><td>BI_MB</td><td>Bikes</td><td>Mountain Bikes</td><td>Yes</td><td>1898</td><td>Mountain</td><td>2011-07-01</td></tr>\n",
                            "</table>"
                        ]
                    },
                    "execution_count": 19,
                    "metadata": {},
                    "output_type": "execute_result"
                }
            ],
            "source": [
                "-- Now it's time to rename and rearrange the columns in a more meaningful way\n",
                "-- Also adding a surrogate key to ensure that it is always unique and causes no issue for data modeling later on\n",
                "SELECT TOP 5\n",
                "    ROW_NUMBER() OVER (ORDER BY pn.prd_start_dt, pn.prd_key) AS product_key, -- Surrogate key\n",
                "    pn.prd_id       AS product_id,\n",
                "    pn.prd_key      AS product_number,\n",
                "    pn.prd_nm       AS product_name,\n",
                "    pn.cat_id       AS category_id,\n",
                "    pc.cat          AS category,\n",
                "    pc.subcat       AS subcategory,\n",
                "    pc.maintenance  AS maintenance,\n",
                "    pn.prd_cost     AS cost,\n",
                "    pn.prd_line     AS product_line,\n",
                "    pn.prd_start_dt AS start_date\n",
                "FROM silver.crm_prd_info pn\n",
                "LEFT JOIN silver.erp_px_cat_g1v2 pc\n",
                "    ON pn.cat_id = pc.id\n",
                "WHERE pn.prd_end_dt IS NULL; -- Filter out all historical data"
            ]
        },
        {
            "attachments": {},
            "cell_type": "markdown",
            "metadata": {
                "azdata_cell_guid": "5b18fdc5-670d-424e-a2ac-e76940a0863e",
                "language": "sql"
            },
            "source": [
                "## Fact: Sales"
            ]
        },
        {
            "cell_type": "code",
            "execution_count": 21,
            "metadata": {
                "azdata_cell_guid": "408cdb4d-c5d6-4e84-870d-5c16d806f5be",
                "language": "sql",
                "tags": []
            },
            "outputs": [
                {
                    "data": {
                        "text/html": [
                            "(5 rows affected)"
                        ]
                    },
                    "metadata": {},
                    "output_type": "display_data"
                },
                {
                    "data": {
                        "text/html": [
                            "Total execution time: 00:00:00.098"
                        ]
                    },
                    "metadata": {},
                    "output_type": "display_data"
                },
                {
                    "data": {
                        "application/vnd.dataresource+json": {
                            "data": [
                                {
                                    "customer_key": "10769",
                                    "product_key": "20",
                                    "sls_due_dt": "2011-01-10",
                                    "sls_ord_num": "SO43697",
                                    "sls_order_dt": "2010-12-29",
                                    "sls_price": "3578",
                                    "sls_quantity": "1",
                                    "sls_sales": "3578",
                                    "sls_ship_dt": "2011-01-05"
                                },
                                {
                                    "customer_key": "17390",
                                    "product_key": "9",
                                    "sls_due_dt": "2011-01-10",
                                    "sls_ord_num": "SO43698",
                                    "sls_order_dt": "2010-12-29",
                                    "sls_price": "3400",
                                    "sls_quantity": "1",
                                    "sls_sales": "3400",
                                    "sls_ship_dt": "2011-01-05"
                                },
                                {
                                    "customer_key": "14864",
                                    "product_key": "9",
                                    "sls_due_dt": "2011-01-10",
                                    "sls_ord_num": "SO43699",
                                    "sls_order_dt": "2010-12-29",
                                    "sls_price": "3400",
                                    "sls_quantity": "1",
                                    "sls_sales": "3400",
                                    "sls_ship_dt": "2011-01-05"
                                },
                                {
                                    "customer_key": "3502",
                                    "product_key": "41",
                                    "sls_due_dt": "2011-01-10",
                                    "sls_ord_num": "SO43700",
                                    "sls_order_dt": "2010-12-29",
                                    "sls_price": "699",
                                    "sls_quantity": "1",
                                    "sls_sales": "699",
                                    "sls_ship_dt": "2011-01-05"
                                },
                                {
                                    "customer_key": "4",
                                    "product_key": "9",
                                    "sls_due_dt": "2011-01-10",
                                    "sls_ord_num": "SO43701",
                                    "sls_order_dt": "2010-12-29",
                                    "sls_price": "3400",
                                    "sls_quantity": "1",
                                    "sls_sales": "3400",
                                    "sls_ship_dt": "2011-01-05"
                                }
                            ],
                            "schema": {
                                "fields": [
                                    {
                                        "name": "sls_ord_num"
                                    },
                                    {
                                        "name": "product_key"
                                    },
                                    {
                                        "name": "customer_key"
                                    },
                                    {
                                        "name": "sls_order_dt"
                                    },
                                    {
                                        "name": "sls_ship_dt"
                                    },
                                    {
                                        "name": "sls_due_dt"
                                    },
                                    {
                                        "name": "sls_sales"
                                    },
                                    {
                                        "name": "sls_quantity"
                                    },
                                    {
                                        "name": "sls_price"
                                    }
                                ]
                            }
                        },
                        "text/html": [
                            "<table>\n",
                            "<tr><th>sls_ord_num</th><th>product_key</th><th>customer_key</th><th>sls_order_dt</th><th>sls_ship_dt</th><th>sls_due_dt</th><th>sls_sales</th><th>sls_quantity</th><th>sls_price</th></tr>\n",
                            "<tr><td>SO43697</td><td>20</td><td>10769</td><td>2010-12-29</td><td>2011-01-05</td><td>2011-01-10</td><td>3578</td><td>1</td><td>3578</td></tr>\n",
                            "<tr><td>SO43698</td><td>9</td><td>17390</td><td>2010-12-29</td><td>2011-01-05</td><td>2011-01-10</td><td>3400</td><td>1</td><td>3400</td></tr>\n",
                            "<tr><td>SO43699</td><td>9</td><td>14864</td><td>2010-12-29</td><td>2011-01-05</td><td>2011-01-10</td><td>3400</td><td>1</td><td>3400</td></tr>\n",
                            "<tr><td>SO43700</td><td>41</td><td>3502</td><td>2010-12-29</td><td>2011-01-05</td><td>2011-01-10</td><td>699</td><td>1</td><td>699</td></tr>\n",
                            "<tr><td>SO43701</td><td>9</td><td>4</td><td>2010-12-29</td><td>2011-01-05</td><td>2011-01-10</td><td>3400</td><td>1</td><td>3400</td></tr>\n",
                            "</table>"
                        ]
                    },
                    "execution_count": 21,
                    "metadata": {},
                    "output_type": "execute_result"
                }
            ],
            "source": [
                "-- Use the dimension's surrogate keys instead of IDs to easily connect facts with dimensions\n",
                "-- Data lookup for dimensions' surrogate keys\n",
                "SELECT TOP 5\n",
                "    sd.sls_ord_num,\n",
                "    pr.product_key,\n",
                "    cu.customer_key,\n",
                "    sd.sls_order_dt,\n",
                "    sd.sls_ship_dt,\n",
                "    sd.sls_due_dt,\n",
                "    sd.sls_sales,\n",
                "    sd.sls_quantity,\n",
                "    sd.sls_price\n",
                "FROM silver.crm_sales_details AS sd\n",
                "LEFT JOIN gold.dim_products AS pr\n",
                "    ON sd.sls_prd_key = pr.product_number\n",
                "LEFT JOIN gold.dim_customers AS cu\n",
                "    ON sd.sls_cust_id = cu.customer_id;"
            ]
        },
        {
            "cell_type": "code",
            "execution_count": 22,
            "metadata": {
                "azdata_cell_guid": "24635c20-0f40-49dc-992a-f14df4eb3301",
                "language": "sql"
            },
            "outputs": [
                {
                    "data": {
                        "text/html": [
                            "(5 rows affected)"
                        ]
                    },
                    "metadata": {},
                    "output_type": "display_data"
                },
                {
                    "data": {
                        "text/html": [
                            "Total execution time: 00:00:00.101"
                        ]
                    },
                    "metadata": {},
                    "output_type": "display_data"
                },
                {
                    "data": {
                        "application/vnd.dataresource+json": {
                            "data": [
                                {
                                    "customer_key": "10769",
                                    "due_date": "2011-01-10",
                                    "order_date": "2010-12-29",
                                    "order_number": "SO43697",
                                    "price": "3578",
                                    "product_key": "20",
                                    "quantity": "1",
                                    "sales_amount": "3578",
                                    "shipping_date": "2011-01-05"
                                },
                                {
                                    "customer_key": "17390",
                                    "due_date": "2011-01-10",
                                    "order_date": "2010-12-29",
                                    "order_number": "SO43698",
                                    "price": "3400",
                                    "product_key": "9",
                                    "quantity": "1",
                                    "sales_amount": "3400",
                                    "shipping_date": "2011-01-05"
                                },
                                {
                                    "customer_key": "14864",
                                    "due_date": "2011-01-10",
                                    "order_date": "2010-12-29",
                                    "order_number": "SO43699",
                                    "price": "3400",
                                    "product_key": "9",
                                    "quantity": "1",
                                    "sales_amount": "3400",
                                    "shipping_date": "2011-01-05"
                                },
                                {
                                    "customer_key": "3502",
                                    "due_date": "2011-01-10",
                                    "order_date": "2010-12-29",
                                    "order_number": "SO43700",
                                    "price": "699",
                                    "product_key": "41",
                                    "quantity": "1",
                                    "sales_amount": "699",
                                    "shipping_date": "2011-01-05"
                                },
                                {
                                    "customer_key": "4",
                                    "due_date": "2011-01-10",
                                    "order_date": "2010-12-29",
                                    "order_number": "SO43701",
                                    "price": "3400",
                                    "product_key": "9",
                                    "quantity": "1",
                                    "sales_amount": "3400",
                                    "shipping_date": "2011-01-05"
                                }
                            ],
                            "schema": {
                                "fields": [
                                    {
                                        "name": "order_number"
                                    },
                                    {
                                        "name": "product_key"
                                    },
                                    {
                                        "name": "customer_key"
                                    },
                                    {
                                        "name": "order_date"
                                    },
                                    {
                                        "name": "shipping_date"
                                    },
                                    {
                                        "name": "due_date"
                                    },
                                    {
                                        "name": "sales_amount"
                                    },
                                    {
                                        "name": "quantity"
                                    },
                                    {
                                        "name": "price"
                                    }
                                ]
                            }
                        },
                        "text/html": [
                            "<table>\n",
                            "<tr><th>order_number</th><th>product_key</th><th>customer_key</th><th>order_date</th><th>shipping_date</th><th>due_date</th><th>sales_amount</th><th>quantity</th><th>price</th></tr>\n",
                            "<tr><td>SO43697</td><td>20</td><td>10769</td><td>2010-12-29</td><td>2011-01-05</td><td>2011-01-10</td><td>3578</td><td>1</td><td>3578</td></tr>\n",
                            "<tr><td>SO43698</td><td>9</td><td>17390</td><td>2010-12-29</td><td>2011-01-05</td><td>2011-01-10</td><td>3400</td><td>1</td><td>3400</td></tr>\n",
                            "<tr><td>SO43699</td><td>9</td><td>14864</td><td>2010-12-29</td><td>2011-01-05</td><td>2011-01-10</td><td>3400</td><td>1</td><td>3400</td></tr>\n",
                            "<tr><td>SO43700</td><td>41</td><td>3502</td><td>2010-12-29</td><td>2011-01-05</td><td>2011-01-10</td><td>699</td><td>1</td><td>699</td></tr>\n",
                            "<tr><td>SO43701</td><td>9</td><td>4</td><td>2010-12-29</td><td>2011-01-05</td><td>2011-01-10</td><td>3400</td><td>1</td><td>3400</td></tr>\n",
                            "</table>"
                        ]
                    },
                    "execution_count": 22,
                    "metadata": {},
                    "output_type": "execute_result"
                }
            ],
            "source": [
                "-- Now it's time to rename and rearrange the columns in a more meaningful way\n",
                "SELECT TOP 5\n",
                "    sd.sls_ord_num  AS order_number, -- keys\n",
                "    pr.product_key  AS product_key,\n",
                "    cu.customer_key AS customer_key,\n",
                "    sd.sls_order_dt AS order_date,    -- dates\n",
                "    sd.sls_ship_dt  AS shipping_date,\n",
                "    sd.sls_due_dt   AS due_date,\n",
                "    sd.sls_sales    AS sales_amount,  -- measures\n",
                "    sd.sls_quantity AS quantity,\n",
                "    sd.sls_price    AS price\n",
                "FROM silver.crm_sales_details sd\n",
                "LEFT JOIN gold.dim_products pr\n",
                "    ON sd.sls_prd_key = pr.product_number\n",
                "LEFT JOIN gold.dim_customers cu\n",
                "    ON sd.sls_cust_id = cu.customer_id;"
            ]
        },
        {
            "cell_type": "code",
            "execution_count": 23,
            "metadata": {
                "azdata_cell_guid": "824348ce-7018-4412-8e86-b8f9f4693c3a",
                "language": "sql"
            },
            "outputs": [
                {
                    "data": {
                        "text/html": [
                            "(0 rows affected)"
                        ]
                    },
                    "metadata": {},
                    "output_type": "display_data"
                },
                {
                    "data": {
                        "text/html": [
                            "Total execution time: 00:00:00.228"
                        ]
                    },
                    "metadata": {},
                    "output_type": "display_data"
                },
                {
                    "data": {
                        "application/vnd.dataresource+json": {
                            "data": [],
                            "schema": {
                                "fields": [
                                    {
                                        "name": "order_number"
                                    },
                                    {
                                        "name": "product_key"
                                    },
                                    {
                                        "name": "customer_key"
                                    },
                                    {
                                        "name": "order_date"
                                    },
                                    {
                                        "name": "shipping_date"
                                    },
                                    {
                                        "name": "due_date"
                                    },
                                    {
                                        "name": "sales_amount"
                                    },
                                    {
                                        "name": "quantity"
                                    },
                                    {
                                        "name": "price"
                                    },
                                    {
                                        "name": "customer_key"
                                    },
                                    {
                                        "name": "customer_id"
                                    },
                                    {
                                        "name": "customer_number"
                                    },
                                    {
                                        "name": "first_name"
                                    },
                                    {
                                        "name": "last_name"
                                    },
                                    {
                                        "name": "country"
                                    },
                                    {
                                        "name": "marital_status"
                                    },
                                    {
                                        "name": "gender"
                                    },
                                    {
                                        "name": "birthdate"
                                    },
                                    {
                                        "name": "create_date"
                                    },
                                    {
                                        "name": "product_key"
                                    },
                                    {
                                        "name": "product_id"
                                    },
                                    {
                                        "name": "product_number"
                                    },
                                    {
                                        "name": "product_name"
                                    },
                                    {
                                        "name": "category_id"
                                    },
                                    {
                                        "name": "category"
                                    },
                                    {
                                        "name": "subcategory"
                                    },
                                    {
                                        "name": "maintenance"
                                    },
                                    {
                                        "name": "cost"
                                    },
                                    {
                                        "name": "product_line"
                                    },
                                    {
                                        "name": "start_date"
                                    }
                                ]
                            }
                        },
                        "text/html": [
                            "<table>\n",
                            "<tr><th>order_number</th><th>product_key</th><th>customer_key</th><th>order_date</th><th>shipping_date</th><th>due_date</th><th>sales_amount</th><th>quantity</th><th>price</th><th>customer_key</th><th>customer_id</th><th>customer_number</th><th>first_name</th><th>last_name</th><th>country</th><th>marital_status</th><th>gender</th><th>birthdate</th><th>create_date</th><th>product_key</th><th>product_id</th><th>product_number</th><th>product_name</th><th>category_id</th><th>category</th><th>subcategory</th><th>maintenance</th><th>cost</th><th>product_line</th><th>start_date</th></tr>\n",
                            "</table>"
                        ]
                    },
                    "execution_count": 23,
                    "metadata": {},
                    "output_type": "execute_result"
                }
            ],
            "source": [
                "-- Check the data model connectivity between fact and dimensions\n",
                "SELECT * \n",
                "FROM gold.fact_sales f\n",
                "LEFT JOIN gold.dim_customers c\n",
                "ON c.customer_key = f.customer_key\n",
                "LEFT JOIN gold.dim_products p\n",
                "ON p.product_key = f.product_key\n",
                "WHERE p.product_key IS NULL OR c.customer_key IS NULL  \n"
            ]
        },
        {
            "cell_type": "code",
            "execution_count": null,
            "metadata": {
                "azdata_cell_guid": "a755861b-ad27-4b2c-8fbd-035ffeaaa120",
                "language": "sql"
            },
            "outputs": [],
            "source": []
        }
    ],
    "metadata": {
        "kernelspec": {
            "display_name": "SQL",
            "language": "sql",
            "name": "SQL"
        },
        "language_info": {
            "name": "sql",
            "version": ""
        }
    },
    "nbformat": 4,
    "nbformat_minor": 2
}
