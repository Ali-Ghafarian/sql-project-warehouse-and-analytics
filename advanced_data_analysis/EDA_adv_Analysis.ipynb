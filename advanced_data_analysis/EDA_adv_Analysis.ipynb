{
    "cells": [
        {
            "attachments": {},
            "cell_type": "markdown",
            "metadata": {
                "azdata_cell_guid": "be85d483-9687-4059-9440-62270b0d0d9f"
            },
            "source": [
                "# EDA and Advanced Analysis\n",
                "\n",
                "## Table of Contents\n",
                "1. [Overview](#overview)\n",
                "   - Project Scope and Purpose\n",
                "   - Data Architecture\n",
                "   - Analysis Goals\n",
                "\n",
                "2. [Key Business Insights](#key-business-insights)\n",
                "   - [Overall Business Performance](#overall-business-performance)\n",
                "   - [Geographic Distribution](#geographic-distribution)\n",
                "   - [Product Performance](#product-performance)\n",
                "   - [Sales Performance Insights](#sales-performance-insights)\n",
                "   - [Strategic Recommendations](#strategic-recommendations)\n",
                "\n",
                "3. [Database Exploration](#database-exploration)\n",
                "   - [Table Structure Overview](#table-structure-overview)\n",
                "   - [Schema Analysis](#schema-analysis)\n",
                "\n",
                "4. [Dimensions Exploration](#dimensions-exploration)\n",
                "   - [Customer Demographics](#customer-demographics)\n",
                "   - [Product Categories](#product-categories)\n",
                "\n",
                "5. [Date Range Exploration](#date-range-exploration)\n",
                "   - [Order Timeline Analysis](#order-timeline-analysis)\n",
                "   - [Customer Age Distribution](#customer-age-distribution)\n",
                "\n",
                "6. [Measures Exploration](#measures-exploration)\n",
                "   - [Key Business Metrics](#key-business-metrics)\n",
                "   - [Performance Indicators](#performance-indicators)\n",
                "\n",
                "7. [Magnitude Analysis](#magnitude-analysis)\n",
                "   - [Customer Distribution](#customer-distribution)\n",
                "   - [Product Distribution](#product-distribution)\n",
                "   - [Revenue Analysis](#revenue-analysis)\n",
                "\n",
                "8. [Ranking Analysis](#ranking-analysis)\n",
                "   - [Top Products](#top-products)\n",
                "   - [Top Customers](#top-customers)\n",
                "   - [Performance Rankings](#performance-rankings)\n",
                "\n",
                "9. [Change Over Time Analysis](#change-over-time-analysis)\n",
                "   - [Year-over-Year Growth](#year-over-year-growth)\n",
                "   - [Monthly Patterns](#monthly-patterns)\n",
                "   - [Seasonality](#seasonality)\n",
                "\n",
                "10. [Cumulative Analysis](#cumulative-analysis)\n",
                "    - [Running Totals](#running-totals)\n",
                "    - [Growth Trends](#growth-trends)\n",
                "    - [Moving Averages](#moving-averages)\n",
                "\n",
                "11. [Performance Analysis](#performance-analysis)\n",
                "    - [Product Performance](#product-performance)\n",
                "    - [Customer Performance](#customer-performance)\n",
                "    - [Market Performance](#market-performance)\n",
                "\n",
                "12. [Data Segmentation](#data-segmentation)\n",
                "    - [Customer Segments](#customer-segments)\n",
                "    - [Product Categories](#product-categories)\n",
                "    - [Price Ranges](#price-ranges)\n",
                "\n",
                "13. [Part to Whole Analysis](#part-to-whole-analysis)\n",
                "    - [Revenue Distribution](#revenue-distribution)\n",
                "    - [Market Share](#market-share)\n",
                "    - [Category Contribution](#category-contribution)\n",
                "\n",
                "14. [Analytical Views](#analytical-views)\n",
                "    - [Customer Report View](#customer-report-view)\n",
                "    - [Product Report View](#product-report-view)\n",
                "\n",
                "## Overview\n",
                "This notebook contains comprehensive exploratory data analysis of the data warehouse, examining various aspects of the business data through SQL queries. The analysis progresses from basic structure understanding to advanced analytical insights.\n",
                "\n",
                "### Data Architecture\n",
                "- Bronze Layer: Raw data tables from CRM and ERP systems\n",
                "- Silver Layer: Cleaned and standardized tables\n",
                "- Gold Layer: Analytical views (dim_customers, dim_products, fact_sales)\n",
                "\n",
                "### Analysis Goals\n",
                "1. Understand data structure and quality\n",
                "2. Identify business patterns and trends\n",
                "3. Generate actionable insights for decision making\n",
                "4. Validate data consistency across layers\n",
                "\n",
                "## Detailed Analysis Overview\n",
                "This notebook provides in-depth exploratory analysis and advanced data insights to drive actionable business strategies.\n",
                "\n",
                "## Key Business Insights\n",
                "\n",
                "### Overall Business Performance\n",
                "\n",
                "1. Revenue Metrics\n",
                "   - Total Sales Revenue: $29,356,250\n",
                "   - Total Orders: 27,659 unique orders (avg 2.18 items per order)\n",
                "   - Average Price: $486\n",
                "   - Total Items Sold: 60,423 units\n",
                "\n",
                "2. Customer Base\n",
                "   - Total Active Customers: 18,484 (100% purchase rate)\n",
                "   - Gender Distribution: Nearly balanced (9,341 Male, 9,128 Female, 15 Unknown)\n",
                "   - Marital Status: 10,011 Married (54.2%), 8,473 Single (45.8%)\n",
                "   - Age Range: From 39 to 109 years\n",
                "   - Customer Segments: 1,655 VIP, 2,198 Regular, 14,631 New customers\n",
                "\n",
                "### Geographic Distribution\n",
                "\n",
                "1. Market Presence\n",
                "   - United States: 7,482 customers (40.5%), $9.16M revenue, highest volume\n",
                "   - Australia: 3,591 customers (19.4%), $9.06M revenue, highest efficiency\n",
                "   - United Kingdom: 1,913 customers (10.3%), $3.39M revenue\n",
                "   - France: 1,810 customers (9.8%), $2.64M revenue\n",
                "   - Germany: 1,780 customers (9.6%), $2.89M revenue\n",
                "   - Canada: 1,571 customers (8.5%), $1.98M revenue, growth potential\n",
                "   - Unknown: 337 customers (1.8%), $227K revenue, needs investigation\n",
                "\n",
                "2. Market Analysis\n",
                "   - High revenue efficiency in Australia (similar revenue to US with fewer customers)\n",
                "   - Strong presence in English-speaking markets\n",
                "   - Growing European market presence\n",
                "   - Canadian market underperforming relative to customer base\n",
                "\n",
                "### Product Performance\n",
                "\n",
                "1. Category Analysis\n",
                "   - Bikes: Dominates with 96.46% of revenue ($28.3M)\n",
                "   - Accessories: 2.39% of revenue ($700K), strong cross-selling potential\n",
                "   - Clothing: 1.16% of revenue ($340K)\n",
                "   - Components: 134 products but 0% revenue (largest category by SKU count)\n",
                "\n",
                "2. Product Portfolio\n",
                "   - Total Products: 295 across 4 categories\n",
                "   - Bikes: 97 products (highest revenue generator)\n",
                "   - Components: 134 products (no sales yet)\n",
                "   - Clothing: 35 products\n",
                "   - Accessories: 29 products\n",
                "\n",
                "3. Top Performers\n",
                "   - Mountain-200 Black-46: $1.37M revenue (signature product)\n",
                "   - Mountain-200 Black-42: $1.36M revenue\n",
                "   - Mountain-200 Silver-38: $1.34M revenue\n",
                "   - Mountain-200 series dominates sales\n",
                "\n",
                "4. Cost Structure\n",
                "   - Bikes: Highest avg cost ($949)\n",
                "   - Components: Mid-range avg cost ($252)\n",
                "   - Clothing: Lower avg cost ($24)\n",
                "   - Accessories: Lowest avg cost ($13)\n",
                "\n",
                "### Sales Performance Insights\n",
                "\n",
                "1. Temporal Analysis\n",
                "   - Best Year: 2013 ($16.3M revenue, tripled from 2012)\n",
                "   - Peak Months: December ($3.2M), November ($2.98M), June ($2.94M)\n",
                "   - Slowest Months: February ($1.74M), January ($1.87M), March ($1.91M)\n",
                "   - Strong holiday season performance\n",
                "   - Clear winter season slowdown\n",
                "\n",
                "2. Year-over-Year Growth\n",
                "   - 2011: $7.08M revenue\n",
                "   - 2012: $5.84M revenue (slight decline)\n",
                "   - 2013: $16.34M revenue (massive growth)\n",
                "   - 2014: Partial year data\n",
                "   - Notable: 2013 growth driven by quantity, not price increases\n",
                "\n",
                "3. Customer Behavior\n",
                "   - Average 2.18 orders per customer\n",
                "   - 100% customer activation rate\n",
                "   - Top customers averaging $2,600-2,700 per order\n",
                "   - Strongest performance in Australian market\n",
                "   - Increasing order frequency in 2013\n",
                "\n",
                "### Strategic Recommendations\n",
                "\n",
                "1. Immediate Opportunities\n",
                "   - Activate Components category (134 products with no sales)\n",
                "   - Expand Mountain-200 product line success\n",
                "   - Leverage Australian market efficiency model\n",
                "   - Develop winter season promotional strategy\n",
                "   - Increase accessories cross-selling\n",
                "\n",
                "2. Risk Management\n",
                "   - Reduce reliance on Bikes category (96.46% of revenue)\n",
                "   - Diversify product revenue streams\n",
                "   - Address seasonal revenue fluctuations\n",
                "   - Investigate 'Unknown' country entries\n",
                "   - Monitor pricing strategy impact on volume\n",
                "\n",
                "3. Growth Initiatives\n",
                "   - Implement Components category sales strategy\n",
                "   - Expand accessories and clothing cross-selling\n",
                "   - Develop targeted winter promotions\n",
                "   - Replicate Australian market success model\n",
                "   - Focus on customer retention in growth markets\n",
                "   - Enhance Canadian market performance\n",
                "\n",
                "### Next Steps\n",
                "1. Investigate Components category non-performance\n",
                "2. Develop winter season sales strategy\n",
                "3. Expand cross-selling program for accessories\n",
                "4. Implement Australian market best practices\n",
                "5. Launch customer retention program\n",
                "6. Address data quality for 'Unknown' country entries\n",
                "7. Analyze successful 2013 marketing strategies for replication"
            ]
        },
        {
            "cell_type": "markdown",
            "metadata": {
                "azdata_cell_guid": "6d92550c-401b-4f5e-8907-fc3b9bfcd9dc"
            },
            "source": [
                "## Database Exploration\n",
                "\n",
                "Purpose:\n",
                "- To explore the structure of the database, including the list of tables and their schemas.\n",
                "- To inspect the columns and metadata for specific tables.\n",
                "\n",
                "Tables Used:\n",
                "- INFORMATION_SCHEMA.TABLES\n",
                "- INFORMATION_SCHEMA.COLUMNS"
            ]
        },
        {
            "cell_type": "code",
            "execution_count": 2,
            "metadata": {
                "azdata_cell_guid": "6b4dfe01-602b-45bb-a5fd-6c6a2c100bd5",
                "language": "sql"
            },
            "outputs": [
                {
                    "data": {
                        "text/html": [
                            "Commands completed successfully."
                        ]
                    },
                    "metadata": {},
                    "output_type": "display_data"
                },
                {
                    "data": {
                        "text/html": [
                            "Total execution time: 00:00:00.022"
                        ]
                    },
                    "metadata": {},
                    "output_type": "display_data"
                }
            ],
            "source": [
                "USE DataWarehouse;"
            ]
        },
        {
            "cell_type": "code",
            "execution_count": 3,
            "metadata": {
                "azdata_cell_guid": "4452f96b-1d5d-43d7-b9d4-2b37d12e7a9d",
                "language": "sql"
            },
            "outputs": [
                {
                    "data": {
                        "text/html": [
                            "(15 rows affected)"
                        ]
                    },
                    "metadata": {},
                    "output_type": "display_data"
                },
                {
                    "data": {
                        "text/html": [
                            "Total execution time: 00:00:00.103"
                        ]
                    },
                    "metadata": {},
                    "output_type": "display_data"
                },
                {
                    "data": {
                        "application/vnd.dataresource+json": {
                            "data": [
                                {
                                    "TABLE_CATALOG": "DataWarehouse",
                                    "TABLE_NAME": "crm_cust_info",
                                    "TABLE_SCHEMA": "bronze",
                                    "TABLE_TYPE": "BASE TABLE"
                                },
                                {
                                    "TABLE_CATALOG": "DataWarehouse",
                                    "TABLE_NAME": "crm_prd_info",
                                    "TABLE_SCHEMA": "bronze",
                                    "TABLE_TYPE": "BASE TABLE"
                                },
                                {
                                    "TABLE_CATALOG": "DataWarehouse",
                                    "TABLE_NAME": "crm_sales_details",
                                    "TABLE_SCHEMA": "bronze",
                                    "TABLE_TYPE": "BASE TABLE"
                                },
                                {
                                    "TABLE_CATALOG": "DataWarehouse",
                                    "TABLE_NAME": "erp_loc_a101",
                                    "TABLE_SCHEMA": "bronze",
                                    "TABLE_TYPE": "BASE TABLE"
                                },
                                {
                                    "TABLE_CATALOG": "DataWarehouse",
                                    "TABLE_NAME": "erp_cust_az12",
                                    "TABLE_SCHEMA": "bronze",
                                    "TABLE_TYPE": "BASE TABLE"
                                },
                                {
                                    "TABLE_CATALOG": "DataWarehouse",
                                    "TABLE_NAME": "erp_px_cat_g1v2",
                                    "TABLE_SCHEMA": "bronze",
                                    "TABLE_TYPE": "BASE TABLE"
                                },
                                {
                                    "TABLE_CATALOG": "DataWarehouse",
                                    "TABLE_NAME": "crm_cust_info",
                                    "TABLE_SCHEMA": "silver",
                                    "TABLE_TYPE": "BASE TABLE"
                                },
                                {
                                    "TABLE_CATALOG": "DataWarehouse",
                                    "TABLE_NAME": "crm_prd_info",
                                    "TABLE_SCHEMA": "silver",
                                    "TABLE_TYPE": "BASE TABLE"
                                },
                                {
                                    "TABLE_CATALOG": "DataWarehouse",
                                    "TABLE_NAME": "crm_sales_details",
                                    "TABLE_SCHEMA": "silver",
                                    "TABLE_TYPE": "BASE TABLE"
                                },
                                {
                                    "TABLE_CATALOG": "DataWarehouse",
                                    "TABLE_NAME": "erp_loc_a101",
                                    "TABLE_SCHEMA": "silver",
                                    "TABLE_TYPE": "BASE TABLE"
                                },
                                {
                                    "TABLE_CATALOG": "DataWarehouse",
                                    "TABLE_NAME": "erp_cust_az12",
                                    "TABLE_SCHEMA": "silver",
                                    "TABLE_TYPE": "BASE TABLE"
                                },
                                {
                                    "TABLE_CATALOG": "DataWarehouse",
                                    "TABLE_NAME": "erp_px_cat_g1v2",
                                    "TABLE_SCHEMA": "silver",
                                    "TABLE_TYPE": "BASE TABLE"
                                },
                                {
                                    "TABLE_CATALOG": "DataWarehouse",
                                    "TABLE_NAME": "dim_customers",
                                    "TABLE_SCHEMA": "gold",
                                    "TABLE_TYPE": "VIEW"
                                },
                                {
                                    "TABLE_CATALOG": "DataWarehouse",
                                    "TABLE_NAME": "dim_products",
                                    "TABLE_SCHEMA": "gold",
                                    "TABLE_TYPE": "VIEW"
                                },
                                {
                                    "TABLE_CATALOG": "DataWarehouse",
                                    "TABLE_NAME": "fact_sales",
                                    "TABLE_SCHEMA": "gold",
                                    "TABLE_TYPE": "VIEW"
                                }
                            ],
                            "schema": {
                                "fields": [
                                    {
                                        "name": "TABLE_CATALOG"
                                    },
                                    {
                                        "name": "TABLE_SCHEMA"
                                    },
                                    {
                                        "name": "TABLE_NAME"
                                    },
                                    {
                                        "name": "TABLE_TYPE"
                                    }
                                ]
                            }
                        },
                        "text/html": [
                            "<table><tr><th>TABLE_CATALOG</th><th>TABLE_SCHEMA</th><th>TABLE_NAME</th><th>TABLE_TYPE</th></tr><tr><td>DataWarehouse</td><td>bronze</td><td>crm_cust_info</td><td>BASE TABLE</td></tr><tr><td>DataWarehouse</td><td>bronze</td><td>crm_prd_info</td><td>BASE TABLE</td></tr><tr><td>DataWarehouse</td><td>bronze</td><td>crm_sales_details</td><td>BASE TABLE</td></tr><tr><td>DataWarehouse</td><td>bronze</td><td>erp_loc_a101</td><td>BASE TABLE</td></tr><tr><td>DataWarehouse</td><td>bronze</td><td>erp_cust_az12</td><td>BASE TABLE</td></tr><tr><td>DataWarehouse</td><td>bronze</td><td>erp_px_cat_g1v2</td><td>BASE TABLE</td></tr><tr><td>DataWarehouse</td><td>silver</td><td>crm_cust_info</td><td>BASE TABLE</td></tr><tr><td>DataWarehouse</td><td>silver</td><td>crm_prd_info</td><td>BASE TABLE</td></tr><tr><td>DataWarehouse</td><td>silver</td><td>crm_sales_details</td><td>BASE TABLE</td></tr><tr><td>DataWarehouse</td><td>silver</td><td>erp_loc_a101</td><td>BASE TABLE</td></tr><tr><td>DataWarehouse</td><td>silver</td><td>erp_cust_az12</td><td>BASE TABLE</td></tr><tr><td>DataWarehouse</td><td>silver</td><td>erp_px_cat_g1v2</td><td>BASE TABLE</td></tr><tr><td>DataWarehouse</td><td>gold</td><td>dim_customers</td><td>VIEW</td></tr><tr><td>DataWarehouse</td><td>gold</td><td>dim_products</td><td>VIEW</td></tr><tr><td>DataWarehouse</td><td>gold</td><td>fact_sales</td><td>VIEW</td></tr></table>"
                        ]
                    },
                    "execution_count": 3,
                    "metadata": {},
                    "output_type": "execute_result"
                }
            ],
            "source": [
                "-- Retrieve a list of all tables in the database\n",
                "SELECT \n",
                "    TABLE_CATALOG, \n",
                "    TABLE_SCHEMA, \n",
                "    TABLE_NAME, \n",
                "    TABLE_TYPE\n",
                "FROM INFORMATION_SCHEMA.TABLES;"
            ]
        },
        {
            "cell_type": "code",
            "execution_count": 4,
            "metadata": {
                "azdata_cell_guid": "4dd50b19-8af9-4580-a666-b798da94cb21",
                "language": "sql"
            },
            "outputs": [
                {
                    "data": {
                        "text/html": [
                            "(10 rows affected)"
                        ]
                    },
                    "metadata": {},
                    "output_type": "display_data"
                },
                {
                    "data": {
                        "text/html": [
                            "Total execution time: 00:00:00.092"
                        ]
                    },
                    "metadata": {},
                    "output_type": "display_data"
                },
                {
                    "data": {
                        "application/vnd.dataresource+json": {
                            "data": [
                                {
                                    "CHARACTER_MAXIMUM_LENGTH": "NULL",
                                    "COLUMN_NAME": "customer_key",
                                    "DATA_TYPE": "bigint",
                                    "IS_NULLABLE": "YES"
                                },
                                {
                                    "CHARACTER_MAXIMUM_LENGTH": "NULL",
                                    "COLUMN_NAME": "customer_id",
                                    "DATA_TYPE": "int",
                                    "IS_NULLABLE": "YES"
                                },
                                {
                                    "CHARACTER_MAXIMUM_LENGTH": "50",
                                    "COLUMN_NAME": "customer_number",
                                    "DATA_TYPE": "nvarchar",
                                    "IS_NULLABLE": "YES"
                                },
                                {
                                    "CHARACTER_MAXIMUM_LENGTH": "50",
                                    "COLUMN_NAME": "first_name",
                                    "DATA_TYPE": "nvarchar",
                                    "IS_NULLABLE": "YES"
                                },
                                {
                                    "CHARACTER_MAXIMUM_LENGTH": "50",
                                    "COLUMN_NAME": "last_name",
                                    "DATA_TYPE": "nvarchar",
                                    "IS_NULLABLE": "YES"
                                },
                                {
                                    "CHARACTER_MAXIMUM_LENGTH": "50",
                                    "COLUMN_NAME": "country",
                                    "DATA_TYPE": "nvarchar",
                                    "IS_NULLABLE": "YES"
                                },
                                {
                                    "CHARACTER_MAXIMUM_LENGTH": "50",
                                    "COLUMN_NAME": "marital_status",
                                    "DATA_TYPE": "nvarchar",
                                    "IS_NULLABLE": "YES"
                                },
                                {
                                    "CHARACTER_MAXIMUM_LENGTH": "50",
                                    "COLUMN_NAME": "gender",
                                    "DATA_TYPE": "nvarchar",
                                    "IS_NULLABLE": "YES"
                                },
                                {
                                    "CHARACTER_MAXIMUM_LENGTH": "NULL",
                                    "COLUMN_NAME": "birthdate",
                                    "DATA_TYPE": "date",
                                    "IS_NULLABLE": "YES"
                                },
                                {
                                    "CHARACTER_MAXIMUM_LENGTH": "NULL",
                                    "COLUMN_NAME": "create_date",
                                    "DATA_TYPE": "date",
                                    "IS_NULLABLE": "YES"
                                }
                            ],
                            "schema": {
                                "fields": [
                                    {
                                        "name": "COLUMN_NAME"
                                    },
                                    {
                                        "name": "DATA_TYPE"
                                    },
                                    {
                                        "name": "IS_NULLABLE"
                                    },
                                    {
                                        "name": "CHARACTER_MAXIMUM_LENGTH"
                                    }
                                ]
                            }
                        },
                        "text/html": [
                            "<table><tr><th>COLUMN_NAME</th><th>DATA_TYPE</th><th>IS_NULLABLE</th><th>CHARACTER_MAXIMUM_LENGTH</th></tr><tr><td>customer_key</td><td>bigint</td><td>YES</td><td>NULL</td></tr><tr><td>customer_id</td><td>int</td><td>YES</td><td>NULL</td></tr><tr><td>customer_number</td><td>nvarchar</td><td>YES</td><td>50</td></tr><tr><td>first_name</td><td>nvarchar</td><td>YES</td><td>50</td></tr><tr><td>last_name</td><td>nvarchar</td><td>YES</td><td>50</td></tr><tr><td>country</td><td>nvarchar</td><td>YES</td><td>50</td></tr><tr><td>marital_status</td><td>nvarchar</td><td>YES</td><td>50</td></tr><tr><td>gender</td><td>nvarchar</td><td>YES</td><td>50</td></tr><tr><td>birthdate</td><td>date</td><td>YES</td><td>NULL</td></tr><tr><td>create_date</td><td>date</td><td>YES</td><td>NULL</td></tr></table>"
                        ]
                    },
                    "execution_count": 4,
                    "metadata": {},
                    "output_type": "execute_result"
                }
            ],
            "source": [
                "-- Retrieve all columns for a specific table (dim_customers)\n",
                "SELECT \n",
                "    COLUMN_NAME, \n",
                "    DATA_TYPE, \n",
                "    IS_NULLABLE, \n",
                "    CHARACTER_MAXIMUM_LENGTH\n",
                "FROM INFORMATION_SCHEMA.COLUMNS\n",
                "WHERE TABLE_NAME = 'dim_customers';"
            ]
        },
        {
            "cell_type": "markdown",
            "metadata": {
                "azdata_cell_guid": "689bb1c8-c80d-448e-b651-68cf21e9d67b"
            },
            "source": [
                "## Dimensions Exploration\n",
                "\n",
                "Purpose:\n",
                "- To explore the structure of dimension tables.\n",
                "\n",
                "SQL Functions Used:\n",
                "- DISTINCT\n",
                "- ORDER BY"
            ]
        },
        {
            "cell_type": "code",
            "execution_count": 5,
            "metadata": {
                "azdata_cell_guid": "509856c0-a98a-4869-8b04-7f35b16e778e",
                "language": "sql"
            },
            "outputs": [
                {
                    "data": {
                        "text/html": [
                            "(7 rows affected)"
                        ]
                    },
                    "metadata": {},
                    "output_type": "display_data"
                },
                {
                    "data": {
                        "text/html": [
                            "Total execution time: 00:00:00.091"
                        ]
                    },
                    "metadata": {},
                    "output_type": "display_data"
                },
                {
                    "data": {
                        "application/vnd.dataresource+json": {
                            "data": [
                                {
                                    "country": "Australia"
                                },
                                {
                                    "country": "Canada"
                                },
                                {
                                    "country": "France"
                                },
                                {
                                    "country": "Germany"
                                },
                                {
                                    "country": "United Kingdom"
                                },
                                {
                                    "country": "United States"
                                },
                                {
                                    "country": "Unknown"
                                }
                            ],
                            "schema": {
                                "fields": [
                                    {
                                        "name": "country"
                                    }
                                ]
                            }
                        },
                        "text/html": [
                            "<table><tr><th>country</th></tr><tr><td>Australia</td></tr><tr><td>Canada</td></tr><tr><td>France</td></tr><tr><td>Germany</td></tr><tr><td>United Kingdom</td></tr><tr><td>United States</td></tr><tr><td>Unknown</td></tr></table>"
                        ]
                    },
                    "execution_count": 5,
                    "metadata": {},
                    "output_type": "execute_result"
                }
            ],
            "source": [
                "-- Retrieve a list of unique countries from which customers originate\n",
                "SELECT DISTINCT \n",
                "    country \n",
                "FROM gold.dim_customers\n",
                "ORDER BY country;\n",
                "\n",
                "-- not sure unknown means other countries or simply no information on the counrty\n",
                "-- need to discuss with team or source expert"
            ]
        },
        {
            "cell_type": "code",
            "execution_count": 33,
            "metadata": {
                "azdata_cell_guid": "d8305f09-fc18-4e42-8594-9ca978e22974",
                "language": "sql"
            },
            "outputs": [
                {
                    "data": {
                        "text/html": [
                            "(10 rows affected)"
                        ]
                    },
                    "metadata": {},
                    "output_type": "display_data"
                },
                {
                    "data": {
                        "text/html": [
                            "Total execution time: 00:00:00.039"
                        ]
                    },
                    "metadata": {},
                    "output_type": "display_data"
                },
                {
                    "data": {
                        "application/vnd.dataresource+json": {
                            "data": [
                                {
                                    "category": "Accessories",
                                    "product_name": "Hitch Rack - 4-Bike",
                                    "subcategory": "Bike Racks"
                                },
                                {
                                    "category": "Accessories",
                                    "product_name": "All-Purpose Bike Stand",
                                    "subcategory": "Bike Stands"
                                },
                                {
                                    "category": "Accessories",
                                    "product_name": "Mountain Bottle Cage",
                                    "subcategory": "Bottles and Cages"
                                },
                                {
                                    "category": "Accessories",
                                    "product_name": "Road Bottle Cage",
                                    "subcategory": "Bottles and Cages"
                                },
                                {
                                    "category": "Accessories",
                                    "product_name": "Water Bottle - 30 oz.",
                                    "subcategory": "Bottles and Cages"
                                },
                                {
                                    "category": "Accessories",
                                    "product_name": "Bike Wash - Dissolver",
                                    "subcategory": "Cleaners"
                                },
                                {
                                    "category": "Accessories",
                                    "product_name": "Fender Set - Mountain",
                                    "subcategory": "Fenders"
                                },
                                {
                                    "category": "Accessories",
                                    "product_name": "Sport-100 Helmet- Black",
                                    "subcategory": "Helmets"
                                },
                                {
                                    "category": "Accessories",
                                    "product_name": "Sport-100 Helmet- Blue",
                                    "subcategory": "Helmets"
                                },
                                {
                                    "category": "Accessories",
                                    "product_name": "Sport-100 Helmet- Red",
                                    "subcategory": "Helmets"
                                }
                            ],
                            "schema": {
                                "fields": [
                                    {
                                        "name": "category"
                                    },
                                    {
                                        "name": "subcategory"
                                    },
                                    {
                                        "name": "product_name"
                                    }
                                ]
                            }
                        },
                        "text/html": [
                            "<table><tr><th>category</th><th>subcategory</th><th>product_name</th></tr><tr><td>Accessories</td><td>Bike Racks</td><td>Hitch Rack - 4-Bike</td></tr><tr><td>Accessories</td><td>Bike Stands</td><td>All-Purpose Bike Stand</td></tr><tr><td>Accessories</td><td>Bottles and Cages</td><td>Mountain Bottle Cage</td></tr><tr><td>Accessories</td><td>Bottles and Cages</td><td>Road Bottle Cage</td></tr><tr><td>Accessories</td><td>Bottles and Cages</td><td>Water Bottle - 30 oz.</td></tr><tr><td>Accessories</td><td>Cleaners</td><td>Bike Wash - Dissolver</td></tr><tr><td>Accessories</td><td>Fenders</td><td>Fender Set - Mountain</td></tr><tr><td>Accessories</td><td>Helmets</td><td>Sport-100 Helmet- Black</td></tr><tr><td>Accessories</td><td>Helmets</td><td>Sport-100 Helmet- Blue</td></tr><tr><td>Accessories</td><td>Helmets</td><td>Sport-100 Helmet- Red</td></tr></table>"
                        ]
                    },
                    "execution_count": 33,
                    "metadata": {},
                    "output_type": "execute_result"
                }
            ],
            "source": [
                "-- Retrieve a list of unique categories, subcategories, and products\n",
                "SELECT DISTINCT TOP 10\n",
                "    category,\n",
                "    subcategory, \n",
                "    product_name \n",
                "FROM gold.dim_products\n",
                "ORDER BY category, subcategory, product_name;\n",
                "\n",
                "-- checking the procuct range: 295 unique products in 4 main categories and 36 subcategories\n",
                "-- The business offers a diverse range of bikes along with a variety of complementary products."
            ]
        },
        {
            "cell_type": "markdown",
            "metadata": {
                "azdata_cell_guid": "20637d94-3e8d-45cc-a619-94dbff77dfa3"
            },
            "source": [
                "## Date Range Exploration\n",
                "\n",
                "Purpose:\n",
                "- To determine the temporal boundaries of key data points.\n",
                "- To understand the range of historical data.\n",
                "\n",
                "SQL Functions Used:\n",
                "- MIN(), MAX(), DATEDIFF()"
            ]
        },
        {
            "cell_type": "code",
            "execution_count": 8,
            "metadata": {
                "azdata_cell_guid": "081f5ec3-29ba-4df3-9328-6ac8f544d75a",
                "language": "sql"
            },
            "outputs": [
                {
                    "data": {
                        "text/html": [
                            "Warning: Null value is eliminated by an aggregate or other SET operation."
                        ]
                    },
                    "metadata": {},
                    "output_type": "display_data"
                },
                {
                    "data": {
                        "text/html": [
                            "(1 row affected)"
                        ]
                    },
                    "metadata": {},
                    "output_type": "display_data"
                },
                {
                    "data": {
                        "text/html": [
                            "Total execution time: 00:00:00.111"
                        ]
                    },
                    "metadata": {},
                    "output_type": "display_data"
                },
                {
                    "data": {
                        "application/vnd.dataresource+json": {
                            "data": [
                                {
                                    "first_order_date": "2010-12-29",
                                    "last_order_date": "2014-01-28",
                                    "order_range_months": "37"
                                }
                            ],
                            "schema": {
                                "fields": [
                                    {
                                        "name": "first_order_date"
                                    },
                                    {
                                        "name": "last_order_date"
                                    },
                                    {
                                        "name": "order_range_months"
                                    }
                                ]
                            }
                        },
                        "text/html": [
                            "<table><tr><th>first_order_date</th><th>last_order_date</th><th>order_range_months</th></tr><tr><td>2010-12-29</td><td>2014-01-28</td><td>37</td></tr></table>"
                        ]
                    },
                    "execution_count": 8,
                    "metadata": {},
                    "output_type": "execute_result"
                }
            ],
            "source": [
                "-- Determine the first and last order date and the total duration in months\n",
                "SELECT \n",
                "    MIN(order_date) AS first_order_date,\n",
                "    MAX(order_date) AS last_order_date,\n",
                "    DATEDIFF(MONTH, MIN(order_date), MAX(order_date)) AS order_range_months\n",
                "FROM gold.fact_sales;"
            ]
        },
        {
            "cell_type": "code",
            "execution_count": 9,
            "metadata": {
                "azdata_cell_guid": "8ea9c573-5a88-4925-b292-5a66fa567c52",
                "language": "sql"
            },
            "outputs": [
                {
                    "data": {
                        "text/html": [
                            "Warning: Null value is eliminated by an aggregate or other SET operation."
                        ]
                    },
                    "metadata": {},
                    "output_type": "display_data"
                },
                {
                    "data": {
                        "text/html": [
                            "(1 row affected)"
                        ]
                    },
                    "metadata": {},
                    "output_type": "display_data"
                },
                {
                    "data": {
                        "text/html": [
                            "Total execution time: 00:00:00.092"
                        ]
                    },
                    "metadata": {},
                    "output_type": "display_data"
                },
                {
                    "data": {
                        "application/vnd.dataresource+json": {
                            "data": [
                                {
                                    "oldest_age": "109",
                                    "oldest_birthdate": "1916-02-10",
                                    "youngest_age": "39",
                                    "youngest_birthdate": "1986-06-25"
                                }
                            ],
                            "schema": {
                                "fields": [
                                    {
                                        "name": "oldest_birthdate"
                                    },
                                    {
                                        "name": "oldest_age"
                                    },
                                    {
                                        "name": "youngest_birthdate"
                                    },
                                    {
                                        "name": "youngest_age"
                                    }
                                ]
                            }
                        },
                        "text/html": [
                            "<table><tr><th>oldest_birthdate</th><th>oldest_age</th><th>youngest_birthdate</th><th>youngest_age</th></tr><tr><td>1916-02-10</td><td>109</td><td>1986-06-25</td><td>39</td></tr></table>"
                        ]
                    },
                    "execution_count": 9,
                    "metadata": {},
                    "output_type": "execute_result"
                }
            ],
            "source": [
                "-- Find the youngest and oldest customer based on birthdate\n",
                "SELECT\n",
                "    MIN(birthdate) AS oldest_birthdate,\n",
                "    DATEDIFF(YEAR, MIN(birthdate), GETDATE()) AS oldest_age,\n",
                "    MAX(birthdate) AS youngest_birthdate,\n",
                "    DATEDIFF(YEAR, MAX(birthdate), GETDATE()) AS youngest_age\n",
                "FROM gold.dim_customers;"
            ]
        },
        {
            "attachments": {},
            "cell_type": "markdown",
            "metadata": {
                "azdata_cell_guid": "ef6419fd-69d9-44e3-9d09-84f5730b05b4"
            },
            "source": [
                "## Measures Exploration (Key Metrics)\n",
                "\n",
                "Purpose:\n",
                "\n",
                "- To calculate aggregated metrics (e.g., totals, averages) for quick insights.\n",
                "- To identify overall trends or spot anomalies.\n",
                "\n",
                "SQL Functions Used:\n",
                "\n",
                "- COUNT(), SUM(), AVG(), UNION"
            ]
        },
        {
            "cell_type": "code",
            "execution_count": 10,
            "metadata": {
                "azdata_cell_guid": "47fd1144-b2c1-4c79-b79c-5fe5ba0b1f86",
                "language": "sql"
            },
            "outputs": [
                {
                    "data": {
                        "text/html": [
                            "(1 row affected)"
                        ]
                    },
                    "metadata": {},
                    "output_type": "display_data"
                },
                {
                    "data": {
                        "text/html": [
                            "Total execution time: 00:00:00.179"
                        ]
                    },
                    "metadata": {},
                    "output_type": "display_data"
                },
                {
                    "data": {
                        "application/vnd.dataresource+json": {
                            "data": [
                                {
                                    "total_sales": "29356250"
                                }
                            ],
                            "schema": {
                                "fields": [
                                    {
                                        "name": "total_sales"
                                    }
                                ]
                            }
                        },
                        "text/html": [
                            "<table><tr><th>total_sales</th></tr><tr><td>29356250</td></tr></table>"
                        ]
                    },
                    "execution_count": 10,
                    "metadata": {},
                    "output_type": "execute_result"
                }
            ],
            "source": [
                "-- Find the Total Sales\n",
                "SELECT SUM(sales_amount) AS total_sales FROM gold.fact_sales\n",
                "\n",
                "-- Over 29 M"
            ]
        },
        {
            "cell_type": "code",
            "execution_count": 12,
            "metadata": {
                "azdata_cell_guid": "892e71e2-7756-443e-b695-023193a989ea",
                "language": "sql"
            },
            "outputs": [
                {
                    "data": {
                        "text/html": [
                            "(1 row affected)"
                        ]
                    },
                    "metadata": {},
                    "output_type": "display_data"
                },
                {
                    "data": {
                        "text/html": [
                            "Total execution time: 00:00:00.106"
                        ]
                    },
                    "metadata": {},
                    "output_type": "display_data"
                },
                {
                    "data": {
                        "application/vnd.dataresource+json": {
                            "data": [
                                {
                                    "avg_price": "486"
                                }
                            ],
                            "schema": {
                                "fields": [
                                    {
                                        "name": "avg_price"
                                    }
                                ]
                            }
                        },
                        "text/html": [
                            "<table><tr><th>avg_price</th></tr><tr><td>486</td></tr></table>"
                        ]
                    },
                    "execution_count": 12,
                    "metadata": {},
                    "output_type": "execute_result"
                }
            ],
            "source": [
                "-- Find the average selling price\n",
                "SELECT AVG(price) AS avg_price FROM gold.fact_sales\n",
                "\n",
                "-- Selling expensive items\n",
                "-- Might sell bikes more often (verified in the magnitude analysis section)"
            ]
        },
        {
            "cell_type": "code",
            "execution_count": 11,
            "metadata": {
                "azdata_cell_guid": "9d223b49-7d08-4c43-ad6f-62f53d81f09b",
                "language": "sql",
                "tags": []
            },
            "outputs": [
                {
                    "data": {
                        "text/html": [
                            "(1 row affected)"
                        ]
                    },
                    "metadata": {},
                    "output_type": "display_data"
                },
                {
                    "data": {
                        "text/html": [
                            "Total execution time: 00:00:00.141"
                        ]
                    },
                    "metadata": {},
                    "output_type": "display_data"
                },
                {
                    "data": {
                        "application/vnd.dataresource+json": {
                            "data": [
                                {
                                    "total_quantity": "60423"
                                }
                            ],
                            "schema": {
                                "fields": [
                                    {
                                        "name": "total_quantity"
                                    }
                                ]
                            }
                        },
                        "text/html": [
                            "<table><tr><th>total_quantity</th></tr><tr><td>60423</td></tr></table>"
                        ]
                    },
                    "execution_count": 11,
                    "metadata": {},
                    "output_type": "execute_result"
                }
            ],
            "source": [
                "-- Find how many items are sold\n",
                "SELECT SUM(quantity) AS total_quantity FROM gold.fact_sales"
            ]
        },
        {
            "cell_type": "code",
            "execution_count": 13,
            "metadata": {
                "azdata_cell_guid": "25525210-6fc2-4fa6-b705-73b85ec78ce5",
                "language": "sql"
            },
            "outputs": [
                {
                    "data": {
                        "text/html": [
                            "(1 row affected)"
                        ]
                    },
                    "metadata": {},
                    "output_type": "display_data"
                },
                {
                    "data": {
                        "text/html": [
                            "(1 row affected)"
                        ]
                    },
                    "metadata": {},
                    "output_type": "display_data"
                },
                {
                    "data": {
                        "text/html": [
                            "Total execution time: 00:00:00.313"
                        ]
                    },
                    "metadata": {},
                    "output_type": "display_data"
                },
                {
                    "data": {
                        "application/vnd.dataresource+json": {
                            "data": [
                                {
                                    "total_orders": "60398"
                                }
                            ],
                            "schema": {
                                "fields": [
                                    {
                                        "name": "total_orders"
                                    }
                                ]
                            }
                        },
                        "text/html": [
                            "<table><tr><th>total_orders</th></tr><tr><td>60398</td></tr></table>"
                        ]
                    },
                    "execution_count": 13,
                    "metadata": {},
                    "output_type": "execute_result"
                },
                {
                    "data": {
                        "application/vnd.dataresource+json": {
                            "data": [
                                {
                                    "total_orders": "27659"
                                }
                            ],
                            "schema": {
                                "fields": [
                                    {
                                        "name": "total_orders"
                                    }
                                ]
                            }
                        },
                        "text/html": [
                            "<table><tr><th>total_orders</th></tr><tr><td>27659</td></tr></table>"
                        ]
                    },
                    "execution_count": 13,
                    "metadata": {},
                    "output_type": "execute_result"
                }
            ],
            "source": [
                "-- Find the Total number of Orders (with and without duplicates)\n",
                "SELECT COUNT(order_number) AS total_orders FROM gold.fact_sales;\n",
                "SELECT COUNT(DISTINCT order_number) AS total_orders FROM gold.fact_sales;\n",
                "\n",
                "-- Means the business are selling at least 2 items per order on average"
            ]
        },
        {
            "cell_type": "code",
            "execution_count": 17,
            "metadata": {
                "azdata_cell_guid": "4cc17b6c-f3e7-460a-aaad-702d84357055",
                "language": "sql"
            },
            "outputs": [
                {
                    "data": {
                        "text/html": [
                            "(1 row affected)"
                        ]
                    },
                    "metadata": {},
                    "output_type": "display_data"
                },
                {
                    "data": {
                        "text/html": [
                            "Total execution time: 00:00:00.069"
                        ]
                    },
                    "metadata": {},
                    "output_type": "display_data"
                },
                {
                    "data": {
                        "application/vnd.dataresource+json": {
                            "data": [
                                {
                                    "total_products": "295"
                                }
                            ],
                            "schema": {
                                "fields": [
                                    {
                                        "name": "total_products"
                                    }
                                ]
                            }
                        },
                        "text/html": [
                            "<table><tr><th>total_products</th></tr><tr><td>295</td></tr></table>"
                        ]
                    },
                    "execution_count": 17,
                    "metadata": {},
                    "output_type": "execute_result"
                }
            ],
            "source": [
                "-- Find the total number of products\n",
                "SELECT COUNT(product_name) AS total_products FROM gold.dim_products"
            ]
        },
        {
            "cell_type": "code",
            "execution_count": 18,
            "metadata": {
                "azdata_cell_guid": "eab89272-02ef-4c5c-b70e-caba2150e6c6",
                "language": "sql"
            },
            "outputs": [
                {
                    "data": {
                        "text/html": [
                            "(1 row affected)"
                        ]
                    },
                    "metadata": {},
                    "output_type": "display_data"
                },
                {
                    "data": {
                        "text/html": [
                            "Total execution time: 00:00:00.075"
                        ]
                    },
                    "metadata": {},
                    "output_type": "display_data"
                },
                {
                    "data": {
                        "application/vnd.dataresource+json": {
                            "data": [
                                {
                                    "total_customers": "18484"
                                }
                            ],
                            "schema": {
                                "fields": [
                                    {
                                        "name": "total_customers"
                                    }
                                ]
                            }
                        },
                        "text/html": [
                            "<table><tr><th>total_customers</th></tr><tr><td>18484</td></tr></table>"
                        ]
                    },
                    "execution_count": 18,
                    "metadata": {},
                    "output_type": "execute_result"
                }
            ],
            "source": [
                "-- Find the total number of customers\n",
                "SELECT COUNT(customer_key) AS total_customers FROM gold.dim_customers;"
            ]
        },
        {
            "cell_type": "code",
            "execution_count": 19,
            "metadata": {
                "azdata_cell_guid": "b3c0d64c-bc60-4db4-a955-dda7e2239107",
                "language": "sql"
            },
            "outputs": [
                {
                    "data": {
                        "text/html": [
                            "(1 row affected)"
                        ]
                    },
                    "metadata": {},
                    "output_type": "display_data"
                },
                {
                    "data": {
                        "text/html": [
                            "Total execution time: 00:00:00.238"
                        ]
                    },
                    "metadata": {},
                    "output_type": "display_data"
                },
                {
                    "data": {
                        "application/vnd.dataresource+json": {
                            "data": [
                                {
                                    "total_customers": "18484"
                                }
                            ],
                            "schema": {
                                "fields": [
                                    {
                                        "name": "total_customers"
                                    }
                                ]
                            }
                        },
                        "text/html": [
                            "<table><tr><th>total_customers</th></tr><tr><td>18484</td></tr></table>"
                        ]
                    },
                    "execution_count": 19,
                    "metadata": {},
                    "output_type": "execute_result"
                }
            ],
            "source": [
                "-- Find the total number of customers that has placed an order\n",
                "SELECT COUNT(DISTINCT customer_key) AS total_customers FROM gold.fact_sales;\n",
                "\n",
                "-- Woww, all the registered customers acutally bought something"
            ]
        },
        {
            "cell_type": "code",
            "execution_count": 22,
            "metadata": {
                "azdata_cell_guid": "5229595f-d3c6-47cc-ba8a-a542d37ce6dd",
                "language": "sql"
            },
            "outputs": [
                {
                    "data": {
                        "text/html": [
                            "(6 rows affected)"
                        ]
                    },
                    "metadata": {},
                    "output_type": "display_data"
                },
                {
                    "data": {
                        "text/html": [
                            "Total execution time: 00:00:00.237"
                        ]
                    },
                    "metadata": {},
                    "output_type": "display_data"
                },
                {
                    "data": {
                        "application/vnd.dataresource+json": {
                            "data": [
                                {
                                    "measure_name": "Total Sales",
                                    "measure_value": "29356250"
                                },
                                {
                                    "measure_name": "Total Quantity",
                                    "measure_value": "60423"
                                },
                                {
                                    "measure_name": "Average Price",
                                    "measure_value": "486"
                                },
                                {
                                    "measure_name": "Total Orders",
                                    "measure_value": "27659"
                                },
                                {
                                    "measure_name": "Total Products",
                                    "measure_value": "295"
                                },
                                {
                                    "measure_name": "Total Customers",
                                    "measure_value": "18484"
                                }
                            ],
                            "schema": {
                                "fields": [
                                    {
                                        "name": "measure_name"
                                    },
                                    {
                                        "name": "measure_value"
                                    }
                                ]
                            }
                        },
                        "text/html": [
                            "<table><tr><th>measure_name</th><th>measure_value</th></tr><tr><td>Total Sales</td><td>29356250</td></tr><tr><td>Total Quantity</td><td>60423</td></tr><tr><td>Average Price</td><td>486</td></tr><tr><td>Total Orders</td><td>27659</td></tr><tr><td>Total Products</td><td>295</td></tr><tr><td>Total Customers</td><td>18484</td></tr></table>"
                        ]
                    },
                    "execution_count": 22,
                    "metadata": {},
                    "output_type": "execute_result"
                }
            ],
            "source": [
                "-- Generate a Report that shows all key metrics of the business\n",
                "SELECT 'Total Sales' AS measure_name, SUM(sales_amount) AS measure_value FROM gold.fact_sales\n",
                "UNION ALL\n",
                "SELECT 'Total Quantity', SUM(quantity) FROM gold.fact_sales\n",
                "UNION ALL\n",
                "SELECT 'Average Price', AVG(price) FROM gold.fact_sales\n",
                "UNION ALL\n",
                "SELECT 'Total Orders', COUNT(DISTINCT order_number) FROM gold.fact_sales\n",
                "UNION ALL\n",
                "SELECT 'Total Products', COUNT(DISTINCT product_name) FROM gold.dim_products\n",
                "UNION ALL\n",
                "SELECT 'Total Customers', COUNT(customer_key) FROM gold.dim_customers;"
            ]
        },
        {
            "attachments": {},
            "cell_type": "markdown",
            "metadata": {
                "azdata_cell_guid": "2f8430e4-8a89-4770-840a-f92193a80d19"
            },
            "source": [
                "## Magnitude Analysis (Aggregating Measures by Dimensions)\n",
                "\n",
                "Purpose:\n",
                "\n",
                "- To quantify data and group results by specific dimensions.\n",
                "- For understanding data distribution across categories.\n",
                "\n",
                "SQL Functions Used:\n",
                "\n",
                "- Aggregate Functions: SUM(), COUNT(), AVG()\n",
                "- GROUP BY, ORDER BY, LEFT JOIN"
            ]
        },
        {
            "cell_type": "code",
            "execution_count": 23,
            "metadata": {
                "azdata_cell_guid": "4f07a79f-ed54-454b-9c9f-3d2dba949891",
                "language": "sql"
            },
            "outputs": [
                {
                    "data": {
                        "text/html": [
                            "(7 rows affected)"
                        ]
                    },
                    "metadata": {},
                    "output_type": "display_data"
                },
                {
                    "data": {
                        "text/html": [
                            "Total execution time: 00:00:00.233"
                        ]
                    },
                    "metadata": {},
                    "output_type": "display_data"
                },
                {
                    "data": {
                        "application/vnd.dataresource+json": {
                            "data": [
                                {
                                    "country": "United States",
                                    "total_customers": "7482"
                                },
                                {
                                    "country": "Australia",
                                    "total_customers": "3591"
                                },
                                {
                                    "country": "United Kingdom",
                                    "total_customers": "1913"
                                },
                                {
                                    "country": "France",
                                    "total_customers": "1810"
                                },
                                {
                                    "country": "Germany",
                                    "total_customers": "1780"
                                },
                                {
                                    "country": "Canada",
                                    "total_customers": "1571"
                                },
                                {
                                    "country": "Unknown",
                                    "total_customers": "337"
                                }
                            ],
                            "schema": {
                                "fields": [
                                    {
                                        "name": "country"
                                    },
                                    {
                                        "name": "total_customers"
                                    }
                                ]
                            }
                        },
                        "text/html": [
                            "<table><tr><th>country</th><th>total_customers</th></tr><tr><td>United States</td><td>7482</td></tr><tr><td>Australia</td><td>3591</td></tr><tr><td>United Kingdom</td><td>1913</td></tr><tr><td>France</td><td>1810</td></tr><tr><td>Germany</td><td>1780</td></tr><tr><td>Canada</td><td>1571</td></tr><tr><td>Unknown</td><td>337</td></tr></table>"
                        ]
                    },
                    "execution_count": 23,
                    "metadata": {},
                    "output_type": "execute_result"
                }
            ],
            "source": [
                "-- Find total customers by countries\n",
                "SELECT\n",
                "    country,\n",
                "    COUNT(customer_key) AS total_customers\n",
                "FROM gold.dim_customers\n",
                "GROUP BY country\n",
                "ORDER BY total_customers DESC;"
            ]
        },
        {
            "cell_type": "code",
            "execution_count": 24,
            "metadata": {
                "azdata_cell_guid": "99710682-3f36-4a91-b7c5-2c2f5145013f",
                "language": "sql"
            },
            "outputs": [
                {
                    "data": {
                        "text/html": [
                            "(3 rows affected)"
                        ]
                    },
                    "metadata": {},
                    "output_type": "display_data"
                },
                {
                    "data": {
                        "text/html": [
                            "Total execution time: 00:00:00.096"
                        ]
                    },
                    "metadata": {},
                    "output_type": "display_data"
                },
                {
                    "data": {
                        "application/vnd.dataresource+json": {
                            "data": [
                                {
                                    "gender": "Male",
                                    "total_customers": "9341"
                                },
                                {
                                    "gender": "Female",
                                    "total_customers": "9128"
                                },
                                {
                                    "gender": "Unknown",
                                    "total_customers": "15"
                                }
                            ],
                            "schema": {
                                "fields": [
                                    {
                                        "name": "gender"
                                    },
                                    {
                                        "name": "total_customers"
                                    }
                                ]
                            }
                        },
                        "text/html": [
                            "<table><tr><th>gender</th><th>total_customers</th></tr><tr><td>Male</td><td>9341</td></tr><tr><td>Female</td><td>9128</td></tr><tr><td>Unknown</td><td>15</td></tr></table>"
                        ]
                    },
                    "execution_count": 24,
                    "metadata": {},
                    "output_type": "execute_result"
                }
            ],
            "source": [
                "-- Find total customers by gender\n",
                "SELECT\n",
                "    gender,\n",
                "    COUNT(customer_key) AS total_customers\n",
                "FROM gold.dim_customers\n",
                "GROUP BY gender\n",
                "ORDER BY total_customers DESC;"
            ]
        },
        {
            "cell_type": "code",
            "execution_count": 25,
            "metadata": {
                "azdata_cell_guid": "04c3c92a-6412-451a-8d56-74f041386407",
                "language": "sql"
            },
            "outputs": [
                {
                    "data": {
                        "text/html": [
                            "(2 rows affected)"
                        ]
                    },
                    "metadata": {},
                    "output_type": "display_data"
                },
                {
                    "data": {
                        "text/html": [
                            "Total execution time: 00:00:00.084"
                        ]
                    },
                    "metadata": {},
                    "output_type": "display_data"
                },
                {
                    "data": {
                        "application/vnd.dataresource+json": {
                            "data": [
                                {
                                    "marital_status": "Married",
                                    "total_customers": "10011"
                                },
                                {
                                    "marital_status": "Single",
                                    "total_customers": "8473"
                                }
                            ],
                            "schema": {
                                "fields": [
                                    {
                                        "name": "marital_status"
                                    },
                                    {
                                        "name": "total_customers"
                                    }
                                ]
                            }
                        },
                        "text/html": [
                            "<table><tr><th>marital_status</th><th>total_customers</th></tr><tr><td>Married</td><td>10011</td></tr><tr><td>Single</td><td>8473</td></tr></table>"
                        ]
                    },
                    "execution_count": 25,
                    "metadata": {},
                    "output_type": "execute_result"
                }
            ],
            "source": [
                "-- Find total customers by marital_status\n",
                "SELECT\n",
                "    marital_status,\n",
                "    COUNT(customer_key) AS total_customers\n",
                "FROM gold.dim_customers\n",
                "GROUP BY marital_status\n",
                "ORDER BY total_customers DESC;"
            ]
        },
        {
            "cell_type": "code",
            "execution_count": 26,
            "metadata": {
                "azdata_cell_guid": "7d757c13-184c-4628-8de2-59cdcabd4e7e",
                "language": "sql"
            },
            "outputs": [
                {
                    "data": {
                        "text/html": [
                            "(4 rows affected)"
                        ]
                    },
                    "metadata": {},
                    "output_type": "display_data"
                },
                {
                    "data": {
                        "text/html": [
                            "Total execution time: 00:00:00.052"
                        ]
                    },
                    "metadata": {},
                    "output_type": "display_data"
                },
                {
                    "data": {
                        "application/vnd.dataresource+json": {
                            "data": [
                                {
                                    "category": "Components",
                                    "total_products": "134"
                                },
                                {
                                    "category": "Bikes",
                                    "total_products": "97"
                                },
                                {
                                    "category": "Clothing",
                                    "total_products": "35"
                                },
                                {
                                    "category": "Accessories",
                                    "total_products": "29"
                                }
                            ],
                            "schema": {
                                "fields": [
                                    {
                                        "name": "category"
                                    },
                                    {
                                        "name": "total_products"
                                    }
                                ]
                            }
                        },
                        "text/html": [
                            "<table><tr><th>category</th><th>total_products</th></tr><tr><td>Components</td><td>134</td></tr><tr><td>Bikes</td><td>97</td></tr><tr><td>Clothing</td><td>35</td></tr><tr><td>Accessories</td><td>29</td></tr></table>"
                        ]
                    },
                    "execution_count": 26,
                    "metadata": {},
                    "output_type": "execute_result"
                }
            ],
            "source": [
                "-- Find total products by category\n",
                "SELECT\n",
                "    category,\n",
                "    COUNT(product_key) AS total_products\n",
                "FROM gold.dim_products\n",
                "GROUP BY category\n",
                "ORDER BY total_products DESC;"
            ]
        },
        {
            "cell_type": "code",
            "execution_count": 29,
            "metadata": {
                "azdata_cell_guid": "233e4c06-cff8-45cc-86aa-e6d363962be2",
                "language": "sql"
            },
            "outputs": [
                {
                    "data": {
                        "text/html": [
                            "(4 rows affected)"
                        ]
                    },
                    "metadata": {},
                    "output_type": "display_data"
                },
                {
                    "data": {
                        "text/html": [
                            "Total execution time: 00:00:00.070"
                        ]
                    },
                    "metadata": {},
                    "output_type": "display_data"
                },
                {
                    "data": {
                        "application/vnd.dataresource+json": {
                            "data": [
                                {
                                    "avg_cost": "949",
                                    "category": "Bikes"
                                },
                                {
                                    "avg_cost": "252",
                                    "category": "Components"
                                },
                                {
                                    "avg_cost": "24",
                                    "category": "Clothing"
                                },
                                {
                                    "avg_cost": "13",
                                    "category": "Accessories"
                                }
                            ],
                            "schema": {
                                "fields": [
                                    {
                                        "name": "category"
                                    },
                                    {
                                        "name": "avg_cost"
                                    }
                                ]
                            }
                        },
                        "text/html": [
                            "<table><tr><th>category</th><th>avg_cost</th></tr><tr><td>Bikes</td><td>949</td></tr><tr><td>Components</td><td>252</td></tr><tr><td>Clothing</td><td>24</td></tr><tr><td>Accessories</td><td>13</td></tr></table>"
                        ]
                    },
                    "execution_count": 29,
                    "metadata": {},
                    "output_type": "execute_result"
                }
            ],
            "source": [
                "-- What is the average costs in each category?\n",
                "SELECT\n",
                "    category,\n",
                "    AVG(cost) AS avg_cost\n",
                "FROM gold.dim_products\n",
                "GROUP BY category\n",
                "ORDER BY avg_cost DESC;"
            ]
        },
        {
            "cell_type": "code",
            "execution_count": 66,
            "metadata": {
                "azdata_cell_guid": "d5e6796c-39f7-41ec-9046-911fdee4ff35",
                "language": "sql"
            },
            "outputs": [
                {
                    "data": {
                        "text/html": [
                            "Warning: Null value is eliminated by an aggregate or other SET operation."
                        ]
                    },
                    "metadata": {},
                    "output_type": "display_data"
                },
                {
                    "data": {
                        "text/html": [
                            "(4 rows affected)"
                        ]
                    },
                    "metadata": {},
                    "output_type": "display_data"
                },
                {
                    "data": {
                        "text/html": [
                            "Total execution time: 00:00:00.162"
                        ]
                    },
                    "metadata": {},
                    "output_type": "display_data"
                },
                {
                    "data": {
                        "application/vnd.dataresource+json": {
                            "data": [
                                {
                                    "avg_price": "1862",
                                    "category": "Bikes",
                                    "total_products": "97",
                                    "total_quantity": "15205",
                                    "total_revenue": "28316272"
                                },
                                {
                                    "avg_price": "19",
                                    "category": "Accessories",
                                    "total_products": "29",
                                    "total_quantity": "36112",
                                    "total_revenue": "700262"
                                },
                                {
                                    "avg_price": "37",
                                    "category": "Clothing",
                                    "total_products": "35",
                                    "total_quantity": "9106",
                                    "total_revenue": "339716"
                                },
                                {
                                    "avg_price": "0",
                                    "category": "Components",
                                    "total_products": "134",
                                    "total_quantity": "0",
                                    "total_revenue": "0"
                                }
                            ],
                            "schema": {
                                "fields": [
                                    {
                                        "name": "category"
                                    },
                                    {
                                        "name": "total_revenue"
                                    },
                                    {
                                        "name": "total_quantity"
                                    },
                                    {
                                        "name": "avg_price"
                                    },
                                    {
                                        "name": "total_products"
                                    }
                                ]
                            }
                        },
                        "text/html": [
                            "<table><tr><th>category</th><th>total_revenue</th><th>total_quantity</th><th>avg_price</th><th>total_products</th></tr><tr><td>Bikes</td><td>28316272</td><td>15205</td><td>1862</td><td>97</td></tr><tr><td>Accessories</td><td>700262</td><td>36112</td><td>19</td><td>29</td></tr><tr><td>Clothing</td><td>339716</td><td>9106</td><td>37</td><td>35</td></tr><tr><td>Components</td><td>0</td><td>0</td><td>0</td><td>134</td></tr></table>"
                        ]
                    },
                    "execution_count": 66,
                    "metadata": {},
                    "output_type": "execute_result"
                }
            ],
            "source": [
                "-- What is the total revenue generated , total quantity sold per each category?\n",
                "SELECT \n",
                "    p.category,\n",
                "    COALESCE(SUM(f.sales_amount), 0) AS total_revenue,\n",
                "    COALESCE(SUM(f.quantity), 0) AS total_quantity,\n",
                "    COALESCE(AVG(f.price), 0) AS avg_price,\n",
                "    COUNT(DISTINCT p.product_key) AS total_products\n",
                "FROM gold.fact_sales f\n",
                "FULL JOIN gold.dim_products p\n",
                "    ON p.product_key = f.product_key\n",
                "GROUP BY p.category\n",
                "ORDER BY total_revenue DESC;\n",
                "\n",
                "-- Woww, not even a single item sold from Components of bikes\n",
                "-- This is while the business has the widest range of items in this category"
            ]
        },
        {
            "cell_type": "code",
            "execution_count": 56,
            "metadata": {
                "azdata_cell_guid": "aed44985-98be-4475-84ee-19348d784fa0",
                "language": "sql",
                "tags": []
            },
            "outputs": [
                {
                    "data": {
                        "text/html": [
                            "(5 rows affected)"
                        ]
                    },
                    "metadata": {},
                    "output_type": "display_data"
                },
                {
                    "data": {
                        "text/html": [
                            "Total execution time: 00:00:00.200"
                        ]
                    },
                    "metadata": {},
                    "output_type": "display_data"
                },
                {
                    "data": {
                        "application/vnd.dataresource+json": {
                            "data": [
                                {
                                    "customer_key": "1133",
                                    "first_name": "Kaitlyn",
                                    "last_name": "Henderson",
                                    "total_revenue": "13294"
                                },
                                {
                                    "customer_key": "1302",
                                    "first_name": "Nichole",
                                    "last_name": "Nara",
                                    "total_revenue": "13294"
                                },
                                {
                                    "customer_key": "1309",
                                    "first_name": "Margaret",
                                    "last_name": "He",
                                    "total_revenue": "13268"
                                },
                                {
                                    "customer_key": "1132",
                                    "first_name": "Randall",
                                    "last_name": "Dominguez",
                                    "total_revenue": "13265"
                                },
                                {
                                    "customer_key": "1301",
                                    "first_name": "Adriana",
                                    "last_name": "Gonzalez",
                                    "total_revenue": "13242"
                                }
                            ],
                            "schema": {
                                "fields": [
                                    {
                                        "name": "customer_key"
                                    },
                                    {
                                        "name": "first_name"
                                    },
                                    {
                                        "name": "last_name"
                                    },
                                    {
                                        "name": "total_revenue"
                                    }
                                ]
                            }
                        },
                        "text/html": [
                            "<table><tr><th>customer_key</th><th>first_name</th><th>last_name</th><th>total_revenue</th></tr><tr><td>1133</td><td>Kaitlyn</td><td>Henderson</td><td>13294</td></tr><tr><td>1302</td><td>Nichole</td><td>Nara</td><td>13294</td></tr><tr><td>1309</td><td>Margaret</td><td>He</td><td>13268</td></tr><tr><td>1132</td><td>Randall</td><td>Dominguez</td><td>13265</td></tr><tr><td>1301</td><td>Adriana</td><td>Gonzalez</td><td>13242</td></tr></table>"
                        ]
                    },
                    "execution_count": 56,
                    "metadata": {},
                    "output_type": "execute_result"
                }
            ],
            "source": [
                "-- What is the total revenue generated by each customer?\n",
                "SELECT TOP 5\n",
                "    c.customer_key,\n",
                "    c.first_name,\n",
                "    c.last_name,\n",
                "    SUM(f.sales_amount) AS total_revenue\n",
                "FROM gold.fact_sales f\n",
                "LEFT JOIN gold.dim_customers c\n",
                "    ON c.customer_key = f.customer_key\n",
                "GROUP BY \n",
                "    c.customer_key,\n",
                "    c.first_name,\n",
                "    c.last_name\n",
                "ORDER BY total_revenue DESC;\n",
                "\n",
                "-- Found high value customers aka big spenders"
            ]
        },
        {
            "cell_type": "code",
            "execution_count": 74,
            "metadata": {
                "azdata_cell_guid": "798cca26-6798-468b-9673-5a743740a074",
                "language": "sql"
            },
            "outputs": [
                {
                    "data": {
                        "text/html": [
                            "(7 rows affected)"
                        ]
                    },
                    "metadata": {},
                    "output_type": "display_data"
                },
                {
                    "data": {
                        "text/html": [
                            "Total execution time: 00:00:00.402"
                        ]
                    },
                    "metadata": {},
                    "output_type": "display_data"
                },
                {
                    "data": {
                        "application/vnd.dataresource+json": {
                            "data": [
                                {
                                    "country": "United States",
                                    "total_customers_purchased": "7482",
                                    "total_customers_registered": "7482",
                                    "total_revenue": "9162327",
                                    "total_sold_items": "20481"
                                },
                                {
                                    "country": "Australia",
                                    "total_customers_purchased": "3591",
                                    "total_customers_registered": "3591",
                                    "total_revenue": "9060172",
                                    "total_sold_items": "13346"
                                },
                                {
                                    "country": "United Kingdom",
                                    "total_customers_purchased": "1913",
                                    "total_customers_registered": "1913",
                                    "total_revenue": "3391376",
                                    "total_sold_items": "6910"
                                },
                                {
                                    "country": "Germany",
                                    "total_customers_purchased": "1780",
                                    "total_customers_registered": "1780",
                                    "total_revenue": "2894066",
                                    "total_sold_items": "5626"
                                },
                                {
                                    "country": "France",
                                    "total_customers_purchased": "1810",
                                    "total_customers_registered": "1810",
                                    "total_revenue": "2643751",
                                    "total_sold_items": "5559"
                                },
                                {
                                    "country": "Canada",
                                    "total_customers_purchased": "1571",
                                    "total_customers_registered": "1571",
                                    "total_revenue": "1977738",
                                    "total_sold_items": "7630"
                                },
                                {
                                    "country": "Unknown",
                                    "total_customers_purchased": "337",
                                    "total_customers_registered": "337",
                                    "total_revenue": "226820",
                                    "total_sold_items": "871"
                                }
                            ],
                            "schema": {
                                "fields": [
                                    {
                                        "name": "country"
                                    },
                                    {
                                        "name": "total_revenue"
                                    },
                                    {
                                        "name": "total_sold_items"
                                    },
                                    {
                                        "name": "total_customers_registered"
                                    },
                                    {
                                        "name": "total_customers_purchased"
                                    }
                                ]
                            }
                        },
                        "text/html": [
                            "<table><tr><th>country</th><th>total_revenue</th><th>total_sold_items</th><th>total_customers_registered</th><th>total_customers_purchased</th></tr><tr><td>United States</td><td>9162327</td><td>20481</td><td>7482</td><td>7482</td></tr><tr><td>Australia</td><td>9060172</td><td>13346</td><td>3591</td><td>3591</td></tr><tr><td>United Kingdom</td><td>3391376</td><td>6910</td><td>1913</td><td>1913</td></tr><tr><td>Germany</td><td>2894066</td><td>5626</td><td>1780</td><td>1780</td></tr><tr><td>France</td><td>2643751</td><td>5559</td><td>1810</td><td>1810</td></tr><tr><td>Canada</td><td>1977738</td><td>7630</td><td>1571</td><td>1571</td></tr><tr><td>Unknown</td><td>226820</td><td>871</td><td>337</td><td>337</td></tr></table>"
                        ]
                    },
                    "execution_count": 74,
                    "metadata": {},
                    "output_type": "execute_result"
                }
            ],
            "source": [
                "-- What is the distribution of key metrics across countries?\n",
                "SELECT\n",
                "    c.country,\n",
                "    SUM(f.sales_amount) AS total_revenue,\n",
                "    SUM(f.quantity) AS total_sold_items,\n",
                "    COUNT(DISTINCT c.customer_key) AS total_customers_registered,\n",
                "    COUNT(DISTINCT f.customer_key) AS total_customers_purchased\n",
                "FROM gold.fact_sales f\n",
                "FULL JOIN gold.dim_customers c\n",
                "    ON c.customer_key = f.customer_key\n",
                "GROUP BY c.country\n",
                "ORDER BY total_revenue DESC;\n",
                "\n",
                "-- USA is the biggest market\n",
                "-- Interestingly, Australia has a good potential (much lesser customers puchasing costly items, generation almost the same revenue as USA)"
            ]
        },
        {
            "cell_type": "markdown",
            "metadata": {
                "azdata_cell_guid": "fda573fc-88fd-4b3a-b7e7-193d77bb769a"
            },
            "source": [
                "## Ranking Analysis\n",
                "\n",
                "Purpose:\n",
                "- To rank items (e.g., products, customers) based on performance or other metrics.\n",
                "- To identify top performers or laggards.\n",
                "\n",
                "SQL Functions Used:\n",
                "- Window Ranking Functions: RANK(), DENSE_RANK(), ROW_NUMBER(), TOP\n",
                "- Clauses: GROUP BY, ORDER BY"
            ]
        },
        {
            "cell_type": "code",
            "execution_count": 76,
            "metadata": {
                "azdata_cell_guid": "e942bc59-52e6-48a2-84b6-82b43284f261",
                "language": "sql"
            },
            "outputs": [
                {
                    "data": {
                        "text/html": [
                            "(5 rows affected)"
                        ]
                    },
                    "metadata": {},
                    "output_type": "display_data"
                },
                {
                    "data": {
                        "text/html": [
                            "(5 rows affected)"
                        ]
                    },
                    "metadata": {},
                    "output_type": "display_data"
                },
                {
                    "data": {
                        "text/html": [
                            "Total execution time: 00:00:00.234"
                        ]
                    },
                    "metadata": {},
                    "output_type": "display_data"
                },
                {
                    "data": {
                        "application/vnd.dataresource+json": {
                            "data": [
                                {
                                    "product_name": "Mountain-200 Black- 46",
                                    "total_revenue": "1373454"
                                },
                                {
                                    "product_name": "Mountain-200 Black- 42",
                                    "total_revenue": "1363128"
                                },
                                {
                                    "product_name": "Mountain-200 Silver- 38",
                                    "total_revenue": "1339394"
                                },
                                {
                                    "product_name": "Mountain-200 Silver- 46",
                                    "total_revenue": "1301029"
                                },
                                {
                                    "product_name": "Mountain-200 Black- 38",
                                    "total_revenue": "1294854"
                                }
                            ],
                            "schema": {
                                "fields": [
                                    {
                                        "name": "product_name"
                                    },
                                    {
                                        "name": "total_revenue"
                                    }
                                ]
                            }
                        },
                        "text/html": [
                            "<table><tr><th>product_name</th><th>total_revenue</th></tr><tr><td>Mountain-200 Black- 46</td><td>1373454</td></tr><tr><td>Mountain-200 Black- 42</td><td>1363128</td></tr><tr><td>Mountain-200 Silver- 38</td><td>1339394</td></tr><tr><td>Mountain-200 Silver- 46</td><td>1301029</td></tr><tr><td>Mountain-200 Black- 38</td><td>1294854</td></tr></table>"
                        ]
                    },
                    "execution_count": 76,
                    "metadata": {},
                    "output_type": "execute_result"
                },
                {
                    "data": {
                        "application/vnd.dataresource+json": {
                            "data": [
                                {
                                    "subcategory": "Road Bikes",
                                    "total_revenue": "14519438"
                                },
                                {
                                    "subcategory": "Mountain Bikes",
                                    "total_revenue": "9952254"
                                },
                                {
                                    "subcategory": "Touring Bikes",
                                    "total_revenue": "3844580"
                                },
                                {
                                    "subcategory": "Tires and Tubes",
                                    "total_revenue": "244634"
                                },
                                {
                                    "subcategory": "Helmets",
                                    "total_revenue": "225435"
                                }
                            ],
                            "schema": {
                                "fields": [
                                    {
                                        "name": "subcategory"
                                    },
                                    {
                                        "name": "total_revenue"
                                    }
                                ]
                            }
                        },
                        "text/html": [
                            "<table><tr><th>subcategory</th><th>total_revenue</th></tr><tr><td>Road Bikes</td><td>14519438</td></tr><tr><td>Mountain Bikes</td><td>9952254</td></tr><tr><td>Touring Bikes</td><td>3844580</td></tr><tr><td>Tires and Tubes</td><td>244634</td></tr><tr><td>Helmets</td><td>225435</td></tr></table>"
                        ]
                    },
                    "execution_count": 76,
                    "metadata": {},
                    "output_type": "execute_result"
                }
            ],
            "source": [
                "-- Which 5 products and subcategories Generating the Highest Revenue? (Simple Ranking)\n",
                "SELECT TOP 5\n",
                "    p.product_name,\n",
                "    SUM(f.sales_amount) AS total_revenue\n",
                "FROM gold.fact_sales f\n",
                "LEFT JOIN gold.dim_products p\n",
                "    ON p.product_key = f.product_key\n",
                "GROUP BY p.product_name\n",
                "ORDER BY total_revenue DESC;\n",
                "\n",
                "SELECT TOP 5\n",
                "    p.subcategory,\n",
                "    SUM(f.sales_amount) AS total_revenue\n",
                "FROM gold.fact_sales f\n",
                "LEFT JOIN gold.dim_products p\n",
                "    ON p.product_key = f.product_key\n",
                "GROUP BY p.subcategory\n",
                "ORDER BY total_revenue DESC;"
            ]
        },
        {
            "cell_type": "code",
            "execution_count": 77,
            "metadata": {
                "azdata_cell_guid": "030260bc-f0f1-437c-adc3-5eea8d3551a2",
                "language": "sql"
            },
            "outputs": [
                {
                    "data": {
                        "text/html": [
                            "(5 rows affected)"
                        ]
                    },
                    "metadata": {},
                    "output_type": "display_data"
                },
                {
                    "data": {
                        "text/html": [
                            "Total execution time: 00:00:00.138"
                        ]
                    },
                    "metadata": {},
                    "output_type": "display_data"
                },
                {
                    "data": {
                        "application/vnd.dataresource+json": {
                            "data": [
                                {
                                    "product_name": "Mountain-200 Black- 46",
                                    "rank_products": "1",
                                    "total_revenue": "1373454"
                                },
                                {
                                    "product_name": "Mountain-200 Black- 42",
                                    "rank_products": "2",
                                    "total_revenue": "1363128"
                                },
                                {
                                    "product_name": "Mountain-200 Silver- 38",
                                    "rank_products": "3",
                                    "total_revenue": "1339394"
                                },
                                {
                                    "product_name": "Mountain-200 Silver- 46",
                                    "rank_products": "4",
                                    "total_revenue": "1301029"
                                },
                                {
                                    "product_name": "Mountain-200 Black- 38",
                                    "rank_products": "5",
                                    "total_revenue": "1294854"
                                }
                            ],
                            "schema": {
                                "fields": [
                                    {
                                        "name": "product_name"
                                    },
                                    {
                                        "name": "total_revenue"
                                    },
                                    {
                                        "name": "rank_products"
                                    }
                                ]
                            }
                        },
                        "text/html": [
                            "<table><tr><th>product_name</th><th>total_revenue</th><th>rank_products</th></tr><tr><td>Mountain-200 Black- 46</td><td>1373454</td><td>1</td></tr><tr><td>Mountain-200 Black- 42</td><td>1363128</td><td>2</td></tr><tr><td>Mountain-200 Silver- 38</td><td>1339394</td><td>3</td></tr><tr><td>Mountain-200 Silver- 46</td><td>1301029</td><td>4</td></tr><tr><td>Mountain-200 Black- 38</td><td>1294854</td><td>5</td></tr></table>"
                        ]
                    },
                    "execution_count": 77,
                    "metadata": {},
                    "output_type": "execute_result"
                }
            ],
            "source": [
                "-- Which 5 products Generating the Highest Revenue?\n",
                "SELECT *\n",
                "FROM (\n",
                "    SELECT\n",
                "        p.product_name,\n",
                "        SUM(f.sales_amount) AS total_revenue,\n",
                "        RANK() OVER (ORDER BY SUM(f.sales_amount) DESC) AS rank_products --ROW_NUMBER()\n",
                "    FROM gold.fact_sales f\n",
                "    LEFT JOIN gold.dim_products p\n",
                "        ON p.product_key = f.product_key\n",
                "    GROUP BY p.product_name\n",
                ") AS ranked_products\n",
                "WHERE rank_products <= 5;\n",
                "\n",
                "-- sounds like Mountain-200 is really trendy and is the signature of the company."
            ]
        },
        {
            "cell_type": "code",
            "execution_count": 78,
            "metadata": {
                "azdata_cell_guid": "3bc21484-abd0-4aab-93ce-604db828028e",
                "language": "sql"
            },
            "outputs": [
                {
                    "data": {
                        "text/html": [
                            "(5 rows affected)"
                        ]
                    },
                    "metadata": {},
                    "output_type": "display_data"
                },
                {
                    "data": {
                        "text/html": [
                            "Total execution time: 00:00:00.157"
                        ]
                    },
                    "metadata": {},
                    "output_type": "display_data"
                },
                {
                    "data": {
                        "application/vnd.dataresource+json": {
                            "data": [
                                {
                                    "product_name": "Racing Socks- L",
                                    "total_revenue": "2430"
                                },
                                {
                                    "product_name": "Racing Socks- M",
                                    "total_revenue": "2682"
                                },
                                {
                                    "product_name": "Patch Kit/8 Patches",
                                    "total_revenue": "6382"
                                },
                                {
                                    "product_name": "Bike Wash - Dissolver",
                                    "total_revenue": "7272"
                                },
                                {
                                    "product_name": "Touring Tire Tube",
                                    "total_revenue": "7440"
                                }
                            ],
                            "schema": {
                                "fields": [
                                    {
                                        "name": "product_name"
                                    },
                                    {
                                        "name": "total_revenue"
                                    }
                                ]
                            }
                        },
                        "text/html": [
                            "<table><tr><th>product_name</th><th>total_revenue</th></tr><tr><td>Racing Socks- L</td><td>2430</td></tr><tr><td>Racing Socks- M</td><td>2682</td></tr><tr><td>Patch Kit/8 Patches</td><td>6382</td></tr><tr><td>Bike Wash - Dissolver</td><td>7272</td></tr><tr><td>Touring Tire Tube</td><td>7440</td></tr></table>"
                        ]
                    },
                    "execution_count": 78,
                    "metadata": {},
                    "output_type": "execute_result"
                }
            ],
            "source": [
                "-- What are the 5 worst-performing products in terms of sales? \n",
                "-- (of course exept all the products in the component category, as we already know none of the items in that category sold yet)\n",
                "SELECT TOP 5\n",
                "    p.product_name,\n",
                "    SUM(f.sales_amount) AS total_revenue\n",
                "FROM gold.fact_sales f\n",
                "LEFT JOIN gold.dim_products p\n",
                "    ON p.product_key = f.product_key\n",
                "GROUP BY p.product_name\n",
                "ORDER BY total_revenue;"
            ]
        },
        {
            "cell_type": "code",
            "execution_count": 79,
            "metadata": {
                "azdata_cell_guid": "52ab3c8b-4a4d-4bcb-8e38-b20e4cfb09cb",
                "language": "sql"
            },
            "outputs": [
                {
                    "data": {
                        "text/html": [
                            "(10 rows affected)"
                        ]
                    },
                    "metadata": {},
                    "output_type": "display_data"
                },
                {
                    "data": {
                        "text/html": [
                            "Total execution time: 00:00:00.258"
                        ]
                    },
                    "metadata": {},
                    "output_type": "display_data"
                },
                {
                    "data": {
                        "application/vnd.dataresource+json": {
                            "data": [
                                {
                                    "customer_key": "1133",
                                    "first_name": "Kaitlyn",
                                    "last_name": "Henderson",
                                    "total_revenue": "13294"
                                },
                                {
                                    "customer_key": "1302",
                                    "first_name": "Nichole",
                                    "last_name": "Nara",
                                    "total_revenue": "13294"
                                },
                                {
                                    "customer_key": "1309",
                                    "first_name": "Margaret",
                                    "last_name": "He",
                                    "total_revenue": "13268"
                                },
                                {
                                    "customer_key": "1132",
                                    "first_name": "Randall",
                                    "last_name": "Dominguez",
                                    "total_revenue": "13265"
                                },
                                {
                                    "customer_key": "1301",
                                    "first_name": "Adriana",
                                    "last_name": "Gonzalez",
                                    "total_revenue": "13242"
                                },
                                {
                                    "customer_key": "1322",
                                    "first_name": "Rosa",
                                    "last_name": "Hu",
                                    "total_revenue": "13215"
                                },
                                {
                                    "customer_key": "1125",
                                    "first_name": "Brandi",
                                    "last_name": "Gill",
                                    "total_revenue": "13195"
                                },
                                {
                                    "customer_key": "1308",
                                    "first_name": "Brad",
                                    "last_name": "She",
                                    "total_revenue": "13172"
                                },
                                {
                                    "customer_key": "1297",
                                    "first_name": "Francisco",
                                    "last_name": "Sara",
                                    "total_revenue": "13164"
                                },
                                {
                                    "customer_key": "434",
                                    "first_name": "Maurice",
                                    "last_name": "Shan",
                                    "total_revenue": "12914"
                                }
                            ],
                            "schema": {
                                "fields": [
                                    {
                                        "name": "customer_key"
                                    },
                                    {
                                        "name": "first_name"
                                    },
                                    {
                                        "name": "last_name"
                                    },
                                    {
                                        "name": "total_revenue"
                                    }
                                ]
                            }
                        },
                        "text/html": [
                            "<table><tr><th>customer_key</th><th>first_name</th><th>last_name</th><th>total_revenue</th></tr><tr><td>1133</td><td>Kaitlyn</td><td>Henderson</td><td>13294</td></tr><tr><td>1302</td><td>Nichole</td><td>Nara</td><td>13294</td></tr><tr><td>1309</td><td>Margaret</td><td>He</td><td>13268</td></tr><tr><td>1132</td><td>Randall</td><td>Dominguez</td><td>13265</td></tr><tr><td>1301</td><td>Adriana</td><td>Gonzalez</td><td>13242</td></tr><tr><td>1322</td><td>Rosa</td><td>Hu</td><td>13215</td></tr><tr><td>1125</td><td>Brandi</td><td>Gill</td><td>13195</td></tr><tr><td>1308</td><td>Brad</td><td>She</td><td>13172</td></tr><tr><td>1297</td><td>Francisco</td><td>Sara</td><td>13164</td></tr><tr><td>434</td><td>Maurice</td><td>Shan</td><td>12914</td></tr></table>"
                        ]
                    },
                    "execution_count": 79,
                    "metadata": {},
                    "output_type": "execute_result"
                }
            ],
            "source": [
                "-- Find the top 10 customers who have generated the highest revenue\n",
                "SELECT TOP 10\n",
                "    c.customer_key,\n",
                "    c.first_name,\n",
                "    c.last_name,\n",
                "    SUM(f.sales_amount) AS total_revenue\n",
                "FROM gold.fact_sales f\n",
                "LEFT JOIN gold.dim_customers c\n",
                "    ON c.customer_key = f.customer_key\n",
                "GROUP BY \n",
                "    c.customer_key,\n",
                "    c.first_name,\n",
                "    c.last_name\n",
                "ORDER BY total_revenue DESC;\n",
                "\n",
                "-- special thanks to Nicole and Kaitlyn"
            ]
        },
        {
            "cell_type": "code",
            "execution_count": 80,
            "metadata": {
                "azdata_cell_guid": "a1a24559-86ef-49c3-bc23-5c4cfa23524e",
                "language": "sql"
            },
            "outputs": [
                {
                    "data": {
                        "text/html": [
                            "(3 rows affected)"
                        ]
                    },
                    "metadata": {},
                    "output_type": "display_data"
                },
                {
                    "data": {
                        "text/html": [
                            "Total execution time: 00:00:00.288"
                        ]
                    },
                    "metadata": {},
                    "output_type": "display_data"
                },
                {
                    "data": {
                        "application/vnd.dataresource+json": {
                            "data": [
                                {
                                    "customer_key": "21",
                                    "first_name": "Jordan",
                                    "last_name": "King",
                                    "total_orders": "1"
                                },
                                {
                                    "customer_key": "17",
                                    "first_name": "Wyatt",
                                    "last_name": "Hill",
                                    "total_orders": "1"
                                },
                                {
                                    "customer_key": "22",
                                    "first_name": "Destiny",
                                    "last_name": "Wilson",
                                    "total_orders": "1"
                                }
                            ],
                            "schema": {
                                "fields": [
                                    {
                                        "name": "customer_key"
                                    },
                                    {
                                        "name": "first_name"
                                    },
                                    {
                                        "name": "last_name"
                                    },
                                    {
                                        "name": "total_orders"
                                    }
                                ]
                            }
                        },
                        "text/html": [
                            "<table><tr><th>customer_key</th><th>first_name</th><th>last_name</th><th>total_orders</th></tr><tr><td>21</td><td>Jordan</td><td>King</td><td>1</td></tr><tr><td>17</td><td>Wyatt</td><td>Hill</td><td>1</td></tr><tr><td>22</td><td>Destiny</td><td>Wilson</td><td>1</td></tr></table>"
                        ]
                    },
                    "execution_count": 80,
                    "metadata": {},
                    "output_type": "execute_result"
                }
            ],
            "source": [
                "-- The 3 customers with the fewest orders placed\n",
                "SELECT TOP 3\n",
                "    c.customer_key,\n",
                "    c.first_name,\n",
                "    c.last_name,\n",
                "    COUNT(DISTINCT order_number) AS total_orders\n",
                "FROM gold.fact_sales f\n",
                "LEFT JOIN gold.dim_customers c\n",
                "    ON c.customer_key = f.customer_key\n",
                "GROUP BY \n",
                "    c.customer_key,\n",
                "    c.first_name,\n",
                "    c.last_name\n",
                "ORDER BY total_orders;\n",
                "\n",
                "-- maybe we can do churn analysis later on"
            ]
        },
        {
            "cell_type": "markdown",
            "metadata": {
                "azdata_cell_guid": "8322ce7c-109a-4e6a-a364-afd085e405a2"
            },
            "source": [
                "## Change Over Time Analysis\n",
                "\n",
                "Purpose:\n",
                "- To track trends, growth, and changes in key metrics over time.\n",
                "- For time-series analysis and identifying seasonality.\n",
                "- To measure growth or decline over specific periods.\n",
                "\n",
                "SQL Functions Used:\n",
                "- Date Functions: DATEPART(), DATETRUNC(), FORMAT()\n",
                "- Aggregate Functions: SUM(), COUNT(), AVG()"
            ]
        },
        {
            "cell_type": "code",
            "execution_count": 38,
            "metadata": {
                "azdata_cell_guid": "a1c88ba4-6a73-4237-b392-d7e6154d1364",
                "language": "sql"
            },
            "outputs": [
                {
                    "data": {
                        "text/html": [
                            "(5 rows affected)"
                        ]
                    },
                    "metadata": {},
                    "output_type": "display_data"
                },
                {
                    "data": {
                        "text/html": [
                            "Total execution time: 00:00:00.138"
                        ]
                    },
                    "metadata": {},
                    "output_type": "display_data"
                },
                {
                    "data": {
                        "application/vnd.dataresource+json": {
                            "data": [
                                {
                                    "order_year": "2010",
                                    "rank_sales_yearly": "5",
                                    "total_customers": "14",
                                    "total_quantity": "14",
                                    "total_sales": "43419"
                                },
                                {
                                    "order_year": "2011",
                                    "rank_sales_yearly": "2",
                                    "total_customers": "2216",
                                    "total_quantity": "2216",
                                    "total_sales": "7075088"
                                },
                                {
                                    "order_year": "2012",
                                    "rank_sales_yearly": "3",
                                    "total_customers": "3255",
                                    "total_quantity": "3397",
                                    "total_sales": "5842231"
                                },
                                {
                                    "order_year": "2013",
                                    "rank_sales_yearly": "1",
                                    "total_customers": "17427",
                                    "total_quantity": "52807",
                                    "total_sales": "16344878"
                                },
                                {
                                    "order_year": "2014",
                                    "rank_sales_yearly": "4",
                                    "total_customers": "834",
                                    "total_quantity": "1970",
                                    "total_sales": "45642"
                                }
                            ],
                            "schema": {
                                "fields": [
                                    {
                                        "name": "order_year"
                                    },
                                    {
                                        "name": "total_sales"
                                    },
                                    {
                                        "name": "total_customers"
                                    },
                                    {
                                        "name": "total_quantity"
                                    },
                                    {
                                        "name": "rank_sales_yearly"
                                    }
                                ]
                            }
                        },
                        "text/html": [
                            "<table><tr><th>order_year</th><th>total_sales</th><th>total_customers</th><th>total_quantity</th><th>rank_sales_yearly</th></tr><tr><td>2010</td><td>43419</td><td>14</td><td>14</td><td>5</td></tr><tr><td>2011</td><td>7075088</td><td>2216</td><td>2216</td><td>2</td></tr><tr><td>2012</td><td>5842231</td><td>3255</td><td>3397</td><td>3</td></tr><tr><td>2013</td><td>16344878</td><td>17427</td><td>52807</td><td>1</td></tr><tr><td>2014</td><td>45642</td><td>834</td><td>1970</td><td>4</td></tr></table>"
                        ]
                    },
                    "execution_count": 38,
                    "metadata": {},
                    "output_type": "execute_result"
                }
            ],
            "source": [
                "-- Analyse sales performance over time yearly\n",
                "SELECT\n",
                "    YEAR(order_date) AS order_year,\n",
                "    SUM(sales_amount) AS total_sales,\n",
                "    COUNT(DISTINCT customer_key) AS total_customers,\n",
                "    SUM(quantity) AS total_quantity,\n",
                "    Rank() OVER (ORDER BY SUM(sales_amount) DESC) AS rank_sales_yearly\n",
                "FROM gold.fact_sales\n",
                "WHERE order_date IS NOT NULL\n",
                "GROUP BY YEAR(order_date)\n",
                "ORDER BY YEAR(order_date);\n",
                "\n",
                "-- Overally, it is a growing business \n",
                "-- After a slight drop in sales in 2012, it tripled over the next year.\n",
                "-- This big increase in sales is due to each customer roughly buying at least 3 items in 2013. -- Gooood job marketing team\n",
                "-- It is notable that data for 2010 and 2014 are incomplete (only Dec 2010, Jan 2014)\n"
            ]
        },
        {
            "cell_type": "code",
            "execution_count": 34,
            "metadata": {
                "azdata_cell_guid": "b3e72255-7118-4637-8d47-c0436399ed0c",
                "language": "sql"
            },
            "outputs": [
                {
                    "data": {
                        "text/html": [
                            "(12 rows affected)"
                        ]
                    },
                    "metadata": {},
                    "output_type": "display_data"
                },
                {
                    "data": {
                        "text/html": [
                            "Total execution time: 00:00:00.143"
                        ]
                    },
                    "metadata": {},
                    "output_type": "display_data"
                },
                {
                    "data": {
                        "application/vnd.dataresource+json": {
                            "data": [
                                {
                                    "order_month": "1",
                                    "rank_sales_monthly": "11",
                                    "total_customers": "1818",
                                    "total_quantity": "4043",
                                    "total_sales": "1868558"
                                },
                                {
                                    "order_month": "2",
                                    "rank_sales_monthly": "12",
                                    "total_customers": "1765",
                                    "total_quantity": "3858",
                                    "total_sales": "1744517"
                                },
                                {
                                    "order_month": "3",
                                    "rank_sales_monthly": "10",
                                    "total_customers": "1982",
                                    "total_quantity": "4449",
                                    "total_sales": "1908375"
                                },
                                {
                                    "order_month": "4",
                                    "rank_sales_monthly": "9",
                                    "total_customers": "1916",
                                    "total_quantity": "4355",
                                    "total_sales": "1948226"
                                },
                                {
                                    "order_month": "5",
                                    "rank_sales_monthly": "8",
                                    "total_customers": "2074",
                                    "total_quantity": "4781",
                                    "total_sales": "2204969"
                                },
                                {
                                    "order_month": "6",
                                    "rank_sales_monthly": "3",
                                    "total_customers": "2430",
                                    "total_quantity": "5573",
                                    "total_sales": "2935883"
                                },
                                {
                                    "order_month": "7",
                                    "rank_sales_monthly": "7",
                                    "total_customers": "2154",
                                    "total_quantity": "5107",
                                    "total_sales": "2412838"
                                },
                                {
                                    "order_month": "8",
                                    "rank_sales_monthly": "5",
                                    "total_customers": "2312",
                                    "total_quantity": "5335",
                                    "total_sales": "2684313"
                                },
                                {
                                    "order_month": "9",
                                    "rank_sales_monthly": "6",
                                    "total_customers": "2210",
                                    "total_quantity": "5070",
                                    "total_sales": "2536520"
                                },
                                {
                                    "order_month": "10",
                                    "rank_sales_monthly": "4",
                                    "total_customers": "2533",
                                    "total_quantity": "5838",
                                    "total_sales": "2916550"
                                },
                                {
                                    "order_month": "11",
                                    "rank_sales_monthly": "2",
                                    "total_customers": "2500",
                                    "total_quantity": "5756",
                                    "total_sales": "2979113"
                                },
                                {
                                    "order_month": "12",
                                    "rank_sales_monthly": "1",
                                    "total_customers": "2656",
                                    "total_quantity": "6239",
                                    "total_sales": "3211396"
                                }
                            ],
                            "schema": {
                                "fields": [
                                    {
                                        "name": "order_month"
                                    },
                                    {
                                        "name": "total_sales"
                                    },
                                    {
                                        "name": "total_customers"
                                    },
                                    {
                                        "name": "total_quantity"
                                    },
                                    {
                                        "name": "rank_sales_monthly"
                                    }
                                ]
                            }
                        },
                        "text/html": [
                            "<table><tr><th>order_month</th><th>total_sales</th><th>total_customers</th><th>total_quantity</th><th>rank_sales_monthly</th></tr><tr><td>1</td><td>1868558</td><td>1818</td><td>4043</td><td>11</td></tr><tr><td>2</td><td>1744517</td><td>1765</td><td>3858</td><td>12</td></tr><tr><td>3</td><td>1908375</td><td>1982</td><td>4449</td><td>10</td></tr><tr><td>4</td><td>1948226</td><td>1916</td><td>4355</td><td>9</td></tr><tr><td>5</td><td>2204969</td><td>2074</td><td>4781</td><td>8</td></tr><tr><td>6</td><td>2935883</td><td>2430</td><td>5573</td><td>3</td></tr><tr><td>7</td><td>2412838</td><td>2154</td><td>5107</td><td>7</td></tr><tr><td>8</td><td>2684313</td><td>2312</td><td>5335</td><td>5</td></tr><tr><td>9</td><td>2536520</td><td>2210</td><td>5070</td><td>6</td></tr><tr><td>10</td><td>2916550</td><td>2533</td><td>5838</td><td>4</td></tr><tr><td>11</td><td>2979113</td><td>2500</td><td>5756</td><td>2</td></tr><tr><td>12</td><td>3211396</td><td>2656</td><td>6239</td><td>1</td></tr></table>"
                        ]
                    },
                    "execution_count": 34,
                    "metadata": {},
                    "output_type": "execute_result"
                }
            ],
            "source": [
                "-- Analyse sales performance over time monthly\n",
                "SELECT\n",
                "    MONTH(order_date) AS order_month,\n",
                "    SUM(sales_amount) AS total_sales,\n",
                "    COUNT(DISTINCT customer_key) AS total_customers,\n",
                "    SUM(quantity) AS total_quantity,\n",
                "    Rank() OVER (ORDER BY SUM(sales_amount) DESC) AS rank_sales_monthly\n",
                "FROM gold.fact_sales\n",
                "WHERE order_date IS NOT NULL\n",
                "GROUP BY  MONTH(order_date)\n",
                "ORDER BY MONTH(order_date);\n",
                "\n",
                "-- We can see the seasonality here\n",
                "-- Towards the end of year, sales picks up probably due to christmas\n",
                "-- And winter being the slowest season"
            ]
        },
        {
            "cell_type": "code",
            "execution_count": 35,
            "metadata": {
                "azdata_cell_guid": "9df447d7-b9db-41b3-9065-da9a21de4ae8",
                "language": "sql"
            },
            "outputs": [
                {
                    "data": {
                        "text/html": [
                            "(38 rows affected)"
                        ]
                    },
                    "metadata": {},
                    "output_type": "display_data"
                },
                {
                    "data": {
                        "text/html": [
                            "Total execution time: 00:00:00.241"
                        ]
                    },
                    "metadata": {},
                    "output_type": "display_data"
                },
                {
                    "data": {
                        "application/vnd.dataresource+json": {
                            "data": [
                                {
                                    "monthly_sales": "3211396",
                                    "order_month": "12",
                                    "order_year": "2010",
                                    "total_customers": "14",
                                    "total_quantity": "14",
                                    "total_sales": "43419",
                                    "yearly_sales": "43419"
                                },
                                {
                                    "monthly_sales": "1868558",
                                    "order_month": "1",
                                    "order_year": "2011",
                                    "total_customers": "144",
                                    "total_quantity": "144",
                                    "total_sales": "469795",
                                    "yearly_sales": "7075088"
                                },
                                {
                                    "monthly_sales": "1744517",
                                    "order_month": "2",
                                    "order_year": "2011",
                                    "total_customers": "144",
                                    "total_quantity": "144",
                                    "total_sales": "466307",
                                    "yearly_sales": "7075088"
                                },
                                {
                                    "monthly_sales": "1908375",
                                    "order_month": "3",
                                    "order_year": "2011",
                                    "total_customers": "150",
                                    "total_quantity": "150",
                                    "total_sales": "485165",
                                    "yearly_sales": "7075088"
                                },
                                {
                                    "monthly_sales": "1948226",
                                    "order_month": "4",
                                    "order_year": "2011",
                                    "total_customers": "157",
                                    "total_quantity": "157",
                                    "total_sales": "502042",
                                    "yearly_sales": "7075088"
                                },
                                {
                                    "monthly_sales": "2204969",
                                    "order_month": "5",
                                    "order_year": "2011",
                                    "total_customers": "174",
                                    "total_quantity": "174",
                                    "total_sales": "561647",
                                    "yearly_sales": "7075088"
                                },
                                {
                                    "monthly_sales": "2935883",
                                    "order_month": "6",
                                    "order_year": "2011",
                                    "total_customers": "230",
                                    "total_quantity": "230",
                                    "total_sales": "737793",
                                    "yearly_sales": "7075088"
                                },
                                {
                                    "monthly_sales": "2412838",
                                    "order_month": "7",
                                    "order_year": "2011",
                                    "total_customers": "188",
                                    "total_quantity": "188",
                                    "total_sales": "596710",
                                    "yearly_sales": "7075088"
                                },
                                {
                                    "monthly_sales": "2684313",
                                    "order_month": "8",
                                    "order_year": "2011",
                                    "total_customers": "193",
                                    "total_quantity": "193",
                                    "total_sales": "614516",
                                    "yearly_sales": "7075088"
                                },
                                {
                                    "monthly_sales": "2536520",
                                    "order_month": "9",
                                    "order_year": "2011",
                                    "total_customers": "185",
                                    "total_quantity": "185",
                                    "total_sales": "603047",
                                    "yearly_sales": "7075088"
                                },
                                {
                                    "monthly_sales": "2916550",
                                    "order_month": "10",
                                    "order_year": "2011",
                                    "total_customers": "221",
                                    "total_quantity": "221",
                                    "total_sales": "708164",
                                    "yearly_sales": "7075088"
                                },
                                {
                                    "monthly_sales": "2979113",
                                    "order_month": "11",
                                    "order_year": "2011",
                                    "total_customers": "208",
                                    "total_quantity": "208",
                                    "total_sales": "660507",
                                    "yearly_sales": "7075088"
                                },
                                {
                                    "monthly_sales": "3211396",
                                    "order_month": "12",
                                    "order_year": "2011",
                                    "total_customers": "222",
                                    "total_quantity": "222",
                                    "total_sales": "669395",
                                    "yearly_sales": "7075088"
                                },
                                {
                                    "monthly_sales": "1868558",
                                    "order_month": "1",
                                    "order_year": "2012",
                                    "total_customers": "252",
                                    "total_quantity": "252",
                                    "total_sales": "495363",
                                    "yearly_sales": "5842231"
                                },
                                {
                                    "monthly_sales": "1744517",
                                    "order_month": "2",
                                    "order_year": "2012",
                                    "total_customers": "260",
                                    "total_quantity": "260",
                                    "total_sales": "506992",
                                    "yearly_sales": "5842231"
                                },
                                {
                                    "monthly_sales": "1908375",
                                    "order_month": "3",
                                    "order_year": "2012",
                                    "total_customers": "212",
                                    "total_quantity": "212",
                                    "total_sales": "373478",
                                    "yearly_sales": "5842231"
                                },
                                {
                                    "monthly_sales": "1948226",
                                    "order_month": "4",
                                    "order_year": "2012",
                                    "total_customers": "219",
                                    "total_quantity": "219",
                                    "total_sales": "400324",
                                    "yearly_sales": "5842231"
                                },
                                {
                                    "monthly_sales": "2204969",
                                    "order_month": "5",
                                    "order_year": "2012",
                                    "total_customers": "207",
                                    "total_quantity": "207",
                                    "total_sales": "358866",
                                    "yearly_sales": "5842231"
                                },
                                {
                                    "monthly_sales": "2935883",
                                    "order_month": "6",
                                    "order_year": "2012",
                                    "total_customers": "318",
                                    "total_quantity": "318",
                                    "total_sales": "555142",
                                    "yearly_sales": "5842231"
                                },
                                {
                                    "monthly_sales": "2412838",
                                    "order_month": "7",
                                    "order_year": "2012",
                                    "total_customers": "246",
                                    "total_quantity": "246",
                                    "total_sales": "444533",
                                    "yearly_sales": "5842231"
                                },
                                {
                                    "monthly_sales": "2684313",
                                    "order_month": "8",
                                    "order_year": "2012",
                                    "total_customers": "294",
                                    "total_quantity": "294",
                                    "total_sales": "523887",
                                    "yearly_sales": "5842231"
                                },
                                {
                                    "monthly_sales": "2536520",
                                    "order_month": "9",
                                    "order_year": "2012",
                                    "total_customers": "269",
                                    "total_quantity": "269",
                                    "total_sales": "486149",
                                    "yearly_sales": "5842231"
                                },
                                {
                                    "monthly_sales": "2916550",
                                    "order_month": "10",
                                    "order_year": "2012",
                                    "total_customers": "313",
                                    "total_quantity": "313",
                                    "total_sales": "535125",
                                    "yearly_sales": "5842231"
                                },
                                {
                                    "monthly_sales": "2979113",
                                    "order_month": "11",
                                    "order_year": "2012",
                                    "total_customers": "324",
                                    "total_quantity": "324",
                                    "total_sales": "537918",
                                    "yearly_sales": "5842231"
                                },
                                {
                                    "monthly_sales": "3211396",
                                    "order_month": "12",
                                    "order_year": "2012",
                                    "total_customers": "354",
                                    "total_quantity": "483",
                                    "total_sales": "624454",
                                    "yearly_sales": "5842231"
                                },
                                {
                                    "monthly_sales": "1868558",
                                    "order_month": "1",
                                    "order_year": "2013",
                                    "total_customers": "627",
                                    "total_quantity": "1677",
                                    "total_sales": "857758",
                                    "yearly_sales": "16344878"
                                },
                                {
                                    "monthly_sales": "1744517",
                                    "order_month": "2",
                                    "order_year": "2013",
                                    "total_customers": "1373",
                                    "total_quantity": "3454",
                                    "total_sales": "771218",
                                    "yearly_sales": "16344878"
                                },
                                {
                                    "monthly_sales": "1908375",
                                    "order_month": "3",
                                    "order_year": "2013",
                                    "total_customers": "1631",
                                    "total_quantity": "4087",
                                    "total_sales": "1049732",
                                    "yearly_sales": "16344878"
                                },
                                {
                                    "monthly_sales": "1948226",
                                    "order_month": "4",
                                    "order_year": "2013",
                                    "total_customers": "1564",
                                    "total_quantity": "3979",
                                    "total_sales": "1045860",
                                    "yearly_sales": "16344878"
                                },
                                {
                                    "monthly_sales": "2204969",
                                    "order_month": "5",
                                    "order_year": "2013",
                                    "total_customers": "1719",
                                    "total_quantity": "4400",
                                    "total_sales": "1284456",
                                    "yearly_sales": "16344878"
                                },
                                {
                                    "monthly_sales": "2935883",
                                    "order_month": "6",
                                    "order_year": "2013",
                                    "total_customers": "1948",
                                    "total_quantity": "5025",
                                    "total_sales": "1642948",
                                    "yearly_sales": "16344878"
                                },
                                {
                                    "monthly_sales": "2412838",
                                    "order_month": "7",
                                    "order_year": "2013",
                                    "total_customers": "1796",
                                    "total_quantity": "4673",
                                    "total_sales": "1371595",
                                    "yearly_sales": "16344878"
                                },
                                {
                                    "monthly_sales": "2684313",
                                    "order_month": "8",
                                    "order_year": "2013",
                                    "total_customers": "1898",
                                    "total_quantity": "4848",
                                    "total_sales": "1545910",
                                    "yearly_sales": "16344878"
                                },
                                {
                                    "monthly_sales": "2536520",
                                    "order_month": "9",
                                    "order_year": "2013",
                                    "total_customers": "1832",
                                    "total_quantity": "4616",
                                    "total_sales": "1447324",
                                    "yearly_sales": "16344878"
                                },
                                {
                                    "monthly_sales": "2916550",
                                    "order_month": "10",
                                    "order_year": "2013",
                                    "total_customers": "2073",
                                    "total_quantity": "5304",
                                    "total_sales": "1673261",
                                    "yearly_sales": "16344878"
                                },
                                {
                                    "monthly_sales": "2979113",
                                    "order_month": "11",
                                    "order_year": "2013",
                                    "total_customers": "2036",
                                    "total_quantity": "5224",
                                    "total_sales": "1780688",
                                    "yearly_sales": "16344878"
                                },
                                {
                                    "monthly_sales": "3211396",
                                    "order_month": "12",
                                    "order_year": "2013",
                                    "total_customers": "2133",
                                    "total_quantity": "5520",
                                    "total_sales": "1874128",
                                    "yearly_sales": "16344878"
                                },
                                {
                                    "monthly_sales": "1868558",
                                    "order_month": "1",
                                    "order_year": "2014",
                                    "total_customers": "834",
                                    "total_quantity": "1970",
                                    "total_sales": "45642",
                                    "yearly_sales": "45642"
                                }
                            ],
                            "schema": {
                                "fields": [
                                    {
                                        "name": "order_year"
                                    },
                                    {
                                        "name": "order_month"
                                    },
                                    {
                                        "name": "yearly_sales"
                                    },
                                    {
                                        "name": "monthly_sales"
                                    },
                                    {
                                        "name": "total_sales"
                                    },
                                    {
                                        "name": "total_customers"
                                    },
                                    {
                                        "name": "total_quantity"
                                    }
                                ]
                            }
                        },
                        "text/html": [
                            "<table><tr><th>order_year</th><th>order_month</th><th>yearly_sales</th><th>monthly_sales</th><th>total_sales</th><th>total_customers</th><th>total_quantity</th></tr><tr><td>2010</td><td>12</td><td>43419</td><td>3211396</td><td>43419</td><td>14</td><td>14</td></tr><tr><td>2011</td><td>1</td><td>7075088</td><td>1868558</td><td>469795</td><td>144</td><td>144</td></tr><tr><td>2011</td><td>2</td><td>7075088</td><td>1744517</td><td>466307</td><td>144</td><td>144</td></tr><tr><td>2011</td><td>3</td><td>7075088</td><td>1908375</td><td>485165</td><td>150</td><td>150</td></tr><tr><td>2011</td><td>4</td><td>7075088</td><td>1948226</td><td>502042</td><td>157</td><td>157</td></tr><tr><td>2011</td><td>5</td><td>7075088</td><td>2204969</td><td>561647</td><td>174</td><td>174</td></tr><tr><td>2011</td><td>6</td><td>7075088</td><td>2935883</td><td>737793</td><td>230</td><td>230</td></tr><tr><td>2011</td><td>7</td><td>7075088</td><td>2412838</td><td>596710</td><td>188</td><td>188</td></tr><tr><td>2011</td><td>8</td><td>7075088</td><td>2684313</td><td>614516</td><td>193</td><td>193</td></tr><tr><td>2011</td><td>9</td><td>7075088</td><td>2536520</td><td>603047</td><td>185</td><td>185</td></tr><tr><td>2011</td><td>10</td><td>7075088</td><td>2916550</td><td>708164</td><td>221</td><td>221</td></tr><tr><td>2011</td><td>11</td><td>7075088</td><td>2979113</td><td>660507</td><td>208</td><td>208</td></tr><tr><td>2011</td><td>12</td><td>7075088</td><td>3211396</td><td>669395</td><td>222</td><td>222</td></tr><tr><td>2012</td><td>1</td><td>5842231</td><td>1868558</td><td>495363</td><td>252</td><td>252</td></tr><tr><td>2012</td><td>2</td><td>5842231</td><td>1744517</td><td>506992</td><td>260</td><td>260</td></tr><tr><td>2012</td><td>3</td><td>5842231</td><td>1908375</td><td>373478</td><td>212</td><td>212</td></tr><tr><td>2012</td><td>4</td><td>5842231</td><td>1948226</td><td>400324</td><td>219</td><td>219</td></tr><tr><td>2012</td><td>5</td><td>5842231</td><td>2204969</td><td>358866</td><td>207</td><td>207</td></tr><tr><td>2012</td><td>6</td><td>5842231</td><td>2935883</td><td>555142</td><td>318</td><td>318</td></tr><tr><td>2012</td><td>7</td><td>5842231</td><td>2412838</td><td>444533</td><td>246</td><td>246</td></tr><tr><td>2012</td><td>8</td><td>5842231</td><td>2684313</td><td>523887</td><td>294</td><td>294</td></tr><tr><td>2012</td><td>9</td><td>5842231</td><td>2536520</td><td>486149</td><td>269</td><td>269</td></tr><tr><td>2012</td><td>10</td><td>5842231</td><td>2916550</td><td>535125</td><td>313</td><td>313</td></tr><tr><td>2012</td><td>11</td><td>5842231</td><td>2979113</td><td>537918</td><td>324</td><td>324</td></tr><tr><td>2012</td><td>12</td><td>5842231</td><td>3211396</td><td>624454</td><td>354</td><td>483</td></tr><tr><td>2013</td><td>1</td><td>16344878</td><td>1868558</td><td>857758</td><td>627</td><td>1677</td></tr><tr><td>2013</td><td>2</td><td>16344878</td><td>1744517</td><td>771218</td><td>1373</td><td>3454</td></tr><tr><td>2013</td><td>3</td><td>16344878</td><td>1908375</td><td>1049732</td><td>1631</td><td>4087</td></tr><tr><td>2013</td><td>4</td><td>16344878</td><td>1948226</td><td>1045860</td><td>1564</td><td>3979</td></tr><tr><td>2013</td><td>5</td><td>16344878</td><td>2204969</td><td>1284456</td><td>1719</td><td>4400</td></tr><tr><td>2013</td><td>6</td><td>16344878</td><td>2935883</td><td>1642948</td><td>1948</td><td>5025</td></tr><tr><td>2013</td><td>7</td><td>16344878</td><td>2412838</td><td>1371595</td><td>1796</td><td>4673</td></tr><tr><td>2013</td><td>8</td><td>16344878</td><td>2684313</td><td>1545910</td><td>1898</td><td>4848</td></tr><tr><td>2013</td><td>9</td><td>16344878</td><td>2536520</td><td>1447324</td><td>1832</td><td>4616</td></tr><tr><td>2013</td><td>10</td><td>16344878</td><td>2916550</td><td>1673261</td><td>2073</td><td>5304</td></tr><tr><td>2013</td><td>11</td><td>16344878</td><td>2979113</td><td>1780688</td><td>2036</td><td>5224</td></tr><tr><td>2013</td><td>12</td><td>16344878</td><td>3211396</td><td>1874128</td><td>2133</td><td>5520</td></tr><tr><td>2014</td><td>1</td><td>45642</td><td>1868558</td><td>45642</td><td>834</td><td>1970</td></tr></table>"
                        ]
                    },
                    "execution_count": 35,
                    "metadata": {},
                    "output_type": "execute_result"
                }
            ],
            "source": [
                "-- All in one for more granular view\n",
                "SELECT \n",
                "    YEAR(order_date) AS order_year,\n",
                "    MONTH(order_date) AS order_month,\n",
                "    SUM(SUM(sales_amount)) OVER (PARTITION BY YEAR(order_date)) AS yearly_sales,\n",
                "    SUM(SUM(sales_amount)) OVER (PARTITION BY MONTH(order_date)) AS monthly_sales,\n",
                "    SUM(sales_amount) AS total_sales,\n",
                "    COUNT(DISTINCT customer_key) AS total_customers,\n",
                "    SUM(quantity) AS total_quantity\n",
                "FROM gold.fact_sales\n",
                "WHERE order_date IS NOT NULL\n",
                "GROUP BY YEAR(order_date), MONTH(order_date)\n",
                "ORDER BY YEAR(order_date), MONTH(order_date);"
            ]
        },
        {
            "cell_type": "code",
            "execution_count": null,
            "metadata": {
                "azdata_cell_guid": "d47fdbab-a674-4a94-84d7-c2f605594785",
                "language": "sql"
            },
            "outputs": [],
            "source": [
                "/*\n",
                "-- Using DATETRUNC() for monthly analysis\n",
                "SELECT\n",
                "    DATETRUNC(month, order_date) AS order_date,\n",
                "    SUM(sales_amount) AS total_sales,\n",
                "    COUNT(DISTINCT customer_key) AS total_customers,\n",
                "    SUM(quantity) AS total_quantity\n",
                "FROM gold.fact_sales\n",
                "WHERE order_date IS NOT NULL\n",
                "GROUP BY DATETRUNC(month, order_date)\n",
                "ORDER BY DATETRUNC(month, order_date);\n",
                "*/"
            ]
        },
        {
            "cell_type": "code",
            "execution_count": null,
            "metadata": {
                "azdata_cell_guid": "cca61902-ce0a-4b69-8341-fcef4e09d2c6",
                "language": "sql"
            },
            "outputs": [],
            "source": [
                "/*\n",
                "-- Using FORMAT() for formatted date display\n",
                "SELECT\n",
                "    FORMAT(order_date, 'yyyy-MMM') AS order_date,\n",
                "    SUM(sales_amount) AS total_sales,\n",
                "    COUNT(DISTINCT customer_key) AS total_customers,\n",
                "    SUM(quantity) AS total_quantity\n",
                "FROM gold.fact_sales\n",
                "WHERE order_date IS NOT NULL\n",
                "GROUP BY FORMAT(order_date, 'yyyy-MMM')\n",
                "ORDER BY FORMAT(order_date, 'yyyy-MMM');\n",
                "*/"
            ]
        },
        {
            "attachments": {},
            "cell_type": "markdown",
            "metadata": {
                "azdata_cell_guid": "c3016d70-7f86-43ac-898c-0ae4b9493da1"
            },
            "source": [
                "## Cumulative Analysis (Aggregate the data progressively over time)\n",
                "\n",
                "Purpose:\n",
                "\n",
                "- To calculate running totals or moving averages for key metrics.\n",
                "- To track performance over time cumulatively.\n",
                "- Useful for growth analysis or identifying long-term trends.\n",
                "\n",
                "SQL Functions Used:\n",
                "\n",
                "- Window Functions: SUM() OVER(), AVG() OVER()"
            ]
        },
        {
            "cell_type": "code",
            "execution_count": 17,
            "metadata": {
                "azdata_cell_guid": "a41ca3b3-da69-41c7-bb4c-1cdac297e955",
                "language": "sql"
            },
            "outputs": [
                {
                    "data": {
                        "text/html": [
                            "(5 rows affected)"
                        ]
                    },
                    "metadata": {},
                    "output_type": "display_data"
                },
                {
                    "data": {
                        "text/html": [
                            "Total execution time: 00:00:00.160"
                        ]
                    },
                    "metadata": {},
                    "output_type": "display_data"
                },
                {
                    "data": {
                        "application/vnd.dataresource+json": {
                            "data": [
                                {
                                    "moving_average_price": "3101",
                                    "order_date": "2010",
                                    "running_total_sales": "43419",
                                    "total_sales": "43419"
                                },
                                {
                                    "moving_average_price": "3146",
                                    "order_date": "2011",
                                    "running_total_sales": "7118507",
                                    "total_sales": "7075088"
                                },
                                {
                                    "moving_average_price": "2670",
                                    "order_date": "2012",
                                    "running_total_sales": "12960738",
                                    "total_sales": "5842231"
                                },
                                {
                                    "moving_average_price": "2080",
                                    "order_date": "2013",
                                    "running_total_sales": "29305616",
                                    "total_sales": "16344878"
                                },
                                {
                                    "moving_average_price": "1668",
                                    "order_date": "2014",
                                    "running_total_sales": "29351258",
                                    "total_sales": "45642"
                                }
                            ],
                            "schema": {
                                "fields": [
                                    {
                                        "name": "order_date"
                                    },
                                    {
                                        "name": "total_sales"
                                    },
                                    {
                                        "name": "running_total_sales"
                                    },
                                    {
                                        "name": "moving_average_price"
                                    }
                                ]
                            }
                        },
                        "text/html": [
                            "<table>\n",
                            "<tr><th>order_date</th><th>total_sales</th><th>running_total_sales</th><th>moving_average_price</th></tr>\n",
                            "<tr><td>2010</td><td>43419</td><td>43419</td><td>3101</td></tr>\n",
                            "<tr><td>2011</td><td>7075088</td><td>7118507</td><td>3146</td></tr>\n",
                            "<tr><td>2012</td><td>5842231</td><td>12960738</td><td>2670</td></tr>\n",
                            "<tr><td>2013</td><td>16344878</td><td>29305616</td><td>2080</td></tr>\n",
                            "<tr><td>2014</td><td>45642</td><td>29351258</td><td>1668</td></tr>\n",
                            "</table>"
                        ]
                    },
                    "execution_count": 17,
                    "metadata": {},
                    "output_type": "execute_result"
                }
            ],
            "source": [
                "-- Calculate the total sales per year and the running total of sales over time\n",
                "-- Calculate the moving average of price\n",
                "SELECT\n",
                "    order_date,\n",
                "    total_sales,\n",
                "    SUM(total_sales) OVER (ORDER BY order_date) AS running_total_sales,\n",
                "    AVG(avg_price) OVER (ORDER BY order_date) AS moving_average_price\n",
                "FROM\n",
                "(\n",
                "    SELECT \n",
                "        YEAR(order_date) AS order_date,\n",
                "        SUM(sales_amount) AS total_sales,\n",
                "        AVG(price) AS avg_price\n",
                "    FROM gold.fact_sales\n",
                "    WHERE order_date IS NOT NULL\n",
                "    GROUP BY YEAR(order_date)\n",
                ") t"
            ]
        },
        {
            "cell_type": "code",
            "execution_count": 21,
            "metadata": {
                "azdata_cell_guid": "4acdf198-35a5-4ee7-8f17-6758526cab8c",
                "language": "sql"
            },
            "outputs": [
                {
                    "data": {
                        "text/html": [
                            "(38 rows affected)"
                        ]
                    },
                    "metadata": {},
                    "output_type": "display_data"
                },
                {
                    "data": {
                        "text/html": [
                            "Total execution time: 00:00:00.167"
                        ]
                    },
                    "metadata": {},
                    "output_type": "display_data"
                },
                {
                    "data": {
                        "application/vnd.dataresource+json": {
                            "data": [
                                {
                                    "avg_price": "3101",
                                    "moving_average_price_per_year": "3101",
                                    "order_date_month": "12",
                                    "order_date_year": "2010",
                                    "running_total_sales_per_yaer": "43419",
                                    "total_sales": "43419"
                                },
                                {
                                    "avg_price": "3262",
                                    "moving_average_price_per_year": "3262",
                                    "order_date_month": "1",
                                    "order_date_year": "2011",
                                    "running_total_sales_per_yaer": "469795",
                                    "total_sales": "469795"
                                },
                                {
                                    "avg_price": "3238",
                                    "moving_average_price_per_year": "3250",
                                    "order_date_month": "2",
                                    "order_date_year": "2011",
                                    "running_total_sales_per_yaer": "936102",
                                    "total_sales": "466307"
                                },
                                {
                                    "avg_price": "3234",
                                    "moving_average_price_per_year": "3244",
                                    "order_date_month": "3",
                                    "order_date_year": "2011",
                                    "running_total_sales_per_yaer": "1421267",
                                    "total_sales": "485165"
                                },
                                {
                                    "avg_price": "3197",
                                    "moving_average_price_per_year": "3232",
                                    "order_date_month": "4",
                                    "order_date_year": "2011",
                                    "running_total_sales_per_yaer": "1923309",
                                    "total_sales": "502042"
                                },
                                {
                                    "avg_price": "3227",
                                    "moving_average_price_per_year": "3231",
                                    "order_date_month": "5",
                                    "order_date_year": "2011",
                                    "running_total_sales_per_yaer": "2484956",
                                    "total_sales": "561647"
                                },
                                {
                                    "avg_price": "3207",
                                    "moving_average_price_per_year": "3227",
                                    "order_date_month": "6",
                                    "order_date_year": "2011",
                                    "running_total_sales_per_yaer": "3222749",
                                    "total_sales": "737793"
                                },
                                {
                                    "avg_price": "3173",
                                    "moving_average_price_per_year": "3219",
                                    "order_date_month": "7",
                                    "order_date_year": "2011",
                                    "running_total_sales_per_yaer": "3819459",
                                    "total_sales": "596710"
                                },
                                {
                                    "avg_price": "3184",
                                    "moving_average_price_per_year": "3215",
                                    "order_date_month": "8",
                                    "order_date_year": "2011",
                                    "running_total_sales_per_yaer": "4433975",
                                    "total_sales": "614516"
                                },
                                {
                                    "avg_price": "3259",
                                    "moving_average_price_per_year": "3220",
                                    "order_date_month": "9",
                                    "order_date_year": "2011",
                                    "running_total_sales_per_yaer": "5037022",
                                    "total_sales": "603047"
                                },
                                {
                                    "avg_price": "3204",
                                    "moving_average_price_per_year": "3218",
                                    "order_date_month": "10",
                                    "order_date_year": "2011",
                                    "running_total_sales_per_yaer": "5745186",
                                    "total_sales": "708164"
                                },
                                {
                                    "avg_price": "3175",
                                    "moving_average_price_per_year": "3214",
                                    "order_date_month": "11",
                                    "order_date_year": "2011",
                                    "running_total_sales_per_yaer": "6405693",
                                    "total_sales": "660507"
                                },
                                {
                                    "avg_price": "3015",
                                    "moving_average_price_per_year": "3197",
                                    "order_date_month": "12",
                                    "order_date_year": "2011",
                                    "running_total_sales_per_yaer": "7075088",
                                    "total_sales": "669395"
                                },
                                {
                                    "avg_price": "1965",
                                    "moving_average_price_per_year": "1965",
                                    "order_date_month": "1",
                                    "order_date_year": "2012",
                                    "running_total_sales_per_yaer": "495363",
                                    "total_sales": "495363"
                                },
                                {
                                    "avg_price": "1949",
                                    "moving_average_price_per_year": "1957",
                                    "order_date_month": "2",
                                    "order_date_year": "2012",
                                    "running_total_sales_per_yaer": "1002355",
                                    "total_sales": "506992"
                                },
                                {
                                    "avg_price": "1761",
                                    "moving_average_price_per_year": "1891",
                                    "order_date_month": "3",
                                    "order_date_year": "2012",
                                    "running_total_sales_per_yaer": "1375833",
                                    "total_sales": "373478"
                                },
                                {
                                    "avg_price": "1827",
                                    "moving_average_price_per_year": "1875",
                                    "order_date_month": "4",
                                    "order_date_year": "2012",
                                    "running_total_sales_per_yaer": "1776157",
                                    "total_sales": "400324"
                                },
                                {
                                    "avg_price": "1733",
                                    "moving_average_price_per_year": "1847",
                                    "order_date_month": "5",
                                    "order_date_year": "2012",
                                    "running_total_sales_per_yaer": "2135023",
                                    "total_sales": "358866"
                                },
                                {
                                    "avg_price": "1745",
                                    "moving_average_price_per_year": "1830",
                                    "order_date_month": "6",
                                    "order_date_year": "2012",
                                    "running_total_sales_per_yaer": "2690165",
                                    "total_sales": "555142"
                                },
                                {
                                    "avg_price": "1807",
                                    "moving_average_price_per_year": "1826",
                                    "order_date_month": "7",
                                    "order_date_year": "2012",
                                    "running_total_sales_per_yaer": "3134698",
                                    "total_sales": "444533"
                                },
                                {
                                    "avg_price": "1781",
                                    "moving_average_price_per_year": "1821",
                                    "order_date_month": "8",
                                    "order_date_year": "2012",
                                    "running_total_sales_per_yaer": "3658585",
                                    "total_sales": "523887"
                                },
                                {
                                    "avg_price": "1807",
                                    "moving_average_price_per_year": "1819",
                                    "order_date_month": "9",
                                    "order_date_year": "2012",
                                    "running_total_sales_per_yaer": "4144734",
                                    "total_sales": "486149"
                                },
                                {
                                    "avg_price": "1709",
                                    "moving_average_price_per_year": "1808",
                                    "order_date_month": "10",
                                    "order_date_year": "2012",
                                    "running_total_sales_per_yaer": "4679859",
                                    "total_sales": "535125"
                                },
                                {
                                    "avg_price": "1660",
                                    "moving_average_price_per_year": "1794",
                                    "order_date_month": "11",
                                    "order_date_year": "2012",
                                    "running_total_sales_per_yaer": "5217777",
                                    "total_sales": "537918"
                                },
                                {
                                    "avg_price": "1292",
                                    "moving_average_price_per_year": "1753",
                                    "order_date_month": "12",
                                    "order_date_year": "2012",
                                    "running_total_sales_per_yaer": "5842231",
                                    "total_sales": "624454"
                                },
                                {
                                    "avg_price": "516",
                                    "moving_average_price_per_year": "516",
                                    "order_date_month": "1",
                                    "order_date_year": "2013",
                                    "running_total_sales_per_yaer": "857758",
                                    "total_sales": "857758"
                                },
                                {
                                    "avg_price": "223",
                                    "moving_average_price_per_year": "369",
                                    "order_date_month": "2",
                                    "order_date_year": "2013",
                                    "running_total_sales_per_yaer": "1628976",
                                    "total_sales": "771218"
                                },
                                {
                                    "avg_price": "256",
                                    "moving_average_price_per_year": "331",
                                    "order_date_month": "3",
                                    "order_date_year": "2013",
                                    "running_total_sales_per_yaer": "2678708",
                                    "total_sales": "1049732"
                                },
                                {
                                    "avg_price": "262",
                                    "moving_average_price_per_year": "314",
                                    "order_date_month": "4",
                                    "order_date_year": "2013",
                                    "running_total_sales_per_yaer": "3724568",
                                    "total_sales": "1045860"
                                },
                                {
                                    "avg_price": "291",
                                    "moving_average_price_per_year": "309",
                                    "order_date_month": "5",
                                    "order_date_year": "2013",
                                    "running_total_sales_per_yaer": "5009024",
                                    "total_sales": "1284456"
                                },
                                {
                                    "avg_price": "326",
                                    "moving_average_price_per_year": "312",
                                    "order_date_month": "6",
                                    "order_date_year": "2013",
                                    "running_total_sales_per_yaer": "6651972",
                                    "total_sales": "1642948"
                                },
                                {
                                    "avg_price": "293",
                                    "moving_average_price_per_year": "309",
                                    "order_date_month": "7",
                                    "order_date_year": "2013",
                                    "running_total_sales_per_yaer": "8023567",
                                    "total_sales": "1371595"
                                },
                                {
                                    "avg_price": "318",
                                    "moving_average_price_per_year": "310",
                                    "order_date_month": "8",
                                    "order_date_year": "2013",
                                    "running_total_sales_per_yaer": "9569477",
                                    "total_sales": "1545910"
                                },
                                {
                                    "avg_price": "313",
                                    "moving_average_price_per_year": "310",
                                    "order_date_month": "9",
                                    "order_date_year": "2013",
                                    "running_total_sales_per_yaer": "11016801",
                                    "total_sales": "1447324"
                                },
                                {
                                    "avg_price": "315",
                                    "moving_average_price_per_year": "311",
                                    "order_date_month": "10",
                                    "order_date_year": "2013",
                                    "running_total_sales_per_yaer": "12690062",
                                    "total_sales": "1673261"
                                },
                                {
                                    "avg_price": "340",
                                    "moving_average_price_per_year": "313",
                                    "order_date_month": "11",
                                    "order_date_year": "2013",
                                    "running_total_sales_per_yaer": "14470750",
                                    "total_sales": "1780688"
                                },
                                {
                                    "avg_price": "339",
                                    "moving_average_price_per_year": "316",
                                    "order_date_month": "12",
                                    "order_date_year": "2013",
                                    "running_total_sales_per_yaer": "16344878",
                                    "total_sales": "1874128"
                                },
                                {
                                    "avg_price": "23",
                                    "moving_average_price_per_year": "23",
                                    "order_date_month": "1",
                                    "order_date_year": "2014",
                                    "running_total_sales_per_yaer": "45642",
                                    "total_sales": "45642"
                                }
                            ],
                            "schema": {
                                "fields": [
                                    {
                                        "name": "order_date_year"
                                    },
                                    {
                                        "name": "order_date_month"
                                    },
                                    {
                                        "name": "total_sales"
                                    },
                                    {
                                        "name": "running_total_sales_per_yaer"
                                    },
                                    {
                                        "name": "avg_price"
                                    },
                                    {
                                        "name": "moving_average_price_per_year"
                                    }
                                ]
                            }
                        },
                        "text/html": [
                            "<table>\n",
                            "<tr><th>order_date_year</th><th>order_date_month</th><th>total_sales</th><th>running_total_sales_per_yaer</th><th>avg_price</th><th>moving_average_price_per_year</th></tr>\n",
                            "<tr><td>2010</td><td>12</td><td>43419</td><td>43419</td><td>3101</td><td>3101</td></tr>\n",
                            "<tr><td>2011</td><td>1</td><td>469795</td><td>469795</td><td>3262</td><td>3262</td></tr>\n",
                            "<tr><td>2011</td><td>2</td><td>466307</td><td>936102</td><td>3238</td><td>3250</td></tr>\n",
                            "<tr><td>2011</td><td>3</td><td>485165</td><td>1421267</td><td>3234</td><td>3244</td></tr>\n",
                            "<tr><td>2011</td><td>4</td><td>502042</td><td>1923309</td><td>3197</td><td>3232</td></tr>\n",
                            "<tr><td>2011</td><td>5</td><td>561647</td><td>2484956</td><td>3227</td><td>3231</td></tr>\n",
                            "<tr><td>2011</td><td>6</td><td>737793</td><td>3222749</td><td>3207</td><td>3227</td></tr>\n",
                            "<tr><td>2011</td><td>7</td><td>596710</td><td>3819459</td><td>3173</td><td>3219</td></tr>\n",
                            "<tr><td>2011</td><td>8</td><td>614516</td><td>4433975</td><td>3184</td><td>3215</td></tr>\n",
                            "<tr><td>2011</td><td>9</td><td>603047</td><td>5037022</td><td>3259</td><td>3220</td></tr>\n",
                            "<tr><td>2011</td><td>10</td><td>708164</td><td>5745186</td><td>3204</td><td>3218</td></tr>\n",
                            "<tr><td>2011</td><td>11</td><td>660507</td><td>6405693</td><td>3175</td><td>3214</td></tr>\n",
                            "<tr><td>2011</td><td>12</td><td>669395</td><td>7075088</td><td>3015</td><td>3197</td></tr>\n",
                            "<tr><td>2012</td><td>1</td><td>495363</td><td>495363</td><td>1965</td><td>1965</td></tr>\n",
                            "<tr><td>2012</td><td>2</td><td>506992</td><td>1002355</td><td>1949</td><td>1957</td></tr>\n",
                            "<tr><td>2012</td><td>3</td><td>373478</td><td>1375833</td><td>1761</td><td>1891</td></tr>\n",
                            "<tr><td>2012</td><td>4</td><td>400324</td><td>1776157</td><td>1827</td><td>1875</td></tr>\n",
                            "<tr><td>2012</td><td>5</td><td>358866</td><td>2135023</td><td>1733</td><td>1847</td></tr>\n",
                            "<tr><td>2012</td><td>6</td><td>555142</td><td>2690165</td><td>1745</td><td>1830</td></tr>\n",
                            "<tr><td>2012</td><td>7</td><td>444533</td><td>3134698</td><td>1807</td><td>1826</td></tr>\n",
                            "<tr><td>2012</td><td>8</td><td>523887</td><td>3658585</td><td>1781</td><td>1821</td></tr>\n",
                            "<tr><td>2012</td><td>9</td><td>486149</td><td>4144734</td><td>1807</td><td>1819</td></tr>\n",
                            "<tr><td>2012</td><td>10</td><td>535125</td><td>4679859</td><td>1709</td><td>1808</td></tr>\n",
                            "<tr><td>2012</td><td>11</td><td>537918</td><td>5217777</td><td>1660</td><td>1794</td></tr>\n",
                            "<tr><td>2012</td><td>12</td><td>624454</td><td>5842231</td><td>1292</td><td>1753</td></tr>\n",
                            "<tr><td>2013</td><td>1</td><td>857758</td><td>857758</td><td>516</td><td>516</td></tr>\n",
                            "<tr><td>2013</td><td>2</td><td>771218</td><td>1628976</td><td>223</td><td>369</td></tr>\n",
                            "<tr><td>2013</td><td>3</td><td>1049732</td><td>2678708</td><td>256</td><td>331</td></tr>\n",
                            "<tr><td>2013</td><td>4</td><td>1045860</td><td>3724568</td><td>262</td><td>314</td></tr>\n",
                            "<tr><td>2013</td><td>5</td><td>1284456</td><td>5009024</td><td>291</td><td>309</td></tr>\n",
                            "<tr><td>2013</td><td>6</td><td>1642948</td><td>6651972</td><td>326</td><td>312</td></tr>\n",
                            "<tr><td>2013</td><td>7</td><td>1371595</td><td>8023567</td><td>293</td><td>309</td></tr>\n",
                            "<tr><td>2013</td><td>8</td><td>1545910</td><td>9569477</td><td>318</td><td>310</td></tr>\n",
                            "<tr><td>2013</td><td>9</td><td>1447324</td><td>11016801</td><td>313</td><td>310</td></tr>\n",
                            "<tr><td>2013</td><td>10</td><td>1673261</td><td>12690062</td><td>315</td><td>311</td></tr>\n",
                            "<tr><td>2013</td><td>11</td><td>1780688</td><td>14470750</td><td>340</td><td>313</td></tr>\n",
                            "<tr><td>2013</td><td>12</td><td>1874128</td><td>16344878</td><td>339</td><td>316</td></tr>\n",
                            "<tr><td>2014</td><td>1</td><td>45642</td><td>45642</td><td>23</td><td>23</td></tr>\n",
                            "</table>"
                        ]
                    },
                    "execution_count": 21,
                    "metadata": {},
                    "output_type": "execute_result"
                }
            ],
            "source": [
                "-- Calculate the total sales per month and the running total of sales over each year\n",
                "-- Calculate the moving average of price\n",
                "SELECT\n",
                "    order_date_year,\n",
                "    order_date_month,\n",
                "    total_sales,\n",
                "    SUM(total_sales) OVER (PARTITION BY (order_date_year) ORDER BY order_date_month) AS running_total_sales_per_yaer,\n",
                "    avg_price,\n",
                "    AVG(avg_price) OVER (PARTITION BY (order_date_year) ORDER BY order_date_month) AS moving_average_price_per_year\n",
                "FROM\n",
                "(\n",
                "    SELECT \n",
                "        MONTH(order_date) AS order_date_month,\n",
                "        YEAR(order_date) AS order_date_year,\n",
                "        SUM(sales_amount) AS total_sales,\n",
                "        AVG(price) AS avg_price\n",
                "    FROM gold.fact_sales\n",
                "    WHERE order_date IS NOT NULL\n",
                "    GROUP BY YEAR(order_date), MONTH(order_date)\n",
                ") t\n",
                "\n",
                "-- One interesting observation is that the moving average price dropped constantly over the years\n",
                "-- This is very obvious in 2013 where we experienced a huge drop, and as we remember 2013 was the best year in terms of sales.\n",
                "-- This means that the sales generated in 2013 is not due to an increase in price but a huge growth in quantity of items sold"
            ]
        },
        {
            "cell_type": "markdown",
            "metadata": {
                "azdata_cell_guid": "38793be7-9970-4592-8ebc-cd3b91dd4e32"
            },
            "source": [
                "## Performance Analysis (Year-over-Year, Month-over-Month)\n",
                "\n",
                "Purpose:\n",
                "- To measure the performance of products, customers, or regions over time.\n",
                "- For benchmarking and identifying high-performing entities.\n",
                "- To track yearly trends and growth.\n",
                "\n",
                "SQL Functions Used:\n",
                "- LAG(): Accesses data from previous rows.\n",
                "- AVG() OVER(): Computes average values within partitions.\n",
                "- CASE: Defines conditional logic for trend analysis."
            ]
        },
        {
            "cell_type": "code",
            "execution_count": 25,
            "metadata": {
                "azdata_cell_guid": "28c619ea-3d42-4477-a16a-e6722da72ee3",
                "language": "sql",
                "tags": []
            },
            "outputs": [
                {
                    "data": {
                        "text/html": [
                            "(15 rows affected)"
                        ]
                    },
                    "metadata": {},
                    "output_type": "display_data"
                },
                {
                    "data": {
                        "text/html": [
                            "Total execution time: 00:00:00.120"
                        ]
                    },
                    "metadata": {},
                    "output_type": "display_data"
                },
                {
                    "data": {
                        "application/vnd.dataresource+json": {
                            "data": [
                                {
                                    "avg_change": "Below Avg",
                                    "avg_sales": "13197",
                                    "current_sales": "159",
                                    "diff_avg": "-13038",
                                    "diff_py": "NULL",
                                    "order_year": "2012",
                                    "product_name": "All-Purpose Bike Stand",
                                    "py_change": "No Change",
                                    "py_sales": "NULL"
                                },
                                {
                                    "avg_change": "Above Avg",
                                    "avg_sales": "13197",
                                    "current_sales": "37683",
                                    "diff_avg": "24486",
                                    "diff_py": "37524",
                                    "order_year": "2013",
                                    "product_name": "All-Purpose Bike Stand",
                                    "py_change": "Increase",
                                    "py_sales": "159"
                                },
                                {
                                    "avg_change": "Below Avg",
                                    "avg_sales": "13197",
                                    "current_sales": "1749",
                                    "diff_avg": "-11448",
                                    "diff_py": "-35934",
                                    "order_year": "2014",
                                    "product_name": "All-Purpose Bike Stand",
                                    "py_change": "Decrease",
                                    "py_sales": "37683"
                                },
                                {
                                    "avg_change": "Below Avg",
                                    "avg_sales": "6570",
                                    "current_sales": "72",
                                    "diff_avg": "-6498",
                                    "diff_py": "NULL",
                                    "order_year": "2012",
                                    "product_name": "AWC Logo Cap",
                                    "py_change": "No Change",
                                    "py_sales": "NULL"
                                },
                                {
                                    "avg_change": "Above Avg",
                                    "avg_sales": "6570",
                                    "current_sales": "18891",
                                    "diff_avg": "12321",
                                    "diff_py": "18819",
                                    "order_year": "2013",
                                    "product_name": "AWC Logo Cap",
                                    "py_change": "Increase",
                                    "py_sales": "72"
                                },
                                {
                                    "avg_change": "Below Avg",
                                    "avg_sales": "6570",
                                    "current_sales": "747",
                                    "diff_avg": "-5823",
                                    "diff_py": "-18144",
                                    "order_year": "2014",
                                    "product_name": "AWC Logo Cap",
                                    "py_change": "Decrease",
                                    "py_sales": "18891"
                                },
                                {
                                    "avg_change": "Above Avg",
                                    "avg_sales": "3636",
                                    "current_sales": "6960",
                                    "diff_avg": "3324",
                                    "diff_py": "NULL",
                                    "order_year": "2013",
                                    "product_name": "Bike Wash - Dissolver",
                                    "py_change": "No Change",
                                    "py_sales": "NULL"
                                },
                                {
                                    "avg_change": "Below Avg",
                                    "avg_sales": "3636",
                                    "current_sales": "312",
                                    "diff_avg": "-3324",
                                    "diff_py": "-6648",
                                    "order_year": "2014",
                                    "product_name": "Bike Wash - Dissolver",
                                    "py_change": "Decrease",
                                    "py_sales": "6960"
                                },
                                {
                                    "avg_change": "Above Avg",
                                    "avg_sales": "6240",
                                    "current_sales": "11968",
                                    "diff_avg": "5728",
                                    "diff_py": "NULL",
                                    "order_year": "2013",
                                    "product_name": "Classic Vest- L",
                                    "py_change": "No Change",
                                    "py_sales": "NULL"
                                },
                                {
                                    "avg_change": "Below Avg",
                                    "avg_sales": "6240",
                                    "current_sales": "512",
                                    "diff_avg": "-5728",
                                    "diff_py": "-11456",
                                    "order_year": "2014",
                                    "product_name": "Classic Vest- L",
                                    "py_change": "Decrease",
                                    "py_sales": "11968"
                                },
                                {
                                    "avg_change": "Above Avg",
                                    "avg_sales": "6368",
                                    "current_sales": "11840",
                                    "diff_avg": "5472",
                                    "diff_py": "NULL",
                                    "order_year": "2013",
                                    "product_name": "Classic Vest- M",
                                    "py_change": "No Change",
                                    "py_sales": "NULL"
                                },
                                {
                                    "avg_change": "Below Avg",
                                    "avg_sales": "6368",
                                    "current_sales": "896",
                                    "diff_avg": "-5472",
                                    "diff_py": "-10944",
                                    "order_year": "2014",
                                    "product_name": "Classic Vest- M",
                                    "py_change": "Decrease",
                                    "py_sales": "11840"
                                },
                                {
                                    "avg_change": "Below Avg",
                                    "avg_sales": "3648",
                                    "current_sales": "64",
                                    "diff_avg": "-3584",
                                    "diff_py": "NULL",
                                    "order_year": "2012",
                                    "product_name": "Classic Vest- S",
                                    "py_change": "No Change",
                                    "py_sales": "NULL"
                                },
                                {
                                    "avg_change": "Above Avg",
                                    "avg_sales": "3648",
                                    "current_sales": "10368",
                                    "diff_avg": "6720",
                                    "diff_py": "10304",
                                    "order_year": "2013",
                                    "product_name": "Classic Vest- S",
                                    "py_change": "Increase",
                                    "py_sales": "64"
                                },
                                {
                                    "avg_change": "Below Avg",
                                    "avg_sales": "3648",
                                    "current_sales": "512",
                                    "diff_avg": "-3136",
                                    "diff_py": "-9856",
                                    "order_year": "2014",
                                    "product_name": "Classic Vest- S",
                                    "py_change": "Decrease",
                                    "py_sales": "10368"
                                }
                            ],
                            "schema": {
                                "fields": [
                                    {
                                        "name": "order_year"
                                    },
                                    {
                                        "name": "product_name"
                                    },
                                    {
                                        "name": "current_sales"
                                    },
                                    {
                                        "name": "avg_sales"
                                    },
                                    {
                                        "name": "diff_avg"
                                    },
                                    {
                                        "name": "avg_change"
                                    },
                                    {
                                        "name": "py_sales"
                                    },
                                    {
                                        "name": "diff_py"
                                    },
                                    {
                                        "name": "py_change"
                                    }
                                ]
                            }
                        },
                        "text/html": [
                            "<table>\n",
                            "<tr><th>order_year</th><th>product_name</th><th>current_sales</th><th>avg_sales</th><th>diff_avg</th><th>avg_change</th><th>py_sales</th><th>diff_py</th><th>py_change</th></tr>\n",
                            "<tr><td>2012</td><td>All-Purpose Bike Stand</td><td>159</td><td>13197</td><td>-13038</td><td>Below Avg</td><td>NULL</td><td>NULL</td><td>No Change</td></tr>\n",
                            "<tr><td>2013</td><td>All-Purpose Bike Stand</td><td>37683</td><td>13197</td><td>24486</td><td>Above Avg</td><td>159</td><td>37524</td><td>Increase</td></tr>\n",
                            "<tr><td>2014</td><td>All-Purpose Bike Stand</td><td>1749</td><td>13197</td><td>-11448</td><td>Below Avg</td><td>37683</td><td>-35934</td><td>Decrease</td></tr>\n",
                            "<tr><td>2012</td><td>AWC Logo Cap</td><td>72</td><td>6570</td><td>-6498</td><td>Below Avg</td><td>NULL</td><td>NULL</td><td>No Change</td></tr>\n",
                            "<tr><td>2013</td><td>AWC Logo Cap</td><td>18891</td><td>6570</td><td>12321</td><td>Above Avg</td><td>72</td><td>18819</td><td>Increase</td></tr>\n",
                            "<tr><td>2014</td><td>AWC Logo Cap</td><td>747</td><td>6570</td><td>-5823</td><td>Below Avg</td><td>18891</td><td>-18144</td><td>Decrease</td></tr>\n",
                            "<tr><td>2013</td><td>Bike Wash - Dissolver</td><td>6960</td><td>3636</td><td>3324</td><td>Above Avg</td><td>NULL</td><td>NULL</td><td>No Change</td></tr>\n",
                            "<tr><td>2014</td><td>Bike Wash - Dissolver</td><td>312</td><td>3636</td><td>-3324</td><td>Below Avg</td><td>6960</td><td>-6648</td><td>Decrease</td></tr>\n",
                            "<tr><td>2013</td><td>Classic Vest- L</td><td>11968</td><td>6240</td><td>5728</td><td>Above Avg</td><td>NULL</td><td>NULL</td><td>No Change</td></tr>\n",
                            "<tr><td>2014</td><td>Classic Vest- L</td><td>512</td><td>6240</td><td>-5728</td><td>Below Avg</td><td>11968</td><td>-11456</td><td>Decrease</td></tr>\n",
                            "<tr><td>2013</td><td>Classic Vest- M</td><td>11840</td><td>6368</td><td>5472</td><td>Above Avg</td><td>NULL</td><td>NULL</td><td>No Change</td></tr>\n",
                            "<tr><td>2014</td><td>Classic Vest- M</td><td>896</td><td>6368</td><td>-5472</td><td>Below Avg</td><td>11840</td><td>-10944</td><td>Decrease</td></tr>\n",
                            "<tr><td>2012</td><td>Classic Vest- S</td><td>64</td><td>3648</td><td>-3584</td><td>Below Avg</td><td>NULL</td><td>NULL</td><td>No Change</td></tr>\n",
                            "<tr><td>2013</td><td>Classic Vest- S</td><td>10368</td><td>3648</td><td>6720</td><td>Above Avg</td><td>64</td><td>10304</td><td>Increase</td></tr>\n",
                            "<tr><td>2014</td><td>Classic Vest- S</td><td>512</td><td>3648</td><td>-3136</td><td>Below Avg</td><td>10368</td><td>-9856</td><td>Decrease</td></tr>\n",
                            "</table>"
                        ]
                    },
                    "execution_count": 25,
                    "metadata": {},
                    "output_type": "execute_result"
                }
            ],
            "source": [
                "-- Analyze the yearly performance of products by comparing their sales to both the average sales performance and previous year\n",
                "WITH yearly_product_sales AS (\n",
                "    SELECT\n",
                "        YEAR(f.order_date) AS order_year,\n",
                "        p.product_name,\n",
                "        SUM(f.sales_amount) AS current_sales\n",
                "    FROM gold.fact_sales f\n",
                "    LEFT JOIN gold.dim_products p\n",
                "        ON f.product_key = p.product_key\n",
                "    WHERE f.order_date IS NOT NULL\n",
                "    GROUP BY \n",
                "        YEAR(f.order_date),\n",
                "        p.product_name\n",
                ")\n",
                "SELECT TOP 15\n",
                "    order_year,\n",
                "    product_name,\n",
                "    current_sales,\n",
                "    AVG(current_sales) OVER (PARTITION BY product_name) AS avg_sales,\n",
                "    current_sales - AVG(current_sales) OVER (PARTITION BY product_name) AS diff_avg,\n",
                "    CASE \n",
                "        WHEN current_sales - AVG(current_sales) OVER (PARTITION BY product_name) > 0 THEN 'Above Avg'\n",
                "        WHEN current_sales - AVG(current_sales) OVER (PARTITION BY product_name) < 0 THEN 'Below Avg'\n",
                "        ELSE 'Avg'\n",
                "    END AS avg_change,\n",
                "    -- Year-over-Year Analysis\n",
                "    LAG(current_sales) OVER (PARTITION BY product_name ORDER BY order_year) AS py_sales,\n",
                "    current_sales - LAG(current_sales) OVER (PARTITION BY product_name ORDER BY order_year) AS diff_py,\n",
                "    CASE \n",
                "        WHEN current_sales - LAG(current_sales) OVER (PARTITION BY product_name ORDER BY order_year) > 0 THEN 'Increase'\n",
                "        WHEN current_sales - LAG(current_sales) OVER (PARTITION BY product_name ORDER BY order_year) < 0 THEN 'Decrease'\n",
                "        ELSE 'No Change'\n",
                "    END AS py_change\n",
                "FROM yearly_product_sales\n",
                "ORDER BY product_name, order_year;"
            ]
        },
        {
            "attachments": {},
            "cell_type": "markdown",
            "metadata": {
                "azdata_cell_guid": "68d79c49-9269-4a58-831a-6eea547889ee"
            },
            "source": [
                "## Data Segmentation Analysis (Measure by Measure Bucket)\n",
                "\n",
                "### Customer and Product Segmentation\n",
                "\n",
                "Purpose:\n",
                "\n",
                "- To group data into meaningful categories for targeted insights. (Scatter Plot)\n",
                "- For customer segmentation, product categorization, or regional analysis.\n",
                "\n",
                "SQL Functions Used:\n",
                "\n",
                "- CASE: Defines custom segmentation logic.\n",
                "- GROUP BY: Groups data into segments."
            ]
        },
        {
            "cell_type": "code",
            "execution_count": 2,
            "metadata": {
                "azdata_cell_guid": "fec983b4-66bb-4f6e-a835-af728ab54617",
                "language": "sql"
            },
            "outputs": [
                {
                    "data": {
                        "text/html": [
                            "(4 rows affected)"
                        ]
                    },
                    "metadata": {},
                    "output_type": "display_data"
                },
                {
                    "data": {
                        "text/html": [
                            "Total execution time: 00:00:00.176"
                        ]
                    },
                    "metadata": {},
                    "output_type": "display_data"
                },
                {
                    "data": {
                        "application/vnd.dataresource+json": {
                            "data": [
                                {
                                    "cost_range": "Below 100",
                                    "total_products": "110"
                                },
                                {
                                    "cost_range": "100-500",
                                    "total_products": "101"
                                },
                                {
                                    "cost_range": "500-1000",
                                    "total_products": "45"
                                },
                                {
                                    "cost_range": "Above 1000",
                                    "total_products": "39"
                                }
                            ],
                            "schema": {
                                "fields": [
                                    {
                                        "name": "cost_range"
                                    },
                                    {
                                        "name": "total_products"
                                    }
                                ]
                            }
                        },
                        "text/html": [
                            "<table>\n",
                            "<tr><th>cost_range</th><th>total_products</th></tr>\n",
                            "<tr><td>Below 100</td><td>110</td></tr>\n",
                            "<tr><td>100-500</td><td>101</td></tr>\n",
                            "<tr><td>500-1000</td><td>45</td></tr>\n",
                            "<tr><td>Above 1000</td><td>39</td></tr>\n",
                            "</table>"
                        ]
                    },
                    "execution_count": 2,
                    "metadata": {},
                    "output_type": "execute_result"
                }
            ],
            "source": [
                "-- Segment products into cost ranges and count how many products fall into each segment\n",
                "WITH product_segments AS (\n",
                "    SELECT\n",
                "        product_key,\n",
                "        product_name,\n",
                "        cost,\n",
                "        CASE \n",
                "            WHEN cost < 100 THEN 'Below 100'\n",
                "            WHEN cost BETWEEN 100 AND 500 THEN '100-500'\n",
                "            WHEN cost BETWEEN 500 AND 1000 THEN '500-1000'\n",
                "            ELSE 'Above 1000'\n",
                "        END AS cost_range\n",
                "    FROM gold.dim_products\n",
                ")\n",
                "SELECT \n",
                "    cost_range,\n",
                "    COUNT(product_key) AS total_products\n",
                "FROM product_segments\n",
                "GROUP BY cost_range\n",
                "ORDER BY total_products DESC;\n",
                "\n",
                "-- We have lots of cheap products, mostly accessories, and as we know they are not generating a good revenue."
            ]
        },
        {
            "cell_type": "code",
            "execution_count": 3,
            "metadata": {
                "azdata_cell_guid": "e7d030f5-3f92-4f15-a2ba-0162b19eacf3",
                "language": "sql"
            },
            "outputs": [
                {
                    "data": {
                        "text/html": [
                            "Warning: Null value is eliminated by an aggregate or other SET operation."
                        ]
                    },
                    "metadata": {},
                    "output_type": "display_data"
                },
                {
                    "data": {
                        "text/html": [
                            "(3 rows affected)"
                        ]
                    },
                    "metadata": {},
                    "output_type": "display_data"
                },
                {
                    "data": {
                        "text/html": [
                            "Total execution time: 00:00:00.450"
                        ]
                    },
                    "metadata": {},
                    "output_type": "display_data"
                },
                {
                    "data": {
                        "application/vnd.dataresource+json": {
                            "data": [
                                {
                                    "customer_segment": "New",
                                    "total_customers": "14631"
                                },
                                {
                                    "customer_segment": "Regular",
                                    "total_customers": "2198"
                                },
                                {
                                    "customer_segment": "VIP",
                                    "total_customers": "1655"
                                }
                            ],
                            "schema": {
                                "fields": [
                                    {
                                        "name": "customer_segment"
                                    },
                                    {
                                        "name": "total_customers"
                                    }
                                ]
                            }
                        },
                        "text/html": [
                            "<table>\n",
                            "<tr><th>customer_segment</th><th>total_customers</th></tr>\n",
                            "<tr><td>New</td><td>14631</td></tr>\n",
                            "<tr><td>Regular</td><td>2198</td></tr>\n",
                            "<tr><td>VIP</td><td>1655</td></tr>\n",
                            "</table>"
                        ]
                    },
                    "execution_count": 3,
                    "metadata": {},
                    "output_type": "execute_result"
                }
            ],
            "source": [
                "-- Group customers into segments based on spending behavior and history\n",
                "/*\n",
                "VIP: Customers with at least 12 months of history and spending more than 5,000.\n",
                "Regular: Customers with at least 12 months of history but spending 5,000 or less.\n",
                "New: Customers with a lifespan less than 12 months.\n",
                "*/\n",
                "WITH customer_spending AS (\n",
                "    SELECT\n",
                "        c.customer_key,\n",
                "        SUM(f.sales_amount) AS total_spending,\n",
                "        MIN(order_date) AS first_order,\n",
                "        MAX(order_date) AS last_order,\n",
                "        DATEDIFF(month, MIN(order_date), MAX(order_date)) AS lifespan\n",
                "    FROM gold.fact_sales f\n",
                "    LEFT JOIN gold.dim_customers c\n",
                "        ON f.customer_key = c.customer_key\n",
                "    GROUP BY c.customer_key\n",
                ")\n",
                "SELECT \n",
                "    customer_segment,\n",
                "    COUNT(customer_key) AS total_customers\n",
                "FROM (\n",
                "    SELECT \n",
                "        customer_key,\n",
                "        CASE \n",
                "            WHEN lifespan >= 12 AND total_spending > 5000 THEN 'VIP'\n",
                "            WHEN lifespan >= 12 AND total_spending <= 5000 THEN 'Regular'\n",
                "            ELSE 'New'\n",
                "        END AS customer_segment\n",
                "    FROM customer_spending\n",
                ") AS segmented_customers\n",
                "GROUP BY customer_segment\n",
                "ORDER BY total_customers DESC;\n",
                "\n",
                "-- The business is doing great at acuiring customers and retaining them."
            ]
        },
        {
            "attachments": {},
            "cell_type": "markdown",
            "metadata": {
                "azdata_cell_guid": "bd74a3ec-fb0a-4f7b-a701-27aee96d3fa6"
            },
            "source": [
                "## Part-to-Whole Analysis (Proportional Analysis)\n",
                "\n",
                "Purpose:\n",
                "\n",
                "- To compare performance or metrics across dimensions or time periods.\n",
                "- To evaluate differences between categories.\n",
                "- Useful for A/B testing or regional comparisons.\n",
                "\n",
                "SQL Functions Used:\n",
                "\n",
                "- SUM(), AVG(): Aggregates values for comparison.\n",
                "- Window Functions: SUM() OVER() for total calculations."
            ]
        },
        {
            "cell_type": "code",
            "execution_count": 26,
            "metadata": {
                "azdata_cell_guid": "dc7dd7d8-9d19-4200-b076-3092720ebf97",
                "language": "sql",
                "tags": []
            },
            "outputs": [
                {
                    "data": {
                        "text/html": [
                            "(3 rows affected)"
                        ]
                    },
                    "metadata": {},
                    "output_type": "display_data"
                },
                {
                    "data": {
                        "text/html": [
                            "Total execution time: 00:00:00.151"
                        ]
                    },
                    "metadata": {},
                    "output_type": "display_data"
                },
                {
                    "data": {
                        "application/vnd.dataresource+json": {
                            "data": [
                                {
                                    "category": "Bikes",
                                    "overall_sales": "29356250",
                                    "percentage_of_total": "96.46%",
                                    "total_sales": "28316272"
                                },
                                {
                                    "category": "Accessories",
                                    "overall_sales": "29356250",
                                    "percentage_of_total": "2.39%",
                                    "total_sales": "700262"
                                },
                                {
                                    "category": "Clothing",
                                    "overall_sales": "29356250",
                                    "percentage_of_total": "1.16%",
                                    "total_sales": "339716"
                                }
                            ],
                            "schema": {
                                "fields": [
                                    {
                                        "name": "category"
                                    },
                                    {
                                        "name": "total_sales"
                                    },
                                    {
                                        "name": "overall_sales"
                                    },
                                    {
                                        "name": "percentage_of_total"
                                    }
                                ]
                            }
                        },
                        "text/html": [
                            "<table>\n",
                            "<tr><th>category</th><th>total_sales</th><th>overall_sales</th><th>percentage_of_total</th></tr>\n",
                            "<tr><td>Bikes</td><td>28316272</td><td>29356250</td><td>96.46%</td></tr>\n",
                            "<tr><td>Accessories</td><td>700262</td><td>29356250</td><td>2.39%</td></tr>\n",
                            "<tr><td>Clothing</td><td>339716</td><td>29356250</td><td>1.16%</td></tr>\n",
                            "</table>"
                        ]
                    },
                    "execution_count": 26,
                    "metadata": {},
                    "output_type": "execute_result"
                }
            ],
            "source": [
                "-- Which categories contribute the most to overall sales?\n",
                "WITH category_sales AS (\n",
                "    SELECT\n",
                "        p.category,\n",
                "        SUM(f.sales_amount) AS total_sales\n",
                "    FROM gold.fact_sales f\n",
                "    LEFT JOIN gold.dim_products p\n",
                "        ON p.product_key = f.product_key\n",
                "    GROUP BY p.category\n",
                ")\n",
                "SELECT\n",
                "    category,\n",
                "    total_sales,\n",
                "    SUM(total_sales) OVER () AS overall_sales,\n",
                "    CONCAT(ROUND((CAST(total_sales AS FLOAT) / SUM(total_sales) OVER ()) * 100, 2), '%') AS percentage_of_total\n",
                "FROM category_sales\n",
                "ORDER BY total_sales DESC;\n",
                "\n",
                "-- As we said, the business is totally running around bikes\n",
                "-- However, it can be very dangerous as the bussiness is too relient in one category of products\n"
            ]
        },
        {
            "cell_type": "markdown",
            "metadata": {
                "azdata_cell_guid": "f8825e7c-5f4e-480c-8dd8-c59b5b1253fd"
            },
            "source": [
                "## Analytical Views\n",
                "\n",
                "### Customer Report View\n",
                "\n",
                "Purpose:\n",
                "- To consolidate key customer metrics and behaviors into a single view\n",
                "- To facilitate easier analysis and visualization for the BI team\n",
                "\n",
                "Highlights:\n",
                "1. Gathers essential fields such as names, ages, and transaction details.\n",
                "2. Segments customers into categories (VIP, Regular, New) and age groups.\n",
                "3. Aggregates customer-level metrics:\n",
                "   - total orders\n",
                "   - total sales\n",
                "   - total quantity purchased\n",
                "   - total products\n",
                "   - lifespan (in months)\n",
                "4. Calculates valuable KPIs:\n",
                "   - recency (months since last order)\n",
                "   - average order value\n",
                "   - average monthly spend\n",
                "\n",
                "Note: This view consolidates data for easier analysis and BI team visualization"
            ]
        },
        {
            "cell_type": "code",
            "execution_count": 5,
            "metadata": {
                "azdata_cell_guid": "c2ff91b7-e880-49a9-b556-42a6425c1851",
                "language": "sql"
            },
            "outputs": [
                {
                    "data": {
                        "text/html": [
                            "Commands completed successfully."
                        ]
                    },
                    "metadata": {},
                    "output_type": "display_data"
                },
                {
                    "data": {
                        "text/html": [
                            "Commands completed successfully."
                        ]
                    },
                    "metadata": {},
                    "output_type": "display_data"
                },
                {
                    "data": {
                        "text/html": [
                            "Total execution time: 00:00:00.020"
                        ]
                    },
                    "metadata": {},
                    "output_type": "display_data"
                }
            ],
            "source": [
                "-- Create the Customer Report View\n",
                "-- So it would be easier for analysis and BI team to visualaize this integrated view\n",
                "IF OBJECT_ID('gold.report_customers', 'V') IS NOT NULL\n",
                "    DROP VIEW gold.report_customers;\n",
                "GO\n",
                "\n",
                "CREATE VIEW gold.report_customers AS\n",
                "WITH base_query AS(\n",
                "    SELECT\n",
                "        f.order_number,\n",
                "        f.product_key,\n",
                "        f.order_date,\n",
                "        f.sales_amount,\n",
                "        f.quantity,\n",
                "        c.customer_key,\n",
                "        c.customer_number,\n",
                "        CONCAT(c.first_name, ' ', c.last_name) AS customer_name,\n",
                "        DATEDIFF(year, c.birthdate, GETDATE()) age\n",
                "    FROM gold.fact_sales f\n",
                "    LEFT JOIN gold.dim_customers c\n",
                "        ON c.customer_key = f.customer_key\n",
                "    WHERE order_date IS NOT NULL\n",
                ")\n",
                ", customer_aggregation AS (\n",
                "    SELECT \n",
                "        customer_key,\n",
                "        customer_number,\n",
                "        customer_name,\n",
                "        age,\n",
                "        COUNT(DISTINCT order_number) AS total_orders,\n",
                "        SUM(sales_amount) AS total_sales,\n",
                "        SUM(quantity) AS total_quantity,\n",
                "        COUNT(DISTINCT product_key) AS total_products,\n",
                "        MAX(order_date) AS last_order_date,\n",
                "        DATEDIFF(month, MIN(order_date), MAX(order_date)) AS lifespan\n",
                "    FROM base_query\n",
                "    GROUP BY \n",
                "        customer_key,\n",
                "        customer_number,\n",
                "        customer_name,\n",
                "        age\n",
                ")\n",
                "SELECT\n",
                "    customer_key,\n",
                "    customer_number,\n",
                "    customer_name,\n",
                "    age,\n",
                "    CASE \n",
                "        WHEN age < 20 THEN 'Under 20'\n",
                "        WHEN age between 20 and 29 THEN '20-29'\n",
                "        WHEN age between 30 and 39 THEN '30-39'\n",
                "        WHEN age between 40 and 49 THEN '40-49'\n",
                "        ELSE '50 and above'\n",
                "    END AS age_group,\n",
                "    CASE \n",
                "        WHEN lifespan >= 12 AND total_sales > 5000 THEN 'VIP'\n",
                "        WHEN lifespan >= 12 AND total_sales <= 5000 THEN 'Regular'\n",
                "        ELSE 'New'\n",
                "    END AS customer_segment,\n",
                "    last_order_date,\n",
                "    DATEDIFF(month, last_order_date, GETDATE()) AS recency,\n",
                "    total_orders,\n",
                "    total_sales,\n",
                "    total_quantity,\n",
                "    total_products,\n",
                "    lifespan,\n",
                "    CASE WHEN total_sales = 0 THEN 0 -- to make sure not deviding by zero (we could use NULLIF)\n",
                "         ELSE total_sales / total_orders\n",
                "    END AS avg_order_value,\n",
                "    CASE WHEN lifespan = 0 THEN total_sales -- means less than 1 month\n",
                "         ELSE total_sales / lifespan\n",
                "    END AS avg_monthly_spend\n",
                "FROM customer_aggregation;"
            ]
        },
        {
            "cell_type": "code",
            "execution_count": 6,
            "metadata": {
                "azdata_cell_guid": "cf58f30f-9995-4206-8f6e-939db5d9df79",
                "language": "sql"
            },
            "outputs": [
                {
                    "data": {
                        "text/html": [
                            "(10 rows affected)"
                        ]
                    },
                    "metadata": {},
                    "output_type": "display_data"
                },
                {
                    "data": {
                        "text/html": [
                            "Total execution time: 00:00:00.713"
                        ]
                    },
                    "metadata": {},
                    "output_type": "display_data"
                },
                {
                    "data": {
                        "application/vnd.dataresource+json": {
                            "data": [
                                {
                                    "age": "64",
                                    "age_group": "50 and above",
                                    "avg_monthly_spend": "402",
                                    "avg_order_value": "2658",
                                    "customer_key": "1133",
                                    "customer_name": "Kaitlyn Henderson",
                                    "customer_number": "AW00012132",
                                    "customer_segment": "VIP",
                                    "last_order_date": "2013-10-17",
                                    "lifespan": "33",
                                    "recency": "137",
                                    "total_orders": "5",
                                    "total_products": "13",
                                    "total_quantity": "14",
                                    "total_sales": "13294"
                                },
                                {
                                    "age": "73",
                                    "age_group": "50 and above",
                                    "avg_monthly_spend": "443",
                                    "avg_order_value": "2658",
                                    "customer_key": "1302",
                                    "customer_name": "Nichole Nara",
                                    "customer_number": "AW00012301",
                                    "customer_segment": "VIP",
                                    "last_order_date": "2013-11-20",
                                    "lifespan": "30",
                                    "recency": "136",
                                    "total_orders": "5",
                                    "total_products": "11",
                                    "total_quantity": "13",
                                    "total_sales": "13294"
                                },
                                {
                                    "age": "55",
                                    "age_group": "50 and above",
                                    "avg_monthly_spend": "457",
                                    "avg_order_value": "2653",
                                    "customer_key": "1309",
                                    "customer_name": "Margaret He",
                                    "customer_number": "AW00012308",
                                    "customer_segment": "VIP",
                                    "last_order_date": "2013-11-19",
                                    "lifespan": "29",
                                    "recency": "136",
                                    "total_orders": "5",
                                    "total_products": "14",
                                    "total_quantity": "14",
                                    "total_sales": "13268"
                                },
                                {
                                    "age": "64",
                                    "age_group": "50 and above",
                                    "avg_monthly_spend": "414",
                                    "avg_order_value": "2653",
                                    "customer_key": "1132",
                                    "customer_name": "Randall Dominguez",
                                    "customer_number": "AW00012131",
                                    "customer_segment": "VIP",
                                    "last_order_date": "2013-10-10",
                                    "lifespan": "32",
                                    "recency": "137",
                                    "total_orders": "5",
                                    "total_products": "11",
                                    "total_quantity": "11",
                                    "total_sales": "13265"
                                },
                                {
                                    "age": "73",
                                    "age_group": "50 and above",
                                    "avg_monthly_spend": "456",
                                    "avg_order_value": "2648",
                                    "customer_key": "1301",
                                    "customer_name": "Adriana Gonzalez",
                                    "customer_number": "AW00012300",
                                    "customer_segment": "VIP",
                                    "last_order_date": "2013-10-17",
                                    "lifespan": "29",
                                    "recency": "137",
                                    "total_orders": "5",
                                    "total_products": "10",
                                    "total_quantity": "10",
                                    "total_sales": "13242"
                                },
                                {
                                    "age": "69",
                                    "age_group": "50 and above",
                                    "avg_monthly_spend": "455",
                                    "avg_order_value": "2643",
                                    "customer_key": "1322",
                                    "customer_name": "Rosa Hu",
                                    "customer_number": "AW00012321",
                                    "customer_segment": "VIP",
                                    "last_order_date": "2013-11-21",
                                    "lifespan": "29",
                                    "recency": "136",
                                    "total_orders": "5",
                                    "total_products": "12",
                                    "total_quantity": "15",
                                    "total_sales": "13215"
                                },
                                {
                                    "age": "63",
                                    "age_group": "50 and above",
                                    "avg_monthly_spend": "399",
                                    "avg_order_value": "2639",
                                    "customer_key": "1125",
                                    "customer_name": "Brandi Gill",
                                    "customer_number": "AW00012124",
                                    "customer_segment": "VIP",
                                    "last_order_date": "2013-10-07",
                                    "lifespan": "33",
                                    "recency": "137",
                                    "total_orders": "5",
                                    "total_products": "11",
                                    "total_quantity": "12",
                                    "total_sales": "13195"
                                },
                                {
                                    "age": "65",
                                    "age_group": "50 and above",
                                    "avg_monthly_spend": "439",
                                    "avg_order_value": "2634",
                                    "customer_key": "1308",
                                    "customer_name": "Brad She",
                                    "customer_number": "AW00012307",
                                    "customer_segment": "VIP",
                                    "last_order_date": "2013-11-17",
                                    "lifespan": "30",
                                    "recency": "136",
                                    "total_orders": "5",
                                    "total_products": "10",
                                    "total_quantity": "11",
                                    "total_sales": "13172"
                                },
                                {
                                    "age": "64",
                                    "age_group": "50 and above",
                                    "avg_monthly_spend": "453",
                                    "avg_order_value": "2632",
                                    "customer_key": "1297",
                                    "customer_name": "Francisco Sara",
                                    "customer_number": "AW00012296",
                                    "customer_segment": "VIP",
                                    "last_order_date": "2013-10-25",
                                    "lifespan": "29",
                                    "recency": "137",
                                    "total_orders": "5",
                                    "total_products": "9",
                                    "total_quantity": "12",
                                    "total_sales": "13164"
                                },
                                {
                                    "age": "68",
                                    "age_group": "50 and above",
                                    "avg_monthly_spend": "1434",
                                    "avg_order_value": "2152",
                                    "customer_key": "434",
                                    "customer_name": "Maurice Shan",
                                    "customer_number": "AW00011433",
                                    "customer_segment": "New",
                                    "last_order_date": "2013-09-14",
                                    "lifespan": "9",
                                    "recency": "138",
                                    "total_orders": "6",
                                    "total_products": "12",
                                    "total_quantity": "13",
                                    "total_sales": "12914"
                                }
                            ],
                            "schema": {
                                "fields": [
                                    {
                                        "name": "customer_key"
                                    },
                                    {
                                        "name": "customer_number"
                                    },
                                    {
                                        "name": "customer_name"
                                    },
                                    {
                                        "name": "age"
                                    },
                                    {
                                        "name": "age_group"
                                    },
                                    {
                                        "name": "customer_segment"
                                    },
                                    {
                                        "name": "last_order_date"
                                    },
                                    {
                                        "name": "recency"
                                    },
                                    {
                                        "name": "total_orders"
                                    },
                                    {
                                        "name": "total_sales"
                                    },
                                    {
                                        "name": "total_quantity"
                                    },
                                    {
                                        "name": "total_products"
                                    },
                                    {
                                        "name": "lifespan"
                                    },
                                    {
                                        "name": "avg_order_value"
                                    },
                                    {
                                        "name": "avg_monthly_spend"
                                    }
                                ]
                            }
                        },
                        "text/html": [
                            "<table>\n",
                            "<tr><th>customer_key</th><th>customer_number</th><th>customer_name</th><th>age</th><th>age_group</th><th>customer_segment</th><th>last_order_date</th><th>recency</th><th>total_orders</th><th>total_sales</th><th>total_quantity</th><th>total_products</th><th>lifespan</th><th>avg_order_value</th><th>avg_monthly_spend</th></tr>\n",
                            "<tr><td>1133</td><td>AW00012132</td><td>Kaitlyn Henderson</td><td>64</td><td>50 and above</td><td>VIP</td><td>2013-10-17</td><td>137</td><td>5</td><td>13294</td><td>14</td><td>13</td><td>33</td><td>2658</td><td>402</td></tr>\n",
                            "<tr><td>1302</td><td>AW00012301</td><td>Nichole Nara</td><td>73</td><td>50 and above</td><td>VIP</td><td>2013-11-20</td><td>136</td><td>5</td><td>13294</td><td>13</td><td>11</td><td>30</td><td>2658</td><td>443</td></tr>\n",
                            "<tr><td>1309</td><td>AW00012308</td><td>Margaret He</td><td>55</td><td>50 and above</td><td>VIP</td><td>2013-11-19</td><td>136</td><td>5</td><td>13268</td><td>14</td><td>14</td><td>29</td><td>2653</td><td>457</td></tr>\n",
                            "<tr><td>1132</td><td>AW00012131</td><td>Randall Dominguez</td><td>64</td><td>50 and above</td><td>VIP</td><td>2013-10-10</td><td>137</td><td>5</td><td>13265</td><td>11</td><td>11</td><td>32</td><td>2653</td><td>414</td></tr>\n",
                            "<tr><td>1301</td><td>AW00012300</td><td>Adriana Gonzalez</td><td>73</td><td>50 and above</td><td>VIP</td><td>2013-10-17</td><td>137</td><td>5</td><td>13242</td><td>10</td><td>10</td><td>29</td><td>2648</td><td>456</td></tr>\n",
                            "<tr><td>1322</td><td>AW00012321</td><td>Rosa Hu</td><td>69</td><td>50 and above</td><td>VIP</td><td>2013-11-21</td><td>136</td><td>5</td><td>13215</td><td>15</td><td>12</td><td>29</td><td>2643</td><td>455</td></tr>\n",
                            "<tr><td>1125</td><td>AW00012124</td><td>Brandi Gill</td><td>63</td><td>50 and above</td><td>VIP</td><td>2013-10-07</td><td>137</td><td>5</td><td>13195</td><td>12</td><td>11</td><td>33</td><td>2639</td><td>399</td></tr>\n",
                            "<tr><td>1308</td><td>AW00012307</td><td>Brad She</td><td>65</td><td>50 and above</td><td>VIP</td><td>2013-11-17</td><td>136</td><td>5</td><td>13172</td><td>11</td><td>10</td><td>30</td><td>2634</td><td>439</td></tr>\n",
                            "<tr><td>1297</td><td>AW00012296</td><td>Francisco Sara</td><td>64</td><td>50 and above</td><td>VIP</td><td>2013-10-25</td><td>137</td><td>5</td><td>13164</td><td>12</td><td>9</td><td>29</td><td>2632</td><td>453</td></tr>\n",
                            "<tr><td>434</td><td>AW00011433</td><td>Maurice Shan</td><td>68</td><td>50 and above</td><td>New</td><td>2013-09-14</td><td>138</td><td>6</td><td>12914</td><td>13</td><td>12</td><td>9</td><td>2152</td><td>1434</td></tr>\n",
                            "</table>"
                        ]
                    },
                    "execution_count": 6,
                    "metadata": {},
                    "output_type": "execute_result"
                }
            ],
            "source": [
                "-- Query the Customer Report to see results\n",
                "SELECT TOP 10 *\n",
                "FROM gold.report_customers\n",
                "ORDER BY total_sales DESC;"
            ]
        },
        {
            "cell_type": "markdown",
            "metadata": {
                "azdata_cell_guid": "24ad6e7c-6161-46ab-8f6b-a1bb014a8af5"
            },
            "source": [
                "### Product Report View\n",
                "\n",
                "Purpose:\n",
                "- To consolidate key product metrics and behaviors into a single view\n",
                "- To facilitate easier analysis and visualization for the BI team\n",
                "\n",
                "Highlights:\n",
                "1. Gathers essential fields such as product name, category, subcategory, and cost.\n",
                "2. Segments products by revenue to identify High-Performers, Mid-Range, or Low-Performers.\n",
                "3. Aggregates product-level metrics:\n",
                "   - total orders\n",
                "   - total sales\n",
                "   - total quantity sold\n",
                "   - total customers (unique)\n",
                "   - lifespan (in months)\n",
                "4. Calculates valuable KPIs:\n",
                "   - recency (months since last sale)\n",
                "   - average order revenue (AOR)\n",
                "   - average monthly revenue\n",
                "\n",
                "Note: This view consolidates data for easier analysis and BI team visualization. Products with no sales (e.g., Components category) are excluded from the view."
            ]
        },
        {
            "cell_type": "code",
            "execution_count": 29,
            "metadata": {
                "azdata_cell_guid": "a63e6114-636a-4e94-83c6-e025d3e50932",
                "language": "sql"
            },
            "outputs": [
                {
                    "data": {
                        "text/html": [
                            "Commands completed successfully."
                        ]
                    },
                    "metadata": {},
                    "output_type": "display_data"
                },
                {
                    "data": {
                        "text/html": [
                            "Commands completed successfully."
                        ]
                    },
                    "metadata": {},
                    "output_type": "display_data"
                },
                {
                    "data": {
                        "text/html": [
                            "Total execution time: 00:00:00.045"
                        ]
                    },
                    "metadata": {},
                    "output_type": "display_data"
                }
            ],
            "source": [
                "-- Create the Product Report View\n",
                "-- So it would be easier for analysis and BI team to visualaize this integrated view\n",
                "-- Remember: the products are not sold yet are excluded\n",
                "IF OBJECT_ID('gold.report_products', 'V') IS NOT NULL\n",
                "    DROP VIEW gold.report_products;\n",
                "GO\n",
                "\n",
                "CREATE VIEW gold.report_products AS\n",
                "WITH base_query AS (\n",
                "    SELECT\n",
                "        f.order_number,\n",
                "        f.order_date,\n",
                "        f.customer_key,\n",
                "        f.sales_amount,\n",
                "        f.quantity,\n",
                "        p.product_key,\n",
                "        p.product_name,\n",
                "        p.category,\n",
                "        p.subcategory,\n",
                "        p.cost\n",
                "    FROM gold.fact_sales f\n",
                "    LEFT JOIN gold.dim_products p\n",
                "        ON f.product_key = p.product_key\n",
                "    WHERE order_date IS NOT NULL\n",
                "),\n",
                "product_aggregations AS (\n",
                "    SELECT\n",
                "        product_key,\n",
                "        product_name,\n",
                "        category,\n",
                "        subcategory,\n",
                "        cost,\n",
                "        DATEDIFF(MONTH, MIN(order_date), MAX(order_date)) AS lifespan,\n",
                "        MAX(order_date) AS last_sale_date,\n",
                "        COUNT(DISTINCT order_number) AS total_orders,\n",
                "        COUNT(DISTINCT customer_key) AS total_customers,\n",
                "        SUM(sales_amount) AS total_sales,\n",
                "        SUM(quantity) AS total_quantity,\n",
                "        ROUND(AVG(CAST(sales_amount AS FLOAT) / NULLIF(quantity, 0)), 1) AS avg_selling_price\n",
                "    FROM base_query\n",
                "    GROUP BY\n",
                "        product_key,\n",
                "        product_name,\n",
                "        category,\n",
                "        subcategory,\n",
                "        cost\n",
                ")\n",
                "SELECT \n",
                "    product_key,\n",
                "    product_name,\n",
                "    category,\n",
                "    subcategory,\n",
                "    cost,\n",
                "    last_sale_date,\n",
                "    DATEDIFF(MONTH, last_sale_date, GETDATE()) AS recency_in_months,\n",
                "    CASE\n",
                "        WHEN total_sales > 50000 THEN 'High-Performer'\n",
                "        WHEN total_sales >= 10000 THEN 'Mid-Range'\n",
                "        ELSE 'Low-Performer'\n",
                "    END AS product_segment,\n",
                "    lifespan,\n",
                "    total_orders,\n",
                "    total_sales,\n",
                "    total_quantity,\n",
                "    total_customers,\n",
                "    avg_selling_price,\n",
                "    CASE \n",
                "        WHEN total_orders = 0 THEN 0\n",
                "        ELSE total_sales / total_orders\n",
                "    END AS avg_order_revenue,\n",
                "    CASE\n",
                "        WHEN lifespan = 0 THEN total_sales\n",
                "        ELSE total_sales / lifespan\n",
                "    END AS avg_monthly_revenue\n",
                "FROM product_aggregations;"
            ]
        },
        {
            "cell_type": "code",
            "execution_count": 30,
            "metadata": {
                "azdata_cell_guid": "b0bda6cb-431b-4101-a031-5e423c7fe137",
                "language": "sql"
            },
            "outputs": [
                {
                    "data": {
                        "text/html": [
                            "(10 rows affected)"
                        ]
                    },
                    "metadata": {},
                    "output_type": "display_data"
                },
                {
                    "data": {
                        "text/html": [
                            "Total execution time: 00:00:00.956"
                        ]
                    },
                    "metadata": {},
                    "output_type": "display_data"
                },
                {
                    "data": {
                        "application/vnd.dataresource+json": {
                            "data": [
                                {
                                    "avg_monthly_revenue": "57227",
                                    "avg_order_revenue": "2215",
                                    "avg_selling_price": "2215.2",
                                    "category": "Bikes",
                                    "cost": "1252",
                                    "last_sale_date": "2013-12-27",
                                    "lifespan": "24",
                                    "product_key": "122",
                                    "product_name": "Mountain-200 Black- 46",
                                    "product_segment": "High-Performer",
                                    "recency_in_months": "135",
                                    "subcategory": "Mountain Bikes",
                                    "total_customers": "600",
                                    "total_orders": "620",
                                    "total_quantity": "620",
                                    "total_sales": "1373454"
                                },
                                {
                                    "avg_monthly_revenue": "59266",
                                    "avg_order_revenue": "2220",
                                    "avg_selling_price": "2220.1",
                                    "category": "Bikes",
                                    "cost": "1252",
                                    "last_sale_date": "2013-12-28",
                                    "lifespan": "23",
                                    "product_key": "121",
                                    "product_name": "Mountain-200 Black- 42",
                                    "product_segment": "High-Performer",
                                    "recency_in_months": "135",
                                    "subcategory": "Mountain Bikes",
                                    "total_customers": "604",
                                    "total_orders": "614",
                                    "total_quantity": "614",
                                    "total_sales": "1363128"
                                },
                                {
                                    "avg_monthly_revenue": "58234",
                                    "avg_order_revenue": "2247",
                                    "avg_selling_price": "2247.3",
                                    "category": "Bikes",
                                    "cost": "1266",
                                    "last_sale_date": "2013-12-28",
                                    "lifespan": "23",
                                    "product_key": "123",
                                    "product_name": "Mountain-200 Silver- 38",
                                    "product_segment": "High-Performer",
                                    "recency_in_months": "135",
                                    "subcategory": "Mountain Bikes",
                                    "total_customers": "583",
                                    "total_orders": "596",
                                    "total_quantity": "596",
                                    "total_sales": "1339394"
                                },
                                {
                                    "avg_monthly_revenue": "56465",
                                    "avg_order_revenue": "2243",
                                    "avg_selling_price": "2243",
                                    "category": "Bikes",
                                    "cost": "1266",
                                    "last_sale_date": "2013-12-28",
                                    "lifespan": "23",
                                    "product_key": "125",
                                    "product_name": "Mountain-200 Silver- 46",
                                    "product_segment": "High-Performer",
                                    "recency_in_months": "135",
                                    "subcategory": "Mountain Bikes",
                                    "total_customers": "566",
                                    "total_orders": "579",
                                    "total_quantity": "579",
                                    "total_sales": "1298709"
                                },
                                {
                                    "avg_monthly_revenue": "53856",
                                    "avg_order_revenue": "2224",
                                    "avg_selling_price": "2224.7",
                                    "category": "Bikes",
                                    "cost": "1252",
                                    "last_sale_date": "2013-12-28",
                                    "lifespan": "24",
                                    "product_key": "120",
                                    "product_name": "Mountain-200 Black- 38",
                                    "product_segment": "High-Performer",
                                    "recency_in_months": "135",
                                    "subcategory": "Mountain Bikes",
                                    "total_customers": "564",
                                    "total_orders": "581",
                                    "total_quantity": "581",
                                    "total_sales": "1292559"
                                },
                                {
                                    "avg_monthly_revenue": "52390",
                                    "avg_order_revenue": "2245",
                                    "avg_selling_price": "2245.3",
                                    "category": "Bikes",
                                    "cost": "1266",
                                    "last_sale_date": "2013-12-28",
                                    "lifespan": "24",
                                    "product_key": "124",
                                    "product_name": "Mountain-200 Silver- 42",
                                    "product_segment": "High-Performer",
                                    "recency_in_months": "135",
                                    "subcategory": "Mountain Bikes",
                                    "total_customers": "547",
                                    "total_orders": "560",
                                    "total_quantity": "560",
                                    "total_sales": "1257368"
                                },
                                {
                                    "avg_monthly_revenue": "100482",
                                    "avg_order_revenue": "3578",
                                    "avg_selling_price": "3578",
                                    "category": "Bikes",
                                    "cost": "2171",
                                    "last_sale_date": "2011-12-28",
                                    "lifespan": "12",
                                    "product_key": "17",
                                    "product_name": "Road-150 Red- 48",
                                    "product_segment": "High-Performer",
                                    "recency_in_months": "159",
                                    "subcategory": "Road Bikes",
                                    "total_customers": "337",
                                    "total_orders": "337",
                                    "total_quantity": "337",
                                    "total_sales": "1205786"
                                },
                                {
                                    "avg_monthly_revenue": "100184",
                                    "avg_order_revenue": "3578",
                                    "avg_selling_price": "3578",
                                    "category": "Bikes",
                                    "cost": "2171",
                                    "last_sale_date": "2011-12-28",
                                    "lifespan": "12",
                                    "product_key": "20",
                                    "product_name": "Road-150 Red- 62",
                                    "product_segment": "High-Performer",
                                    "recency_in_months": "159",
                                    "subcategory": "Road Bikes",
                                    "total_customers": "336",
                                    "total_orders": "336",
                                    "total_quantity": "336",
                                    "total_sales": "1202208"
                                },
                                {
                                    "avg_monthly_revenue": "90046",
                                    "avg_order_revenue": "3578",
                                    "avg_selling_price": "3578",
                                    "category": "Bikes",
                                    "cost": "2171",
                                    "last_sale_date": "2011-12-27",
                                    "lifespan": "12",
                                    "product_key": "18",
                                    "product_name": "Road-150 Red- 52",
                                    "product_segment": "High-Performer",
                                    "recency_in_months": "159",
                                    "subcategory": "Road Bikes",
                                    "total_customers": "302",
                                    "total_orders": "302",
                                    "total_quantity": "302",
                                    "total_sales": "1080556"
                                },
                                {
                                    "avg_monthly_revenue": "87959",
                                    "avg_order_revenue": "3578",
                                    "avg_selling_price": "3578",
                                    "category": "Bikes",
                                    "cost": "2171",
                                    "last_sale_date": "2011-12-27",
                                    "lifespan": "12",
                                    "product_key": "19",
                                    "product_name": "Road-150 Red- 56",
                                    "product_segment": "High-Performer",
                                    "recency_in_months": "159",
                                    "subcategory": "Road Bikes",
                                    "total_customers": "295",
                                    "total_orders": "295",
                                    "total_quantity": "295",
                                    "total_sales": "1055510"
                                }
                            ],
                            "schema": {
                                "fields": [
                                    {
                                        "name": "product_key"
                                    },
                                    {
                                        "name": "product_name"
                                    },
                                    {
                                        "name": "category"
                                    },
                                    {
                                        "name": "subcategory"
                                    },
                                    {
                                        "name": "cost"
                                    },
                                    {
                                        "name": "last_sale_date"
                                    },
                                    {
                                        "name": "recency_in_months"
                                    },
                                    {
                                        "name": "product_segment"
                                    },
                                    {
                                        "name": "lifespan"
                                    },
                                    {
                                        "name": "total_orders"
                                    },
                                    {
                                        "name": "total_sales"
                                    },
                                    {
                                        "name": "total_quantity"
                                    },
                                    {
                                        "name": "total_customers"
                                    },
                                    {
                                        "name": "avg_selling_price"
                                    },
                                    {
                                        "name": "avg_order_revenue"
                                    },
                                    {
                                        "name": "avg_monthly_revenue"
                                    }
                                ]
                            }
                        },
                        "text/html": [
                            "<table>\n",
                            "<tr><th>product_key</th><th>product_name</th><th>category</th><th>subcategory</th><th>cost</th><th>last_sale_date</th><th>recency_in_months</th><th>product_segment</th><th>lifespan</th><th>total_orders</th><th>total_sales</th><th>total_quantity</th><th>total_customers</th><th>avg_selling_price</th><th>avg_order_revenue</th><th>avg_monthly_revenue</th></tr>\n",
                            "<tr><td>122</td><td>Mountain-200 Black- 46</td><td>Bikes</td><td>Mountain Bikes</td><td>1252</td><td>2013-12-27</td><td>135</td><td>High-Performer</td><td>24</td><td>620</td><td>1373454</td><td>620</td><td>600</td><td>2215.2</td><td>2215</td><td>57227</td></tr>\n",
                            "<tr><td>121</td><td>Mountain-200 Black- 42</td><td>Bikes</td><td>Mountain Bikes</td><td>1252</td><td>2013-12-28</td><td>135</td><td>High-Performer</td><td>23</td><td>614</td><td>1363128</td><td>614</td><td>604</td><td>2220.1</td><td>2220</td><td>59266</td></tr>\n",
                            "<tr><td>123</td><td>Mountain-200 Silver- 38</td><td>Bikes</td><td>Mountain Bikes</td><td>1266</td><td>2013-12-28</td><td>135</td><td>High-Performer</td><td>23</td><td>596</td><td>1339394</td><td>596</td><td>583</td><td>2247.3</td><td>2247</td><td>58234</td></tr>\n",
                            "<tr><td>125</td><td>Mountain-200 Silver- 46</td><td>Bikes</td><td>Mountain Bikes</td><td>1266</td><td>2013-12-28</td><td>135</td><td>High-Performer</td><td>23</td><td>579</td><td>1298709</td><td>579</td><td>566</td><td>2243</td><td>2243</td><td>56465</td></tr>\n",
                            "<tr><td>120</td><td>Mountain-200 Black- 38</td><td>Bikes</td><td>Mountain Bikes</td><td>1252</td><td>2013-12-28</td><td>135</td><td>High-Performer</td><td>24</td><td>581</td><td>1292559</td><td>581</td><td>564</td><td>2224.7</td><td>2224</td><td>53856</td></tr>\n",
                            "<tr><td>124</td><td>Mountain-200 Silver- 42</td><td>Bikes</td><td>Mountain Bikes</td><td>1266</td><td>2013-12-28</td><td>135</td><td>High-Performer</td><td>24</td><td>560</td><td>1257368</td><td>560</td><td>547</td><td>2245.3</td><td>2245</td><td>52390</td></tr>\n",
                            "<tr><td>17</td><td>Road-150 Red- 48</td><td>Bikes</td><td>Road Bikes</td><td>2171</td><td>2011-12-28</td><td>159</td><td>High-Performer</td><td>12</td><td>337</td><td>1205786</td><td>337</td><td>337</td><td>3578</td><td>3578</td><td>100482</td></tr>\n",
                            "<tr><td>20</td><td>Road-150 Red- 62</td><td>Bikes</td><td>Road Bikes</td><td>2171</td><td>2011-12-28</td><td>159</td><td>High-Performer</td><td>12</td><td>336</td><td>1202208</td><td>336</td><td>336</td><td>3578</td><td>3578</td><td>100184</td></tr>\n",
                            "<tr><td>18</td><td>Road-150 Red- 52</td><td>Bikes</td><td>Road Bikes</td><td>2171</td><td>2011-12-27</td><td>159</td><td>High-Performer</td><td>12</td><td>302</td><td>1080556</td><td>302</td><td>302</td><td>3578</td><td>3578</td><td>90046</td></tr>\n",
                            "<tr><td>19</td><td>Road-150 Red- 56</td><td>Bikes</td><td>Road Bikes</td><td>2171</td><td>2011-12-27</td><td>159</td><td>High-Performer</td><td>12</td><td>295</td><td>1055510</td><td>295</td><td>295</td><td>3578</td><td>3578</td><td>87959</td></tr>\n",
                            "</table>"
                        ]
                    },
                    "execution_count": 30,
                    "metadata": {},
                    "output_type": "execute_result"
                }
            ],
            "source": [
                "-- Query the Product Report to see results\n",
                "SELECT TOP 10 *\n",
                "FROM gold.report_products\n",
                "ORDER BY total_sales DESC;"
            ]
        }
    ],
    "metadata": {
        "kernelspec": {
            "display_name": "SQL",
            "language": "sql",
            "name": "SQL"
        },
        "language_info": {
            "name": "sql",
            "version": ""
        }
    },
    "nbformat": 4,
    "nbformat_minor": 2
}
