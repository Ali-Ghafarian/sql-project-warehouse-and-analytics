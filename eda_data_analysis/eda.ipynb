{
 "cells": [
  {
   "cell_type": "markdown",
   "metadata": {},
   "source": [
    "# Database Exploration and Analysis\n",
    "\n",
    "This notebook contains all SQL queries used for exploratory data analysis of the data warehouse."
   ]
  },
  {
   "cell_type": "markdown",
   "metadata": {},
   "source": [
    "## Database Exploration\n",
    "\n",
    "Purpose:\n",
    "- To explore the structure of the database, including the list of tables and their schemas.\n",
    "- To inspect the columns and metadata for specific tables.\n",
    "\n",
    "Tables Used:\n",
    "- INFORMATION_SCHEMA.TABLES\n",
    "- INFORMATION_SCHEMA.COLUMNS"
   ]
  },
  {
   "cell_type": "code",
   "execution_count": null,
   "metadata": {},
   "source": [
    "USE DataWarehouse;\n",
    "-- Retrieve a list of all tables in the database\n",
    "SELECT \n",
    "    TABLE_CATALOG, \n",
    "    TABLE_SCHEMA, \n",
    "    TABLE_NAME, \n",
    "    TABLE_TYPE\n",
    "FROM INFORMATION_SCHEMA.TABLES;"
   ]
  },
  {
   "cell_type": "code",
   "execution_count": null,
   "metadata": {},
   "source": [
    "-- Retrieve all columns for a specific table (dim_customers)\n",
    "SELECT \n",
    "    COLUMN_NAME, \n",
    "    DATA_TYPE, \n",
    "    IS_NULLABLE, \n",
    "    CHARACTER_MAXIMUM_LENGTH\n",
    "FROM INFORMATION_SCHEMA.COLUMNS\n",
    "WHERE TABLE_NAME = 'dim_customers';"
   ]
  },
  {
   "cell_type": "markdown",
   "metadata": {},
   "source": [
    "## Dimensions Exploration\n",
    "\n",
    "Purpose:\n",
    "- To explore the structure of dimension tables.\n",
    "\n",
    "SQL Functions Used:\n",
    "- DISTINCT\n",
    "- ORDER BY"
   ]
  },
  {
   "cell_type": "code",
   "execution_count": null,
   "metadata": {},
   "source": [
    "USE DataWarehouse;\n",
    "-- Retrieve a list of unique countries from which customers originate\n",
    "SELECT DISTINCT \n",
    "    country \n",
    "FROM gold.dim_customers\n",
    "ORDER BY country;"
   ]
  },
  {
   "cell_type": "code",
   "execution_count": null,
   "metadata": {},
   "source": [
    "-- Retrieve a list of unique categories, subcategories, and products\n",
    "SELECT DISTINCT \n",
    "    category, \n",
    "    subcategory, \n",
    "    product_name \n",
    "FROM gold.dim_products\n",
    "ORDER BY category, subcategory, product_name;"
   ]
  },
  {
   "cell_type": "markdown",
   "metadata": {},
   "source": [
    "## Date Range Exploration\n",
    "\n",
    "Purpose:\n",
    "- To determine the temporal boundaries of key data points.\n",
    "- To understand the range of historical data.\n",
    "\n",
    "SQL Functions Used:\n",
    "- MIN(), MAX(), DATEDIFF()"
   ]
  },
  {
   "cell_type": "code",
   "execution_count": null,
   "metadata": {},
   "source": [
    "-- Determine the first and last order date and the total duration in months\n",
    "SELECT \n",
    "    MIN(order_date) AS first_order_date,\n",
    "    MAX(order_date) AS last_order_date,\n",
    "    DATEDIFF(MONTH, MIN(order_date), MAX(order_date)) AS order_range_months\n",
    "FROM gold.fact_sales;"
   ]
  },
  {
   "cell_type": "code",
   "execution_count": null,
   "metadata": {},
   "source": [
    "-- Find the youngest and oldest customer based on birthdate\n",
    "SELECT\n",
    "    MIN(birthdate) AS oldest_birthdate,\n",
    "    DATEDIFF(YEAR, MIN(birthdate), GETDATE()) AS oldest_age,\n",
    "    MAX(birthdate) AS youngest_birthdate,\n",
    "    DATEDIFF(YEAR, MAX(birthdate), GETDATE()) AS youngest_age\n",
    "FROM gold.dim_customers;"
   ]
  },
  {
   "cell_type": "markdown",
   "metadata": {},
   "source": [
    "## Measures Exploration (Key Metrics)\n",
    "\n",
    "Purpose:\n",
    "- To calculate aggregated metrics (e.g., totals, averages) for quick insights.\n",
    "- To identify overall trends or spot anomalies.\n",
    "\n",
    "SQL Functions Used:\n",
    "- COUNT(), SUM(), AVG()"
   ]
  },
  {
   "cell_type": "code",
   "execution_count": null,
   "metadata": {},
   "source": [
    "-- Find the Total Sales\n",
    "SELECT SUM(sales_amount) AS total_sales FROM gold.fact_sales"
   ]
  },
  {
   "cell_type": "code",
   "execution_count": null,
   "metadata": {},
   "source": [
    "-- Find how many items are sold\n",
    "SELECT SUM(quantity) AS total_quantity FROM gold.fact_sales"
   ]
  },
  {
   "cell_type": "code",
   "execution_count": null,
   "metadata": {},
   "source": [
    "-- Find the average selling price\n",
    "SELECT AVG(price) AS avg_price FROM gold.fact_sales"
   ]
  },
  {
   "cell_type": "code",
   "execution_count": null,
   "metadata": {},
   "source": [
    "-- Find the Total number of Orders (with and without duplicates)\n",
    "SELECT COUNT(order_number) AS total_orders FROM gold.fact_sales;\n",
    "SELECT COUNT(DISTINCT order_number) AS total_orders FROM gold.fact_sales;"
   ]
  },
  {
   "cell_type": "code",
   "execution_count": null,
   "metadata": {},
   "source": [
    "-- Find the total number of products\n",
    "SELECT COUNT(product_name) AS total_products FROM gold.dim_products"
   ]
  },
  {
   "cell_type": "code",
   "execution_count": null,
   "metadata": {},
   "source": [
    "-- Find the total number of customers\n",
    "SELECT COUNT(customer_key) AS total_customers FROM gold.dim_customers;"
   ]
  },
  {
   "cell_type": "code",
   "execution_count": null,
   "metadata": {},
   "source": [
    "-- Find the total number of customers that has placed an order\n",
    "SELECT COUNT(DISTINCT customer_key) AS total_customers FROM gold.fact_sales;"
   ]
  },
  {
   "cell_type": "code",
   "execution_count": null,
   "metadata": {},
   "source": [
    "-- Generate a Report that shows all key metrics of the business\n",
    "SELECT 'Total Sales' AS measure_name, SUM(sales_amount) AS measure_value FROM gold.fact_sales\n",
    "UNION ALL\n",
    "SELECT 'Total Quantity', SUM(quantity) FROM gold.fact_sales\n",
    "UNION ALL\n",
    "SELECT 'Average Price', AVG(price) FROM gold.fact_sales\n",
    "UNION ALL\n",
    "SELECT 'Total Orders', COUNT(DISTINCT order_number) FROM gold.fact_sales\n",
    "UNION ALL\n",
    "SELECT 'Total Products', COUNT(DISTINCT product_name) FROM gold.dim_products\n",
    "UNION ALL\n",
    "SELECT 'Total Customers', COUNT(customer_key) FROM gold.dim_customers;"
   ]
  },
  {
   "cell_type": "markdown",
   "metadata": {},
   "source": [
    "## Magnitude Analysis\n",
    "\n",
    "Purpose:\n",
    "- To quantify data and group results by specific dimensions.\n",
    "- For understanding data distribution across categories.\n",
    "\n",
    "SQL Functions Used:\n",
    "- Aggregate Functions: SUM(), COUNT(), AVG()\n",
    "- GROUP BY, ORDER BY"
   ]
  },
  {
   "cell_type": "code",
   "execution_count": null,
   "metadata": {},
   "source": [
    "-- Find total customers by countries\n",
    "SELECT\n",
    "    country,\n",
    "    COUNT(customer_key) AS total_customers\n",
    "FROM gold.dim_customers\n",
    "GROUP BY country\n",
    "ORDER BY total_customers DESC;"
   ]
  },
  {
   "cell_type": "code",
   "execution_count": null,
   "metadata": {},
   "source": [
    "-- Find total customers by gender\n",
    "SELECT\n",
    "    gender,\n",
    "    COUNT(customer_key) AS total_customers\n",
    "FROM gold.dim_customers\n",
    "GROUP BY gender\n",
    "ORDER BY total_customers DESC;"
   ]
  },
  {
   "cell_type": "code",
   "execution_count": null,
   "metadata": {},
   "source": [
    "-- Find total products by category\n",
    "SELECT\n",
    "    category,\n",
    "    COUNT(product_key) AS total_products\n",
    "FROM gold.dim_products\n",
    "GROUP BY category\n",
    "ORDER BY total_products DESC;"
   ]
  },
  {
   "cell_type": "code",
   "execution_count": null,
   "metadata": {},
   "source": [
    "-- What is the average costs in each category?\n",
    "SELECT\n",
    "    category,\n",
    "    AVG(cost) AS avg_cost\n",
    "FROM gold.dim_products\n",
    "GROUP BY category\n",
    "ORDER BY avg_cost DESC;"
   ]
  },
  {
   "cell_type": "code",
   "execution_count": null,
   "metadata": {},
   "source": [
    "-- What is the total revenue generated for each category?\n",
    "SELECT\n",
    "    p.category,\n",
    "    SUM(f.sales_amount) AS total_revenue\n",
    "FROM gold.fact_sales f\n",
    "LEFT JOIN gold.dim_products p\n",
    "    ON p.product_key = f.product_key\n",
    "GROUP BY p.category\n",
    "ORDER BY total_revenue DESC;"
   ]
  },
  {
   "cell_type": "code",
   "execution_count": null,
   "metadata": {},
   "source": [
    "-- What is the total revenue generated by each customer?\n",
    "SELECT\n",
    "    c.customer_key,\n",
    "    c.first_name,\n",
    "    c.last_name,\n",
    "    SUM(f.sales_amount) AS total_revenue\n",
    "FROM gold.fact_sales f\n",
    "LEFT JOIN gold.dim_customers c\n",
    "    ON c.customer_key = f.customer_key\n",
    "GROUP BY \n",
    "    c.customer_key,\n",
    "    c.first_name,\n",
    "    c.last_name\n",
    "ORDER BY total_revenue DESC;"
   ]
  },
  {
   "cell_type": "code",
   "execution_count": null,
   "metadata": {},
   "source": [
    "-- What is the distribution of sold items across countries?\n",
    "SELECT\n",
    "    c.country,\n",
    "    SUM(f.quantity) AS total_sold_items\n",
    "FROM gold.fact_sales f\n",
    "LEFT JOIN gold.dim_customers c\n",
    "    ON c.customer_key = f.customer_key\n",
    "GROUP BY c.country\n",
    "ORDER BY total_sold_items DESC;"
   ]
  },
  {
   "cell_type": "markdown",
   "metadata": {},
   "source": [
    "## Ranking Analysis\n",
    "\n",
    "Purpose:\n",
    "- To rank items (e.g., products, customers) based on performance or other metrics.\n",
    "- To identify top performers or laggards.\n",
    "\n",
    "SQL Functions Used:\n",
    "- Window Ranking Functions: RANK(), DENSE_RANK(), ROW_NUMBER(), TOP\n",
    "- Clauses: GROUP BY, ORDER BY"
   ]
  },
  {
   "cell_type": "code",
   "execution_count": null,
   "metadata": {},
   "source": [
    "-- Which 5 products Generating the Highest Revenue? (Simple Ranking)\n",
    "SELECT TOP 5\n",
    "    p.product_name,\n",
    "    SUM(f.sales_amount) AS total_revenue\n",
    "FROM gold.fact_sales f\n",
    "LEFT JOIN gold.dim_products p\n",
    "    ON p.product_key = f.product_key\n",
    "GROUP BY p.product_name\n",
    "ORDER BY total_revenue DESC;"
   ]
  },
  {
   "cell_type": "code",
   "execution_count": null,
   "metadata": {},
   "source": [
    "-- Complex but Flexibly Ranking Using Window Functions\n",
    "SELECT *\n",
    "FROM (\n",
    "    SELECT\n",
    "        p.product_name,\n",
    "        SUM(f.sales_amount) AS total_revenue,\n",
    "        RANK() OVER (ORDER BY SUM(f.sales_amount) DESC) AS rank_products\n",
    "    FROM gold.fact_sales f\n",
    "    LEFT JOIN gold.dim_products p\n",
    "        ON p.product_key = f.product_key\n",
    "    GROUP BY p.product_name\n",
    ") AS ranked_products\n",
    "WHERE rank_products <= 5;"
   ]
  },
  {
   "cell_type": "code",
   "execution_count": null,
   "metadata": {},
   "source": [
    "-- What are the 5 worst-performing products in terms of sales?\n",
    "SELECT TOP 5\n",
    "    p.product_name,\n",
    "    SUM(f.sales_amount) AS total_revenue\n",
    "FROM gold.fact_sales f\n",
    "LEFT JOIN gold.dim_products p\n",
    "    ON p.product_key = f.product_key\n",
    "GROUP BY p.product_name\n",
    "ORDER BY total_revenue;"
   ]
  },
  {
   "cell_type": "code",
   "execution_count": null,
   "metadata": {},
   "source": [
    "-- Find the top 10 customers who have generated the highest revenue\n",
    "SELECT TOP 10\n",
    "    c.customer_key,\n",
    "    c.first_name,\n",
    "    c.last_name,\n",
    "    SUM(f.sales_amount) AS total_revenue\n",
    "FROM gold.fact_sales f\n",
    "LEFT JOIN gold.dim_customers c\n",
    "    ON c.customer_key = f.customer_key\n",
    "GROUP BY \n",
    "    c.customer_key,\n",
    "    c.first_name,\n",
    "    c.last_name\n",
    "ORDER BY total_revenue DESC;"
   ]
  },
  {
   "cell_type": "code",
   "execution_count": null,
   "metadata": {},
   "source": [
    "-- The 3 customers with the fewest orders placed\n",
    "SELECT TOP 3\n",
    "    c.customer_key,\n",
    "    c.first_name,\n",
    "    c.last_name,\n",
    "    COUNT(DISTINCT order_number) AS total_orders\n",
    "FROM gold.fact_sales f\n",
    "LEFT JOIN gold.dim_customers c\n",
    "    ON c.customer_key = f.customer_key\n",
    "GROUP BY \n",
    "    c.customer_key,\n",
    "    c.first_name,\n",
    "    c.last_name\n",
    "ORDER BY total_orders;"
   ]
  },
  {
   "cell_type": "markdown",
   "metadata": {},
   "source": [
    "## Change Over Time Analysis\n",
    "\n",
    "Purpose:\n",
    "- To track trends, growth, and changes in key metrics over time.\n",
    "- For time-series analysis and identifying seasonality.\n",
    "- To measure growth or decline over specific periods.\n",
    "\n",
    "SQL Functions Used:\n",
    "- Date Functions: DATEPART(), DATETRUNC(), FORMAT()\n",
    "- Aggregate Functions: SUM(), COUNT(), AVG()"
   ]
  },
  {
   "cell_type": "code",
   "execution_count": null,
   "metadata": {},
   "source": [
    "-- Analyse sales performance over time using Quick Date Functions\n",
    "SELECT\n",
    "    YEAR(order_date) AS order_year,\n",
    "    MONTH(order_date) AS order_month,\n",
    "    SUM(sales_amount) AS total_sales,\n",
    "    COUNT(DISTINCT customer_key) AS total_customers,\n",
    "    SUM(quantity) AS total_quantity\n",
    "FROM gold.fact_sales\n",
    "WHERE order_date IS NOT NULL\n",
    "GROUP BY YEAR(order_date), MONTH(order_date)\n",
    "ORDER BY YEAR(order_date), MONTH(order_date);"
   ]
  },
  {
   "cell_type": "code",
   "execution_count": null,
   "metadata": {},
   "source": [
    "-- Using DATETRUNC() for monthly analysis\n",
    "SELECT\n",
    "    DATETRUNC(month, order_date) AS order_date,\n",
    "    SUM(sales_amount) AS total_sales,\n",
    "    COUNT(DISTINCT customer_key) AS total_customers,\n",
    "    SUM(quantity) AS total_quantity\n",
    "FROM gold.fact_sales\n",
    "WHERE order_date IS NOT NULL\n",
    "GROUP BY DATETRUNC(month, order_date)\n",
    "ORDER BY DATETRUNC(month, order_date);"
   ]
  },
  {
   "cell_type": "code",
   "execution_count": null,
   "metadata": {},
   "source": [
    "-- Using FORMAT() for formatted date display\n",
    "SELECT\n",
    "    FORMAT(order_date, 'yyyy-MMM') AS order_date,\n",
    "    SUM(sales_amount) AS total_sales,\n",
    "    COUNT(DISTINCT customer_key) AS total_customers,\n",
    "    SUM(quantity) AS total_quantity\n",
    "FROM gold.fact_sales\n",
    "WHERE order_date IS NOT NULL\n",
    "GROUP BY FORMAT(order_date, 'yyyy-MMM')\n",
    "ORDER BY FORMAT(order_date, 'yyyy-MMM');"
   ]
  },
  {
   "cell_type": "markdown",
   "metadata": {},
   "source": [
    "## Cumulative Analysis\n",
    "\n",
    "Purpose:\n",
    "- To calculate running totals or moving averages for key metrics.\n",
    "- To track performance over time cumulatively.\n",
    "- Useful for growth analysis or identifying long-term trends.\n",
    "\n",
    "SQL Functions Used:\n",
    "- Window Functions: SUM() OVER(), AVG() OVER()"
   ]
  },
  {
   "cell_type": "code",
   "execution_count": null,
   "metadata": {},
   "source": [
    "-- Calculate the total sales per month and the running total of sales over time\n",
    "SELECT\n",
    "    order_date,\n",
    "    total_sales,\n",
    "    SUM(total_sales) OVER (ORDER BY order_date) AS running_total_sales,\n",
    "    AVG(avg_price) OVER (ORDER BY order_date) AS moving_average_price\n",
    "FROM\n",
    "(\n",
    "    SELECT \n",
    "        DATETRUNC(year, order_date) AS order_date,\n",
    "        SUM(sales_amount) AS total_sales,\n",
    "        AVG(price) AS avg_price\n",
    "    FROM gold.fact_sales\n",
    "    WHERE order_date IS NOT NULL\n",
    "    GROUP BY DATETRUNC(year, order_date)\n",
    ") t"
   ]
  },
  {
   "cell_type": "markdown",
   "metadata": {},
   "source": [
    "## Performance Analysis (Year-over-Year, Month-over-Month)\n",
    "\n",
    "Purpose:\n",
    "- To measure the performance of products, customers, or regions over time.\n",
    "- For benchmarking and identifying high-performing entities.\n",
    "- To track yearly trends and growth.\n",
    "\n",
    "SQL Functions Used:\n",
    "- LAG(): Accesses data from previous rows.\n",
    "- AVG() OVER(): Computes average values within partitions.\n",
    "- CASE: Defines conditional logic for trend analysis."
   ]
  },
  {
   "cell_type": "code",
   "execution_count": null,
   "metadata": {},
   "source": [
    "-- Analyze the yearly performance of products by comparing their sales to both the average sales performance and previous year\n",
    "WITH yearly_product_sales AS (\n",
    "    SELECT\n",
    "        YEAR(f.order_date) AS order_year,\n",
    "        p.product_name,\n",
    "        SUM(f.sales_amount) AS current_sales\n",
    "    FROM gold.fact_sales f\n",
    "    LEFT JOIN gold.dim_products p\n",
    "        ON f.product_key = p.product_key\n",
    "    WHERE f.order_date IS NOT NULL\n",
    "    GROUP BY \n",
    "        YEAR(f.order_date),\n",
    "        p.product_name\n",
    ")\n",
    "SELECT\n",
    "    order_year,\n",
    "    product_name,\n",
    "    current_sales,\n",
    "    AVG(current_sales) OVER (PARTITION BY product_name) AS avg_sales,\n",
    "    current_sales - AVG(current_sales) OVER (PARTITION BY product_name) AS diff_avg,\n",
    "    CASE \n",
    "        WHEN current_sales - AVG(current_sales) OVER (PARTITION BY product_name) > 0 THEN 'Above Avg'\n",
    "        WHEN current_sales - AVG(current_sales) OVER (PARTITION BY product_name) < 0 THEN 'Below Avg'\n",
    "        ELSE 'Avg'\n",
    "    END AS avg_change,\n",
    "    -- Year-over-Year Analysis\n",
    "    LAG(current_sales) OVER (PARTITION BY product_name ORDER BY order_year) AS py_sales,\n",
    "    current_sales - LAG(current_sales) OVER (PARTITION BY product_name ORDER BY order_year) AS diff_py,\n",
    "    CASE \n",
    "        WHEN current_sales - LAG(current_sales) OVER (PARTITION BY product_name ORDER BY order_year) > 0 THEN 'Increase'\n",
    "        WHEN current_sales - LAG(current_sales) OVER (PARTITION BY product_name ORDER BY order_year) < 0 THEN 'Decrease'\n",
    "        ELSE 'No Change'\n",
    "    END AS py_change\n",
    "FROM yearly_product_sales\n",
    "ORDER BY product_name, order_year;"
   ]
  },
  {
   "cell_type": "markdown",
   "metadata": {},
   "source": [
    "## Data Segmentation Analysis\n",
    "\n",
    "Purpose:\n",
    "- To group data into meaningful categories for targeted insights.\n",
    "- For customer segmentation, product categorization, or regional analysis.\n",
    "\n",
    "SQL Functions Used:\n",
    "- CASE: Defines custom segmentation logic.\n",
    "- GROUP BY: Groups data into segments."
   ]
  },
  {
   "cell_type": "code",
   "execution_count": null,
   "metadata": {},
   "source": [
    "-- Segment products into cost ranges and count how many products fall into each segment\n",
    "WITH product_segments AS (\n",
    "    SELECT\n",
    "        product_key,\n",
    "        product_name,\n",
    "        cost,\n",
    "        CASE \n",
    "            WHEN cost < 100 THEN 'Below 100'\n",
    "            WHEN cost BETWEEN 100 AND 500 THEN '100-500'\n",
    "            WHEN cost BETWEEN 500 AND 1000 THEN '500-1000'\n",
    "            ELSE 'Above 1000'\n",
    "        END AS cost_range\n",
    "    FROM gold.dim_products\n",
    ")\n",
    "SELECT \n",
    "    cost_range,\n",
    "    COUNT(product_key) AS total_products\n",
    "FROM product_segments\n",
    "GROUP BY cost_range\n",
    "ORDER BY total_products DESC;"
   ]
  },
  {
   "cell_type": "code",
   "execution_count": null,
   "metadata": {},
   "source": [
    "-- Group customers into segments based on spending behavior and history\n",
    "/*\n",
    "VIP: Customers with at least 12 months of history and spending more than €5,000.\n",
    "Regular: Customers with at least 12 months of history but spending €5,000 or less.\n",
    "New: Customers with a lifespan less than 12 months.\n",
    "*/\n",
    "WITH customer_spending AS (\n",
    "    SELECT\n",
    "        c.customer_key,\n",
    "        SUM(f.sales_amount) AS total_spending,\n",
    "        MIN(order_date) AS first_order,\n",
    "        MAX(order_date) AS last_order,\n",
    "        DATEDIFF(month, MIN(order_date), MAX(order_date)) AS lifespan\n",
    "    FROM gold.fact_sales f\n",
    "    LEFT JOIN gold.dim_customers c\n",
    "        ON f.customer_key = c.customer_key\n",
    "    GROUP BY c.customer_key\n",
    ")\n",
    "SELECT \n",
    "    customer_segment,\n",
    "    COUNT(customer_key) AS total_customers\n",
    "FROM (\n",
    "    SELECT \n",
    "        customer_key,\n",
    "        CASE \n",
    "            WHEN lifespan >= 12 AND total_spending > 5000 THEN 'VIP'\n",
    "            WHEN lifespan >= 12 AND total_spending <= 5000 THEN 'Regular'\n",
    "            ELSE 'New'\n",
    "        END AS customer_segment\n",
    "    FROM customer_spending\n",
    ") AS segmented_customers\n",
    "GROUP BY customer_segment\n",
    "ORDER BY total_customers DESC;"
   ]
  },
  {
   "cell_type": "markdown",
   "metadata": {},
   "source": [
    "## Part-to-Whole Analysis\n",
    "\n",
    "Purpose:\n",
    "- To compare performance or metrics across dimensions or time periods.\n",
    "- To evaluate differences between categories.\n",
    "- Useful for A/B testing or regional comparisons.\n",
    "\n",
    "SQL Functions Used:\n",
    "- SUM(), AVG(): Aggregates values for comparison.\n",
    "- Window Functions: SUM() OVER() for total calculations."
   ]
  },
  {
   "cell_type": "code",
   "execution_count": null,
   "metadata": {},
   "source": [
    "-- Which categories contribute the most to overall sales?\n",
    "WITH category_sales AS (\n",
    "    SELECT\n",
    "        p.category,\n",
    "        SUM(f.sales_amount) AS total_sales\n",
    "    FROM gold.fact_sales f\n",
    "    LEFT JOIN gold.dim_products p\n",
    "        ON p.product_key = f.product_key\n",
    "    GROUP BY p.category\n",
    ")\n",
    "SELECT\n",
    "    category,\n",
    "    total_sales,\n",
    "    SUM(total_sales) OVER () AS overall_sales,\n",
    "    ROUND((CAST(total_sales AS FLOAT) / SUM(total_sales) OVER ()) * 100, 2) AS percentage_of_total\n",
    "FROM category_sales\n",
    "ORDER BY total_sales DESC;"
   ]
  },
  {
   "cell_type": "markdown",
   "metadata": {},
   "source": [
    "## Customer Report\n",
    "\n",
    "Purpose:\n",
    "- This report consolidates key customer metrics and behaviors\n",
    "\n",
    "Highlights:\n",
    "1. Gathers essential fields such as names, ages, and transaction details.\n",
    "2. Segments customers into categories (VIP, Regular, New) and age groups.\n",
    "3. Aggregates customer-level metrics:\n",
    "   - total orders\n",
    "   - total sales\n",
    "   - total quantity purchased\n",
    "   - total products\n",
    "   - lifespan (in months)\n",
    "4. Calculates valuable KPIs:\n",
    "   - recency (months since last order)\n",
    "   - average order value\n",
    "   - average monthly spend"
   ]
  },
  {
   "cell_type": "code",
   "execution_count": null,
   "metadata": {},
   "source": [
    "-- Create the Customer Report View\n",
    "IF OBJECT_ID('gold.report_customers', 'V') IS NOT NULL\n",
    "    DROP VIEW gold.report_customers;\n",
    "GO\n",
    "\n",
    "CREATE VIEW gold.report_customers AS\n",
    "WITH base_query AS(\n",
    "    SELECT\n",
    "        f.order_number,\n",
    "        f.product_key,\n",
    "        f.order_date,\n",
    "        f.sales_amount,\n",
    "        f.quantity,\n",
    "        c.customer_key,\n",
    "        c.customer_number,\n",
    "        CONCAT(c.first_name, ' ', c.last_name) AS customer_name,\n",
    "        DATEDIFF(year, c.birthdate, GETDATE()) age\n",
    "    FROM gold.fact_sales f\n",
    "    LEFT JOIN gold.dim_customers c\n",
    "        ON c.customer_key = f.customer_key\n",
    "    WHERE order_date IS NOT NULL\n",
    ")\n",
    ", customer_aggregation AS (\n",
    "    SELECT \n",
    "        customer_key,\n",
    "        customer_number,\n",
    "        customer_name,\n",
    "        age,\n",
    "        COUNT(DISTINCT order_number) AS total_orders,\n",
    "        SUM(sales_amount) AS total_sales,\n",
    "        SUM(quantity) AS total_quantity,\n",
    "        COUNT(DISTINCT product_key) AS total_products,\n",
    "        MAX(order_date) AS last_order_date,\n",
    "        DATEDIFF(month, MIN(order_date), MAX(order_date)) AS lifespan\n",
    "    FROM base_query\n",
    "    GROUP BY \n",
    "        customer_key,\n",
    "        customer_number,\n",
    "        customer_name,\n",
    "        age\n",
    ")\n",
    "SELECT\n",
    "    customer_key,\n",
    "    customer_number,\n",
    "    customer_name,\n",
    "    age,\n",
    "    CASE \n",
    "        WHEN age < 20 THEN 'Under 20'\n",
    "        WHEN age between 20 and 29 THEN '20-29'\n",
    "        WHEN age between 30 and 39 THEN '30-39'\n",
    "        WHEN age between 40 and 49 THEN '40-49'\n",
    "        ELSE '50 and above'\n",
    "    END AS age_group,\n",
    "    CASE \n",
    "        WHEN lifespan >= 12 AND total_sales > 5000 THEN 'VIP'\n",
    "        WHEN lifespan >= 12 AND total_sales <= 5000 THEN 'Regular'\n",
    "        ELSE 'New'\n",
    "    END AS customer_segment,\n",
    "    last_order_date,\n",
    "    DATEDIFF(month, last_order_date, GETDATE()) AS recency,\n",
    "    total_orders,\n",
    "    total_sales,\n",
    "    total_quantity,\n",
    "    total_products,\n",
    "    lifespan,\n",
    "    CASE WHEN total_sales = 0 THEN 0\n",
    "         ELSE total_sales / total_orders\n",
    "    END AS avg_order_value,\n",
    "    CASE WHEN lifespan = 0 THEN total_sales\n",
    "         ELSE total_sales / lifespan\n",
    "    END AS avg_monthly_spend\n",
    "FROM customer_aggregation;"
   ]
  },
  {
   "cell_type": "code",
   "execution_count": null,
   "metadata": {},
   "source": [
    "-- Query the Customer Report to see results\n",
    "SELECT TOP 10 *\n",
    "FROM gold.report_customers\n",
    "ORDER BY total_sales DESC;"
   ]
  },
  {
   "cell_type": "markdown",
   "metadata": {},
   "source": [
    "## Product Report\n",
    "\n",
    "Purpose:\n",
    "- This report consolidates key product metrics and behaviors.\n",
    "\n",
    "Highlights:\n",
    "1. Gathers essential fields such as product name, category, subcategory, and cost.\n",
    "2. Segments products by revenue to identify High-Performers, Mid-Range, or Low-Performers.\n",
    "3. Aggregates product-level metrics:\n",
    "   - total orders\n",
    "   - total sales\n",
    "   - total quantity sold\n",
    "   - total customers (unique)\n",
    "   - lifespan (in months)\n",
    "4. Calculates valuable KPIs:\n",
    "   - recency (months since last sale)\n",
    "   - average order revenue (AOR)\n",
    "   - average monthly revenue"
   ]
  },
  {
   "cell_type": "code",
   "execution_count": null,
   "metadata": {},
   "source": [
    "-- Create the Product Report View\n",
    "IF OBJECT_ID('gold.report_products', 'V') IS NOT NULL\n",
    "    DROP VIEW gold.report_products;\n",
    "GO\n",
    "\n",
    "CREATE VIEW gold.report_products AS\n",
    "WITH base_query AS (\n",
    "    SELECT\n",
    "        f.order_number,\n",
    "        f.order_date,\n",
    "        f.customer_key,\n",
    "        f.sales_amount,\n",
    "        f.quantity,\n",
    "        p.product_key,\n",
    "        p.product_name,\n",
    "        p.category,\n",
    "        p.subcategory,\n",
    "        p.cost\n",
    "    FROM gold.fact_sales f\n",
    "    LEFT JOIN gold.dim_products p\n",
    "        ON f.product_key = p.product_key\n",
    "    WHERE order_date IS NOT NULL\n",
    "),\n",
    "product_aggregations AS (\n",
    "    SELECT\n",
    "        product_key,\n",
    "        product_name,\n",
    "        category,\n",
    "        subcategory,\n",
    "        cost,\n",
    "        DATEDIFF(MONTH, MIN(order_date), MAX(order_date)) AS lifespan,\n",
    "        MAX(order_date) AS last_sale_date,\n",
    "        COUNT(DISTINCT order_number) AS total_orders,\n",
    "        COUNT(DISTINCT customer_key) AS total_customers,\n",
    "        SUM(sales_amount) AS total_sales,\n",
    "        SUM(quantity) AS total_quantity,\n",
    "        ROUND(AVG(CAST(sales_amount AS FLOAT) / NULLIF(quantity, 0)), 1) AS avg_selling_price\n",
    "    FROM base_query\n",
    "    GROUP BY\n",
    "        product_key,\n",
    "        product_name,\n",
    "        category,\n",
    "        subcategory,\n",
    "        cost\n",
    ")\n",
    "SELECT \n",
    "    product_key,\n",
    "    product_name,\n",
    "    category,\n",
    "    subcategory,\n",
    "    cost,\n",
    "    last_sale_date,\n",
    "    DATEDIFF(MONTH, last_sale_date, GETDATE()) AS recency_in_months,\n",
    "    CASE\n",
    "        WHEN total_sales > 50000 THEN 'High-Performer'\n",
    "        WHEN total_sales >= 10000 THEN 'Mid-Range'\n",
    "        ELSE 'Low-Performer'\n",
    "    END AS product_segment,\n",
    "    lifespan,\n",
    "    total_orders,\n",
    "    total_sales,\n",
    "    total_quantity,\n",
    "    total_customers,\n",
    "    avg_selling_price,\n",
    "    CASE \n",
    "        WHEN total_orders = 0 THEN 0\n",
    "        ELSE total_sales / total_orders\n",
    "    END AS avg_order_revenue,\n",
    "    CASE\n",
    "        WHEN lifespan = 0 THEN total_sales\n",
    "        ELSE total_sales / lifespan\n",
    "    END AS avg_monthly_revenue\n",
    "FROM product_aggregations;"
   ]
  },
  {
   "cell_type": "code",
   "execution_count": null,
   "metadata": {},
   "source": [
    "-- Query the Product Report to see results\n",
    "SELECT TOP 10 *\n",
    "FROM gold.report_products\n",
    "ORDER BY total_sales DESC;"
   ]
  }
 ],
 "metadata": {
  "kernelspec": {
   "display_name": "SQL",
   "language": "sql",
   "name": "sql"
  },
  "language_info": {
   "name": "sql"
  }
 },
 "nbformat": 4,
 "nbformat_minor": 4
}