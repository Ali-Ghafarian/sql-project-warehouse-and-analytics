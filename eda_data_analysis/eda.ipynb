{
    "metadata": {
        "kernelspec": {
            "name": "SQL",
            "display_name": "SQL",
            "language": "sql"
        },
        "language_info": {
            "name": "sql",
            "version": ""
        }
    },
    "nbformat_minor": 2,
    "nbformat": 4,
    "cells": [
        {
            "cell_type": "markdown",
            "source": [
                "# EDA and  Advance Analysis\n",
                "\n",
                "This notebook contains all SQL queries used for exploratory data analysis of the data warehouse."
            ],
            "metadata": {
                "azdata_cell_guid": "be85d483-9687-4059-9440-62270b0d0d9f"
            },
            "attachments": {}
        },
        {
            "cell_type": "markdown",
            "source": [
                "## Database Exploration\n",
                "\n",
                "Purpose:\n",
                "- To explore the structure of the database, including the list of tables and their schemas.\n",
                "- To inspect the columns and metadata for specific tables.\n",
                "\n",
                "Tables Used:\n",
                "- INFORMATION_SCHEMA.TABLES\n",
                "- INFORMATION_SCHEMA.COLUMNS"
            ],
            "metadata": {
                "azdata_cell_guid": "6d92550c-401b-4f5e-8907-fc3b9bfcd9dc"
            }
        },
        {
            "cell_type": "code",
            "source": [
                "USE DataWarehouse;"
            ],
            "metadata": {
                "language": "sql",
                "azdata_cell_guid": "6b4dfe01-602b-45bb-a5fd-6c6a2c100bd5"
            },
            "outputs": [
                {
                    "output_type": "display_data",
                    "data": {
                        "text/html": "Commands completed successfully."
                    },
                    "metadata": {}
                },
                {
                    "output_type": "display_data",
                    "data": {
                        "text/html": "Total execution time: 00:00:00.022"
                    },
                    "metadata": {}
                }
            ],
            "execution_count": 2
        },
        {
            "cell_type": "code",
            "source": [
                "-- Retrieve a list of all tables in the database\n",
                "SELECT \n",
                "    TABLE_CATALOG, \n",
                "    TABLE_SCHEMA, \n",
                "    TABLE_NAME, \n",
                "    TABLE_TYPE\n",
                "FROM INFORMATION_SCHEMA.TABLES;"
            ],
            "metadata": {
                "azdata_cell_guid": "4452f96b-1d5d-43d7-b9d4-2b37d12e7a9d",
                "language": "sql"
            },
            "outputs": [
                {
                    "output_type": "display_data",
                    "data": {
                        "text/html": "(15 rows affected)"
                    },
                    "metadata": {}
                },
                {
                    "output_type": "display_data",
                    "data": {
                        "text/html": "Total execution time: 00:00:00.103"
                    },
                    "metadata": {}
                },
                {
                    "output_type": "execute_result",
                    "metadata": {},
                    "execution_count": 3,
                    "data": {
                        "application/vnd.dataresource+json": {
                            "schema": {
                                "fields": [
                                    {
                                        "name": "TABLE_CATALOG"
                                    },
                                    {
                                        "name": "TABLE_SCHEMA"
                                    },
                                    {
                                        "name": "TABLE_NAME"
                                    },
                                    {
                                        "name": "TABLE_TYPE"
                                    }
                                ]
                            },
                            "data": [
                                {
                                    "TABLE_CATALOG": "DataWarehouse",
                                    "TABLE_SCHEMA": "bronze",
                                    "TABLE_NAME": "crm_cust_info",
                                    "TABLE_TYPE": "BASE TABLE"
                                },
                                {
                                    "TABLE_CATALOG": "DataWarehouse",
                                    "TABLE_SCHEMA": "bronze",
                                    "TABLE_NAME": "crm_prd_info",
                                    "TABLE_TYPE": "BASE TABLE"
                                },
                                {
                                    "TABLE_CATALOG": "DataWarehouse",
                                    "TABLE_SCHEMA": "bronze",
                                    "TABLE_NAME": "crm_sales_details",
                                    "TABLE_TYPE": "BASE TABLE"
                                },
                                {
                                    "TABLE_CATALOG": "DataWarehouse",
                                    "TABLE_SCHEMA": "bronze",
                                    "TABLE_NAME": "erp_loc_a101",
                                    "TABLE_TYPE": "BASE TABLE"
                                },
                                {
                                    "TABLE_CATALOG": "DataWarehouse",
                                    "TABLE_SCHEMA": "bronze",
                                    "TABLE_NAME": "erp_cust_az12",
                                    "TABLE_TYPE": "BASE TABLE"
                                },
                                {
                                    "TABLE_CATALOG": "DataWarehouse",
                                    "TABLE_SCHEMA": "bronze",
                                    "TABLE_NAME": "erp_px_cat_g1v2",
                                    "TABLE_TYPE": "BASE TABLE"
                                },
                                {
                                    "TABLE_CATALOG": "DataWarehouse",
                                    "TABLE_SCHEMA": "silver",
                                    "TABLE_NAME": "crm_cust_info",
                                    "TABLE_TYPE": "BASE TABLE"
                                },
                                {
                                    "TABLE_CATALOG": "DataWarehouse",
                                    "TABLE_SCHEMA": "silver",
                                    "TABLE_NAME": "crm_prd_info",
                                    "TABLE_TYPE": "BASE TABLE"
                                },
                                {
                                    "TABLE_CATALOG": "DataWarehouse",
                                    "TABLE_SCHEMA": "silver",
                                    "TABLE_NAME": "crm_sales_details",
                                    "TABLE_TYPE": "BASE TABLE"
                                },
                                {
                                    "TABLE_CATALOG": "DataWarehouse",
                                    "TABLE_SCHEMA": "silver",
                                    "TABLE_NAME": "erp_loc_a101",
                                    "TABLE_TYPE": "BASE TABLE"
                                },
                                {
                                    "TABLE_CATALOG": "DataWarehouse",
                                    "TABLE_SCHEMA": "silver",
                                    "TABLE_NAME": "erp_cust_az12",
                                    "TABLE_TYPE": "BASE TABLE"
                                },
                                {
                                    "TABLE_CATALOG": "DataWarehouse",
                                    "TABLE_SCHEMA": "silver",
                                    "TABLE_NAME": "erp_px_cat_g1v2",
                                    "TABLE_TYPE": "BASE TABLE"
                                },
                                {
                                    "TABLE_CATALOG": "DataWarehouse",
                                    "TABLE_SCHEMA": "gold",
                                    "TABLE_NAME": "dim_customers",
                                    "TABLE_TYPE": "VIEW"
                                },
                                {
                                    "TABLE_CATALOG": "DataWarehouse",
                                    "TABLE_SCHEMA": "gold",
                                    "TABLE_NAME": "dim_products",
                                    "TABLE_TYPE": "VIEW"
                                },
                                {
                                    "TABLE_CATALOG": "DataWarehouse",
                                    "TABLE_SCHEMA": "gold",
                                    "TABLE_NAME": "fact_sales",
                                    "TABLE_TYPE": "VIEW"
                                }
                            ]
                        },
                        "text/html": [
                            "<table>",
                            "<tr><th>TABLE_CATALOG</th><th>TABLE_SCHEMA</th><th>TABLE_NAME</th><th>TABLE_TYPE</th></tr>",
                            "<tr><td>DataWarehouse</td><td>bronze</td><td>crm_cust_info</td><td>BASE TABLE</td></tr>",
                            "<tr><td>DataWarehouse</td><td>bronze</td><td>crm_prd_info</td><td>BASE TABLE</td></tr>",
                            "<tr><td>DataWarehouse</td><td>bronze</td><td>crm_sales_details</td><td>BASE TABLE</td></tr>",
                            "<tr><td>DataWarehouse</td><td>bronze</td><td>erp_loc_a101</td><td>BASE TABLE</td></tr>",
                            "<tr><td>DataWarehouse</td><td>bronze</td><td>erp_cust_az12</td><td>BASE TABLE</td></tr>",
                            "<tr><td>DataWarehouse</td><td>bronze</td><td>erp_px_cat_g1v2</td><td>BASE TABLE</td></tr>",
                            "<tr><td>DataWarehouse</td><td>silver</td><td>crm_cust_info</td><td>BASE TABLE</td></tr>",
                            "<tr><td>DataWarehouse</td><td>silver</td><td>crm_prd_info</td><td>BASE TABLE</td></tr>",
                            "<tr><td>DataWarehouse</td><td>silver</td><td>crm_sales_details</td><td>BASE TABLE</td></tr>",
                            "<tr><td>DataWarehouse</td><td>silver</td><td>erp_loc_a101</td><td>BASE TABLE</td></tr>",
                            "<tr><td>DataWarehouse</td><td>silver</td><td>erp_cust_az12</td><td>BASE TABLE</td></tr>",
                            "<tr><td>DataWarehouse</td><td>silver</td><td>erp_px_cat_g1v2</td><td>BASE TABLE</td></tr>",
                            "<tr><td>DataWarehouse</td><td>gold</td><td>dim_customers</td><td>VIEW</td></tr>",
                            "<tr><td>DataWarehouse</td><td>gold</td><td>dim_products</td><td>VIEW</td></tr>",
                            "<tr><td>DataWarehouse</td><td>gold</td><td>fact_sales</td><td>VIEW</td></tr>",
                            "</table>"
                        ]
                    }
                }
            ],
            "execution_count": 3
        },
        {
            "cell_type": "code",
            "source": [
                "-- Retrieve all columns for a specific table (dim_customers)\n",
                "SELECT \n",
                "    COLUMN_NAME, \n",
                "    DATA_TYPE, \n",
                "    IS_NULLABLE, \n",
                "    CHARACTER_MAXIMUM_LENGTH\n",
                "FROM INFORMATION_SCHEMA.COLUMNS\n",
                "WHERE TABLE_NAME = 'dim_customers';"
            ],
            "metadata": {
                "azdata_cell_guid": "4dd50b19-8af9-4580-a666-b798da94cb21",
                "language": "sql"
            },
            "outputs": [
                {
                    "output_type": "display_data",
                    "data": {
                        "text/html": "(10 rows affected)"
                    },
                    "metadata": {}
                },
                {
                    "output_type": "display_data",
                    "data": {
                        "text/html": "Total execution time: 00:00:00.092"
                    },
                    "metadata": {}
                },
                {
                    "output_type": "execute_result",
                    "metadata": {},
                    "execution_count": 4,
                    "data": {
                        "application/vnd.dataresource+json": {
                            "schema": {
                                "fields": [
                                    {
                                        "name": "COLUMN_NAME"
                                    },
                                    {
                                        "name": "DATA_TYPE"
                                    },
                                    {
                                        "name": "IS_NULLABLE"
                                    },
                                    {
                                        "name": "CHARACTER_MAXIMUM_LENGTH"
                                    }
                                ]
                            },
                            "data": [
                                {
                                    "COLUMN_NAME": "customer_key",
                                    "DATA_TYPE": "bigint",
                                    "IS_NULLABLE": "YES",
                                    "CHARACTER_MAXIMUM_LENGTH": "NULL"
                                },
                                {
                                    "COLUMN_NAME": "customer_id",
                                    "DATA_TYPE": "int",
                                    "IS_NULLABLE": "YES",
                                    "CHARACTER_MAXIMUM_LENGTH": "NULL"
                                },
                                {
                                    "COLUMN_NAME": "customer_number",
                                    "DATA_TYPE": "nvarchar",
                                    "IS_NULLABLE": "YES",
                                    "CHARACTER_MAXIMUM_LENGTH": "50"
                                },
                                {
                                    "COLUMN_NAME": "first_name",
                                    "DATA_TYPE": "nvarchar",
                                    "IS_NULLABLE": "YES",
                                    "CHARACTER_MAXIMUM_LENGTH": "50"
                                },
                                {
                                    "COLUMN_NAME": "last_name",
                                    "DATA_TYPE": "nvarchar",
                                    "IS_NULLABLE": "YES",
                                    "CHARACTER_MAXIMUM_LENGTH": "50"
                                },
                                {
                                    "COLUMN_NAME": "country",
                                    "DATA_TYPE": "nvarchar",
                                    "IS_NULLABLE": "YES",
                                    "CHARACTER_MAXIMUM_LENGTH": "50"
                                },
                                {
                                    "COLUMN_NAME": "marital_status",
                                    "DATA_TYPE": "nvarchar",
                                    "IS_NULLABLE": "YES",
                                    "CHARACTER_MAXIMUM_LENGTH": "50"
                                },
                                {
                                    "COLUMN_NAME": "gender",
                                    "DATA_TYPE": "nvarchar",
                                    "IS_NULLABLE": "YES",
                                    "CHARACTER_MAXIMUM_LENGTH": "50"
                                },
                                {
                                    "COLUMN_NAME": "birthdate",
                                    "DATA_TYPE": "date",
                                    "IS_NULLABLE": "YES",
                                    "CHARACTER_MAXIMUM_LENGTH": "NULL"
                                },
                                {
                                    "COLUMN_NAME": "create_date",
                                    "DATA_TYPE": "date",
                                    "IS_NULLABLE": "YES",
                                    "CHARACTER_MAXIMUM_LENGTH": "NULL"
                                }
                            ]
                        },
                        "text/html": [
                            "<table>",
                            "<tr><th>COLUMN_NAME</th><th>DATA_TYPE</th><th>IS_NULLABLE</th><th>CHARACTER_MAXIMUM_LENGTH</th></tr>",
                            "<tr><td>customer_key</td><td>bigint</td><td>YES</td><td>NULL</td></tr>",
                            "<tr><td>customer_id</td><td>int</td><td>YES</td><td>NULL</td></tr>",
                            "<tr><td>customer_number</td><td>nvarchar</td><td>YES</td><td>50</td></tr>",
                            "<tr><td>first_name</td><td>nvarchar</td><td>YES</td><td>50</td></tr>",
                            "<tr><td>last_name</td><td>nvarchar</td><td>YES</td><td>50</td></tr>",
                            "<tr><td>country</td><td>nvarchar</td><td>YES</td><td>50</td></tr>",
                            "<tr><td>marital_status</td><td>nvarchar</td><td>YES</td><td>50</td></tr>",
                            "<tr><td>gender</td><td>nvarchar</td><td>YES</td><td>50</td></tr>",
                            "<tr><td>birthdate</td><td>date</td><td>YES</td><td>NULL</td></tr>",
                            "<tr><td>create_date</td><td>date</td><td>YES</td><td>NULL</td></tr>",
                            "</table>"
                        ]
                    }
                }
            ],
            "execution_count": 4
        },
        {
            "cell_type": "markdown",
            "source": [
                "## Dimensions Exploration\n",
                "\n",
                "Purpose:\n",
                "- To explore the structure of dimension tables.\n",
                "\n",
                "SQL Functions Used:\n",
                "- DISTINCT\n",
                "- ORDER BY"
            ],
            "metadata": {
                "azdata_cell_guid": "689bb1c8-c80d-448e-b651-68cf21e9d67b"
            }
        },
        {
            "cell_type": "code",
            "source": [
                "-- Retrieve a list of unique countries from which customers originate\n",
                "SELECT DISTINCT \n",
                "    country \n",
                "FROM gold.dim_customers\n",
                "ORDER BY country;\n",
                "\n",
                "-- not sure unknown means other countries or simply no information on the counrty\n",
                "-- need to discuss with team or source expert"
            ],
            "metadata": {
                "azdata_cell_guid": "509856c0-a98a-4869-8b04-7f35b16e778e",
                "language": "sql"
            },
            "outputs": [
                {
                    "output_type": "display_data",
                    "data": {
                        "text/html": "(7 rows affected)"
                    },
                    "metadata": {}
                },
                {
                    "output_type": "display_data",
                    "data": {
                        "text/html": "Total execution time: 00:00:00.091"
                    },
                    "metadata": {}
                },
                {
                    "output_type": "execute_result",
                    "metadata": {},
                    "execution_count": 5,
                    "data": {
                        "application/vnd.dataresource+json": {
                            "schema": {
                                "fields": [
                                    {
                                        "name": "country"
                                    }
                                ]
                            },
                            "data": [
                                {
                                    "country": "Australia"
                                },
                                {
                                    "country": "Canada"
                                },
                                {
                                    "country": "France"
                                },
                                {
                                    "country": "Germany"
                                },
                                {
                                    "country": "United Kingdom"
                                },
                                {
                                    "country": "United States"
                                },
                                {
                                    "country": "Unknown"
                                }
                            ]
                        },
                        "text/html": [
                            "<table>",
                            "<tr><th>country</th></tr>",
                            "<tr><td>Australia</td></tr>",
                            "<tr><td>Canada</td></tr>",
                            "<tr><td>France</td></tr>",
                            "<tr><td>Germany</td></tr>",
                            "<tr><td>United Kingdom</td></tr>",
                            "<tr><td>United States</td></tr>",
                            "<tr><td>Unknown</td></tr>",
                            "</table>"
                        ]
                    }
                }
            ],
            "execution_count": 5
        },
        {
            "cell_type": "code",
            "source": [
                "-- Retrieve a list of unique categories, subcategories, and products\n",
                "SELECT DISTINCT TOP 10\n",
                "    category,\n",
                "    subcategory, \n",
                "    product_name \n",
                "FROM gold.dim_products\n",
                "ORDER BY category, subcategory, product_name;\n",
                "\n",
                "-- checking the procuct range: 295 unique products in 4 main categories and 36 subcategories\n",
                "-- The business offers a diverse range of bikes along with a variety of complementary products."
            ],
            "metadata": {
                "azdata_cell_guid": "d8305f09-fc18-4e42-8594-9ca978e22974",
                "language": "sql"
            },
            "outputs": [
                {
                    "output_type": "display_data",
                    "data": {
                        "text/html": "(10 rows affected)"
                    },
                    "metadata": {}
                },
                {
                    "output_type": "display_data",
                    "data": {
                        "text/html": "Total execution time: 00:00:00.039"
                    },
                    "metadata": {}
                },
                {
                    "output_type": "execute_result",
                    "metadata": {},
                    "execution_count": 33,
                    "data": {
                        "application/vnd.dataresource+json": {
                            "schema": {
                                "fields": [
                                    {
                                        "name": "category"
                                    },
                                    {
                                        "name": "subcategory"
                                    },
                                    {
                                        "name": "product_name"
                                    }
                                ]
                            },
                            "data": [
                                {
                                    "category": "Accessories",
                                    "subcategory": "Bike Racks",
                                    "product_name": "Hitch Rack - 4-Bike"
                                },
                                {
                                    "category": "Accessories",
                                    "subcategory": "Bike Stands",
                                    "product_name": "All-Purpose Bike Stand"
                                },
                                {
                                    "category": "Accessories",
                                    "subcategory": "Bottles and Cages",
                                    "product_name": "Mountain Bottle Cage"
                                },
                                {
                                    "category": "Accessories",
                                    "subcategory": "Bottles and Cages",
                                    "product_name": "Road Bottle Cage"
                                },
                                {
                                    "category": "Accessories",
                                    "subcategory": "Bottles and Cages",
                                    "product_name": "Water Bottle - 30 oz."
                                },
                                {
                                    "category": "Accessories",
                                    "subcategory": "Cleaners",
                                    "product_name": "Bike Wash - Dissolver"
                                },
                                {
                                    "category": "Accessories",
                                    "subcategory": "Fenders",
                                    "product_name": "Fender Set - Mountain"
                                },
                                {
                                    "category": "Accessories",
                                    "subcategory": "Helmets",
                                    "product_name": "Sport-100 Helmet- Black"
                                },
                                {
                                    "category": "Accessories",
                                    "subcategory": "Helmets",
                                    "product_name": "Sport-100 Helmet- Blue"
                                },
                                {
                                    "category": "Accessories",
                                    "subcategory": "Helmets",
                                    "product_name": "Sport-100 Helmet- Red"
                                }
                            ]
                        },
                        "text/html": [
                            "<table>",
                            "<tr><th>category</th><th>subcategory</th><th>product_name</th></tr>",
                            "<tr><td>Accessories</td><td>Bike Racks</td><td>Hitch Rack - 4-Bike</td></tr>",
                            "<tr><td>Accessories</td><td>Bike Stands</td><td>All-Purpose Bike Stand</td></tr>",
                            "<tr><td>Accessories</td><td>Bottles and Cages</td><td>Mountain Bottle Cage</td></tr>",
                            "<tr><td>Accessories</td><td>Bottles and Cages</td><td>Road Bottle Cage</td></tr>",
                            "<tr><td>Accessories</td><td>Bottles and Cages</td><td>Water Bottle - 30 oz.</td></tr>",
                            "<tr><td>Accessories</td><td>Cleaners</td><td>Bike Wash - Dissolver</td></tr>",
                            "<tr><td>Accessories</td><td>Fenders</td><td>Fender Set - Mountain</td></tr>",
                            "<tr><td>Accessories</td><td>Helmets</td><td>Sport-100 Helmet- Black</td></tr>",
                            "<tr><td>Accessories</td><td>Helmets</td><td>Sport-100 Helmet- Blue</td></tr>",
                            "<tr><td>Accessories</td><td>Helmets</td><td>Sport-100 Helmet- Red</td></tr>",
                            "</table>"
                        ]
                    }
                }
            ],
            "execution_count": 33
        },
        {
            "cell_type": "markdown",
            "source": [
                "## Date Range Exploration\n",
                "\n",
                "Purpose:\n",
                "- To determine the temporal boundaries of key data points.\n",
                "- To understand the range of historical data.\n",
                "\n",
                "SQL Functions Used:\n",
                "- MIN(), MAX(), DATEDIFF()"
            ],
            "metadata": {
                "azdata_cell_guid": "20637d94-3e8d-45cc-a619-94dbff77dfa3"
            }
        },
        {
            "cell_type": "code",
            "source": [
                "-- Determine the first and last order date and the total duration in months\n",
                "SELECT \n",
                "    MIN(order_date) AS first_order_date,\n",
                "    MAX(order_date) AS last_order_date,\n",
                "    DATEDIFF(MONTH, MIN(order_date), MAX(order_date)) AS order_range_months\n",
                "FROM gold.fact_sales;"
            ],
            "metadata": {
                "azdata_cell_guid": "081f5ec3-29ba-4df3-9328-6ac8f544d75a",
                "language": "sql"
            },
            "outputs": [
                {
                    "output_type": "display_data",
                    "data": {
                        "text/html": "Warning: Null value is eliminated by an aggregate or other SET operation."
                    },
                    "metadata": {}
                },
                {
                    "output_type": "display_data",
                    "data": {
                        "text/html": "(1 row affected)"
                    },
                    "metadata": {}
                },
                {
                    "output_type": "display_data",
                    "data": {
                        "text/html": "Total execution time: 00:00:00.111"
                    },
                    "metadata": {}
                },
                {
                    "output_type": "execute_result",
                    "metadata": {},
                    "execution_count": 8,
                    "data": {
                        "application/vnd.dataresource+json": {
                            "schema": {
                                "fields": [
                                    {
                                        "name": "first_order_date"
                                    },
                                    {
                                        "name": "last_order_date"
                                    },
                                    {
                                        "name": "order_range_months"
                                    }
                                ]
                            },
                            "data": [
                                {
                                    "first_order_date": "2010-12-29",
                                    "last_order_date": "2014-01-28",
                                    "order_range_months": "37"
                                }
                            ]
                        },
                        "text/html": [
                            "<table>",
                            "<tr><th>first_order_date</th><th>last_order_date</th><th>order_range_months</th></tr>",
                            "<tr><td>2010-12-29</td><td>2014-01-28</td><td>37</td></tr>",
                            "</table>"
                        ]
                    }
                }
            ],
            "execution_count": 8
        },
        {
            "cell_type": "code",
            "source": [
                "-- Find the youngest and oldest customer based on birthdate\n",
                "SELECT\n",
                "    MIN(birthdate) AS oldest_birthdate,\n",
                "    DATEDIFF(YEAR, MIN(birthdate), GETDATE()) AS oldest_age,\n",
                "    MAX(birthdate) AS youngest_birthdate,\n",
                "    DATEDIFF(YEAR, MAX(birthdate), GETDATE()) AS youngest_age\n",
                "FROM gold.dim_customers;"
            ],
            "metadata": {
                "azdata_cell_guid": "8ea9c573-5a88-4925-b292-5a66fa567c52",
                "language": "sql"
            },
            "outputs": [
                {
                    "output_type": "display_data",
                    "data": {
                        "text/html": "Warning: Null value is eliminated by an aggregate or other SET operation."
                    },
                    "metadata": {}
                },
                {
                    "output_type": "display_data",
                    "data": {
                        "text/html": "(1 row affected)"
                    },
                    "metadata": {}
                },
                {
                    "output_type": "display_data",
                    "data": {
                        "text/html": "Total execution time: 00:00:00.092"
                    },
                    "metadata": {}
                },
                {
                    "output_type": "execute_result",
                    "metadata": {},
                    "execution_count": 9,
                    "data": {
                        "application/vnd.dataresource+json": {
                            "schema": {
                                "fields": [
                                    {
                                        "name": "oldest_birthdate"
                                    },
                                    {
                                        "name": "oldest_age"
                                    },
                                    {
                                        "name": "youngest_birthdate"
                                    },
                                    {
                                        "name": "youngest_age"
                                    }
                                ]
                            },
                            "data": [
                                {
                                    "oldest_birthdate": "1916-02-10",
                                    "oldest_age": "109",
                                    "youngest_birthdate": "1986-06-25",
                                    "youngest_age": "39"
                                }
                            ]
                        },
                        "text/html": [
                            "<table>",
                            "<tr><th>oldest_birthdate</th><th>oldest_age</th><th>youngest_birthdate</th><th>youngest_age</th></tr>",
                            "<tr><td>1916-02-10</td><td>109</td><td>1986-06-25</td><td>39</td></tr>",
                            "</table>"
                        ]
                    }
                }
            ],
            "execution_count": 9
        },
        {
            "cell_type": "markdown",
            "source": [
                "## Measures Exploration (Key Metrics)\n",
                "\n",
                "Purpose:\n",
                "\n",
                "- To calculate aggregated metrics (e.g., totals, averages) for quick insights.\n",
                "- To identify overall trends or spot anomalies.\n",
                "\n",
                "SQL Functions Used:\n",
                "\n",
                "- COUNT(), SUM(), AVG(), UNION"
            ],
            "metadata": {
                "azdata_cell_guid": "ef6419fd-69d9-44e3-9d09-84f5730b05b4"
            },
            "attachments": {}
        },
        {
            "cell_type": "code",
            "source": [
                "-- Find the Total Sales\n",
                "SELECT SUM(sales_amount) AS total_sales FROM gold.fact_sales\n",
                "\n",
                "-- Over 29 M"
            ],
            "metadata": {
                "azdata_cell_guid": "47fd1144-b2c1-4c79-b79c-5fe5ba0b1f86",
                "language": "sql"
            },
            "outputs": [
                {
                    "output_type": "display_data",
                    "data": {
                        "text/html": "(1 row affected)"
                    },
                    "metadata": {}
                },
                {
                    "output_type": "display_data",
                    "data": {
                        "text/html": "Total execution time: 00:00:00.179"
                    },
                    "metadata": {}
                },
                {
                    "output_type": "execute_result",
                    "metadata": {},
                    "execution_count": 10,
                    "data": {
                        "application/vnd.dataresource+json": {
                            "schema": {
                                "fields": [
                                    {
                                        "name": "total_sales"
                                    }
                                ]
                            },
                            "data": [
                                {
                                    "total_sales": "29356250"
                                }
                            ]
                        },
                        "text/html": [
                            "<table>",
                            "<tr><th>total_sales</th></tr>",
                            "<tr><td>29356250</td></tr>",
                            "</table>"
                        ]
                    }
                }
            ],
            "execution_count": 10
        },
        {
            "cell_type": "code",
            "source": [
                "-- Find the average selling price\n",
                "SELECT AVG(price) AS avg_price FROM gold.fact_sales\n",
                "\n",
                "-- Selling expensive items\n",
                "-- Might sell bikes more often (verified in the magnitude analysis section)"
            ],
            "metadata": {
                "azdata_cell_guid": "892e71e2-7756-443e-b695-023193a989ea",
                "language": "sql"
            },
            "outputs": [
                {
                    "output_type": "display_data",
                    "data": {
                        "text/html": "(1 row affected)"
                    },
                    "metadata": {}
                },
                {
                    "output_type": "display_data",
                    "data": {
                        "text/html": "Total execution time: 00:00:00.106"
                    },
                    "metadata": {}
                },
                {
                    "output_type": "execute_result",
                    "metadata": {},
                    "execution_count": 12,
                    "data": {
                        "application/vnd.dataresource+json": {
                            "schema": {
                                "fields": [
                                    {
                                        "name": "avg_price"
                                    }
                                ]
                            },
                            "data": [
                                {
                                    "avg_price": "486"
                                }
                            ]
                        },
                        "text/html": [
                            "<table>",
                            "<tr><th>avg_price</th></tr>",
                            "<tr><td>486</td></tr>",
                            "</table>"
                        ]
                    }
                }
            ],
            "execution_count": 12
        },
        {
            "cell_type": "code",
            "source": [
                "-- Find how many items are sold\n",
                "SELECT SUM(quantity) AS total_quantity FROM gold.fact_sales"
            ],
            "metadata": {
                "azdata_cell_guid": "9d223b49-7d08-4c43-ad6f-62f53d81f09b",
                "language": "sql",
                "tags": []
            },
            "outputs": [
                {
                    "output_type": "display_data",
                    "data": {
                        "text/html": "(1 row affected)"
                    },
                    "metadata": {}
                },
                {
                    "output_type": "display_data",
                    "data": {
                        "text/html": "Total execution time: 00:00:00.141"
                    },
                    "metadata": {}
                },
                {
                    "output_type": "execute_result",
                    "metadata": {},
                    "execution_count": 11,
                    "data": {
                        "application/vnd.dataresource+json": {
                            "schema": {
                                "fields": [
                                    {
                                        "name": "total_quantity"
                                    }
                                ]
                            },
                            "data": [
                                {
                                    "total_quantity": "60423"
                                }
                            ]
                        },
                        "text/html": [
                            "<table>",
                            "<tr><th>total_quantity</th></tr>",
                            "<tr><td>60423</td></tr>",
                            "</table>"
                        ]
                    }
                }
            ],
            "execution_count": 11
        },
        {
            "cell_type": "code",
            "source": [
                "-- Find the Total number of Orders (with and without duplicates)\n",
                "SELECT COUNT(order_number) AS total_orders FROM gold.fact_sales;\n",
                "SELECT COUNT(DISTINCT order_number) AS total_orders FROM gold.fact_sales;\n",
                "\n",
                "-- Means the business are selling at least 2 items per order on average"
            ],
            "metadata": {
                "azdata_cell_guid": "25525210-6fc2-4fa6-b705-73b85ec78ce5",
                "language": "sql"
            },
            "outputs": [
                {
                    "output_type": "display_data",
                    "data": {
                        "text/html": "(1 row affected)"
                    },
                    "metadata": {}
                },
                {
                    "output_type": "display_data",
                    "data": {
                        "text/html": "(1 row affected)"
                    },
                    "metadata": {}
                },
                {
                    "output_type": "display_data",
                    "data": {
                        "text/html": "Total execution time: 00:00:00.313"
                    },
                    "metadata": {}
                },
                {
                    "output_type": "execute_result",
                    "metadata": {},
                    "execution_count": 13,
                    "data": {
                        "application/vnd.dataresource+json": {
                            "schema": {
                                "fields": [
                                    {
                                        "name": "total_orders"
                                    }
                                ]
                            },
                            "data": [
                                {
                                    "total_orders": "60398"
                                }
                            ]
                        },
                        "text/html": [
                            "<table>",
                            "<tr><th>total_orders</th></tr>",
                            "<tr><td>60398</td></tr>",
                            "</table>"
                        ]
                    }
                },
                {
                    "output_type": "execute_result",
                    "metadata": {},
                    "execution_count": 13,
                    "data": {
                        "application/vnd.dataresource+json": {
                            "schema": {
                                "fields": [
                                    {
                                        "name": "total_orders"
                                    }
                                ]
                            },
                            "data": [
                                {
                                    "total_orders": "27659"
                                }
                            ]
                        },
                        "text/html": [
                            "<table>",
                            "<tr><th>total_orders</th></tr>",
                            "<tr><td>27659</td></tr>",
                            "</table>"
                        ]
                    }
                }
            ],
            "execution_count": 13
        },
        {
            "cell_type": "code",
            "source": [
                "-- Find the total number of products\n",
                "SELECT COUNT(product_name) AS total_products FROM gold.dim_products"
            ],
            "metadata": {
                "azdata_cell_guid": "4cc17b6c-f3e7-460a-aaad-702d84357055",
                "language": "sql"
            },
            "outputs": [
                {
                    "output_type": "display_data",
                    "data": {
                        "text/html": "(1 row affected)"
                    },
                    "metadata": {}
                },
                {
                    "output_type": "display_data",
                    "data": {
                        "text/html": "Total execution time: 00:00:00.069"
                    },
                    "metadata": {}
                },
                {
                    "output_type": "execute_result",
                    "metadata": {},
                    "execution_count": 17,
                    "data": {
                        "application/vnd.dataresource+json": {
                            "schema": {
                                "fields": [
                                    {
                                        "name": "total_products"
                                    }
                                ]
                            },
                            "data": [
                                {
                                    "total_products": "295"
                                }
                            ]
                        },
                        "text/html": [
                            "<table>",
                            "<tr><th>total_products</th></tr>",
                            "<tr><td>295</td></tr>",
                            "</table>"
                        ]
                    }
                }
            ],
            "execution_count": 17
        },
        {
            "cell_type": "code",
            "source": [
                "-- Find the total number of customers\n",
                "SELECT COUNT(customer_key) AS total_customers FROM gold.dim_customers;"
            ],
            "metadata": {
                "azdata_cell_guid": "eab89272-02ef-4c5c-b70e-caba2150e6c6",
                "language": "sql"
            },
            "outputs": [
                {
                    "output_type": "display_data",
                    "data": {
                        "text/html": "(1 row affected)"
                    },
                    "metadata": {}
                },
                {
                    "output_type": "display_data",
                    "data": {
                        "text/html": "Total execution time: 00:00:00.075"
                    },
                    "metadata": {}
                },
                {
                    "output_type": "execute_result",
                    "metadata": {},
                    "execution_count": 18,
                    "data": {
                        "application/vnd.dataresource+json": {
                            "schema": {
                                "fields": [
                                    {
                                        "name": "total_customers"
                                    }
                                ]
                            },
                            "data": [
                                {
                                    "total_customers": "18484"
                                }
                            ]
                        },
                        "text/html": [
                            "<table>",
                            "<tr><th>total_customers</th></tr>",
                            "<tr><td>18484</td></tr>",
                            "</table>"
                        ]
                    }
                }
            ],
            "execution_count": 18
        },
        {
            "cell_type": "code",
            "source": [
                "-- Find the total number of customers that has placed an order\n",
                "SELECT COUNT(DISTINCT customer_key) AS total_customers FROM gold.fact_sales;\n",
                "\n",
                "-- Woww, all the registered customers acutally bought something"
            ],
            "metadata": {
                "azdata_cell_guid": "b3c0d64c-bc60-4db4-a955-dda7e2239107",
                "language": "sql"
            },
            "outputs": [
                {
                    "output_type": "display_data",
                    "data": {
                        "text/html": "(1 row affected)"
                    },
                    "metadata": {}
                },
                {
                    "output_type": "display_data",
                    "data": {
                        "text/html": "Total execution time: 00:00:00.238"
                    },
                    "metadata": {}
                },
                {
                    "output_type": "execute_result",
                    "metadata": {},
                    "execution_count": 19,
                    "data": {
                        "application/vnd.dataresource+json": {
                            "schema": {
                                "fields": [
                                    {
                                        "name": "total_customers"
                                    }
                                ]
                            },
                            "data": [
                                {
                                    "total_customers": "18484"
                                }
                            ]
                        },
                        "text/html": [
                            "<table>",
                            "<tr><th>total_customers</th></tr>",
                            "<tr><td>18484</td></tr>",
                            "</table>"
                        ]
                    }
                }
            ],
            "execution_count": 19
        },
        {
            "cell_type": "code",
            "source": [
                "-- Generate a Report that shows all key metrics of the business\n",
                "SELECT 'Total Sales' AS measure_name, SUM(sales_amount) AS measure_value FROM gold.fact_sales\n",
                "UNION ALL\n",
                "SELECT 'Total Quantity', SUM(quantity) FROM gold.fact_sales\n",
                "UNION ALL\n",
                "SELECT 'Average Price', AVG(price) FROM gold.fact_sales\n",
                "UNION ALL\n",
                "SELECT 'Total Orders', COUNT(DISTINCT order_number) FROM gold.fact_sales\n",
                "UNION ALL\n",
                "SELECT 'Total Products', COUNT(DISTINCT product_name) FROM gold.dim_products\n",
                "UNION ALL\n",
                "SELECT 'Total Customers', COUNT(customer_key) FROM gold.dim_customers;"
            ],
            "metadata": {
                "azdata_cell_guid": "5229595f-d3c6-47cc-ba8a-a542d37ce6dd",
                "language": "sql"
            },
            "outputs": [
                {
                    "output_type": "display_data",
                    "data": {
                        "text/html": "(6 rows affected)"
                    },
                    "metadata": {}
                },
                {
                    "output_type": "display_data",
                    "data": {
                        "text/html": "Total execution time: 00:00:00.237"
                    },
                    "metadata": {}
                },
                {
                    "output_type": "execute_result",
                    "metadata": {},
                    "execution_count": 22,
                    "data": {
                        "application/vnd.dataresource+json": {
                            "schema": {
                                "fields": [
                                    {
                                        "name": "measure_name"
                                    },
                                    {
                                        "name": "measure_value"
                                    }
                                ]
                            },
                            "data": [
                                {
                                    "measure_name": "Total Sales",
                                    "measure_value": "29356250"
                                },
                                {
                                    "measure_name": "Total Quantity",
                                    "measure_value": "60423"
                                },
                                {
                                    "measure_name": "Average Price",
                                    "measure_value": "486"
                                },
                                {
                                    "measure_name": "Total Orders",
                                    "measure_value": "27659"
                                },
                                {
                                    "measure_name": "Total Products",
                                    "measure_value": "295"
                                },
                                {
                                    "measure_name": "Total Customers",
                                    "measure_value": "18484"
                                }
                            ]
                        },
                        "text/html": [
                            "<table>",
                            "<tr><th>measure_name</th><th>measure_value</th></tr>",
                            "<tr><td>Total Sales</td><td>29356250</td></tr>",
                            "<tr><td>Total Quantity</td><td>60423</td></tr>",
                            "<tr><td>Average Price</td><td>486</td></tr>",
                            "<tr><td>Total Orders</td><td>27659</td></tr>",
                            "<tr><td>Total Products</td><td>295</td></tr>",
                            "<tr><td>Total Customers</td><td>18484</td></tr>",
                            "</table>"
                        ]
                    }
                }
            ],
            "execution_count": 22
        },
        {
            "cell_type": "markdown",
            "source": [
                "## Magnitude Analysis (Aggregating Measures by Dimensions)\n",
                "\n",
                "Purpose:\n",
                "\n",
                "- To quantify data and group results by specific dimensions.\n",
                "- For understanding data distribution across categories.\n",
                "\n",
                "SQL Functions Used:\n",
                "\n",
                "- Aggregate Functions: SUM(), COUNT(), AVG()\n",
                "- GROUP BY, ORDER BY, LEFT JOIN"
            ],
            "metadata": {
                "azdata_cell_guid": "2f8430e4-8a89-4770-840a-f92193a80d19"
            },
            "attachments": {}
        },
        {
            "cell_type": "code",
            "source": [
                "-- Find total customers by countries\n",
                "SELECT\n",
                "    country,\n",
                "    COUNT(customer_key) AS total_customers\n",
                "FROM gold.dim_customers\n",
                "GROUP BY country\n",
                "ORDER BY total_customers DESC;"
            ],
            "metadata": {
                "azdata_cell_guid": "4f07a79f-ed54-454b-9c9f-3d2dba949891",
                "language": "sql"
            },
            "outputs": [
                {
                    "output_type": "display_data",
                    "data": {
                        "text/html": "(7 rows affected)"
                    },
                    "metadata": {}
                },
                {
                    "output_type": "display_data",
                    "data": {
                        "text/html": "Total execution time: 00:00:00.233"
                    },
                    "metadata": {}
                },
                {
                    "output_type": "execute_result",
                    "metadata": {},
                    "execution_count": 23,
                    "data": {
                        "application/vnd.dataresource+json": {
                            "schema": {
                                "fields": [
                                    {
                                        "name": "country"
                                    },
                                    {
                                        "name": "total_customers"
                                    }
                                ]
                            },
                            "data": [
                                {
                                    "country": "United States",
                                    "total_customers": "7482"
                                },
                                {
                                    "country": "Australia",
                                    "total_customers": "3591"
                                },
                                {
                                    "country": "United Kingdom",
                                    "total_customers": "1913"
                                },
                                {
                                    "country": "France",
                                    "total_customers": "1810"
                                },
                                {
                                    "country": "Germany",
                                    "total_customers": "1780"
                                },
                                {
                                    "country": "Canada",
                                    "total_customers": "1571"
                                },
                                {
                                    "country": "Unknown",
                                    "total_customers": "337"
                                }
                            ]
                        },
                        "text/html": [
                            "<table>",
                            "<tr><th>country</th><th>total_customers</th></tr>",
                            "<tr><td>United States</td><td>7482</td></tr>",
                            "<tr><td>Australia</td><td>3591</td></tr>",
                            "<tr><td>United Kingdom</td><td>1913</td></tr>",
                            "<tr><td>France</td><td>1810</td></tr>",
                            "<tr><td>Germany</td><td>1780</td></tr>",
                            "<tr><td>Canada</td><td>1571</td></tr>",
                            "<tr><td>Unknown</td><td>337</td></tr>",
                            "</table>"
                        ]
                    }
                }
            ],
            "execution_count": 23
        },
        {
            "cell_type": "code",
            "source": [
                "-- Find total customers by gender\n",
                "SELECT\n",
                "    gender,\n",
                "    COUNT(customer_key) AS total_customers\n",
                "FROM gold.dim_customers\n",
                "GROUP BY gender\n",
                "ORDER BY total_customers DESC;"
            ],
            "metadata": {
                "azdata_cell_guid": "99710682-3f36-4a91-b7c5-2c2f5145013f",
                "language": "sql"
            },
            "outputs": [
                {
                    "output_type": "display_data",
                    "data": {
                        "text/html": "(3 rows affected)"
                    },
                    "metadata": {}
                },
                {
                    "output_type": "display_data",
                    "data": {
                        "text/html": "Total execution time: 00:00:00.096"
                    },
                    "metadata": {}
                },
                {
                    "output_type": "execute_result",
                    "metadata": {},
                    "execution_count": 24,
                    "data": {
                        "application/vnd.dataresource+json": {
                            "schema": {
                                "fields": [
                                    {
                                        "name": "gender"
                                    },
                                    {
                                        "name": "total_customers"
                                    }
                                ]
                            },
                            "data": [
                                {
                                    "gender": "Male",
                                    "total_customers": "9341"
                                },
                                {
                                    "gender": "Female",
                                    "total_customers": "9128"
                                },
                                {
                                    "gender": "Unknown",
                                    "total_customers": "15"
                                }
                            ]
                        },
                        "text/html": [
                            "<table>",
                            "<tr><th>gender</th><th>total_customers</th></tr>",
                            "<tr><td>Male</td><td>9341</td></tr>",
                            "<tr><td>Female</td><td>9128</td></tr>",
                            "<tr><td>Unknown</td><td>15</td></tr>",
                            "</table>"
                        ]
                    }
                }
            ],
            "execution_count": 24
        },
        {
            "cell_type": "code",
            "source": [
                "-- Find total customers by marital_status\n",
                "SELECT\n",
                "    marital_status,\n",
                "    COUNT(customer_key) AS total_customers\n",
                "FROM gold.dim_customers\n",
                "GROUP BY marital_status\n",
                "ORDER BY total_customers DESC;"
            ],
            "metadata": {
                "language": "sql",
                "azdata_cell_guid": "04c3c92a-6412-451a-8d56-74f041386407"
            },
            "outputs": [
                {
                    "output_type": "display_data",
                    "data": {
                        "text/html": "(2 rows affected)"
                    },
                    "metadata": {}
                },
                {
                    "output_type": "display_data",
                    "data": {
                        "text/html": "Total execution time: 00:00:00.084"
                    },
                    "metadata": {}
                },
                {
                    "output_type": "execute_result",
                    "metadata": {},
                    "execution_count": 25,
                    "data": {
                        "application/vnd.dataresource+json": {
                            "schema": {
                                "fields": [
                                    {
                                        "name": "marital_status"
                                    },
                                    {
                                        "name": "total_customers"
                                    }
                                ]
                            },
                            "data": [
                                {
                                    "marital_status": "Married",
                                    "total_customers": "10011"
                                },
                                {
                                    "marital_status": "Single",
                                    "total_customers": "8473"
                                }
                            ]
                        },
                        "text/html": [
                            "<table>",
                            "<tr><th>marital_status</th><th>total_customers</th></tr>",
                            "<tr><td>Married</td><td>10011</td></tr>",
                            "<tr><td>Single</td><td>8473</td></tr>",
                            "</table>"
                        ]
                    }
                }
            ],
            "execution_count": 25
        },
        {
            "cell_type": "code",
            "source": [
                "-- Find total products by category\n",
                "SELECT\n",
                "    category,\n",
                "    COUNT(product_key) AS total_products\n",
                "FROM gold.dim_products\n",
                "GROUP BY category\n",
                "ORDER BY total_products DESC;"
            ],
            "metadata": {
                "azdata_cell_guid": "7d757c13-184c-4628-8de2-59cdcabd4e7e",
                "language": "sql"
            },
            "outputs": [
                {
                    "output_type": "display_data",
                    "data": {
                        "text/html": "(4 rows affected)"
                    },
                    "metadata": {}
                },
                {
                    "output_type": "display_data",
                    "data": {
                        "text/html": "Total execution time: 00:00:00.052"
                    },
                    "metadata": {}
                },
                {
                    "output_type": "execute_result",
                    "metadata": {},
                    "execution_count": 26,
                    "data": {
                        "application/vnd.dataresource+json": {
                            "schema": {
                                "fields": [
                                    {
                                        "name": "category"
                                    },
                                    {
                                        "name": "total_products"
                                    }
                                ]
                            },
                            "data": [
                                {
                                    "category": "Components",
                                    "total_products": "134"
                                },
                                {
                                    "category": "Bikes",
                                    "total_products": "97"
                                },
                                {
                                    "category": "Clothing",
                                    "total_products": "35"
                                },
                                {
                                    "category": "Accessories",
                                    "total_products": "29"
                                }
                            ]
                        },
                        "text/html": [
                            "<table>",
                            "<tr><th>category</th><th>total_products</th></tr>",
                            "<tr><td>Components</td><td>134</td></tr>",
                            "<tr><td>Bikes</td><td>97</td></tr>",
                            "<tr><td>Clothing</td><td>35</td></tr>",
                            "<tr><td>Accessories</td><td>29</td></tr>",
                            "</table>"
                        ]
                    }
                }
            ],
            "execution_count": 26
        },
        {
            "cell_type": "code",
            "source": [
                "-- What is the average costs in each category?\n",
                "SELECT\n",
                "    category,\n",
                "    AVG(cost) AS avg_cost\n",
                "FROM gold.dim_products\n",
                "GROUP BY category\n",
                "ORDER BY avg_cost DESC;"
            ],
            "metadata": {
                "azdata_cell_guid": "233e4c06-cff8-45cc-86aa-e6d363962be2",
                "language": "sql"
            },
            "outputs": [
                {
                    "output_type": "display_data",
                    "data": {
                        "text/html": "(4 rows affected)"
                    },
                    "metadata": {}
                },
                {
                    "output_type": "display_data",
                    "data": {
                        "text/html": "Total execution time: 00:00:00.070"
                    },
                    "metadata": {}
                },
                {
                    "output_type": "execute_result",
                    "metadata": {},
                    "execution_count": 29,
                    "data": {
                        "application/vnd.dataresource+json": {
                            "schema": {
                                "fields": [
                                    {
                                        "name": "category"
                                    },
                                    {
                                        "name": "avg_cost"
                                    }
                                ]
                            },
                            "data": [
                                {
                                    "category": "Bikes",
                                    "avg_cost": "949"
                                },
                                {
                                    "category": "Components",
                                    "avg_cost": "252"
                                },
                                {
                                    "category": "Clothing",
                                    "avg_cost": "24"
                                },
                                {
                                    "category": "Accessories",
                                    "avg_cost": "13"
                                }
                            ]
                        },
                        "text/html": [
                            "<table>",
                            "<tr><th>category</th><th>avg_cost</th></tr>",
                            "<tr><td>Bikes</td><td>949</td></tr>",
                            "<tr><td>Components</td><td>252</td></tr>",
                            "<tr><td>Clothing</td><td>24</td></tr>",
                            "<tr><td>Accessories</td><td>13</td></tr>",
                            "</table>"
                        ]
                    }
                }
            ],
            "execution_count": 29
        },
        {
            "cell_type": "code",
            "source": [
                "-- What is the total revenue generated , total quantity sold per each category?\n",
                "SELECT \n",
                "    p.category,\n",
                "    COALESCE(SUM(f.sales_amount), 0) AS total_revenue,\n",
                "    COALESCE(SUM(f.quantity), 0) AS total_quantity,\n",
                "    COALESCE(AVG(f.price), 0) AS avg_price,\n",
                "    COUNT(DISTINCT p.product_key) AS total_products\n",
                "FROM gold.fact_sales f\n",
                "FULL JOIN gold.dim_products p\n",
                "    ON p.product_key = f.product_key\n",
                "GROUP BY p.category\n",
                "ORDER BY total_revenue DESC;\n",
                "\n",
                "-- Woww, not even a single item sold from Components of bikes\n",
                "-- This is while the business has the widest range of items in this category"
            ],
            "metadata": {
                "language": "sql",
                "azdata_cell_guid": "d5e6796c-39f7-41ec-9046-911fdee4ff35"
            },
            "outputs": [
                {
                    "output_type": "display_data",
                    "data": {
                        "text/html": "Warning: Null value is eliminated by an aggregate or other SET operation."
                    },
                    "metadata": {}
                },
                {
                    "output_type": "display_data",
                    "data": {
                        "text/html": "(4 rows affected)"
                    },
                    "metadata": {}
                },
                {
                    "output_type": "display_data",
                    "data": {
                        "text/html": "Total execution time: 00:00:00.162"
                    },
                    "metadata": {}
                },
                {
                    "output_type": "execute_result",
                    "metadata": {},
                    "execution_count": 66,
                    "data": {
                        "application/vnd.dataresource+json": {
                            "schema": {
                                "fields": [
                                    {
                                        "name": "category"
                                    },
                                    {
                                        "name": "total_revenue"
                                    },
                                    {
                                        "name": "total_quantity"
                                    },
                                    {
                                        "name": "avg_price"
                                    },
                                    {
                                        "name": "total_products"
                                    }
                                ]
                            },
                            "data": [
                                {
                                    "category": "Bikes",
                                    "total_revenue": "28316272",
                                    "total_quantity": "15205",
                                    "avg_price": "1862",
                                    "total_products": "97"
                                },
                                {
                                    "category": "Accessories",
                                    "total_revenue": "700262",
                                    "total_quantity": "36112",
                                    "avg_price": "19",
                                    "total_products": "29"
                                },
                                {
                                    "category": "Clothing",
                                    "total_revenue": "339716",
                                    "total_quantity": "9106",
                                    "avg_price": "37",
                                    "total_products": "35"
                                },
                                {
                                    "category": "Components",
                                    "total_revenue": "0",
                                    "total_quantity": "0",
                                    "avg_price": "0",
                                    "total_products": "134"
                                }
                            ]
                        },
                        "text/html": [
                            "<table>",
                            "<tr><th>category</th><th>total_revenue</th><th>total_quantity</th><th>avg_price</th><th>total_products</th></tr>",
                            "<tr><td>Bikes</td><td>28316272</td><td>15205</td><td>1862</td><td>97</td></tr>",
                            "<tr><td>Accessories</td><td>700262</td><td>36112</td><td>19</td><td>29</td></tr>",
                            "<tr><td>Clothing</td><td>339716</td><td>9106</td><td>37</td><td>35</td></tr>",
                            "<tr><td>Components</td><td>0</td><td>0</td><td>0</td><td>134</td></tr>",
                            "</table>"
                        ]
                    }
                }
            ],
            "execution_count": 66
        },
        {
            "cell_type": "code",
            "source": [
                "-- What is the total revenue generated by each customer?\n",
                "SELECT TOP 5\n",
                "    c.customer_key,\n",
                "    c.first_name,\n",
                "    c.last_name,\n",
                "    SUM(f.sales_amount) AS total_revenue\n",
                "FROM gold.fact_sales f\n",
                "LEFT JOIN gold.dim_customers c\n",
                "    ON c.customer_key = f.customer_key\n",
                "GROUP BY \n",
                "    c.customer_key,\n",
                "    c.first_name,\n",
                "    c.last_name\n",
                "ORDER BY total_revenue DESC;\n",
                "\n",
                "-- Found high value customers aka big spenders"
            ],
            "metadata": {
                "azdata_cell_guid": "aed44985-98be-4475-84ee-19348d784fa0",
                "language": "sql",
                "tags": []
            },
            "outputs": [
                {
                    "output_type": "display_data",
                    "data": {
                        "text/html": "(5 rows affected)"
                    },
                    "metadata": {}
                },
                {
                    "output_type": "display_data",
                    "data": {
                        "text/html": "Total execution time: 00:00:00.200"
                    },
                    "metadata": {}
                },
                {
                    "output_type": "execute_result",
                    "metadata": {},
                    "execution_count": 56,
                    "data": {
                        "application/vnd.dataresource+json": {
                            "schema": {
                                "fields": [
                                    {
                                        "name": "customer_key"
                                    },
                                    {
                                        "name": "first_name"
                                    },
                                    {
                                        "name": "last_name"
                                    },
                                    {
                                        "name": "total_revenue"
                                    }
                                ]
                            },
                            "data": [
                                {
                                    "customer_key": "1133",
                                    "first_name": "Kaitlyn",
                                    "last_name": "Henderson",
                                    "total_revenue": "13294"
                                },
                                {
                                    "customer_key": "1302",
                                    "first_name": "Nichole",
                                    "last_name": "Nara",
                                    "total_revenue": "13294"
                                },
                                {
                                    "customer_key": "1309",
                                    "first_name": "Margaret",
                                    "last_name": "He",
                                    "total_revenue": "13268"
                                },
                                {
                                    "customer_key": "1132",
                                    "first_name": "Randall",
                                    "last_name": "Dominguez",
                                    "total_revenue": "13265"
                                },
                                {
                                    "customer_key": "1301",
                                    "first_name": "Adriana",
                                    "last_name": "Gonzalez",
                                    "total_revenue": "13242"
                                }
                            ]
                        },
                        "text/html": [
                            "<table>",
                            "<tr><th>customer_key</th><th>first_name</th><th>last_name</th><th>total_revenue</th></tr>",
                            "<tr><td>1133</td><td>Kaitlyn</td><td>Henderson</td><td>13294</td></tr>",
                            "<tr><td>1302</td><td>Nichole</td><td>Nara</td><td>13294</td></tr>",
                            "<tr><td>1309</td><td>Margaret</td><td>He</td><td>13268</td></tr>",
                            "<tr><td>1132</td><td>Randall</td><td>Dominguez</td><td>13265</td></tr>",
                            "<tr><td>1301</td><td>Adriana</td><td>Gonzalez</td><td>13242</td></tr>",
                            "</table>"
                        ]
                    }
                }
            ],
            "execution_count": 56
        },
        {
            "cell_type": "code",
            "source": [
                "-- What is the distribution of key metrics across countries?\n",
                "SELECT\n",
                "    c.country,\n",
                "    SUM(f.sales_amount) AS total_revenue,\n",
                "    SUM(f.quantity) AS total_sold_items,\n",
                "    COUNT(DISTINCT c.customer_key) AS total_customers_registered,\n",
                "    COUNT(DISTINCT f.customer_key) AS total_customers_purchased\n",
                "FROM gold.fact_sales f\n",
                "FULL JOIN gold.dim_customers c\n",
                "    ON c.customer_key = f.customer_key\n",
                "GROUP BY c.country\n",
                "ORDER BY total_revenue DESC;\n",
                "\n",
                "-- USA is the biggest market\n",
                "-- Interestingly, Australia has a good potential (much lesser customers puchasing costly items, generation almost the same revenue as USA)"
            ],
            "metadata": {
                "azdata_cell_guid": "798cca26-6798-468b-9673-5a743740a074",
                "language": "sql"
            },
            "outputs": [
                {
                    "output_type": "display_data",
                    "data": {
                        "text/html": "(7 rows affected)"
                    },
                    "metadata": {}
                },
                {
                    "output_type": "display_data",
                    "data": {
                        "text/html": "Total execution time: 00:00:00.402"
                    },
                    "metadata": {}
                },
                {
                    "output_type": "execute_result",
                    "metadata": {},
                    "execution_count": 74,
                    "data": {
                        "application/vnd.dataresource+json": {
                            "schema": {
                                "fields": [
                                    {
                                        "name": "country"
                                    },
                                    {
                                        "name": "total_revenue"
                                    },
                                    {
                                        "name": "total_sold_items"
                                    },
                                    {
                                        "name": "total_customers_registered"
                                    },
                                    {
                                        "name": "total_customers_purchased"
                                    }
                                ]
                            },
                            "data": [
                                {
                                    "country": "United States",
                                    "total_revenue": "9162327",
                                    "total_sold_items": "20481",
                                    "total_customers_registered": "7482",
                                    "total_customers_purchased": "7482"
                                },
                                {
                                    "country": "Australia",
                                    "total_revenue": "9060172",
                                    "total_sold_items": "13346",
                                    "total_customers_registered": "3591",
                                    "total_customers_purchased": "3591"
                                },
                                {
                                    "country": "United Kingdom",
                                    "total_revenue": "3391376",
                                    "total_sold_items": "6910",
                                    "total_customers_registered": "1913",
                                    "total_customers_purchased": "1913"
                                },
                                {
                                    "country": "Germany",
                                    "total_revenue": "2894066",
                                    "total_sold_items": "5626",
                                    "total_customers_registered": "1780",
                                    "total_customers_purchased": "1780"
                                },
                                {
                                    "country": "France",
                                    "total_revenue": "2643751",
                                    "total_sold_items": "5559",
                                    "total_customers_registered": "1810",
                                    "total_customers_purchased": "1810"
                                },
                                {
                                    "country": "Canada",
                                    "total_revenue": "1977738",
                                    "total_sold_items": "7630",
                                    "total_customers_registered": "1571",
                                    "total_customers_purchased": "1571"
                                },
                                {
                                    "country": "Unknown",
                                    "total_revenue": "226820",
                                    "total_sold_items": "871",
                                    "total_customers_registered": "337",
                                    "total_customers_purchased": "337"
                                }
                            ]
                        },
                        "text/html": [
                            "<table>",
                            "<tr><th>country</th><th>total_revenue</th><th>total_sold_items</th><th>total_customers_registered</th><th>total_customers_purchased</th></tr>",
                            "<tr><td>United States</td><td>9162327</td><td>20481</td><td>7482</td><td>7482</td></tr>",
                            "<tr><td>Australia</td><td>9060172</td><td>13346</td><td>3591</td><td>3591</td></tr>",
                            "<tr><td>United Kingdom</td><td>3391376</td><td>6910</td><td>1913</td><td>1913</td></tr>",
                            "<tr><td>Germany</td><td>2894066</td><td>5626</td><td>1780</td><td>1780</td></tr>",
                            "<tr><td>France</td><td>2643751</td><td>5559</td><td>1810</td><td>1810</td></tr>",
                            "<tr><td>Canada</td><td>1977738</td><td>7630</td><td>1571</td><td>1571</td></tr>",
                            "<tr><td>Unknown</td><td>226820</td><td>871</td><td>337</td><td>337</td></tr>",
                            "</table>"
                        ]
                    }
                }
            ],
            "execution_count": 74
        },
        {
            "cell_type": "markdown",
            "source": [
                "## Ranking Analysis\n",
                "\n",
                "Purpose:\n",
                "- To rank items (e.g., products, customers) based on performance or other metrics.\n",
                "- To identify top performers or laggards.\n",
                "\n",
                "SQL Functions Used:\n",
                "- Window Ranking Functions: RANK(), DENSE_RANK(), ROW_NUMBER(), TOP\n",
                "- Clauses: GROUP BY, ORDER BY"
            ],
            "metadata": {
                "azdata_cell_guid": "fda573fc-88fd-4b3a-b7e7-193d77bb769a"
            }
        },
        {
            "cell_type": "code",
            "source": [
                "-- Which 5 products and subcategories Generating the Highest Revenue? (Simple Ranking)\n",
                "SELECT TOP 5\n",
                "    p.product_name,\n",
                "    SUM(f.sales_amount) AS total_revenue\n",
                "FROM gold.fact_sales f\n",
                "LEFT JOIN gold.dim_products p\n",
                "    ON p.product_key = f.product_key\n",
                "GROUP BY p.product_name\n",
                "ORDER BY total_revenue DESC;\n",
                "\n",
                "SELECT TOP 5\n",
                "    p.subcategory,\n",
                "    SUM(f.sales_amount) AS total_revenue\n",
                "FROM gold.fact_sales f\n",
                "LEFT JOIN gold.dim_products p\n",
                "    ON p.product_key = f.product_key\n",
                "GROUP BY p.subcategory\n",
                "ORDER BY total_revenue DESC;"
            ],
            "metadata": {
                "azdata_cell_guid": "e942bc59-52e6-48a2-84b6-82b43284f261",
                "language": "sql"
            },
            "outputs": [
                {
                    "output_type": "display_data",
                    "data": {
                        "text/html": "(5 rows affected)"
                    },
                    "metadata": {}
                },
                {
                    "output_type": "display_data",
                    "data": {
                        "text/html": "(5 rows affected)"
                    },
                    "metadata": {}
                },
                {
                    "output_type": "display_data",
                    "data": {
                        "text/html": "Total execution time: 00:00:00.234"
                    },
                    "metadata": {}
                },
                {
                    "output_type": "execute_result",
                    "metadata": {},
                    "execution_count": 76,
                    "data": {
                        "application/vnd.dataresource+json": {
                            "schema": {
                                "fields": [
                                    {
                                        "name": "product_name"
                                    },
                                    {
                                        "name": "total_revenue"
                                    }
                                ]
                            },
                            "data": [
                                {
                                    "product_name": "Mountain-200 Black- 46",
                                    "total_revenue": "1373454"
                                },
                                {
                                    "product_name": "Mountain-200 Black- 42",
                                    "total_revenue": "1363128"
                                },
                                {
                                    "product_name": "Mountain-200 Silver- 38",
                                    "total_revenue": "1339394"
                                },
                                {
                                    "product_name": "Mountain-200 Silver- 46",
                                    "total_revenue": "1301029"
                                },
                                {
                                    "product_name": "Mountain-200 Black- 38",
                                    "total_revenue": "1294854"
                                }
                            ]
                        },
                        "text/html": [
                            "<table>",
                            "<tr><th>product_name</th><th>total_revenue</th></tr>",
                            "<tr><td>Mountain-200 Black- 46</td><td>1373454</td></tr>",
                            "<tr><td>Mountain-200 Black- 42</td><td>1363128</td></tr>",
                            "<tr><td>Mountain-200 Silver- 38</td><td>1339394</td></tr>",
                            "<tr><td>Mountain-200 Silver- 46</td><td>1301029</td></tr>",
                            "<tr><td>Mountain-200 Black- 38</td><td>1294854</td></tr>",
                            "</table>"
                        ]
                    }
                },
                {
                    "output_type": "execute_result",
                    "metadata": {},
                    "execution_count": 76,
                    "data": {
                        "application/vnd.dataresource+json": {
                            "schema": {
                                "fields": [
                                    {
                                        "name": "subcategory"
                                    },
                                    {
                                        "name": "total_revenue"
                                    }
                                ]
                            },
                            "data": [
                                {
                                    "subcategory": "Road Bikes",
                                    "total_revenue": "14519438"
                                },
                                {
                                    "subcategory": "Mountain Bikes",
                                    "total_revenue": "9952254"
                                },
                                {
                                    "subcategory": "Touring Bikes",
                                    "total_revenue": "3844580"
                                },
                                {
                                    "subcategory": "Tires and Tubes",
                                    "total_revenue": "244634"
                                },
                                {
                                    "subcategory": "Helmets",
                                    "total_revenue": "225435"
                                }
                            ]
                        },
                        "text/html": [
                            "<table>",
                            "<tr><th>subcategory</th><th>total_revenue</th></tr>",
                            "<tr><td>Road Bikes</td><td>14519438</td></tr>",
                            "<tr><td>Mountain Bikes</td><td>9952254</td></tr>",
                            "<tr><td>Touring Bikes</td><td>3844580</td></tr>",
                            "<tr><td>Tires and Tubes</td><td>244634</td></tr>",
                            "<tr><td>Helmets</td><td>225435</td></tr>",
                            "</table>"
                        ]
                    }
                }
            ],
            "execution_count": 76
        },
        {
            "cell_type": "code",
            "source": [
                "-- Which 5 products Generating the Highest Revenue?\n",
                "-- Complex but Flexibly Ranking Using Window Functions\n",
                "SELECT *\n",
                "FROM (\n",
                "    SELECT\n",
                "        p.product_name,\n",
                "        SUM(f.sales_amount) AS total_revenue,\n",
                "        RANK() OVER (ORDER BY SUM(f.sales_amount) DESC) AS rank_products --ROW_NUMBER()\n",
                "    FROM gold.fact_sales f\n",
                "    LEFT JOIN gold.dim_products p\n",
                "        ON p.product_key = f.product_key\n",
                "    GROUP BY p.product_name\n",
                ") AS ranked_products\n",
                "WHERE rank_products <= 5;"
            ],
            "metadata": {
                "azdata_cell_guid": "030260bc-f0f1-437c-adc3-5eea8d3551a2",
                "language": "sql"
            },
            "outputs": [
                {
                    "output_type": "display_data",
                    "data": {
                        "text/html": "(5 rows affected)"
                    },
                    "metadata": {}
                },
                {
                    "output_type": "display_data",
                    "data": {
                        "text/html": "Total execution time: 00:00:00.138"
                    },
                    "metadata": {}
                },
                {
                    "output_type": "execute_result",
                    "metadata": {},
                    "execution_count": 77,
                    "data": {
                        "application/vnd.dataresource+json": {
                            "schema": {
                                "fields": [
                                    {
                                        "name": "product_name"
                                    },
                                    {
                                        "name": "total_revenue"
                                    },
                                    {
                                        "name": "rank_products"
                                    }
                                ]
                            },
                            "data": [
                                {
                                    "product_name": "Mountain-200 Black- 46",
                                    "total_revenue": "1373454",
                                    "rank_products": "1"
                                },
                                {
                                    "product_name": "Mountain-200 Black- 42",
                                    "total_revenue": "1363128",
                                    "rank_products": "2"
                                },
                                {
                                    "product_name": "Mountain-200 Silver- 38",
                                    "total_revenue": "1339394",
                                    "rank_products": "3"
                                },
                                {
                                    "product_name": "Mountain-200 Silver- 46",
                                    "total_revenue": "1301029",
                                    "rank_products": "4"
                                },
                                {
                                    "product_name": "Mountain-200 Black- 38",
                                    "total_revenue": "1294854",
                                    "rank_products": "5"
                                }
                            ]
                        },
                        "text/html": [
                            "<table>",
                            "<tr><th>product_name</th><th>total_revenue</th><th>rank_products</th></tr>",
                            "<tr><td>Mountain-200 Black- 46</td><td>1373454</td><td>1</td></tr>",
                            "<tr><td>Mountain-200 Black- 42</td><td>1363128</td><td>2</td></tr>",
                            "<tr><td>Mountain-200 Silver- 38</td><td>1339394</td><td>3</td></tr>",
                            "<tr><td>Mountain-200 Silver- 46</td><td>1301029</td><td>4</td></tr>",
                            "<tr><td>Mountain-200 Black- 38</td><td>1294854</td><td>5</td></tr>",
                            "</table>"
                        ]
                    }
                }
            ],
            "execution_count": 77
        },
        {
            "cell_type": "code",
            "source": [
                "-- What are the 5 worst-performing products in terms of sales? \n",
                "-- (of course exept all the products in the component category, as we already know none of the items in that category sold yet)\n",
                "SELECT TOP 5\n",
                "    p.product_name,\n",
                "    SUM(f.sales_amount) AS total_revenue\n",
                "FROM gold.fact_sales f\n",
                "LEFT JOIN gold.dim_products p\n",
                "    ON p.product_key = f.product_key\n",
                "GROUP BY p.product_name\n",
                "ORDER BY total_revenue;"
            ],
            "metadata": {
                "azdata_cell_guid": "3bc21484-abd0-4aab-93ce-604db828028e",
                "language": "sql"
            },
            "outputs": [
                {
                    "output_type": "display_data",
                    "data": {
                        "text/html": "(5 rows affected)"
                    },
                    "metadata": {}
                },
                {
                    "output_type": "display_data",
                    "data": {
                        "text/html": "Total execution time: 00:00:00.157"
                    },
                    "metadata": {}
                },
                {
                    "output_type": "execute_result",
                    "metadata": {},
                    "execution_count": 78,
                    "data": {
                        "application/vnd.dataresource+json": {
                            "schema": {
                                "fields": [
                                    {
                                        "name": "product_name"
                                    },
                                    {
                                        "name": "total_revenue"
                                    }
                                ]
                            },
                            "data": [
                                {
                                    "product_name": "Racing Socks- L",
                                    "total_revenue": "2430"
                                },
                                {
                                    "product_name": "Racing Socks- M",
                                    "total_revenue": "2682"
                                },
                                {
                                    "product_name": "Patch Kit/8 Patches",
                                    "total_revenue": "6382"
                                },
                                {
                                    "product_name": "Bike Wash - Dissolver",
                                    "total_revenue": "7272"
                                },
                                {
                                    "product_name": "Touring Tire Tube",
                                    "total_revenue": "7440"
                                }
                            ]
                        },
                        "text/html": [
                            "<table>",
                            "<tr><th>product_name</th><th>total_revenue</th></tr>",
                            "<tr><td>Racing Socks- L</td><td>2430</td></tr>",
                            "<tr><td>Racing Socks- M</td><td>2682</td></tr>",
                            "<tr><td>Patch Kit/8 Patches</td><td>6382</td></tr>",
                            "<tr><td>Bike Wash - Dissolver</td><td>7272</td></tr>",
                            "<tr><td>Touring Tire Tube</td><td>7440</td></tr>",
                            "</table>"
                        ]
                    }
                }
            ],
            "execution_count": 78
        },
        {
            "cell_type": "code",
            "source": [
                "-- Find the top 10 customers who have generated the highest revenue\n",
                "SELECT TOP 10\n",
                "    c.customer_key,\n",
                "    c.first_name,\n",
                "    c.last_name,\n",
                "    SUM(f.sales_amount) AS total_revenue\n",
                "FROM gold.fact_sales f\n",
                "LEFT JOIN gold.dim_customers c\n",
                "    ON c.customer_key = f.customer_key\n",
                "GROUP BY \n",
                "    c.customer_key,\n",
                "    c.first_name,\n",
                "    c.last_name\n",
                "ORDER BY total_revenue DESC;\n",
                "\n",
                "-- special thanks to Nicole and Kaitlyn"
            ],
            "metadata": {
                "azdata_cell_guid": "52ab3c8b-4a4d-4bcb-8e38-b20e4cfb09cb",
                "language": "sql"
            },
            "outputs": [
                {
                    "output_type": "display_data",
                    "data": {
                        "text/html": "(10 rows affected)"
                    },
                    "metadata": {}
                },
                {
                    "output_type": "display_data",
                    "data": {
                        "text/html": "Total execution time: 00:00:00.258"
                    },
                    "metadata": {}
                },
                {
                    "output_type": "execute_result",
                    "metadata": {},
                    "execution_count": 79,
                    "data": {
                        "application/vnd.dataresource+json": {
                            "schema": {
                                "fields": [
                                    {
                                        "name": "customer_key"
                                    },
                                    {
                                        "name": "first_name"
                                    },
                                    {
                                        "name": "last_name"
                                    },
                                    {
                                        "name": "total_revenue"
                                    }
                                ]
                            },
                            "data": [
                                {
                                    "customer_key": "1133",
                                    "first_name": "Kaitlyn",
                                    "last_name": "Henderson",
                                    "total_revenue": "13294"
                                },
                                {
                                    "customer_key": "1302",
                                    "first_name": "Nichole",
                                    "last_name": "Nara",
                                    "total_revenue": "13294"
                                },
                                {
                                    "customer_key": "1309",
                                    "first_name": "Margaret",
                                    "last_name": "He",
                                    "total_revenue": "13268"
                                },
                                {
                                    "customer_key": "1132",
                                    "first_name": "Randall",
                                    "last_name": "Dominguez",
                                    "total_revenue": "13265"
                                },
                                {
                                    "customer_key": "1301",
                                    "first_name": "Adriana",
                                    "last_name": "Gonzalez",
                                    "total_revenue": "13242"
                                },
                                {
                                    "customer_key": "1322",
                                    "first_name": "Rosa",
                                    "last_name": "Hu",
                                    "total_revenue": "13215"
                                },
                                {
                                    "customer_key": "1125",
                                    "first_name": "Brandi",
                                    "last_name": "Gill",
                                    "total_revenue": "13195"
                                },
                                {
                                    "customer_key": "1308",
                                    "first_name": "Brad",
                                    "last_name": "She",
                                    "total_revenue": "13172"
                                },
                                {
                                    "customer_key": "1297",
                                    "first_name": "Francisco",
                                    "last_name": "Sara",
                                    "total_revenue": "13164"
                                },
                                {
                                    "customer_key": "434",
                                    "first_name": "Maurice",
                                    "last_name": "Shan",
                                    "total_revenue": "12914"
                                }
                            ]
                        },
                        "text/html": [
                            "<table>",
                            "<tr><th>customer_key</th><th>first_name</th><th>last_name</th><th>total_revenue</th></tr>",
                            "<tr><td>1133</td><td>Kaitlyn</td><td>Henderson</td><td>13294</td></tr>",
                            "<tr><td>1302</td><td>Nichole</td><td>Nara</td><td>13294</td></tr>",
                            "<tr><td>1309</td><td>Margaret</td><td>He</td><td>13268</td></tr>",
                            "<tr><td>1132</td><td>Randall</td><td>Dominguez</td><td>13265</td></tr>",
                            "<tr><td>1301</td><td>Adriana</td><td>Gonzalez</td><td>13242</td></tr>",
                            "<tr><td>1322</td><td>Rosa</td><td>Hu</td><td>13215</td></tr>",
                            "<tr><td>1125</td><td>Brandi</td><td>Gill</td><td>13195</td></tr>",
                            "<tr><td>1308</td><td>Brad</td><td>She</td><td>13172</td></tr>",
                            "<tr><td>1297</td><td>Francisco</td><td>Sara</td><td>13164</td></tr>",
                            "<tr><td>434</td><td>Maurice</td><td>Shan</td><td>12914</td></tr>",
                            "</table>"
                        ]
                    }
                }
            ],
            "execution_count": 79
        },
        {
            "cell_type": "code",
            "source": [
                "-- The 3 customers with the fewest orders placed\n",
                "SELECT TOP 3\n",
                "    c.customer_key,\n",
                "    c.first_name,\n",
                "    c.last_name,\n",
                "    COUNT(DISTINCT order_number) AS total_orders\n",
                "FROM gold.fact_sales f\n",
                "LEFT JOIN gold.dim_customers c\n",
                "    ON c.customer_key = f.customer_key\n",
                "GROUP BY \n",
                "    c.customer_key,\n",
                "    c.first_name,\n",
                "    c.last_name\n",
                "ORDER BY total_orders;\n",
                "-- maybe we can do churn analysis later on"
            ],
            "metadata": {
                "azdata_cell_guid": "a1a24559-86ef-49c3-bc23-5c4cfa23524e",
                "language": "sql"
            },
            "outputs": [
                {
                    "output_type": "display_data",
                    "data": {
                        "text/html": "(3 rows affected)"
                    },
                    "metadata": {}
                },
                {
                    "output_type": "display_data",
                    "data": {
                        "text/html": "Total execution time: 00:00:00.288"
                    },
                    "metadata": {}
                },
                {
                    "output_type": "execute_result",
                    "metadata": {},
                    "execution_count": 80,
                    "data": {
                        "application/vnd.dataresource+json": {
                            "schema": {
                                "fields": [
                                    {
                                        "name": "customer_key"
                                    },
                                    {
                                        "name": "first_name"
                                    },
                                    {
                                        "name": "last_name"
                                    },
                                    {
                                        "name": "total_orders"
                                    }
                                ]
                            },
                            "data": [
                                {
                                    "customer_key": "21",
                                    "first_name": "Jordan",
                                    "last_name": "King",
                                    "total_orders": "1"
                                },
                                {
                                    "customer_key": "17",
                                    "first_name": "Wyatt",
                                    "last_name": "Hill",
                                    "total_orders": "1"
                                },
                                {
                                    "customer_key": "22",
                                    "first_name": "Destiny",
                                    "last_name": "Wilson",
                                    "total_orders": "1"
                                }
                            ]
                        },
                        "text/html": [
                            "<table>",
                            "<tr><th>customer_key</th><th>first_name</th><th>last_name</th><th>total_orders</th></tr>",
                            "<tr><td>21</td><td>Jordan</td><td>King</td><td>1</td></tr>",
                            "<tr><td>17</td><td>Wyatt</td><td>Hill</td><td>1</td></tr>",
                            "<tr><td>22</td><td>Destiny</td><td>Wilson</td><td>1</td></tr>",
                            "</table>"
                        ]
                    }
                }
            ],
            "execution_count": 80
        },
        {
            "cell_type": "markdown",
            "source": [
                "## Change Over Time Analysis\n",
                "\n",
                "Purpose:\n",
                "- To track trends, growth, and changes in key metrics over time.\n",
                "- For time-series analysis and identifying seasonality.\n",
                "- To measure growth or decline over specific periods.\n",
                "\n",
                "SQL Functions Used:\n",
                "- Date Functions: DATEPART(), DATETRUNC(), FORMAT()\n",
                "- Aggregate Functions: SUM(), COUNT(), AVG()"
            ],
            "metadata": {
                "azdata_cell_guid": "8322ce7c-109a-4e6a-a364-afd085e405a2"
            }
        },
        {
            "cell_type": "code",
            "source": [
                "-- Analyse sales performance over time using Quick Date Functions\n",
                "SELECT\n",
                "    YEAR(order_date) AS order_year,\n",
                "    MONTH(order_date) AS order_month,\n",
                "    SUM(sales_amount) AS total_sales,\n",
                "    COUNT(DISTINCT customer_key) AS total_customers,\n",
                "    SUM(quantity) AS total_quantity\n",
                "FROM gold.fact_sales\n",
                "WHERE order_date IS NOT NULL\n",
                "GROUP BY YEAR(order_date), MONTH(order_date)\n",
                "ORDER BY YEAR(order_date), MONTH(order_date);"
            ],
            "metadata": {
                "azdata_cell_guid": "0b70f1b5-5aa2-4965-97e5-dbc8c0211b8c",
                "language": "sql"
            },
            "outputs": [],
            "execution_count": null
        },
        {
            "cell_type": "code",
            "source": [
                "-- Using DATETRUNC() for monthly analysis\n",
                "SELECT\n",
                "    DATETRUNC(month, order_date) AS order_date,\n",
                "    SUM(sales_amount) AS total_sales,\n",
                "    COUNT(DISTINCT customer_key) AS total_customers,\n",
                "    SUM(quantity) AS total_quantity\n",
                "FROM gold.fact_sales\n",
                "WHERE order_date IS NOT NULL\n",
                "GROUP BY DATETRUNC(month, order_date)\n",
                "ORDER BY DATETRUNC(month, order_date);"
            ],
            "metadata": {
                "azdata_cell_guid": "d47fdbab-a674-4a94-84d7-c2f605594785",
                "language": "sql"
            },
            "outputs": [],
            "execution_count": null
        },
        {
            "cell_type": "code",
            "source": [
                "-- Using FORMAT() for formatted date display\n",
                "SELECT\n",
                "    FORMAT(order_date, 'yyyy-MMM') AS order_date,\n",
                "    SUM(sales_amount) AS total_sales,\n",
                "    COUNT(DISTINCT customer_key) AS total_customers,\n",
                "    SUM(quantity) AS total_quantity\n",
                "FROM gold.fact_sales\n",
                "WHERE order_date IS NOT NULL\n",
                "GROUP BY FORMAT(order_date, 'yyyy-MMM')\n",
                "ORDER BY FORMAT(order_date, 'yyyy-MMM');"
            ],
            "metadata": {
                "azdata_cell_guid": "cca61902-ce0a-4b69-8341-fcef4e09d2c6",
                "language": "sql"
            },
            "outputs": [],
            "execution_count": null
        },
        {
            "cell_type": "markdown",
            "source": [
                "## Cumulative Analysis\n",
                "\n",
                "Purpose:\n",
                "- To calculate running totals or moving averages for key metrics.\n",
                "- To track performance over time cumulatively.\n",
                "- Useful for growth analysis or identifying long-term trends.\n",
                "\n",
                "SQL Functions Used:\n",
                "- Window Functions: SUM() OVER(), AVG() OVER()"
            ],
            "metadata": {
                "azdata_cell_guid": "c3016d70-7f86-43ac-898c-0ae4b9493da1"
            }
        },
        {
            "cell_type": "code",
            "source": [
                "-- Calculate the total sales per month and the running total of sales over time\n",
                "SELECT\n",
                "    order_date,\n",
                "    total_sales,\n",
                "    SUM(total_sales) OVER (ORDER BY order_date) AS running_total_sales,\n",
                "    AVG(avg_price) OVER (ORDER BY order_date) AS moving_average_price\n",
                "FROM\n",
                "(\n",
                "    SELECT \n",
                "        DATETRUNC(year, order_date) AS order_date,\n",
                "        SUM(sales_amount) AS total_sales,\n",
                "        AVG(price) AS avg_price\n",
                "    FROM gold.fact_sales\n",
                "    WHERE order_date IS NOT NULL\n",
                "    GROUP BY DATETRUNC(year, order_date)\n",
                ") t"
            ],
            "metadata": {
                "azdata_cell_guid": "a41ca3b3-da69-41c7-bb4c-1cdac297e955",
                "language": "sql"
            },
            "outputs": [],
            "execution_count": null
        },
        {
            "cell_type": "markdown",
            "source": [
                "## Performance Analysis (Year-over-Year, Month-over-Month)\n",
                "\n",
                "Purpose:\n",
                "- To measure the performance of products, customers, or regions over time.\n",
                "- For benchmarking and identifying high-performing entities.\n",
                "- To track yearly trends and growth.\n",
                "\n",
                "SQL Functions Used:\n",
                "- LAG(): Accesses data from previous rows.\n",
                "- AVG() OVER(): Computes average values within partitions.\n",
                "- CASE: Defines conditional logic for trend analysis."
            ],
            "metadata": {
                "azdata_cell_guid": "38793be7-9970-4592-8ebc-cd3b91dd4e32"
            }
        },
        {
            "cell_type": "code",
            "source": [
                "-- Analyze the yearly performance of products by comparing their sales to both the average sales performance and previous year\n",
                "WITH yearly_product_sales AS (\n",
                "    SELECT\n",
                "        YEAR(f.order_date) AS order_year,\n",
                "        p.product_name,\n",
                "        SUM(f.sales_amount) AS current_sales\n",
                "    FROM gold.fact_sales f\n",
                "    LEFT JOIN gold.dim_products p\n",
                "        ON f.product_key = p.product_key\n",
                "    WHERE f.order_date IS NOT NULL\n",
                "    GROUP BY \n",
                "        YEAR(f.order_date),\n",
                "        p.product_name\n",
                ")\n",
                "SELECT\n",
                "    order_year,\n",
                "    product_name,\n",
                "    current_sales,\n",
                "    AVG(current_sales) OVER (PARTITION BY product_name) AS avg_sales,\n",
                "    current_sales - AVG(current_sales) OVER (PARTITION BY product_name) AS diff_avg,\n",
                "    CASE \n",
                "        WHEN current_sales - AVG(current_sales) OVER (PARTITION BY product_name) > 0 THEN 'Above Avg'\n",
                "        WHEN current_sales - AVG(current_sales) OVER (PARTITION BY product_name) < 0 THEN 'Below Avg'\n",
                "        ELSE 'Avg'\n",
                "    END AS avg_change,\n",
                "    -- Year-over-Year Analysis\n",
                "    LAG(current_sales) OVER (PARTITION BY product_name ORDER BY order_year) AS py_sales,\n",
                "    current_sales - LAG(current_sales) OVER (PARTITION BY product_name ORDER BY order_year) AS diff_py,\n",
                "    CASE \n",
                "        WHEN current_sales - LAG(current_sales) OVER (PARTITION BY product_name ORDER BY order_year) > 0 THEN 'Increase'\n",
                "        WHEN current_sales - LAG(current_sales) OVER (PARTITION BY product_name ORDER BY order_year) < 0 THEN 'Decrease'\n",
                "        ELSE 'No Change'\n",
                "    END AS py_change\n",
                "FROM yearly_product_sales\n",
                "ORDER BY product_name, order_year;"
            ],
            "metadata": {
                "azdata_cell_guid": "28c619ea-3d42-4477-a16a-e6722da72ee3",
                "language": "sql"
            },
            "outputs": [],
            "execution_count": null
        },
        {
            "cell_type": "markdown",
            "source": [
                "## Data Segmentation Analysis\n",
                "\n",
                "Purpose:\n",
                "- To group data into meaningful categories for targeted insights.\n",
                "- For customer segmentation, product categorization, or regional analysis.\n",
                "\n",
                "SQL Functions Used:\n",
                "- CASE: Defines custom segmentation logic.\n",
                "- GROUP BY: Groups data into segments."
            ],
            "metadata": {
                "azdata_cell_guid": "68d79c49-9269-4a58-831a-6eea547889ee"
            }
        },
        {
            "cell_type": "code",
            "source": [
                "-- Segment products into cost ranges and count how many products fall into each segment\n",
                "WITH product_segments AS (\n",
                "    SELECT\n",
                "        product_key,\n",
                "        product_name,\n",
                "        cost,\n",
                "        CASE \n",
                "            WHEN cost < 100 THEN 'Below 100'\n",
                "            WHEN cost BETWEEN 100 AND 500 THEN '100-500'\n",
                "            WHEN cost BETWEEN 500 AND 1000 THEN '500-1000'\n",
                "            ELSE 'Above 1000'\n",
                "        END AS cost_range\n",
                "    FROM gold.dim_products\n",
                ")\n",
                "SELECT \n",
                "    cost_range,\n",
                "    COUNT(product_key) AS total_products\n",
                "FROM product_segments\n",
                "GROUP BY cost_range\n",
                "ORDER BY total_products DESC;"
            ],
            "metadata": {
                "azdata_cell_guid": "fec983b4-66bb-4f6e-a835-af728ab54617",
                "language": "sql"
            },
            "outputs": [],
            "execution_count": null
        },
        {
            "cell_type": "code",
            "source": [
                "-- Group customers into segments based on spending behavior and history\n",
                "/*\n",
                "VIP: Customers with at least 12 months of history and spending more than €5,000.\n",
                "Regular: Customers with at least 12 months of history but spending €5,000 or less.\n",
                "New: Customers with a lifespan less than 12 months.\n",
                "*/\n",
                "WITH customer_spending AS (\n",
                "    SELECT\n",
                "        c.customer_key,\n",
                "        SUM(f.sales_amount) AS total_spending,\n",
                "        MIN(order_date) AS first_order,\n",
                "        MAX(order_date) AS last_order,\n",
                "        DATEDIFF(month, MIN(order_date), MAX(order_date)) AS lifespan\n",
                "    FROM gold.fact_sales f\n",
                "    LEFT JOIN gold.dim_customers c\n",
                "        ON f.customer_key = c.customer_key\n",
                "    GROUP BY c.customer_key\n",
                ")\n",
                "SELECT \n",
                "    customer_segment,\n",
                "    COUNT(customer_key) AS total_customers\n",
                "FROM (\n",
                "    SELECT \n",
                "        customer_key,\n",
                "        CASE \n",
                "            WHEN lifespan >= 12 AND total_spending > 5000 THEN 'VIP'\n",
                "            WHEN lifespan >= 12 AND total_spending <= 5000 THEN 'Regular'\n",
                "            ELSE 'New'\n",
                "        END AS customer_segment\n",
                "    FROM customer_spending\n",
                ") AS segmented_customers\n",
                "GROUP BY customer_segment\n",
                "ORDER BY total_customers DESC;"
            ],
            "metadata": {
                "azdata_cell_guid": "e7d030f5-3f92-4f15-a2ba-0162b19eacf3",
                "language": "sql"
            },
            "outputs": [],
            "execution_count": null
        },
        {
            "cell_type": "markdown",
            "source": [
                "## Part-to-Whole Analysis\n",
                "\n",
                "Purpose:\n",
                "- To compare performance or metrics across dimensions or time periods.\n",
                "- To evaluate differences between categories.\n",
                "- Useful for A/B testing or regional comparisons.\n",
                "\n",
                "SQL Functions Used:\n",
                "- SUM(), AVG(): Aggregates values for comparison.\n",
                "- Window Functions: SUM() OVER() for total calculations."
            ],
            "metadata": {
                "azdata_cell_guid": "bd74a3ec-fb0a-4f7b-a701-27aee96d3fa6"
            }
        },
        {
            "cell_type": "code",
            "source": [
                "-- Which categories contribute the most to overall sales?\n",
                "WITH category_sales AS (\n",
                "    SELECT\n",
                "        p.category,\n",
                "        SUM(f.sales_amount) AS total_sales\n",
                "    FROM gold.fact_sales f\n",
                "    LEFT JOIN gold.dim_products p\n",
                "        ON p.product_key = f.product_key\n",
                "    GROUP BY p.category\n",
                ")\n",
                "SELECT\n",
                "    category,\n",
                "    total_sales,\n",
                "    SUM(total_sales) OVER () AS overall_sales,\n",
                "    ROUND((CAST(total_sales AS FLOAT) / SUM(total_sales) OVER ()) * 100, 2) AS percentage_of_total\n",
                "FROM category_sales\n",
                "ORDER BY total_sales DESC;"
            ],
            "metadata": {
                "azdata_cell_guid": "dc7dd7d8-9d19-4200-b076-3092720ebf97",
                "language": "sql"
            },
            "outputs": [],
            "execution_count": null
        },
        {
            "cell_type": "markdown",
            "source": [
                "## Customer Report\n",
                "\n",
                "Purpose:\n",
                "- This report consolidates key customer metrics and behaviors\n",
                "\n",
                "Highlights:\n",
                "1. Gathers essential fields such as names, ages, and transaction details.\n",
                "2. Segments customers into categories (VIP, Regular, New) and age groups.\n",
                "3. Aggregates customer-level metrics:\n",
                "   - total orders\n",
                "   - total sales\n",
                "   - total quantity purchased\n",
                "   - total products\n",
                "   - lifespan (in months)\n",
                "4. Calculates valuable KPIs:\n",
                "   - recency (months since last order)\n",
                "   - average order value\n",
                "   - average monthly spend"
            ],
            "metadata": {
                "azdata_cell_guid": "f8825e7c-5f4e-480c-8dd8-c59b5b1253fd"
            }
        },
        {
            "cell_type": "code",
            "source": [
                "-- Create the Customer Report View\n",
                "IF OBJECT_ID('gold.report_customers', 'V') IS NOT NULL\n",
                "    DROP VIEW gold.report_customers;\n",
                "GO\n",
                "\n",
                "CREATE VIEW gold.report_customers AS\n",
                "WITH base_query AS(\n",
                "    SELECT\n",
                "        f.order_number,\n",
                "        f.product_key,\n",
                "        f.order_date,\n",
                "        f.sales_amount,\n",
                "        f.quantity,\n",
                "        c.customer_key,\n",
                "        c.customer_number,\n",
                "        CONCAT(c.first_name, ' ', c.last_name) AS customer_name,\n",
                "        DATEDIFF(year, c.birthdate, GETDATE()) age\n",
                "    FROM gold.fact_sales f\n",
                "    LEFT JOIN gold.dim_customers c\n",
                "        ON c.customer_key = f.customer_key\n",
                "    WHERE order_date IS NOT NULL\n",
                ")\n",
                ", customer_aggregation AS (\n",
                "    SELECT \n",
                "        customer_key,\n",
                "        customer_number,\n",
                "        customer_name,\n",
                "        age,\n",
                "        COUNT(DISTINCT order_number) AS total_orders,\n",
                "        SUM(sales_amount) AS total_sales,\n",
                "        SUM(quantity) AS total_quantity,\n",
                "        COUNT(DISTINCT product_key) AS total_products,\n",
                "        MAX(order_date) AS last_order_date,\n",
                "        DATEDIFF(month, MIN(order_date), MAX(order_date)) AS lifespan\n",
                "    FROM base_query\n",
                "    GROUP BY \n",
                "        customer_key,\n",
                "        customer_number,\n",
                "        customer_name,\n",
                "        age\n",
                ")\n",
                "SELECT\n",
                "    customer_key,\n",
                "    customer_number,\n",
                "    customer_name,\n",
                "    age,\n",
                "    CASE \n",
                "        WHEN age < 20 THEN 'Under 20'\n",
                "        WHEN age between 20 and 29 THEN '20-29'\n",
                "        WHEN age between 30 and 39 THEN '30-39'\n",
                "        WHEN age between 40 and 49 THEN '40-49'\n",
                "        ELSE '50 and above'\n",
                "    END AS age_group,\n",
                "    CASE \n",
                "        WHEN lifespan >= 12 AND total_sales > 5000 THEN 'VIP'\n",
                "        WHEN lifespan >= 12 AND total_sales <= 5000 THEN 'Regular'\n",
                "        ELSE 'New'\n",
                "    END AS customer_segment,\n",
                "    last_order_date,\n",
                "    DATEDIFF(month, last_order_date, GETDATE()) AS recency,\n",
                "    total_orders,\n",
                "    total_sales,\n",
                "    total_quantity,\n",
                "    total_products,\n",
                "    lifespan,\n",
                "    CASE WHEN total_sales = 0 THEN 0\n",
                "         ELSE total_sales / total_orders\n",
                "    END AS avg_order_value,\n",
                "    CASE WHEN lifespan = 0 THEN total_sales\n",
                "         ELSE total_sales / lifespan\n",
                "    END AS avg_monthly_spend\n",
                "FROM customer_aggregation;"
            ],
            "metadata": {
                "azdata_cell_guid": "c2ff91b7-e880-49a9-b556-42a6425c1851",
                "language": "sql"
            },
            "outputs": [],
            "execution_count": null
        },
        {
            "cell_type": "code",
            "source": [
                "-- Query the Customer Report to see results\n",
                "SELECT TOP 10 *\n",
                "FROM gold.report_customers\n",
                "ORDER BY total_sales DESC;"
            ],
            "metadata": {
                "azdata_cell_guid": "cf58f30f-9995-4206-8f6e-939db5d9df79",
                "language": "sql"
            },
            "outputs": [],
            "execution_count": null
        },
        {
            "cell_type": "markdown",
            "source": [
                "## Product Report\n",
                "\n",
                "Purpose:\n",
                "- This report consolidates key product metrics and behaviors.\n",
                "\n",
                "Highlights:\n",
                "1. Gathers essential fields such as product name, category, subcategory, and cost.\n",
                "2. Segments products by revenue to identify High-Performers, Mid-Range, or Low-Performers.\n",
                "3. Aggregates product-level metrics:\n",
                "   - total orders\n",
                "   - total sales\n",
                "   - total quantity sold\n",
                "   - total customers (unique)\n",
                "   - lifespan (in months)\n",
                "4. Calculates valuable KPIs:\n",
                "   - recency (months since last sale)\n",
                "   - average order revenue (AOR)\n",
                "   - average monthly revenue"
            ],
            "metadata": {
                "azdata_cell_guid": "24ad6e7c-6161-46ab-8f6b-a1bb014a8af5"
            }
        },
        {
            "cell_type": "code",
            "source": [
                "-- Create the Product Report View\n",
                "IF OBJECT_ID('gold.report_products', 'V') IS NOT NULL\n",
                "    DROP VIEW gold.report_products;\n",
                "GO\n",
                "\n",
                "CREATE VIEW gold.report_products AS\n",
                "WITH base_query AS (\n",
                "    SELECT\n",
                "        f.order_number,\n",
                "        f.order_date,\n",
                "        f.customer_key,\n",
                "        f.sales_amount,\n",
                "        f.quantity,\n",
                "        p.product_key,\n",
                "        p.product_name,\n",
                "        p.category,\n",
                "        p.subcategory,\n",
                "        p.cost\n",
                "    FROM gold.fact_sales f\n",
                "    LEFT JOIN gold.dim_products p\n",
                "        ON f.product_key = p.product_key\n",
                "    WHERE order_date IS NOT NULL\n",
                "),\n",
                "product_aggregations AS (\n",
                "    SELECT\n",
                "        product_key,\n",
                "        product_name,\n",
                "        category,\n",
                "        subcategory,\n",
                "        cost,\n",
                "        DATEDIFF(MONTH, MIN(order_date), MAX(order_date)) AS lifespan,\n",
                "        MAX(order_date) AS last_sale_date,\n",
                "        COUNT(DISTINCT order_number) AS total_orders,\n",
                "        COUNT(DISTINCT customer_key) AS total_customers,\n",
                "        SUM(sales_amount) AS total_sales,\n",
                "        SUM(quantity) AS total_quantity,\n",
                "        ROUND(AVG(CAST(sales_amount AS FLOAT) / NULLIF(quantity, 0)), 1) AS avg_selling_price\n",
                "    FROM base_query\n",
                "    GROUP BY\n",
                "        product_key,\n",
                "        product_name,\n",
                "        category,\n",
                "        subcategory,\n",
                "        cost\n",
                ")\n",
                "SELECT \n",
                "    product_key,\n",
                "    product_name,\n",
                "    category,\n",
                "    subcategory,\n",
                "    cost,\n",
                "    last_sale_date,\n",
                "    DATEDIFF(MONTH, last_sale_date, GETDATE()) AS recency_in_months,\n",
                "    CASE\n",
                "        WHEN total_sales > 50000 THEN 'High-Performer'\n",
                "        WHEN total_sales >= 10000 THEN 'Mid-Range'\n",
                "        ELSE 'Low-Performer'\n",
                "    END AS product_segment,\n",
                "    lifespan,\n",
                "    total_orders,\n",
                "    total_sales,\n",
                "    total_quantity,\n",
                "    total_customers,\n",
                "    avg_selling_price,\n",
                "    CASE \n",
                "        WHEN total_orders = 0 THEN 0\n",
                "        ELSE total_sales / total_orders\n",
                "    END AS avg_order_revenue,\n",
                "    CASE\n",
                "        WHEN lifespan = 0 THEN total_sales\n",
                "        ELSE total_sales / lifespan\n",
                "    END AS avg_monthly_revenue\n",
                "FROM product_aggregations;"
            ],
            "metadata": {
                "azdata_cell_guid": "a63e6114-636a-4e94-83c6-e025d3e50932",
                "language": "sql"
            },
            "outputs": [],
            "execution_count": null
        },
        {
            "cell_type": "code",
            "source": [
                "-- Query the Product Report to see results\n",
                "SELECT TOP 10 *\n",
                "FROM gold.report_products\n",
                "ORDER BY total_sales DESC;"
            ],
            "metadata": {
                "azdata_cell_guid": "b0bda6cb-431b-4101-a031-5e423c7fe137",
                "language": "sql"
            },
            "outputs": [],
            "execution_count": null
        }
    ]
}